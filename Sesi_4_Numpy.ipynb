{
  "nbformat": 4,
  "nbformat_minor": 0,
  "metadata": {
    "colab": {
      "provenance": [],
      "authorship_tag": "ABX9TyP8KjM8TCvn7htaQpB8wCbX",
      "include_colab_link": true
    },
    "kernelspec": {
      "name": "python3",
      "display_name": "Python 3"
    },
    "language_info": {
      "name": "python"
    }
  },
  "cells": [
    {
      "cell_type": "markdown",
      "metadata": {
        "id": "view-in-github",
        "colab_type": "text"
      },
      "source": [
        "<a href=\"https://colab.research.google.com/github/koriatul/pytn-ks-011/blob/main/Sesi_4_Numpy.ipynb\" target=\"_parent\"><img src=\"https://colab.research.google.com/assets/colab-badge.svg\" alt=\"Open In Colab\"/></a>"
      ]
    },
    {
      "cell_type": "markdown",
      "source": [
        "Quiz"
      ],
      "metadata": {
        "id": "quhc6wxhUNFl"
      }
    },
    {
      "cell_type": "code",
      "source": [
        "def calc(a,b,c):\n",
        "    if (a.isnumeric()==True) and (c.isnumeric()==True):\n",
        "        a = int(a)\n",
        "        c = int(c)\n",
        "        if b == 'x':\n",
        "            print('hasil dari', a,b,c, 'adalah', a*c)\n",
        "        elif b == '+':\n",
        "            print('hasil dari', a,b,c, 'adalah', a+c)\n",
        "        elif b == ':':\n",
        "            print('hasil dari', a,b,c, 'adalah', a/c)\n",
        "        elif b == '-':\n",
        "            print('hasil dari', a,b,c, 'adalah', a-c)\n",
        "        elif b == '^':\n",
        "            print('hasil dari', a,b,c, 'adalah', a**c)\n",
        "        else:\n",
        "            print('operator', b, 'tidak ditemukan')\n",
        "    else:\n",
        "        print('salah')\n",
        "        \n",
        "a=(input('masukan angka1 ='))\n",
        "b=(input('masukan operator ='))\n",
        "c=(input('masukan angka2 ='))\n",
        "\n",
        "calc(a,b,c)"
      ],
      "metadata": {
        "colab": {
          "base_uri": "https://localhost:8080/"
        },
        "id": "iyEa1agkUKLV",
        "outputId": "ac1e8bcc-2662-481e-bfc5-3ede2d6c7f59"
      },
      "execution_count": 47,
      "outputs": [
        {
          "output_type": "stream",
          "name": "stdout",
          "text": [
            "masukan angka1 =5\n",
            "masukan operator =5\n",
            "masukan angka2 =5\n",
            "operator 5 tidak ditemukan\n"
          ]
        }
      ]
    },
    {
      "cell_type": "code",
      "source": [
        "a = '3'\n",
        "c.isnumeric()"
      ],
      "metadata": {
        "colab": {
          "base_uri": "https://localhost:8080/"
        },
        "id": "CwaY8XmmUgYF",
        "outputId": "216557ae-317a-4aea-c3bd-7dfdcebdff0f"
      },
      "execution_count": 48,
      "outputs": [
        {
          "output_type": "execute_result",
          "data": {
            "text/plain": [
              "True"
            ]
          },
          "metadata": {},
          "execution_count": 48
        }
      ]
    },
    {
      "cell_type": "code",
      "source": [
        "try:\n",
        "    int('string')\n",
        "except:\n",
        "    print('bukan string')"
      ],
      "metadata": {
        "colab": {
          "base_uri": "https://localhost:8080/"
        },
        "id": "316hDvURUr0s",
        "outputId": "226915ab-cfb0-4e2f-bc6f-fd346a10f5e7"
      },
      "execution_count": 49,
      "outputs": [
        {
          "output_type": "stream",
          "name": "stdout",
          "text": [
            "bukan string\n"
          ]
        }
      ]
    },
    {
      "cell_type": "markdown",
      "source": [
        "**Numpy**"
      ],
      "metadata": {
        "id": "ii5L60HtZWkx"
      }
    },
    {
      "cell_type": "code",
      "execution_count": 50,
      "metadata": {
        "id": "3GTJJhFBZSOR"
      },
      "outputs": [],
      "source": [
        "import numpy as np"
      ]
    },
    {
      "cell_type": "code",
      "source": [
        "a = np.array ([1,2,3])\n",
        "a"
      ],
      "metadata": {
        "colab": {
          "base_uri": "https://localhost:8080/"
        },
        "id": "Epb5Y2NHgmcR",
        "outputId": "9b7cb485-f167-40fb-e705-9d4115b6bb82"
      },
      "execution_count": 51,
      "outputs": [
        {
          "output_type": "execute_result",
          "data": {
            "text/plain": [
              "array([1, 2, 3])"
            ]
          },
          "metadata": {},
          "execution_count": 51
        }
      ]
    },
    {
      "cell_type": "markdown",
      "source": [
        "<h2> One dimensional array <h2>"
      ],
      "metadata": {
        "id": "xsZUwU7cVnDe"
      }
    },
    {
      "cell_type": "markdown",
      "source": [
        "Indexing dan Slicing"
      ],
      "metadata": {
        "id": "8feTXpZghVm_"
      }
    },
    {
      "cell_type": "code",
      "source": [
        "a[1]"
      ],
      "metadata": {
        "colab": {
          "base_uri": "https://localhost:8080/"
        },
        "id": "p5E4Ph_1hYHl",
        "outputId": "f855bdc9-355e-4214-e38a-1ba7a568410e"
      },
      "execution_count": 52,
      "outputs": [
        {
          "output_type": "execute_result",
          "data": {
            "text/plain": [
              "2"
            ]
          },
          "metadata": {},
          "execution_count": 52
        }
      ]
    },
    {
      "cell_type": "code",
      "source": [
        "array1 =[1,2,3,4,5,6,7,8]\n",
        "array1[3:]"
      ],
      "metadata": {
        "colab": {
          "base_uri": "https://localhost:8080/"
        },
        "id": "-uPhougZhcDX",
        "outputId": "6e704a89-0082-40be-f9e7-62cf288319c9"
      },
      "execution_count": 53,
      "outputs": [
        {
          "output_type": "execute_result",
          "data": {
            "text/plain": [
              "[4, 5, 6, 7, 8]"
            ]
          },
          "metadata": {},
          "execution_count": 53
        }
      ]
    },
    {
      "cell_type": "code",
      "source": [
        "array1[3:]"
      ],
      "metadata": {
        "colab": {
          "base_uri": "https://localhost:8080/"
        },
        "id": "hEHbqhsebqMs",
        "outputId": "4ef2b323-1a70-4ce2-ab3d-7f578269dffc"
      },
      "execution_count": 54,
      "outputs": [
        {
          "output_type": "execute_result",
          "data": {
            "text/plain": [
              "[4, 5, 6, 7, 8]"
            ]
          },
          "metadata": {},
          "execution_count": 54
        }
      ]
    },
    {
      "cell_type": "code",
      "source": [
        "np.shape"
      ],
      "metadata": {
        "colab": {
          "base_uri": "https://localhost:8080/"
        },
        "id": "5yZVTf8Nbua8",
        "outputId": "a33a905f-fa62-4cb8-9cc6-0cbd77d4ac8c"
      },
      "execution_count": 55,
      "outputs": [
        {
          "output_type": "execute_result",
          "data": {
            "text/plain": [
              "<function numpy.shape(a)>"
            ]
          },
          "metadata": {},
          "execution_count": 55
        }
      ]
    },
    {
      "cell_type": "markdown",
      "source": [
        "2 dimensional array consist of list of lists"
      ],
      "metadata": {
        "id": "1Tma1XdahsH3"
      }
    },
    {
      "cell_type": "code",
      "source": [
        "list_of_lists = [[1,2,3,],[4,5,6],[7,8,9]]\n",
        "np.array(list_of_lists)"
      ],
      "metadata": {
        "colab": {
          "base_uri": "https://localhost:8080/"
        },
        "id": "8OF7_Vflh-WG",
        "outputId": "4df92abe-d401-4bab-afdf-f00fd749e943"
      },
      "execution_count": 56,
      "outputs": [
        {
          "output_type": "execute_result",
          "data": {
            "text/plain": [
              "array([[1, 2, 3],\n",
              "       [4, 5, 6],\n",
              "       [7, 8, 9]])"
            ]
          },
          "metadata": {},
          "execution_count": 56
        }
      ]
    },
    {
      "cell_type": "code",
      "source": [
        "list_of_lists = [[1,2,3,],[4,5,6],[7,8,9]]\n",
        "array_2 = np.array(list_of_lists)\n",
        "array_2\n",
        "print(array_2.shape)"
      ],
      "metadata": {
        "colab": {
          "base_uri": "https://localhost:8080/"
        },
        "outputId": "6fe379e5-4077-44ba-8e0f-657030cae2d0",
        "id": "ffTWb_bLpA4R"
      },
      "execution_count": 57,
      "outputs": [
        {
          "output_type": "stream",
          "name": "stdout",
          "text": [
            "(3, 3)\n"
          ]
        }
      ]
    },
    {
      "cell_type": "code",
      "source": [
        "list_of_lists_2 =[[1,2],[3,4],[5,6]]\n",
        "array_3 = np.array(list_of_lists_2)\n",
        "print(array_3.shape)\n",
        "array_3"
      ],
      "metadata": {
        "colab": {
          "base_uri": "https://localhost:8080/"
        },
        "outputId": "db8c251b-db9a-4f90-bc60-421b1aa46d33",
        "id": "Ygaba_MSps2-"
      },
      "execution_count": 58,
      "outputs": [
        {
          "output_type": "stream",
          "name": "stdout",
          "text": [
            "(3, 2)\n"
          ]
        },
        {
          "output_type": "execute_result",
          "data": {
            "text/plain": [
              "array([[1, 2],\n",
              "       [3, 4],\n",
              "       [5, 6]])"
            ]
          },
          "metadata": {},
          "execution_count": 58
        }
      ]
    },
    {
      "cell_type": "markdown",
      "source": [
        "<h3> Creating array <h3>"
      ],
      "metadata": {
        "id": "hRTwDOnvcZOr"
      }
    },
    {
      "cell_type": "code",
      "source": [
        "# np.zeros\n",
        "print(np.zeros(8)) #1D\n",
        "print(np.zeros([3,2])) #2D"
      ],
      "metadata": {
        "colab": {
          "base_uri": "https://localhost:8080/"
        },
        "id": "vDBTBkC8cbgB",
        "outputId": "5775884a-4b58-4259-fdae-94a2f89d6e3f"
      },
      "execution_count": 59,
      "outputs": [
        {
          "output_type": "stream",
          "name": "stdout",
          "text": [
            "[0. 0. 0. 0. 0. 0. 0. 0.]\n",
            "[[0. 0.]\n",
            " [0. 0.]\n",
            " [0. 0.]]\n"
          ]
        }
      ]
    },
    {
      "cell_type": "code",
      "source": [
        "# np.ones untuk membuat array dengan isi angka 1\n",
        "print(np.ones(4))\n",
        "print(np.ones([4,2]))"
      ],
      "metadata": {
        "colab": {
          "base_uri": "https://localhost:8080/"
        },
        "id": "LNql9zcEdFJo",
        "outputId": "7194c2ca-6241-44ea-d4ae-6161f1c000ff"
      },
      "execution_count": 80,
      "outputs": [
        {
          "output_type": "stream",
          "name": "stdout",
          "text": [
            "[1. 1. 1. 1.]\n",
            "[[1. 1.]\n",
            " [1. 1.]\n",
            " [1. 1.]\n",
            " [1. 1.]]\n"
          ]
        }
      ]
    },
    {
      "cell_type": "code",
      "source": [
        "# np.empty untuk membuat array dengan isi random dan bergantung status memori\n",
        "np.empty(5)\n",
        "np.empty((3,2))"
      ],
      "metadata": {
        "colab": {
          "base_uri": "https://localhost:8080/"
        },
        "id": "42ql07jYdIST",
        "outputId": "5728be5a-19d5-4b57-ec35-c6490f7acd1c"
      },
      "execution_count": 84,
      "outputs": [
        {
          "output_type": "execute_result",
          "data": {
            "text/plain": [
              "array([[2.34526164e-316, 0.00000000e+000],\n",
              "       [0.00000000e+000, 0.00000000e+000],\n",
              "       [0.00000000e+000, 0.00000000e+000]])"
            ]
          },
          "metadata": {},
          "execution_count": 84
        }
      ]
    },
    {
      "cell_type": "code",
      "source": [
        "# np.arange untuk membuat array dengan jarak antar elemen\n",
        "print(np.arange(10))\n",
        "print(np.arange(0,10,2)) #(start,stop,step)"
      ],
      "metadata": {
        "colab": {
          "base_uri": "https://localhost:8080/"
        },
        "id": "a6IGb11VdMHB",
        "outputId": "13667009-ee31-4987-ac26-8ba37580553e"
      },
      "execution_count": 83,
      "outputs": [
        {
          "output_type": "stream",
          "name": "stdout",
          "text": [
            "[0 1 2 3 4 5 6 7 8 9]\n",
            "[0 2 4 6 8]\n"
          ]
        }
      ]
    },
    {
      "cell_type": "code",
      "source": [
        "np.arange(0,4,2) #start,stop,step. list np mulai dari angka 0 hingga 4 dengan kenaikan 2x untuk setiap loncatan"
      ],
      "metadata": {
        "colab": {
          "base_uri": "https://localhost:8080/"
        },
        "id": "HqE-zM5GdW7z",
        "outputId": "1e2c998c-deb6-4390-fda7-f274cdfa38da"
      },
      "execution_count": 85,
      "outputs": [
        {
          "output_type": "execute_result",
          "data": {
            "text/plain": [
              "array([0, 2])"
            ]
          },
          "metadata": {},
          "execution_count": 85
        }
      ]
    },
    {
      "cell_type": "code",
      "source": [
        "c = np.array([1,2,3,4,3,2,1,5,6,7,8,9])\n",
        "\n",
        "#append\n",
        "print(np.append(c,[10,11]))\n",
        "#delete\n",
        "print(np.delete(c,2))\n",
        "#sort\n",
        "print(np.sort(c))"
      ],
      "metadata": {
        "colab": {
          "base_uri": "https://localhost:8080/"
        },
        "id": "Ccj5AOYtdbYa",
        "outputId": "72fcf0aa-393c-4a59-fe06-fc66fb01e982"
      },
      "execution_count": 64,
      "outputs": [
        {
          "output_type": "stream",
          "name": "stdout",
          "text": [
            "[ 1  2  3  4  3  2  1  5  6  7  8  9 10 11]\n",
            "[1 2 4 3 2 1 5 6 7 8 9]\n",
            "[1 1 2 2 3 3 4 5 6 7 8 9]\n"
          ]
        }
      ]
    },
    {
      "cell_type": "code",
      "source": [
        "np.zeros((2,2))"
      ],
      "metadata": {
        "colab": {
          "base_uri": "https://localhost:8080/"
        },
        "id": "Yfmi_4DHdgIL",
        "outputId": "02e89aee-c9c9-4838-a6dd-f2fd2d7aed6e"
      },
      "execution_count": 65,
      "outputs": [
        {
          "output_type": "execute_result",
          "data": {
            "text/plain": [
              "array([[0., 0.],\n",
              "       [0., 0.]])"
            ]
          },
          "metadata": {},
          "execution_count": 65
        }
      ]
    },
    {
      "cell_type": "code",
      "source": [
        "c = np.array([1,2,3,4,3,2,1,5,6,7,8,9,10])\n",
        "d = np.zeros((2,2))\n",
        "#ndim\n",
        "print(c.ndim)\n",
        "print(d.ndim)\n",
        "\n",
        "#size\n",
        "print(c.size)\n",
        "print(d.size)\n",
        "\n",
        "#reshape\n",
        "print(c[:-1].reshape(3,4))"
      ],
      "metadata": {
        "colab": {
          "base_uri": "https://localhost:8080/"
        },
        "id": "5UJSnfJxdi1i",
        "outputId": "00392f30-6c92-4801-a80e-e0ae5130c18a"
      },
      "execution_count": 66,
      "outputs": [
        {
          "output_type": "stream",
          "name": "stdout",
          "text": [
            "1\n",
            "2\n",
            "13\n",
            "4\n",
            "[[1 2 3 4]\n",
            " [3 2 1 5]\n",
            " [6 7 8 9]]\n"
          ]
        }
      ]
    },
    {
      "cell_type": "code",
      "source": [
        "array_3 = np.array([[1,2,3,4]])\n",
        "array_4 = np.array([[5,6,7,8]])\n",
        "np.vstack([array_3,array_4])\n",
        "print(np.hstack([array_3,array_4]))"
      ],
      "metadata": {
        "colab": {
          "base_uri": "https://localhost:8080/"
        },
        "id": "F2GnIVTudqcL",
        "outputId": "424fcdcf-b329-48db-8822-2d9c93133ba9"
      },
      "execution_count": 67,
      "outputs": [
        {
          "output_type": "stream",
          "name": "stdout",
          "text": [
            "[[1 2 3 4 5 6 7 8]]\n"
          ]
        }
      ]
    },
    {
      "cell_type": "code",
      "source": [
        "array_5 = np.array([1,2,3,4])\n",
        "array_6 = np.array([5,6,7,8])\n",
        "np.hstack([array_5,array_6])"
      ],
      "metadata": {
        "colab": {
          "base_uri": "https://localhost:8080/"
        },
        "id": "g6wY74TjeOYX",
        "outputId": "f458ab18-30e4-4397-8a2b-da17257f9d19"
      },
      "execution_count": 68,
      "outputs": [
        {
          "output_type": "execute_result",
          "data": {
            "text/plain": [
              "array([1, 2, 3, 4, 5, 6, 7, 8])"
            ]
          },
          "metadata": {},
          "execution_count": 68
        }
      ]
    },
    {
      "cell_type": "code",
      "source": [
        "np.append(array_3,[5,6,7,8])"
      ],
      "metadata": {
        "colab": {
          "base_uri": "https://localhost:8080/"
        },
        "id": "6wHrs5aweRfb",
        "outputId": "fab75c03-1f7b-4aba-f420-5115b429382c"
      },
      "execution_count": 69,
      "outputs": [
        {
          "output_type": "execute_result",
          "data": {
            "text/plain": [
              "array([1, 2, 3, 4, 5, 6, 7, 8])"
            ]
          },
          "metadata": {},
          "execution_count": 69
        }
      ]
    },
    {
      "cell_type": "code",
      "source": [
        "#np.newaxis\n",
        "array_4 = np.array([4,5,6])\n",
        "array_4[np.newaxis]\n",
        "print(array_4[:,np.newaxis].shape)"
      ],
      "metadata": {
        "colab": {
          "base_uri": "https://localhost:8080/"
        },
        "id": "ISE5TVmmeTwa",
        "outputId": "c6e703e4-f9ec-4e8d-e941-ac796a85249b"
      },
      "execution_count": 70,
      "outputs": [
        {
          "output_type": "stream",
          "name": "stdout",
          "text": [
            "(3, 1)\n"
          ]
        }
      ]
    },
    {
      "cell_type": "code",
      "source": [
        "#np.expand_dims\n",
        "array_7 = np.array([3,4,5,6,7,8,9])\n",
        "array_8 = np.expand_dims(array_7,axis=1)\n",
        "array_9 = np.expand_dims(array_7,axis=0)\n",
        "print(array_8)\n",
        "print(array_8.shape)\n",
        "print(array_9)\n",
        "print(array_9.shape)"
      ],
      "metadata": {
        "colab": {
          "base_uri": "https://localhost:8080/"
        },
        "id": "IwckelPfeZji",
        "outputId": "8f49f672-4b34-4b12-e185-60e27ece520e"
      },
      "execution_count": 71,
      "outputs": [
        {
          "output_type": "stream",
          "name": "stdout",
          "text": [
            "[[3]\n",
            " [4]\n",
            " [5]\n",
            " [6]\n",
            " [7]\n",
            " [8]\n",
            " [9]]\n",
            "(7, 1)\n",
            "[[3 4 5 6 7 8 9]]\n",
            "(1, 7)\n"
          ]
        }
      ]
    },
    {
      "cell_type": "markdown",
      "source": [
        "<h3> Operasi Matematika pada array sifatnya broadcast <h3>"
      ],
      "metadata": {
        "id": "EwrMqadWdxy2"
      }
    },
    {
      "cell_type": "code",
      "source": [
        "array_7 = np.array([3,4,5,6,7,8,9])\n",
        "array_7*2"
      ],
      "metadata": {
        "colab": {
          "base_uri": "https://localhost:8080/"
        },
        "id": "ZKTtzSmxegKY",
        "outputId": "b7d85f3f-1d72-4bf2-d718-bdb692ac5a1a"
      },
      "execution_count": 72,
      "outputs": [
        {
          "output_type": "execute_result",
          "data": {
            "text/plain": [
              "array([ 6,  8, 10, 12, 14, 16, 18])"
            ]
          },
          "metadata": {},
          "execution_count": 72
        }
      ]
    },
    {
      "cell_type": "code",
      "source": [
        "array_10 = np.array([[1,2,3],[4,5,6]])\n",
        "array_10-4"
      ],
      "metadata": {
        "colab": {
          "base_uri": "https://localhost:8080/"
        },
        "id": "nEycCmCDek8C",
        "outputId": "1deaeb6d-46cb-4535-8f52-6b6b1c99bfcb"
      },
      "execution_count": 73,
      "outputs": [
        {
          "output_type": "execute_result",
          "data": {
            "text/plain": [
              "array([[-3, -2, -1],\n",
              "       [ 0,  1,  2]])"
            ]
          },
          "metadata": {},
          "execution_count": 73
        }
      ]
    },
    {
      "cell_type": "markdown",
      "source": [
        "<h3> Filtering Array <h3>"
      ],
      "metadata": {
        "id": "Wj0zve22et6x"
      }
    },
    {
      "cell_type": "code",
      "source": [
        "array_7 = np.array([3,4,5,6,7,8,9])\n",
        "print(array_7[array_7>5])\n",
        "print(array_7[array_7==8])\n",
        "print(array_7[array_7<=4])"
      ],
      "metadata": {
        "colab": {
          "base_uri": "https://localhost:8080/"
        },
        "id": "I6UPRjM8evcl",
        "outputId": "62b5ff30-d022-43eb-d9e3-cf3f880ddbcc"
      },
      "execution_count": 74,
      "outputs": [
        {
          "output_type": "stream",
          "name": "stdout",
          "text": [
            "[6 7 8 9]\n",
            "[8]\n",
            "[3 4]\n"
          ]
        }
      ]
    },
    {
      "cell_type": "code",
      "source": [
        "array_11 = np.array([[3,5,7],[8,9,10],[-1,-2,-3]])\n",
        "array_11.shape\n",
        "print(array_11[array_11>5])"
      ],
      "metadata": {
        "colab": {
          "base_uri": "https://localhost:8080/"
        },
        "id": "sSj_-OSNe13K",
        "outputId": "8a0fbce4-acca-43e8-97eb-e1ae3ae46b1d"
      },
      "execution_count": 75,
      "outputs": [
        {
          "output_type": "stream",
          "name": "stdout",
          "text": [
            "[ 7  8  9 10]\n"
          ]
        }
      ]
    },
    {
      "cell_type": "markdown",
      "source": [
        "Quiz "
      ],
      "metadata": {
        "id": "wsp7dbGUg3CP"
      }
    },
    {
      "cell_type": "code",
      "source": [
        "# quiz\n",
        "\n",
        "n=int(input('how tall ? '))\n",
        "t=0\n",
        "\n",
        "if n%2==0:\n",
        "   t=n-1\n",
        "else:\n",
        "   t=n\n",
        "\n",
        "for i in range(0,t):\n",
        "   if (t-2*i)>0: \n",
        "      print(' '*i+'*'*(t-2*i))\n",
        "   else:\n",
        "      k=t-i-1\n",
        "      print(' '*k+'*'*(t-2*k))"
      ],
      "metadata": {
        "colab": {
          "base_uri": "https://localhost:8080/"
        },
        "id": "UG-yRseucufa",
        "outputId": "281a6b21-0383-456d-dd2f-44c8773d32a3"
      },
      "execution_count": 86,
      "outputs": [
        {
          "output_type": "stream",
          "name": "stdout",
          "text": [
            "how tall ? 8\n",
            "*******\n",
            " *****\n",
            "  ***\n",
            "   *\n",
            "  ***\n",
            " *****\n",
            "*******\n"
          ]
        }
      ]
    },
    {
      "cell_type": "markdown",
      "source": [
        "<h3> hstack, vstack, hsplit, vsplit<h3> "
      ],
      "metadata": {
        "id": "MpiNLqqZhHvZ"
      }
    },
    {
      "cell_type": "code",
      "source": [
        "#stack\n",
        "array_14 = np.array([3,4,5,6,7])\n",
        "array_15 = np.array([7,8,9,10,11])\n",
        "print('Stack secara Vertikal')\n",
        "print(np.vstack([array_14,array_15]))\n",
        "print('Stack secara Horizontal')\n",
        "print(np.hstack([array_14,array_15]))"
      ],
      "metadata": {
        "colab": {
          "base_uri": "https://localhost:8080/"
        },
        "id": "p5fpAQd5hIib",
        "outputId": "124c19eb-250e-4919-d1fa-85e3b69b5f6f"
      },
      "execution_count": 88,
      "outputs": [
        {
          "output_type": "stream",
          "name": "stdout",
          "text": [
            "Stack secara Vertikal\n",
            "[[ 3  4  5  6  7]\n",
            " [ 7  8  9 10 11]]\n",
            "Stack secara Horizontal\n",
            "[ 3  4  5  6  7  7  8  9 10 11]\n"
          ]
        }
      ]
    },
    {
      "cell_type": "code",
      "source": [
        "#hsplit\n",
        "array_16 = np.array([3,4,5,6,7,8])\n",
        "array_split = np.hsplit(array_16,2)\n",
        "(array_split)"
      ],
      "metadata": {
        "colab": {
          "base_uri": "https://localhost:8080/"
        },
        "id": "mCyZGkCRhMLs",
        "outputId": "8a87d164-5da3-43a5-bd93-4c9eef0c231a"
      },
      "execution_count": 89,
      "outputs": [
        {
          "output_type": "execute_result",
          "data": {
            "text/plain": [
              "[array([3, 4, 5]), array([6, 7, 8])]"
            ]
          },
          "metadata": {},
          "execution_count": 89
        }
      ]
    },
    {
      "cell_type": "code",
      "source": [
        "#vsplit\n",
        "array_19 = np.array([[1,2,3,4],[4,5,6,7]])\n",
        "print(array_19.shape)\n",
        "print('Horizontal Split')\n",
        "print(np.hsplit(array_19,2))\n",
        "print('Vertical Split')\n",
        "print(np.vsplit(array_19,2))"
      ],
      "metadata": {
        "colab": {
          "base_uri": "https://localhost:8080/"
        },
        "id": "wWJXJcsIhRZQ",
        "outputId": "f6b87cad-1a68-4dc6-8938-01f5dfc472ad"
      },
      "execution_count": 90,
      "outputs": [
        {
          "output_type": "stream",
          "name": "stdout",
          "text": [
            "(2, 4)\n",
            "Horizontal Split\n",
            "[array([[1, 2],\n",
            "       [4, 5]]), array([[3, 4],\n",
            "       [6, 7]])]\n",
            "Vertical Split\n",
            "[array([[1, 2, 3, 4]]), array([[4, 5, 6, 7]])]\n"
          ]
        }
      ]
    },
    {
      "cell_type": "markdown",
      "source": [
        "<h3> Operasi Aritmetik antar 2 array <h3> "
      ],
      "metadata": {
        "id": "T1m4JicOhce6"
      }
    },
    {
      "cell_type": "code",
      "source": [
        "array_a = np.array([1,2,3])\n",
        "array_b = np.array([3,4,5])\n",
        "print(array_a+array_b)"
      ],
      "metadata": {
        "colab": {
          "base_uri": "https://localhost:8080/"
        },
        "id": "ZnqaNuJQhdzD",
        "outputId": "42aa639a-45b2-4d31-fe15-6e2572b766c9"
      },
      "execution_count": 91,
      "outputs": [
        {
          "output_type": "stream",
          "name": "stdout",
          "text": [
            "[4 6 8]\n"
          ]
        }
      ]
    },
    {
      "cell_type": "code",
      "source": [
        "array_c = np.array([[1,2,3],[4,5,6]])\n",
        "array_d = np.array([[6,7,8],[9,10,11]])\n",
        "print(array_c-array_d)"
      ],
      "metadata": {
        "colab": {
          "base_uri": "https://localhost:8080/"
        },
        "id": "NF4IoQDEhj4a",
        "outputId": "1a745568-eede-4871-df71-d9c59691738e"
      },
      "execution_count": 92,
      "outputs": [
        {
          "output_type": "stream",
          "name": "stdout",
          "text": [
            "[[-5 -5 -5]\n",
            " [-5 -5 -5]]\n"
          ]
        }
      ]
    },
    {
      "cell_type": "code",
      "source": [
        "array_a = np.array([1,2,3])\n",
        "array_b = np.array([3,4,5])\n",
        "array_c = np.array([[1,2,3],[4,5,6]])\n",
        "array_d = np.array([[6,7,8],[9,10,11]])\n",
        "print(array_a.sum())\n",
        "print(array_c.sum())\n",
        "print(array_c.sum(axis=0))"
      ],
      "metadata": {
        "colab": {
          "base_uri": "https://localhost:8080/"
        },
        "id": "74yTlP7UhmsO",
        "outputId": "b48cd0a5-4d80-4e98-b904-16b6f2bac6a1"
      },
      "execution_count": 93,
      "outputs": [
        {
          "output_type": "stream",
          "name": "stdout",
          "text": [
            "6\n",
            "21\n",
            "[5 7 9]\n"
          ]
        }
      ]
    },
    {
      "cell_type": "code",
      "source": [
        "array_c = np.array([[1,2,3],[4,5,6]])\n",
        "print(array_c)\n",
        "print(array_c.sum(axis=0))\n",
        "print(array_c.sum(axis=1))"
      ],
      "metadata": {
        "colab": {
          "base_uri": "https://localhost:8080/"
        },
        "id": "ywWe0pwYhpU5",
        "outputId": "1bb76c83-0275-4b08-9b60-6141d7e0c1f8"
      },
      "execution_count": 94,
      "outputs": [
        {
          "output_type": "stream",
          "name": "stdout",
          "text": [
            "[[1 2 3]\n",
            " [4 5 6]]\n",
            "[5 7 9]\n",
            "[ 6 15]\n"
          ]
        }
      ]
    },
    {
      "cell_type": "code",
      "source": [
        "array_a = np.array([1,2,3])\n",
        "array_b = np.array([3,4,5])\n",
        "array_c = np.array([[5,2,3],[4,5,6]])\n",
        "print(array_a.max())\n",
        "print(array_c.max())\n",
        "print(array_c)\n",
        "print(array_c.max(axis=0))\n",
        "print(array_c.min(axis=0))"
      ],
      "metadata": {
        "colab": {
          "base_uri": "https://localhost:8080/"
        },
        "id": "6R3pwMK0jHEy",
        "outputId": "78f62d41-1410-49a5-b5d8-828e543e4e54"
      },
      "execution_count": 95,
      "outputs": [
        {
          "output_type": "stream",
          "name": "stdout",
          "text": [
            "3\n",
            "6\n",
            "[[5 2 3]\n",
            " [4 5 6]]\n",
            "[5 5 6]\n",
            "[4 2 3]\n"
          ]
        }
      ]
    },
    {
      "cell_type": "markdown",
      "source": [
        "<h3> Transposing <h3> \n",
        "\n",
        "merubah baris jadi kolom, kolom menjadi baris"
      ],
      "metadata": {
        "id": "G5H6cPycjLI_"
      }
    },
    {
      "cell_type": "code",
      "source": [
        "array_c = np.array([[5,2,3],[4,5,6]])\n",
        "print(array_c)\n",
        "print(array_c.shape)"
      ],
      "metadata": {
        "colab": {
          "base_uri": "https://localhost:8080/"
        },
        "id": "C7BmRcGQjMbS",
        "outputId": "2245f5b3-cf3c-41ca-d48a-bf0ae3c7e485"
      },
      "execution_count": 96,
      "outputs": [
        {
          "output_type": "stream",
          "name": "stdout",
          "text": [
            "[[5 2 3]\n",
            " [4 5 6]]\n",
            "(2, 3)\n"
          ]
        }
      ]
    },
    {
      "cell_type": "code",
      "source": [
        "print(array_c.T)\n",
        "print(array_c.T.shape)"
      ],
      "metadata": {
        "colab": {
          "base_uri": "https://localhost:8080/"
        },
        "id": "KH-P9vWOjSL6",
        "outputId": "fb21a940-847f-46e3-879a-c551cb92f663"
      },
      "execution_count": 97,
      "outputs": [
        {
          "output_type": "stream",
          "name": "stdout",
          "text": [
            "[[5 4]\n",
            " [2 5]\n",
            " [3 6]]\n",
            "(3, 2)\n"
          ]
        }
      ]
    },
    {
      "cell_type": "code",
      "source": [
        "array_d = np.array([[1,2,3,4,5],[4,5,6,7,8],[7,8,9,10,11]])\n",
        "print(array_d)\n",
        "print(array_d.shape)"
      ],
      "metadata": {
        "colab": {
          "base_uri": "https://localhost:8080/"
        },
        "id": "yGLkfLRJjUz5",
        "outputId": "63ff4d17-26b8-41d1-c750-f36b4b09f541"
      },
      "execution_count": 98,
      "outputs": [
        {
          "output_type": "stream",
          "name": "stdout",
          "text": [
            "[[ 1  2  3  4  5]\n",
            " [ 4  5  6  7  8]\n",
            " [ 7  8  9 10 11]]\n",
            "(3, 5)\n"
          ]
        }
      ]
    },
    {
      "cell_type": "code",
      "source": [
        "array_d = np.array([[1,2,3,4,5],[4,5,6,7,8],[7,8,9,10,11]])\n",
        "print(array_d.T)\n",
        "print(array_d.T.shape)"
      ],
      "metadata": {
        "colab": {
          "base_uri": "https://localhost:8080/"
        },
        "id": "ANgnsArHjZW-",
        "outputId": "919b98ed-a7c1-4073-fc79-4746c5d2a13a"
      },
      "execution_count": 99,
      "outputs": [
        {
          "output_type": "stream",
          "name": "stdout",
          "text": [
            "[[ 1  4  7]\n",
            " [ 2  5  8]\n",
            " [ 3  6  9]\n",
            " [ 4  7 10]\n",
            " [ 5  8 11]]\n",
            "(5, 3)\n"
          ]
        }
      ]
    },
    {
      "cell_type": "code",
      "source": [
        "array_random = np.random.random([3,2])*100\n",
        "print(array_random)"
      ],
      "metadata": {
        "colab": {
          "base_uri": "https://localhost:8080/"
        },
        "id": "H6sLT1iHjazJ",
        "outputId": "613c2d42-0cde-4440-c6b6-4faa1f3284ad"
      },
      "execution_count": 100,
      "outputs": [
        {
          "output_type": "stream",
          "name": "stdout",
          "text": [
            "[[ 3.51494167 61.36351433]\n",
            " [83.52612838 25.24609077]\n",
            " [97.2000091  71.90726577]]\n"
          ]
        }
      ]
    },
    {
      "cell_type": "code",
      "source": [
        "array_random = np.random.random([3,2,3])*100\n",
        "print(array_random)\n",
        "print(array_random.flatten())"
      ],
      "metadata": {
        "colab": {
          "base_uri": "https://localhost:8080/"
        },
        "id": "EKcPSvfNjm3b",
        "outputId": "612434f7-41b5-4a8e-f1c6-86e823cd12fa"
      },
      "execution_count": 101,
      "outputs": [
        {
          "output_type": "stream",
          "name": "stdout",
          "text": [
            "[[[57.87455064 69.5747982   6.19442712]\n",
            "  [69.79264654 68.03164798  6.7799517 ]]\n",
            "\n",
            " [[21.36746689 79.44193661 20.13237801]\n",
            "  [23.07246281 51.96098544 32.20781924]]\n",
            "\n",
            " [[13.01576949 80.49384876 25.00313789]\n",
            "  [ 9.73003587 38.76877335 59.14928639]]]\n",
            "[57.87455064 69.5747982   6.19442712 69.79264654 68.03164798  6.7799517\n",
            " 21.36746689 79.44193661 20.13237801 23.07246281 51.96098544 32.20781924\n",
            " 13.01576949 80.49384876 25.00313789  9.73003587 38.76877335 59.14928639]\n"
          ]
        }
      ]
    },
    {
      "cell_type": "markdown",
      "source": [
        "<h3> Numpy Math formulas<h3>"
      ],
      "metadata": {
        "id": "vYeIpXyZkQGP"
      }
    },
    {
      "cell_type": "code",
      "source": [
        "array_random = np.random.random([3,2])*100\n",
        "print(array_random)\n",
        "np.sum(array_random)"
      ],
      "metadata": {
        "colab": {
          "base_uri": "https://localhost:8080/"
        },
        "id": "KFpuJXSKjpKq",
        "outputId": "53ddfc06-89fe-48f3-e425-e31fc3f3c8e9"
      },
      "execution_count": 102,
      "outputs": [
        {
          "output_type": "stream",
          "name": "stdout",
          "text": [
            "[[ 8.56642929 83.14209829]\n",
            " [82.22138013 56.05251983]\n",
            " [57.35739729 12.81740059]]\n"
          ]
        },
        {
          "output_type": "execute_result",
          "data": {
            "text/plain": [
              "300.15722542109313"
            ]
          },
          "metadata": {},
          "execution_count": 102
        }
      ]
    },
    {
      "cell_type": "code",
      "source": [
        "np.square(9)"
      ],
      "metadata": {
        "colab": {
          "base_uri": "https://localhost:8080/"
        },
        "id": "TtJ3LE0lkW5A",
        "outputId": "a86f8cf3-353d-40e5-87ed-ca606430de10"
      },
      "execution_count": 103,
      "outputs": [
        {
          "output_type": "execute_result",
          "data": {
            "text/plain": [
              "81"
            ]
          },
          "metadata": {},
          "execution_count": 103
        }
      ]
    },
    {
      "cell_type": "code",
      "source": [
        "np.sqrt(9)"
      ],
      "metadata": {
        "colab": {
          "base_uri": "https://localhost:8080/"
        },
        "id": "F4HYybT7kZEL",
        "outputId": "93b08bd4-af20-497f-a76f-cb3f30473926"
      },
      "execution_count": 104,
      "outputs": [
        {
          "output_type": "execute_result",
          "data": {
            "text/plain": [
              "3.0"
            ]
          },
          "metadata": {},
          "execution_count": 104
        }
      ]
    },
    {
      "cell_type": "code",
      "source": [
        "a = np.log(1000000)\n",
        "print(a)"
      ],
      "metadata": {
        "colab": {
          "base_uri": "https://localhost:8080/"
        },
        "id": "Q_7oPo3kkbJP",
        "outputId": "25c2f80a-1af3-4674-e28a-7dad04583c4d"
      },
      "execution_count": 105,
      "outputs": [
        {
          "output_type": "stream",
          "name": "stdout",
          "text": [
            "13.815510557964274\n"
          ]
        }
      ]
    },
    {
      "cell_type": "code",
      "source": [
        "np.exp(a)"
      ],
      "metadata": {
        "colab": {
          "base_uri": "https://localhost:8080/"
        },
        "id": "W1G1We5skfN6",
        "outputId": "42372453-01e1-42b9-9a49-18374676c583"
      },
      "execution_count": 106,
      "outputs": [
        {
          "output_type": "execute_result",
          "data": {
            "text/plain": [
              "999999.9999999995"
            ]
          },
          "metadata": {},
          "execution_count": 106
        }
      ]
    },
    {
      "cell_type": "markdown",
      "source": [
        "<h3> Prime Number Generator Based on Interval <h3>"
      ],
      "metadata": {
        "id": "peqzbdpnkiIF"
      }
    },
    {
      "cell_type": "markdown",
      "source": [
        "quiz 3"
      ],
      "metadata": {
        "id": "tqXdfKUf2rgl"
      }
    },
    {
      "cell_type": "code",
      "source": [
        "start = int(input(\"Please, Enter the lowest range value: \"))\n",
        "end = int(input(\"Please, Enter the upper range value: \"))\n",
        "\n",
        "def is_prime(n):\n",
        "    if n <= 1:\n",
        "        return False\n",
        "    elif n <= 3:\n",
        "        return True\n",
        "    elif n % 2 == 0 or n % 3 == 0:\n",
        "        return False\n",
        "    i = 5\n",
        "    while i * i <= n:\n",
        "        if n % i == 0 or n % (i+2) == 0:\n",
        "            return False\n",
        "        i += 6\n",
        "    return True\n",
        "\n",
        "print(\"The Prime Numbers in the range are: \")\n",
        "for num in range(start, end+1):\n",
        "    if is_prime(num):\n",
        "        print(num)"
      ],
      "metadata": {
        "colab": {
          "base_uri": "https://localhost:8080/"
        },
        "id": "8tidWBfY2ZN4",
        "outputId": "4ebbce31-f466-482b-c168-129607a917e6"
      },
      "execution_count": 107,
      "outputs": [
        {
          "output_type": "stream",
          "name": "stdout",
          "text": [
            "Please, Enter the lowest range value: 1\n",
            "Please, Enter the upper range value: 20\n",
            "The Prime Numbers in the range are: \n",
            "2\n",
            "3\n",
            "5\n",
            "7\n",
            "11\n",
            "13\n",
            "17\n",
            "19\n"
          ]
        }
      ]
    },
    {
      "cell_type": "code",
      "source": [
        "print('saadfs \\n fdf')"
      ],
      "metadata": {
        "colab": {
          "base_uri": "https://localhost:8080/"
        },
        "id": "JwfuGrIX9Sd1",
        "outputId": "8f1a9852-8a82-4110-f7f5-183dede6534f"
      },
      "execution_count": 108,
      "outputs": [
        {
          "output_type": "stream",
          "name": "stdout",
          "text": [
            "saadfs \n",
            " fdf\n"
          ]
        }
      ]
    },
    {
      "cell_type": "code",
      "source": [
        "for i in range(5):\n",
        "    print(i)"
      ],
      "metadata": {
        "id": "Kwq3LxGHpp0P",
        "colab": {
          "base_uri": "https://localhost:8080/"
        },
        "outputId": "a6bc41d1-89f5-45a6-d13c-2e6b13b32bac"
      },
      "execution_count": 109,
      "outputs": [
        {
          "output_type": "stream",
          "name": "stdout",
          "text": [
            "0\n",
            "1\n",
            "2\n",
            "3\n",
            "4\n"
          ]
        }
      ]
    },
    {
      "cell_type": "code",
      "source": [
        "import numpy as np\n",
        "a = np.array([3,2,1])"
      ],
      "metadata": {
        "id": "ZcGlTq-DmGUy"
      },
      "execution_count": 110,
      "outputs": []
    },
    {
      "cell_type": "code",
      "source": [
        "a[0]"
      ],
      "metadata": {
        "colab": {
          "base_uri": "https://localhost:8080/"
        },
        "id": "SCUg9TOVmPyF",
        "outputId": "c2bf68c3-a72b-4fe2-e26b-16c2ad080250"
      },
      "execution_count": 111,
      "outputs": [
        {
          "output_type": "execute_result",
          "data": {
            "text/plain": [
              "3"
            ]
          },
          "metadata": {},
          "execution_count": 111
        }
      ]
    },
    {
      "cell_type": "code",
      "source": [
        "np.empty((2,2))"
      ],
      "metadata": {
        "colab": {
          "base_uri": "https://localhost:8080/"
        },
        "id": "BuVRJiYdmSR7",
        "outputId": "45ee2838-125a-48df-c78a-4ca2df2bf561"
      },
      "execution_count": 112,
      "outputs": [
        {
          "output_type": "execute_result",
          "data": {
            "text/plain": [
              "array([[1., 1.],\n",
              "       [1., 1.]])"
            ]
          },
          "metadata": {},
          "execution_count": 112
        }
      ]
    },
    {
      "cell_type": "code",
      "source": [
        "np.arange(0,7,2)"
      ],
      "metadata": {
        "colab": {
          "base_uri": "https://localhost:8080/"
        },
        "id": "_qP9RpIdmVTc",
        "outputId": "6ef92c57-54fb-493f-d135-4a5cdd615b0c"
      },
      "execution_count": 113,
      "outputs": [
        {
          "output_type": "execute_result",
          "data": {
            "text/plain": [
              "array([0, 2, 4, 6])"
            ]
          },
          "metadata": {},
          "execution_count": 113
        }
      ]
    },
    {
      "cell_type": "code",
      "source": [
        "a = np.array([1,2,3,4])\n",
        "a"
      ],
      "metadata": {
        "colab": {
          "base_uri": "https://localhost:8080/"
        },
        "id": "Prd2pzQBmYAz",
        "outputId": "30fb4850-840c-4fb3-8e11-4dc5bdf4d8fc"
      },
      "execution_count": 114,
      "outputs": [
        {
          "output_type": "execute_result",
          "data": {
            "text/plain": [
              "array([1, 2, 3, 4])"
            ]
          },
          "metadata": {},
          "execution_count": 114
        }
      ]
    },
    {
      "cell_type": "code",
      "source": [
        "a[:,np.newaxis]"
      ],
      "metadata": {
        "colab": {
          "base_uri": "https://localhost:8080/"
        },
        "id": "7LC6Yo0imk4E",
        "outputId": "29eba135-a863-4492-93c2-c7f661ffbba1"
      },
      "execution_count": 115,
      "outputs": [
        {
          "output_type": "execute_result",
          "data": {
            "text/plain": [
              "array([[1],\n",
              "       [2],\n",
              "       [3],\n",
              "       [4]])"
            ]
          },
          "metadata": {},
          "execution_count": 115
        }
      ]
    },
    {
      "cell_type": "code",
      "source": [
        "a.shape"
      ],
      "metadata": {
        "colab": {
          "base_uri": "https://localhost:8080/"
        },
        "id": "Nyge-hA5mwgt",
        "outputId": "30dbdeed-4f83-4728-f518-9e4c2b29684c"
      },
      "execution_count": 116,
      "outputs": [
        {
          "output_type": "execute_result",
          "data": {
            "text/plain": [
              "(4,)"
            ]
          },
          "metadata": {},
          "execution_count": 116
        }
      ]
    },
    {
      "cell_type": "code",
      "source": [
        "b = np.expand_dims(a,axis=0)\n",
        "b"
      ],
      "metadata": {
        "colab": {
          "base_uri": "https://localhost:8080/"
        },
        "id": "xjzFNSi4mxXf",
        "outputId": "63f653cb-5c34-415a-95a1-208aab85012a"
      },
      "execution_count": 117,
      "outputs": [
        {
          "output_type": "execute_result",
          "data": {
            "text/plain": [
              "array([[1, 2, 3, 4]])"
            ]
          },
          "metadata": {},
          "execution_count": 117
        }
      ]
    },
    {
      "cell_type": "code",
      "source": [
        "c = np.array([[1,2,3],[3,4,5],[6,7,8]])\n",
        "c\n",
        "d = c.copy()"
      ],
      "metadata": {
        "id": "9hYCbRfOna3j"
      },
      "execution_count": 118,
      "outputs": []
    },
    {
      "cell_type": "code",
      "source": [
        "c[c>2]"
      ],
      "metadata": {
        "colab": {
          "base_uri": "https://localhost:8080/"
        },
        "id": "2kS29mTYnfMd",
        "outputId": "031fc478-dcf7-4245-f144-fd383d3d2e91"
      },
      "execution_count": 119,
      "outputs": [
        {
          "output_type": "execute_result",
          "data": {
            "text/plain": [
              "array([3, 3, 4, 5, 6, 7, 8])"
            ]
          },
          "metadata": {},
          "execution_count": 119
        }
      ]
    },
    {
      "cell_type": "code",
      "source": [
        "np.vstack([c,d])"
      ],
      "metadata": {
        "colab": {
          "base_uri": "https://localhost:8080/"
        },
        "id": "pedpNaRcnfdE",
        "outputId": "956fabed-67fb-4458-c6ac-92481fd778d5"
      },
      "execution_count": 120,
      "outputs": [
        {
          "output_type": "execute_result",
          "data": {
            "text/plain": [
              "array([[1, 2, 3],\n",
              "       [3, 4, 5],\n",
              "       [6, 7, 8],\n",
              "       [1, 2, 3],\n",
              "       [3, 4, 5],\n",
              "       [6, 7, 8]])"
            ]
          },
          "metadata": {},
          "execution_count": 120
        }
      ]
    },
    {
      "cell_type": "code",
      "source": [
        "c"
      ],
      "metadata": {
        "colab": {
          "base_uri": "https://localhost:8080/"
        },
        "id": "RoM1XMJlnkuM",
        "outputId": "b3d35145-80eb-453e-b8d1-eafa5dddbfdd"
      },
      "execution_count": 121,
      "outputs": [
        {
          "output_type": "execute_result",
          "data": {
            "text/plain": [
              "array([[1, 2, 3],\n",
              "       [3, 4, 5],\n",
              "       [6, 7, 8]])"
            ]
          },
          "metadata": {},
          "execution_count": 121
        }
      ]
    },
    {
      "cell_type": "code",
      "source": [
        "c.sum(axis=1)"
      ],
      "metadata": {
        "colab": {
          "base_uri": "https://localhost:8080/"
        },
        "id": "TAZU7vfAnltr",
        "outputId": "bdfdd903-7926-4bf2-a083-2608fc3a6e1e"
      },
      "execution_count": 122,
      "outputs": [
        {
          "output_type": "execute_result",
          "data": {
            "text/plain": [
              "array([ 6, 12, 21])"
            ]
          },
          "metadata": {},
          "execution_count": 122
        }
      ]
    },
    {
      "cell_type": "code",
      "source": [
        "we = c*+2"
      ],
      "metadata": {
        "id": "dkqp058Tnozb"
      },
      "execution_count": 123,
      "outputs": []
    },
    {
      "cell_type": "code",
      "source": [
        "we"
      ],
      "metadata": {
        "colab": {
          "base_uri": "https://localhost:8080/"
        },
        "id": "hwEOjQqRnslj",
        "outputId": "c4186bff-fa7f-47a4-d856-edf7e915a3bb"
      },
      "execution_count": 124,
      "outputs": [
        {
          "output_type": "execute_result",
          "data": {
            "text/plain": [
              "array([[ 2,  4,  6],\n",
              "       [ 6,  8, 10],\n",
              "       [12, 14, 16]])"
            ]
          },
          "metadata": {},
          "execution_count": 124
        }
      ]
    },
    {
      "cell_type": "code",
      "source": [
        "c"
      ],
      "metadata": {
        "colab": {
          "base_uri": "https://localhost:8080/"
        },
        "id": "Vokw8Z-FnthE",
        "outputId": "27775302-104c-4019-e983-4748ffce9c0d"
      },
      "execution_count": 125,
      "outputs": [
        {
          "output_type": "execute_result",
          "data": {
            "text/plain": [
              "array([[1, 2, 3],\n",
              "       [3, 4, 5],\n",
              "       [6, 7, 8]])"
            ]
          },
          "metadata": {},
          "execution_count": 125
        }
      ]
    },
    {
      "cell_type": "code",
      "source": [
        "x = c.copy()"
      ],
      "metadata": {
        "id": "GQUlVGAnnwWF"
      },
      "execution_count": 126,
      "outputs": []
    },
    {
      "cell_type": "code",
      "source": [
        "y = c+2"
      ],
      "metadata": {
        "id": "FIrf1kaSnzxU"
      },
      "execution_count": 127,
      "outputs": []
    },
    {
      "cell_type": "code",
      "source": [
        "np.dot(x,c)"
      ],
      "metadata": {
        "colab": {
          "base_uri": "https://localhost:8080/"
        },
        "id": "14K1zc1gn10i",
        "outputId": "0d4c4d3c-dd73-42d1-c4d5-df14701c4b41"
      },
      "execution_count": 128,
      "outputs": [
        {
          "output_type": "execute_result",
          "data": {
            "text/plain": [
              "array([[ 25,  31,  37],\n",
              "       [ 45,  57,  69],\n",
              "       [ 75,  96, 117]])"
            ]
          },
          "metadata": {},
          "execution_count": 128
        }
      ]
    },
    {
      "cell_type": "code",
      "source": [
        "c"
      ],
      "metadata": {
        "colab": {
          "base_uri": "https://localhost:8080/"
        },
        "id": "Le0Je3B6n8kU",
        "outputId": "22ea690c-5657-489b-dbbf-f1718952a463"
      },
      "execution_count": 129,
      "outputs": [
        {
          "output_type": "execute_result",
          "data": {
            "text/plain": [
              "array([[1, 2, 3],\n",
              "       [3, 4, 5],\n",
              "       [6, 7, 8]])"
            ]
          },
          "metadata": {},
          "execution_count": 129
        }
      ]
    },
    {
      "cell_type": "code",
      "source": [
        "np.append(c,[1,2,3,0])"
      ],
      "metadata": {
        "colab": {
          "base_uri": "https://localhost:8080/"
        },
        "id": "iB0rdTjLn9Fy",
        "outputId": "1908b24d-5c48-4663-8211-dc2fa48433df"
      },
      "execution_count": 130,
      "outputs": [
        {
          "output_type": "execute_result",
          "data": {
            "text/plain": [
              "array([1, 2, 3, 3, 4, 5, 6, 7, 8, 1, 2, 3, 0])"
            ]
          },
          "metadata": {},
          "execution_count": 130
        }
      ]
    },
    {
      "cell_type": "code",
      "source": [
        "q = np.array([1,2,3,0])\n",
        "np.delete(q,1)"
      ],
      "metadata": {
        "colab": {
          "base_uri": "https://localhost:8080/"
        },
        "id": "dXWrJybOn_SU",
        "outputId": "787d3ab8-9eaa-41e2-f47d-c3913a1f4f8c"
      },
      "execution_count": 131,
      "outputs": [
        {
          "output_type": "execute_result",
          "data": {
            "text/plain": [
              "array([1, 3, 0])"
            ]
          },
          "metadata": {},
          "execution_count": 131
        }
      ]
    },
    {
      "cell_type": "code",
      "source": [
        "np.sort(q)"
      ],
      "metadata": {
        "colab": {
          "base_uri": "https://localhost:8080/"
        },
        "id": "BesuK-OsoBzz",
        "outputId": "fe9aa108-a217-4c9a-9dfa-dbc68a51ac26"
      },
      "execution_count": 132,
      "outputs": [
        {
          "output_type": "execute_result",
          "data": {
            "text/plain": [
              "array([0, 1, 2, 3])"
            ]
          },
          "metadata": {},
          "execution_count": 132
        }
      ]
    },
    {
      "cell_type": "code",
      "source": [
        "q.sort()\n",
        "q"
      ],
      "metadata": {
        "colab": {
          "base_uri": "https://localhost:8080/"
        },
        "id": "R0KAnB8ioEQ7",
        "outputId": "e9ebe490-7ccf-4ae6-9611-1b56f26f0d49"
      },
      "execution_count": 133,
      "outputs": [
        {
          "output_type": "execute_result",
          "data": {
            "text/plain": [
              "array([0, 1, 2, 3])"
            ]
          },
          "metadata": {},
          "execution_count": 133
        }
      ]
    },
    {
      "cell_type": "code",
      "source": [
        "c.shape"
      ],
      "metadata": {
        "colab": {
          "base_uri": "https://localhost:8080/"
        },
        "id": "Zp7_OgKXoHZM",
        "outputId": "7bb2b005-e02a-4c33-8908-c3b1dc1abda4"
      },
      "execution_count": 134,
      "outputs": [
        {
          "output_type": "execute_result",
          "data": {
            "text/plain": [
              "(3, 3)"
            ]
          },
          "metadata": {},
          "execution_count": 134
        }
      ]
    },
    {
      "cell_type": "code",
      "source": [
        "np.zeros([3,2])"
      ],
      "metadata": {
        "colab": {
          "base_uri": "https://localhost:8080/"
        },
        "id": "Aq_GBo_QoKzn",
        "outputId": "e8f9bc4f-9e59-42c3-ca8c-ceb59f46fcb0"
      },
      "execution_count": 135,
      "outputs": [
        {
          "output_type": "execute_result",
          "data": {
            "text/plain": [
              "array([[0., 0.],\n",
              "       [0., 0.],\n",
              "       [0., 0.]])"
            ]
          },
          "metadata": {},
          "execution_count": 135
        }
      ]
    },
    {
      "cell_type": "markdown",
      "source": [
        "Bilangan prima adalah bilangan yang hanya bisa dibagi 1 dan dirinya sendiri"
      ],
      "metadata": {
        "id": "K2C8A9d1oQ1T"
      }
    },
    {
      "cell_type": "code",
      "source": [
        "lower_limit = int(input('Lower Limit :'))\n",
        "upper_limit = int(input(\"Upper Limit :\"))\n",
        "print(lower_limit, 'sampai',upper_limit)\n",
        "for num in range(lower_limit,upper_limit+1):\n",
        "    if num > 1:\n",
        "        for i in range(2,num):#Filtering buat bilangan prima\n",
        "            if (num%i)==0:\n",
        "                break \n",
        "        else:\n",
        "            print(num) #untuk kita dapat bilangan prima kondisi (num%i)==0 harus dilanggar"
      ],
      "metadata": {
        "colab": {
          "base_uri": "https://localhost:8080/"
        },
        "id": "xwVC0TbJoMBl",
        "outputId": "c9b31be0-7694-4051-b323-9590a325920c"
      },
      "execution_count": 136,
      "outputs": [
        {
          "output_type": "stream",
          "name": "stdout",
          "text": [
            "Lower Limit :10\n",
            "Upper Limit :20\n",
            "10 sampai 20\n",
            "11\n",
            "13\n",
            "17\n",
            "19\n"
          ]
        }
      ]
    },
    {
      "cell_type": "code",
      "source": [
        "7%2"
      ],
      "metadata": {
        "id": "pOWQt-ppoXuI",
        "outputId": "f9fc0fae-544a-4f1b-9513-dbeb8e4e07f8",
        "colab": {
          "base_uri": "https://localhost:8080/"
        }
      },
      "execution_count": 137,
      "outputs": [
        {
          "output_type": "execute_result",
          "data": {
            "text/plain": [
              "1"
            ]
          },
          "metadata": {},
          "execution_count": 137
        }
      ]
    },
    {
      "cell_type": "code",
      "source": [
        "7%3"
      ],
      "metadata": {
        "id": "HG3sjpFEoZqO",
        "outputId": "3ee73eb2-c0c5-4aa5-d516-9a5b7d0d27c7",
        "colab": {
          "base_uri": "https://localhost:8080/"
        }
      },
      "execution_count": 138,
      "outputs": [
        {
          "output_type": "execute_result",
          "data": {
            "text/plain": [
              "1"
            ]
          },
          "metadata": {},
          "execution_count": 138
        }
      ]
    }
  ]
}