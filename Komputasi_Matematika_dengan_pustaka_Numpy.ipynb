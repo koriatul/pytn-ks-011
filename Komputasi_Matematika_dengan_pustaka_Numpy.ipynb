{
  "nbformat": 4,
  "nbformat_minor": 0,
  "metadata": {
    "colab": {
      "provenance": [],
      "authorship_tag": "ABX9TyOiYBSY+IYDsrFnBRXAoSPS",
      "include_colab_link": true
    },
    "kernelspec": {
      "name": "python3",
      "display_name": "Python 3"
    },
    "language_info": {
      "name": "python"
    }
  },
  "cells": [
    {
      "cell_type": "markdown",
      "metadata": {
        "id": "view-in-github",
        "colab_type": "text"
      },
      "source": [
        "<a href=\"https://colab.research.google.com/github/koriatul/pytn-ks-011/blob/main/Komputasi_Matematika_dengan_pustaka_Numpy.ipynb\" target=\"_parent\"><img src=\"https://colab.research.google.com/assets/colab-badge.svg\" alt=\"Open In Colab\"/></a>"
      ]
    },
    {
      "cell_type": "markdown",
      "source": [
        "**WORKSHOP NUMPY**"
      ],
      "metadata": {
        "id": "SGJzX64Nz4FL"
      }
    },
    {
      "cell_type": "code",
      "execution_count": null,
      "metadata": {
        "colab": {
          "base_uri": "https://localhost:8080/",
          "height": 35
        },
        "id": "Im59pL3nzxYp",
        "outputId": "60f5e567-a09c-4c29-b204-c28c861bece9"
      },
      "outputs": [
        {
          "output_type": "execute_result",
          "data": {
            "text/plain": [
              "'1.22.4'"
            ],
            "application/vnd.google.colaboratory.intrinsic+json": {
              "type": "string"
            }
          },
          "metadata": {},
          "execution_count": 3
        }
      ],
      "source": [
        "import numpy as np\n",
        "np.__version__"
      ]
    },
    {
      "cell_type": "markdown",
      "source": [
        "**PYTHON LIST**"
      ],
      "metadata": {
        "id": "Jokl9s2_XSxV"
      }
    },
    {
      "cell_type": "code",
      "source": [
        "gpas_as_list = [4.0,3.2,3.5]\n",
        "gpas_as_list.append(4.0)\n",
        "gpas_as_list"
      ],
      "metadata": {
        "colab": {
          "base_uri": "https://localhost:8080/"
        },
        "id": "JdVwJPz4XXiG",
        "outputId": "66abc0a2-f86a-4596-f39b-7561e13af617"
      },
      "execution_count": null,
      "outputs": [
        {
          "output_type": "execute_result",
          "data": {
            "text/plain": [
              "[4.0, 3.2, 3.5, 4.0]"
            ]
          },
          "metadata": {},
          "execution_count": 4
        }
      ]
    },
    {
      "cell_type": "code",
      "source": [
        "gpas_as_list.insert(1, \"belum ada\")\n",
        "gpas_as_list"
      ],
      "metadata": {
        "colab": {
          "base_uri": "https://localhost:8080/"
        },
        "id": "H0e6k04FZkpT",
        "outputId": "c1bbc320-40b6-4043-e8d6-308652d2211e"
      },
      "execution_count": null,
      "outputs": [
        {
          "output_type": "execute_result",
          "data": {
            "text/plain": [
              "[4.0, 'belum ada', 3.2, 3.5, 4.0]"
            ]
          },
          "metadata": {},
          "execution_count": 5
        }
      ]
    },
    {
      "cell_type": "code",
      "source": [
        "gpas_as_list.pop(1)\n",
        "gpas_as_list"
      ],
      "metadata": {
        "colab": {
          "base_uri": "https://localhost:8080/"
        },
        "id": "GocVUU_obOj0",
        "outputId": "2f5bfebd-6e32-4dc4-be49-25ec5a9ebf46"
      },
      "execution_count": null,
      "outputs": [
        {
          "output_type": "execute_result",
          "data": {
            "text/plain": [
              "[4.0, 3.2, 3.5, 4.0]"
            ]
          },
          "metadata": {},
          "execution_count": 6
        }
      ]
    },
    {
      "cell_type": "markdown",
      "source": [
        "**NumPy Array**"
      ],
      "metadata": {
        "id": "PsdfA8Bnbq91"
      }
    },
    {
      "cell_type": "code",
      "source": [
        "gpas = np.array(gpas_as_list)\n",
        "gpas.dtype"
      ],
      "metadata": {
        "colab": {
          "base_uri": "https://localhost:8080/"
        },
        "id": "qIZJGRmhbyen",
        "outputId": "78d5bbf5-a868-4813-db45-3a269d05ff14"
      },
      "execution_count": null,
      "outputs": [
        {
          "output_type": "execute_result",
          "data": {
            "text/plain": [
              "dtype('float64')"
            ]
          },
          "metadata": {},
          "execution_count": 7
        }
      ]
    },
    {
      "cell_type": "code",
      "source": [
        "gpas.size"
      ],
      "metadata": {
        "colab": {
          "base_uri": "https://localhost:8080/"
        },
        "id": "IITF65RKcmaD",
        "outputId": "87bbda24-8f5c-4b91-b5d0-8dc517a79206"
      },
      "execution_count": null,
      "outputs": [
        {
          "output_type": "execute_result",
          "data": {
            "text/plain": [
              "4"
            ]
          },
          "metadata": {},
          "execution_count": 8
        }
      ]
    },
    {
      "cell_type": "markdown",
      "source": [
        "**Study Log**"
      ],
      "metadata": {
        "id": "W8uu71pvdjyL"
      }
    },
    {
      "cell_type": "code",
      "source": [
        "study_minutes = np.zeros(100)\n",
        "study_minutes"
      ],
      "metadata": {
        "colab": {
          "base_uri": "https://localhost:8080/"
        },
        "id": "spj0RWBOdoXZ",
        "outputId": "22b77b3a-cce5-47c9-afc0-d27b81df94b0"
      },
      "execution_count": null,
      "outputs": [
        {
          "output_type": "execute_result",
          "data": {
            "text/plain": [
              "array([0., 0., 0., 0., 0., 0., 0., 0., 0., 0., 0., 0., 0., 0., 0., 0., 0.,\n",
              "       0., 0., 0., 0., 0., 0., 0., 0., 0., 0., 0., 0., 0., 0., 0., 0., 0.,\n",
              "       0., 0., 0., 0., 0., 0., 0., 0., 0., 0., 0., 0., 0., 0., 0., 0., 0.,\n",
              "       0., 0., 0., 0., 0., 0., 0., 0., 0., 0., 0., 0., 0., 0., 0., 0., 0.,\n",
              "       0., 0., 0., 0., 0., 0., 0., 0., 0., 0., 0., 0., 0., 0., 0., 0., 0.,\n",
              "       0., 0., 0., 0., 0., 0., 0., 0., 0., 0., 0., 0., 0., 0., 0.])"
            ]
          },
          "metadata": {},
          "execution_count": 9
        }
      ]
    },
    {
      "cell_type": "code",
      "source": [
        "%whos"
      ],
      "metadata": {
        "colab": {
          "base_uri": "https://localhost:8080/"
        },
        "id": "KqdVpQbDeFt0",
        "outputId": "57a8fc4a-05b6-4f4c-cb44-17650358792a"
      },
      "execution_count": null,
      "outputs": [
        {
          "output_type": "stream",
          "name": "stdout",
          "text": [
            "Variable        Type       Data/Info\n",
            "------------------------------------\n",
            "gpas            ndarray    4: 4 elems, type `float64`, 32 bytes\n",
            "gpas_as_list    list       n=4\n",
            "np              module     <module 'numpy' from '/us<...>kages/numpy/__init__.py'>\n",
            "study_minutes   ndarray    100: 100 elems, type `float64`, 800 bytes\n"
          ]
        }
      ]
    },
    {
      "cell_type": "markdown",
      "source": [
        "**ARRAY MULTIDIMENSI**"
      ],
      "metadata": {
        "id": "hNOh9rW-fghb"
      }
    },
    {
      "cell_type": "code",
      "source": [
        "students_gpas = np.array([\n",
        "    [4.0,3.3,3.5,4.0],\n",
        "    [3.96,3.94,4.0,4.0],\n",
        "    [3.2,3.8,4.0,4.0]\n",
        "], np.float16)\n",
        "students_gpas"
      ],
      "metadata": {
        "colab": {
          "base_uri": "https://localhost:8080/"
        },
        "id": "fYj4D3bNfj5i",
        "outputId": "3c88e30c-1b55-4e06-8c11-18ac09d987a7"
      },
      "execution_count": null,
      "outputs": [
        {
          "output_type": "execute_result",
          "data": {
            "text/plain": [
              "array([[4.  , 3.3 , 3.5 , 4.  ],\n",
              "       [3.96, 3.94, 4.  , 4.  ],\n",
              "       [3.2 , 3.8 , 4.  , 4.  ]], dtype=float16)"
            ]
          },
          "metadata": {},
          "execution_count": 11
        }
      ]
    },
    {
      "cell_type": "code",
      "source": [
        "students_gpas.ndim"
      ],
      "metadata": {
        "colab": {
          "base_uri": "https://localhost:8080/"
        },
        "id": "R1K9VV-LgrdO",
        "outputId": "9d144bfa-9b8a-421e-ebc7-21c1adf43ddf"
      },
      "execution_count": null,
      "outputs": [
        {
          "output_type": "execute_result",
          "data": {
            "text/plain": [
              "2"
            ]
          },
          "metadata": {},
          "execution_count": 12
        }
      ]
    },
    {
      "cell_type": "code",
      "source": [
        "students_gpas.shape"
      ],
      "metadata": {
        "colab": {
          "base_uri": "https://localhost:8080/"
        },
        "id": "C5NSAEO1gu02",
        "outputId": "1fb9e778-98f4-4ec9-d50f-79bb5fbf711b"
      },
      "execution_count": null,
      "outputs": [
        {
          "output_type": "execute_result",
          "data": {
            "text/plain": [
              "(3, 4)"
            ]
          },
          "metadata": {},
          "execution_count": 13
        }
      ]
    },
    {
      "cell_type": "code",
      "source": [
        "students_gpas[2]"
      ],
      "metadata": {
        "colab": {
          "base_uri": "https://localhost:8080/"
        },
        "id": "gGRm_UJShA_0",
        "outputId": "014a167b-bc29-41a9-b4a2-759346535ab6"
      },
      "execution_count": null,
      "outputs": [
        {
          "output_type": "execute_result",
          "data": {
            "text/plain": [
              "array([3.2, 3.8, 4. , 4. ], dtype=float16)"
            ]
          },
          "metadata": {},
          "execution_count": 14
        }
      ]
    },
    {
      "cell_type": "code",
      "source": [
        "students_gpas[2][3]"
      ],
      "metadata": {
        "colab": {
          "base_uri": "https://localhost:8080/"
        },
        "id": "QJk4dc17hVFU",
        "outputId": "50a94359-7e3c-4c16-a76f-b561a58c14eb"
      },
      "execution_count": null,
      "outputs": [
        {
          "output_type": "execute_result",
          "data": {
            "text/plain": [
              "4.0"
            ]
          },
          "metadata": {},
          "execution_count": 15
        }
      ]
    },
    {
      "cell_type": "markdown",
      "source": [
        "**Studi Log Multidimensi**"
      ],
      "metadata": {
        "id": "9QVv14661PLl"
      }
    },
    {
      "cell_type": "code",
      "source": [
        "study_minutes = np.array([\n",
        "    study_minutes,\n",
        "    np.zeros(100, np.uint16)\n",
        "])\n",
        "study_minutes.shape"
      ],
      "metadata": {
        "colab": {
          "base_uri": "https://localhost:8080/"
        },
        "id": "jydayWgY1TGB",
        "outputId": "9bc4ed1b-9f87-418e-8bd6-685cdec10361"
      },
      "execution_count": null,
      "outputs": [
        {
          "output_type": "execute_result",
          "data": {
            "text/plain": [
              "(2, 100)"
            ]
          },
          "metadata": {},
          "execution_count": 16
        }
      ]
    },
    {
      "cell_type": "code",
      "source": [
        "study_minutes [1][0] = 60\n",
        "study_minutes"
      ],
      "metadata": {
        "colab": {
          "base_uri": "https://localhost:8080/"
        },
        "id": "SGodM3_r3MuI",
        "outputId": "bfa7df4f-45ae-47f0-b50a-8cf281baaf43"
      },
      "execution_count": null,
      "outputs": [
        {
          "output_type": "execute_result",
          "data": {
            "text/plain": [
              "array([[ 0.,  0.,  0.,  0.,  0.,  0.,  0.,  0.,  0.,  0.,  0.,  0.,  0.,\n",
              "         0.,  0.,  0.,  0.,  0.,  0.,  0.,  0.,  0.,  0.,  0.,  0.,  0.,\n",
              "         0.,  0.,  0.,  0.,  0.,  0.,  0.,  0.,  0.,  0.,  0.,  0.,  0.,\n",
              "         0.,  0.,  0.,  0.,  0.,  0.,  0.,  0.,  0.,  0.,  0.,  0.,  0.,\n",
              "         0.,  0.,  0.,  0.,  0.,  0.,  0.,  0.,  0.,  0.,  0.,  0.,  0.,\n",
              "         0.,  0.,  0.,  0.,  0.,  0.,  0.,  0.,  0.,  0.,  0.,  0.,  0.,\n",
              "         0.,  0.,  0.,  0.,  0.,  0.,  0.,  0.,  0.,  0.,  0.,  0.,  0.,\n",
              "         0.,  0.,  0.,  0.,  0.,  0.,  0.,  0.,  0.],\n",
              "       [60.,  0.,  0.,  0.,  0.,  0.,  0.,  0.,  0.,  0.,  0.,  0.,  0.,\n",
              "         0.,  0.,  0.,  0.,  0.,  0.,  0.,  0.,  0.,  0.,  0.,  0.,  0.,\n",
              "         0.,  0.,  0.,  0.,  0.,  0.,  0.,  0.,  0.,  0.,  0.,  0.,  0.,\n",
              "         0.,  0.,  0.,  0.,  0.,  0.,  0.,  0.,  0.,  0.,  0.,  0.,  0.,\n",
              "         0.,  0.,  0.,  0.,  0.,  0.,  0.,  0.,  0.,  0.,  0.,  0.,  0.,\n",
              "         0.,  0.,  0.,  0.,  0.,  0.,  0.,  0.,  0.,  0.,  0.,  0.,  0.,\n",
              "         0.,  0.,  0.,  0.,  0.,  0.,  0.,  0.,  0.,  0.,  0.,  0.,  0.,\n",
              "         0.,  0.,  0.,  0.,  0.,  0.,  0.,  0.,  0.]])"
            ]
          },
          "metadata": {},
          "execution_count": 17
        }
      ]
    },
    {
      "cell_type": "code",
      "source": [
        "rand = np.random. RandomState(57)\n",
        "fake_log = rand.randint(30, 180, size =100 , dtype =np.uint16)\n",
        "fake_log"
      ],
      "metadata": {
        "colab": {
          "base_uri": "https://localhost:8080/"
        },
        "id": "lxM7EPIQ3Vmd",
        "outputId": "310029fb-6f44-4bb0-a2af-b29e19f6cfe7"
      },
      "execution_count": null,
      "outputs": [
        {
          "output_type": "execute_result",
          "data": {
            "text/plain": [
              "array([122,  35,  30, 135, 109,  89, 150, 138, 128, 173,  70, 130, 149,\n",
              "       167, 169,  42, 159, 111,  88,  45, 159, 164, 128, 127,  59, 159,\n",
              "        35,  95,  98,  35, 126, 119,  39, 111,  80, 172,  97, 172, 134,\n",
              "        56,  90, 167, 115, 176, 146,  94, 128, 143,  85,  42,  84,  43,\n",
              "       106, 149, 125, 142, 160, 120,  32,  36, 155,  67,  60, 156, 163,\n",
              "        47, 138, 129,  46,  68, 110, 149,  34, 104,  89,  53, 134, 150,\n",
              "        82,  76,  84,  43, 168, 163,  59,  77, 122, 150, 136,  52,  85,\n",
              "       116, 106,  51,  36,  35,  39, 140,  34, 141], dtype=uint16)"
            ]
          },
          "metadata": {},
          "execution_count": 18
        }
      ]
    },
    {
      "cell_type": "code",
      "source": [
        "[fake_log[1] , fake_log[21]]"
      ],
      "metadata": {
        "colab": {
          "base_uri": "https://localhost:8080/"
        },
        "id": "CXxTB-em4ZB9",
        "outputId": "4e7fc6a6-40e5-425b-9d6a-8441a10fbf60"
      },
      "execution_count": null,
      "outputs": [
        {
          "output_type": "execute_result",
          "data": {
            "text/plain": [
              "[35, 164]"
            ]
          },
          "metadata": {},
          "execution_count": 19
        }
      ]
    },
    {
      "cell_type": "code",
      "source": [
        "fake_log[[1,21]]"
      ],
      "metadata": {
        "colab": {
          "base_uri": "https://localhost:8080/"
        },
        "id": "1yDDdYdM42A_",
        "outputId": "35268fa6-c36c-48b0-b240-df3ed833717c"
      },
      "execution_count": null,
      "outputs": [
        {
          "output_type": "execute_result",
          "data": {
            "text/plain": [
              "array([ 35, 164], dtype=uint16)"
            ]
          },
          "metadata": {},
          "execution_count": 20
        }
      ]
    },
    {
      "cell_type": "code",
      "source": [
        "index = np.array([\n",
        "    [1, 21],\n",
        "    [1, 2]\n",
        "])\n",
        "fake_log[index]"
      ],
      "metadata": {
        "colab": {
          "base_uri": "https://localhost:8080/"
        },
        "id": "1XIGErc846kb",
        "outputId": "9c68b032-5670-43b4-8023-0926a8efee0f"
      },
      "execution_count": null,
      "outputs": [
        {
          "output_type": "execute_result",
          "data": {
            "text/plain": [
              "array([[ 35, 164],\n",
              "       [ 35,  30]], dtype=uint16)"
            ]
          },
          "metadata": {},
          "execution_count": 21
        }
      ]
    },
    {
      "cell_type": "code",
      "source": [
        "study_minutes = np.append(study_minutes , [fake_log])\n",
        "study_minutes"
      ],
      "metadata": {
        "colab": {
          "base_uri": "https://localhost:8080/"
        },
        "id": "DUokkVf-5-Qj",
        "outputId": "53d7a19e-ec1f-4aee-989f-03202c9c2abd"
      },
      "execution_count": null,
      "outputs": [
        {
          "output_type": "execute_result",
          "data": {
            "text/plain": [
              "array([  0.,   0.,   0.,   0.,   0.,   0.,   0.,   0.,   0.,   0.,   0.,\n",
              "         0.,   0.,   0.,   0.,   0.,   0.,   0.,   0.,   0.,   0.,   0.,\n",
              "         0.,   0.,   0.,   0.,   0.,   0.,   0.,   0.,   0.,   0.,   0.,\n",
              "         0.,   0.,   0.,   0.,   0.,   0.,   0.,   0.,   0.,   0.,   0.,\n",
              "         0.,   0.,   0.,   0.,   0.,   0.,   0.,   0.,   0.,   0.,   0.,\n",
              "         0.,   0.,   0.,   0.,   0.,   0.,   0.,   0.,   0.,   0.,   0.,\n",
              "         0.,   0.,   0.,   0.,   0.,   0.,   0.,   0.,   0.,   0.,   0.,\n",
              "         0.,   0.,   0.,   0.,   0.,   0.,   0.,   0.,   0.,   0.,   0.,\n",
              "         0.,   0.,   0.,   0.,   0.,   0.,   0.,   0.,   0.,   0.,   0.,\n",
              "         0.,  60.,   0.,   0.,   0.,   0.,   0.,   0.,   0.,   0.,   0.,\n",
              "         0.,   0.,   0.,   0.,   0.,   0.,   0.,   0.,   0.,   0.,   0.,\n",
              "         0.,   0.,   0.,   0.,   0.,   0.,   0.,   0.,   0.,   0.,   0.,\n",
              "         0.,   0.,   0.,   0.,   0.,   0.,   0.,   0.,   0.,   0.,   0.,\n",
              "         0.,   0.,   0.,   0.,   0.,   0.,   0.,   0.,   0.,   0.,   0.,\n",
              "         0.,   0.,   0.,   0.,   0.,   0.,   0.,   0.,   0.,   0.,   0.,\n",
              "         0.,   0.,   0.,   0.,   0.,   0.,   0.,   0.,   0.,   0.,   0.,\n",
              "         0.,   0.,   0.,   0.,   0.,   0.,   0.,   0.,   0.,   0.,   0.,\n",
              "         0.,   0.,   0.,   0.,   0.,   0.,   0.,   0.,   0.,   0.,   0.,\n",
              "         0.,   0., 122.,  35.,  30., 135., 109.,  89., 150., 138., 128.,\n",
              "       173.,  70., 130., 149., 167., 169.,  42., 159., 111.,  88.,  45.,\n",
              "       159., 164., 128., 127.,  59., 159.,  35.,  95.,  98.,  35., 126.,\n",
              "       119.,  39., 111.,  80., 172.,  97., 172., 134.,  56.,  90., 167.,\n",
              "       115., 176., 146.,  94., 128., 143.,  85.,  42.,  84.,  43., 106.,\n",
              "       149., 125., 142., 160., 120.,  32.,  36., 155.,  67.,  60., 156.,\n",
              "       163.,  47., 138., 129.,  46.,  68., 110., 149.,  34., 104.,  89.,\n",
              "        53., 134., 150.,  82.,  76.,  84.,  43., 168., 163.,  59.,  77.,\n",
              "       122., 150., 136.,  52.,  85., 116., 106.,  51.,  36.,  35.,  39.,\n",
              "       140.,  34., 141.])"
            ]
          },
          "metadata": {},
          "execution_count": 22
        }
      ]
    },
    {
      "cell_type": "code",
      "source": [
        "study_minutes[study_minutes < 60]\n",
        "study_minutes[(study_minutes < 60 ) & (study_minutes > 9)]"
      ],
      "metadata": {
        "colab": {
          "base_uri": "https://localhost:8080/"
        },
        "id": "GMwOj__-lSUH",
        "outputId": "90d12ba6-1a6b-49a4-875e-7399e2bf436d"
      },
      "execution_count": null,
      "outputs": [
        {
          "output_type": "execute_result",
          "data": {
            "text/plain": [
              "array([35., 30., 42., 45., 59., 35., 35., 39., 56., 42., 43., 32., 36.,\n",
              "       47., 46., 34., 53., 43., 59., 52., 51., 36., 35., 39., 34.])"
            ]
          },
          "metadata": {},
          "execution_count": 23
        }
      ]
    },
    {
      "cell_type": "markdown",
      "source": [
        "**Slicing Array**"
      ],
      "metadata": {
        "id": "c3dICzfalrSL"
      }
    },
    {
      "cell_type": "code",
      "source": [
        "practice = np.arange(42)\n",
        "practice.shape = (7,6)\n",
        "practice"
      ],
      "metadata": {
        "colab": {
          "base_uri": "https://localhost:8080/"
        },
        "id": "jywoSr4mlSb3",
        "outputId": "35e56b6c-abe1-4b67-c6d2-adda8eac70b2"
      },
      "execution_count": null,
      "outputs": [
        {
          "output_type": "execute_result",
          "data": {
            "text/plain": [
              "array([[ 0,  1,  2,  3,  4,  5],\n",
              "       [ 6,  7,  8,  9, 10, 11],\n",
              "       [12, 13, 14, 15, 16, 17],\n",
              "       [18, 19, 20, 21, 22, 23],\n",
              "       [24, 25, 26, 27, 28, 29],\n",
              "       [30, 31, 32, 33, 34, 35],\n",
              "       [36, 37, 38, 39, 40, 41]])"
            ]
          },
          "metadata": {},
          "execution_count": 24
        }
      ]
    },
    {
      "cell_type": "code",
      "source": [
        "practice[2,1]"
      ],
      "metadata": {
        "colab": {
          "base_uri": "https://localhost:8080/"
        },
        "id": "n99PMvfosUvs",
        "outputId": "b05e4480-28e3-447c-c0e9-8e8ffaa2353e"
      },
      "execution_count": null,
      "outputs": [
        {
          "output_type": "execute_result",
          "data": {
            "text/plain": [
              "13"
            ]
          },
          "metadata": {},
          "execution_count": 25
        }
      ]
    },
    {
      "cell_type": "code",
      "source": [
        "practice[2:5, 3:]"
      ],
      "metadata": {
        "colab": {
          "base_uri": "https://localhost:8080/"
        },
        "id": "cXUxL2aLsea_",
        "outputId": "a062fd19-789c-47ba-89e2-06c4cdbba974"
      },
      "execution_count": null,
      "outputs": [
        {
          "output_type": "execute_result",
          "data": {
            "text/plain": [
              "array([[15, 16, 17],\n",
              "       [21, 22, 23],\n",
              "       [27, 28, 29]])"
            ]
          },
          "metadata": {},
          "execution_count": 26
        }
      ]
    },
    {
      "cell_type": "markdown",
      "source": [
        "**Copy vs View**"
      ],
      "metadata": {
        "id": "6BXgE4tRu99V"
      }
    },
    {
      "cell_type": "code",
      "source": [
        "practice_list = [1,2,3]\n",
        "practice_list_copy=practice_list[:]\n",
        "practice_list, practice_list_copy\n",
        "practice_list_copy[0]= 12345\n",
        "practice_list, practice_list_copy"
      ],
      "metadata": {
        "colab": {
          "base_uri": "https://localhost:8080/"
        },
        "id": "zAduU4WhvMdW",
        "outputId": "e7959c9d-0e71-4883-e927-64eff528b342"
      },
      "execution_count": null,
      "outputs": [
        {
          "output_type": "execute_result",
          "data": {
            "text/plain": [
              "([1, 2, 3], [12345, 2, 3])"
            ]
          },
          "metadata": {},
          "execution_count": 27
        }
      ]
    },
    {
      "cell_type": "code",
      "source": [
        "not_copied = practice[:]\n",
        "not_copied [0, 0] = 12345\n",
        "practice , not_copied"
      ],
      "metadata": {
        "colab": {
          "base_uri": "https://localhost:8080/"
        },
        "id": "BdsVZqI_zz2E",
        "outputId": "bb1bbbd5-22be-4eff-a21a-cd513020b333"
      },
      "execution_count": null,
      "outputs": [
        {
          "output_type": "execute_result",
          "data": {
            "text/plain": [
              "(array([[12345,     1,     2,     3,     4,     5],\n",
              "        [    6,     7,     8,     9,    10,    11],\n",
              "        [   12,    13,    14,    15,    16,    17],\n",
              "        [   18,    19,    20,    21,    22,    23],\n",
              "        [   24,    25,    26,    27,    28,    29],\n",
              "        [   30,    31,    32,    33,    34,    35],\n",
              "        [   36,    37,    38,    39,    40,    41]]),\n",
              " array([[12345,     1,     2,     3,     4,     5],\n",
              "        [    6,     7,     8,     9,    10,    11],\n",
              "        [   12,    13,    14,    15,    16,    17],\n",
              "        [   18,    19,    20,    21,    22,    23],\n",
              "        [   24,    25,    26,    27,    28,    29],\n",
              "        [   30,    31,    32,    33,    34,    35],\n",
              "        [   36,    37,    38,    39,    40,    41]]))"
            ]
          },
          "metadata": {},
          "execution_count": 28
        }
      ]
    },
    {
      "cell_type": "code",
      "source": [
        "print(not_copied.base)"
      ],
      "metadata": {
        "colab": {
          "base_uri": "https://localhost:8080/"
        },
        "id": "XwCwM1G003NC",
        "outputId": "4a75de89-c5fb-40ec-c4ca-07341f2fb964"
      },
      "execution_count": null,
      "outputs": [
        {
          "output_type": "stream",
          "name": "stdout",
          "text": [
            "[[12345     1     2     3     4     5]\n",
            " [    6     7     8     9    10    11]\n",
            " [   12    13    14    15    16    17]\n",
            " [   18    19    20    21    22    23]\n",
            " [   24    25    26    27    28    29]\n",
            " [   30    31    32    33    34    35]\n",
            " [   36    37    38    39    40    41]]\n"
          ]
        }
      ]
    },
    {
      "cell_type": "code",
      "source": [
        "not_copied.base is practice"
      ],
      "metadata": {
        "colab": {
          "base_uri": "https://localhost:8080/"
        },
        "id": "uFu-lKed084O",
        "outputId": "124c742a-443d-4164-bf3a-3850d9c6786b"
      },
      "execution_count": null,
      "outputs": [
        {
          "output_type": "execute_result",
          "data": {
            "text/plain": [
              "True"
            ]
          },
          "metadata": {},
          "execution_count": 30
        }
      ]
    },
    {
      "cell_type": "markdown",
      "source": [
        "**Filter Array dengan Kondisi**"
      ],
      "metadata": {
        "id": "9BiHuSJl1oKe"
      }
    },
    {
      "cell_type": "code",
      "source": [
        "#mencari durasi belajar dibawah 1 jam\n",
        "fake_log < 60\n",
        "fake_log[fake_log <60]"
      ],
      "metadata": {
        "colab": {
          "base_uri": "https://localhost:8080/"
        },
        "id": "QWcUa3J81mAZ",
        "outputId": "0653c59e-8631-48cc-acd4-387565a2edc3"
      },
      "execution_count": null,
      "outputs": [
        {
          "output_type": "execute_result",
          "data": {
            "text/plain": [
              "array([35, 30, 42, 45, 59, 35, 35, 39, 56, 42, 43, 32, 36, 47, 46, 34, 53,\n",
              "       43, 59, 52, 51, 36, 35, 39, 34], dtype=uint16)"
            ]
          },
          "metadata": {},
          "execution_count": 31
        }
      ]
    },
    {
      "cell_type": "code",
      "source": [
        "results = []\n",
        "for value in fake_log:\n",
        "  if value < 60:\n",
        "    results.append(value)\n",
        "    \n",
        "np.array(results)"
      ],
      "metadata": {
        "colab": {
          "base_uri": "https://localhost:8080/"
        },
        "id": "qRtrJbVC2L3d",
        "outputId": "f3e4f5a5-5cef-4504-bb20-b585315c979a"
      },
      "execution_count": null,
      "outputs": [
        {
          "output_type": "execute_result",
          "data": {
            "text/plain": [
              "array([35, 30, 42, 45, 59, 35, 35, 39, 56, 42, 43, 32, 36, 47, 46, 34, 53,\n",
              "       43, 59, 52, 51, 36, 35, 39, 34], dtype=uint16)"
            ]
          },
          "metadata": {},
          "execution_count": 32
        }
      ]
    },
    {
      "cell_type": "code",
      "source": [
        "study_minutes = np.zeros(100, np.uint16)\n",
        "study_miniutes = np.append(study_minutes ,[fake_log])\n",
        "study_minutes"
      ],
      "metadata": {
        "colab": {
          "base_uri": "https://localhost:8080/"
        },
        "id": "0AJGg0Mt4Jgd",
        "outputId": "94062f33-1185-4e78-be55-d61bd23fac05"
      },
      "execution_count": null,
      "outputs": [
        {
          "output_type": "execute_result",
          "data": {
            "text/plain": [
              "array([0, 0, 0, 0, 0, 0, 0, 0, 0, 0, 0, 0, 0, 0, 0, 0, 0, 0, 0, 0, 0, 0,\n",
              "       0, 0, 0, 0, 0, 0, 0, 0, 0, 0, 0, 0, 0, 0, 0, 0, 0, 0, 0, 0, 0, 0,\n",
              "       0, 0, 0, 0, 0, 0, 0, 0, 0, 0, 0, 0, 0, 0, 0, 0, 0, 0, 0, 0, 0, 0,\n",
              "       0, 0, 0, 0, 0, 0, 0, 0, 0, 0, 0, 0, 0, 0, 0, 0, 0, 0, 0, 0, 0, 0,\n",
              "       0, 0, 0, 0, 0, 0, 0, 0, 0, 0, 0, 0], dtype=uint16)"
            ]
          },
          "metadata": {},
          "execution_count": 33
        }
      ]
    },
    {
      "cell_type": "code",
      "source": [
        "study_minutes[study_minutes < 60]\n",
        "study_minutes[(study_minutes< 60) & study_minutes > 0]"
      ],
      "metadata": {
        "colab": {
          "base_uri": "https://localhost:8080/"
        },
        "id": "UkCEqqb64qfg",
        "outputId": "e3553c2d-093e-4c52-91bc-49400f3c3d5c"
      },
      "execution_count": null,
      "outputs": [
        {
          "output_type": "execute_result",
          "data": {
            "text/plain": [
              "array([], dtype=uint16)"
            ]
          },
          "metadata": {},
          "execution_count": 34
        }
      ]
    },
    {
      "cell_type": "markdown",
      "source": [
        "**Aljabar Linear**"
      ],
      "metadata": {
        "id": "yvg4l2aq6n4J"
      }
    },
    {
      "cell_type": "code",
      "source": [
        "orders = np.array([\n",
        "    [2, 0, 0, 0],\n",
        "    [1, 0, 2, 4],\n",
        "    [1, 2, 1, 0],\n",
        "    [4, 6, 0, 2]\n",
        "])\n",
        "totals = np.array([20000, 32000 , 20000, 61000])\n",
        "prices = np.linalg.solve(orders , totals)\n",
        "prices"
      ],
      "metadata": {
        "colab": {
          "base_uri": "https://localhost:8080/"
        },
        "id": "L4ImL_0Z6uu2",
        "outputId": "87334526-f106-478d-d1b7-2d52f565d5a4"
      },
      "execution_count": null,
      "outputs": [
        {
          "output_type": "execute_result",
          "data": {
            "text/plain": [
              "array([10000.,  2500.,  5000.,  3000.])"
            ]
          },
          "metadata": {},
          "execution_count": 35
        }
      ]
    },
    {
      "cell_type": "code",
      "source": [
        "orders @ prices"
      ],
      "metadata": {
        "colab": {
          "base_uri": "https://localhost:8080/"
        },
        "id": "swS1ajKc8vzV",
        "outputId": "14367692-20eb-49b2-c0c3-081c15cb2d12"
      },
      "execution_count": null,
      "outputs": [
        {
          "output_type": "execute_result",
          "data": {
            "text/plain": [
              "array([20000., 32000., 20000., 61000.])"
            ]
          },
          "metadata": {},
          "execution_count": 36
        }
      ]
    },
    {
      "cell_type": "markdown",
      "source": [
        "**Fungsi Universal**"
      ],
      "metadata": {
        "id": "QMss1QG68onY"
      }
    },
    {
      "cell_type": "code",
      "source": [
        "a, b = np.split(np.arange(1,11), 2)\n",
        "a, b"
      ],
      "metadata": {
        "colab": {
          "base_uri": "https://localhost:8080/"
        },
        "id": "fneXJA-A8sN-",
        "outputId": "aa587029-71c4-4c81-e513-e37b60043119"
      },
      "execution_count": null,
      "outputs": [
        {
          "output_type": "execute_result",
          "data": {
            "text/plain": [
              "(array([1, 2, 3, 4, 5]), array([ 6,  7,  8,  9, 10]))"
            ]
          },
          "metadata": {},
          "execution_count": 37
        }
      ]
    },
    {
      "cell_type": "code",
      "source": [
        "a + b"
      ],
      "metadata": {
        "colab": {
          "base_uri": "https://localhost:8080/"
        },
        "id": "Ck5zbcJp9Ddf",
        "outputId": "f89f7645-8602-43dc-cb9a-a9c29b6edcd0"
      },
      "execution_count": null,
      "outputs": [
        {
          "output_type": "execute_result",
          "data": {
            "text/plain": [
              "array([ 7,  9, 11, 13, 15])"
            ]
          },
          "metadata": {},
          "execution_count": 38
        }
      ]
    },
    {
      "cell_type": "code",
      "source": [
        "a * b"
      ],
      "metadata": {
        "colab": {
          "base_uri": "https://localhost:8080/"
        },
        "id": "E4trXdLe9MNX",
        "outputId": "2e299a2e-57f0-41c4-cd8c-1a9734b9c9a8"
      },
      "execution_count": null,
      "outputs": [
        {
          "output_type": "execute_result",
          "data": {
            "text/plain": [
              "array([ 6, 14, 24, 36, 50])"
            ]
          },
          "metadata": {},
          "execution_count": 39
        }
      ]
    },
    {
      "cell_type": "code",
      "source": [
        "a - b"
      ],
      "metadata": {
        "colab": {
          "base_uri": "https://localhost:8080/"
        },
        "id": "4jvaWcX09XJE",
        "outputId": "e2ee9274-e2d9-49e3-9e33-6bea5779867e"
      },
      "execution_count": null,
      "outputs": [
        {
          "output_type": "execute_result",
          "data": {
            "text/plain": [
              "array([-5, -5, -5, -5, -5])"
            ]
          },
          "metadata": {},
          "execution_count": 40
        }
      ]
    },
    {
      "cell_type": "code",
      "source": [
        "b - a"
      ],
      "metadata": {
        "colab": {
          "base_uri": "https://localhost:8080/"
        },
        "id": "JtHNfre39Yr2",
        "outputId": "59eb227d-d796-4928-fc5b-286ccf50164a"
      },
      "execution_count": null,
      "outputs": [
        {
          "output_type": "execute_result",
          "data": {
            "text/plain": [
              "array([5, 5, 5, 5, 5])"
            ]
          },
          "metadata": {},
          "execution_count": 41
        }
      ]
    },
    {
      "cell_type": "code",
      "source": [
        "a + 3"
      ],
      "metadata": {
        "colab": {
          "base_uri": "https://localhost:8080/"
        },
        "id": "EHy7DWF19hPr",
        "outputId": "2d8b5389-ffa7-404e-bc95-44d0c2ada31b"
      },
      "execution_count": null,
      "outputs": [
        {
          "output_type": "execute_result",
          "data": {
            "text/plain": [
              "array([4, 5, 6, 7, 8])"
            ]
          },
          "metadata": {},
          "execution_count": 42
        }
      ]
    },
    {
      "cell_type": "code",
      "source": [
        "a + np.repeat(3, 5)"
      ],
      "metadata": {
        "colab": {
          "base_uri": "https://localhost:8080/"
        },
        "id": "Tog4-2ND9jHn",
        "outputId": "c0cf5d1c-2321-4955-b53f-fa899bb7b395"
      },
      "execution_count": null,
      "outputs": [
        {
          "output_type": "execute_result",
          "data": {
            "text/plain": [
              "array([4, 5, 6, 7, 8])"
            ]
          },
          "metadata": {},
          "execution_count": 43
        }
      ]
    },
    {
      "cell_type": "code",
      "source": [
        "x1 = np.arange(9.0).reshape((3, 3))\n",
        "x2 = np.arange(3.0)\n",
        "x1, x2"
      ],
      "metadata": {
        "colab": {
          "base_uri": "https://localhost:8080/"
        },
        "id": "hPH21hsp9tZw",
        "outputId": "8b787fe0-f3e0-4985-c11a-5915466bf00a"
      },
      "execution_count": null,
      "outputs": [
        {
          "output_type": "execute_result",
          "data": {
            "text/plain": [
              "(array([[0., 1., 2.],\n",
              "        [3., 4., 5.],\n",
              "        [6., 7., 8.]]), array([0., 1., 2.]))"
            ]
          },
          "metadata": {},
          "execution_count": 44
        }
      ]
    },
    {
      "cell_type": "code",
      "source": [
        "np.add(x1, x2)"
      ],
      "metadata": {
        "colab": {
          "base_uri": "https://localhost:8080/"
        },
        "id": "zWb1GyUb-hfm",
        "outputId": "8f2e35aa-b61a-43b6-e81c-76d80e728178"
      },
      "execution_count": null,
      "outputs": [
        {
          "output_type": "execute_result",
          "data": {
            "text/plain": [
              "array([[ 0.,  2.,  4.],\n",
              "       [ 3.,  5.,  7.],\n",
              "       [ 6.,  8., 10.]])"
            ]
          },
          "metadata": {},
          "execution_count": 45
        }
      ]
    },
    {
      "cell_type": "code",
      "source": [
        "np.add( x1 , 2)"
      ],
      "metadata": {
        "colab": {
          "base_uri": "https://localhost:8080/"
        },
        "id": "K2FE_RRL-ofl",
        "outputId": "1a5b5c67-c74d-4b2f-c909-a193fd0859b3"
      },
      "execution_count": null,
      "outputs": [
        {
          "output_type": "execute_result",
          "data": {
            "text/plain": [
              "array([[ 2.,  3.,  4.],\n",
              "       [ 5.,  6.,  7.],\n",
              "       [ 8.,  9., 10.]])"
            ]
          },
          "metadata": {},
          "execution_count": 46
        }
      ]
    },
    {
      "cell_type": "markdown",
      "source": [
        "**Operasi Matriks Lainya**"
      ],
      "metadata": {
        "id": "oCZzYcLf_LiJ"
      }
    },
    {
      "cell_type": "code",
      "source": [
        "study_less = study_minutes[(study_minutes < 60) & study_minutes > 0]\n",
        "print(study_less)\n",
        "np.add.reduce(study_less)"
      ],
      "metadata": {
        "colab": {
          "base_uri": "https://localhost:8080/"
        },
        "id": "9VS0pW-h-13-",
        "outputId": "3cc9e916-60d8-4bbb-d360-8a57b9b9a5f7"
      },
      "execution_count": null,
      "outputs": [
        {
          "output_type": "stream",
          "name": "stdout",
          "text": [
            "[]\n"
          ]
        },
        {
          "output_type": "execute_result",
          "data": {
            "text/plain": [
              "0"
            ]
          },
          "metadata": {},
          "execution_count": 47
        }
      ]
    },
    {
      "cell_type": "code",
      "source": [
        "np.sum(study_minutes)"
      ],
      "metadata": {
        "colab": {
          "base_uri": "https://localhost:8080/"
        },
        "id": "EaPVZkStAuzA",
        "outputId": "737baf29-799b-4f21-a903-5780844837e0"
      },
      "execution_count": null,
      "outputs": [
        {
          "output_type": "execute_result",
          "data": {
            "text/plain": [
              "0"
            ]
          },
          "metadata": {},
          "execution_count": 48
        }
      ]
    },
    {
      "cell_type": "markdown",
      "source": [
        "**Matplotlib**"
      ],
      "metadata": {
        "id": "5tYp10_ZIph_"
      }
    },
    {
      "cell_type": "code",
      "source": [
        "import matplotlib.pyplot as plt\n"
      ],
      "metadata": {
        "id": "CGRQe7D_Iry7"
      },
      "execution_count": null,
      "outputs": []
    },
    {
      "cell_type": "code",
      "source": [
        "study_minutes[study_minutes > 0]"
      ],
      "metadata": {
        "colab": {
          "base_uri": "https://localhost:8080/"
        },
        "id": "dnTMLz43I3Bi",
        "outputId": "2db969b7-9320-4eb6-e093-543ed7327cc1"
      },
      "execution_count": null,
      "outputs": [
        {
          "output_type": "execute_result",
          "data": {
            "text/plain": [
              "array([], dtype=uint16)"
            ]
          },
          "metadata": {},
          "execution_count": 50
        }
      ]
    },
    {
      "cell_type": "code",
      "source": [
        "plt.his(study_minutes[study_minutes > 0])\n",
        "plt.plot()"
      ],
      "metadata": {
        "colab": {
          "base_uri": "https://localhost:8080/",
          "height": 183
        },
        "id": "V_hL5TxvMG9B",
        "outputId": "3c2d2db5-6f4b-42f2-8e4c-7a9fbe65df81"
      },
      "execution_count": null,
      "outputs": [
        {
          "output_type": "error",
          "ename": "AttributeError",
          "evalue": "ignored",
          "traceback": [
            "\u001b[0;31m---------------------------------------------------------------------------\u001b[0m",
            "\u001b[0;31mAttributeError\u001b[0m                            Traceback (most recent call last)",
            "\u001b[0;32m<ipython-input-51-c527f7005fa4>\u001b[0m in \u001b[0;36m<module>\u001b[0;34m\u001b[0m\n\u001b[0;32m----> 1\u001b[0;31m \u001b[0mplt\u001b[0m\u001b[0;34m.\u001b[0m\u001b[0mhis\u001b[0m\u001b[0;34m(\u001b[0m\u001b[0mstudy_minutes\u001b[0m\u001b[0;34m[\u001b[0m\u001b[0mstudy_minutes\u001b[0m \u001b[0;34m>\u001b[0m \u001b[0;36m0\u001b[0m\u001b[0;34m]\u001b[0m\u001b[0;34m)\u001b[0m\u001b[0;34m\u001b[0m\u001b[0;34m\u001b[0m\u001b[0m\n\u001b[0m\u001b[1;32m      2\u001b[0m \u001b[0mplt\u001b[0m\u001b[0;34m.\u001b[0m\u001b[0mplot\u001b[0m\u001b[0;34m(\u001b[0m\u001b[0;34m)\u001b[0m\u001b[0;34m\u001b[0m\u001b[0;34m\u001b[0m\u001b[0m\n",
            "\u001b[0;31mAttributeError\u001b[0m: module 'matplotlib.pyplot' has no attribute 'his'"
          ]
        }
      ]
    }
  ]
}