{
  "nbformat": 4,
  "nbformat_minor": 0,
  "metadata": {
    "colab": {
      "provenance": [],
      "authorship_tag": "ABX9TyMSF0WMVKotqabAPELZUrkp",
      "include_colab_link": true
    },
    "kernelspec": {
      "name": "python3",
      "display_name": "Python 3"
    },
    "language_info": {
      "name": "python"
    }
  },
  "cells": [
    {
      "cell_type": "markdown",
      "metadata": {
        "id": "view-in-github",
        "colab_type": "text"
      },
      "source": [
        "<a href=\"https://colab.research.google.com/github/koriatul/pytn-ks-011/blob/main/Menguasai_python_tingkat_pemula.ipynb\" target=\"_parent\"><img src=\"https://colab.research.google.com/assets/colab-badge.svg\" alt=\"Open In Colab\"/></a>"
      ]
    },
    {
      "cell_type": "markdown",
      "source": [
        "**DATA STUCTURES**"
      ],
      "metadata": {
        "id": "p_Gh0hiHZyES"
      }
    },
    {
      "cell_type": "markdown",
      "source": [
        "LIST"
      ],
      "metadata": {
        "id": "cjtfFG7PZwa3"
      }
    },
    {
      "cell_type": "code",
      "source": [
        "#LIST\n",
        "my_list =[1 ,2 ,3]\n",
        "print(my_list)"
      ],
      "metadata": {
        "colab": {
          "base_uri": "https://localhost:8080/"
        },
        "id": "iaV12JnDZ1lv",
        "outputId": "ad4dc4cd-f235-4e22-d2b4-df0120a0d909"
      },
      "execution_count": null,
      "outputs": [
        {
          "output_type": "stream",
          "name": "stdout",
          "text": [
            "[1, 2, 3]\n"
          ]
        }
      ]
    },
    {
      "cell_type": "code",
      "source": [
        "my_list + [4, 5]"
      ],
      "metadata": {
        "colab": {
          "base_uri": "https://localhost:8080/"
        },
        "id": "0qywh_W4ahTP",
        "outputId": "b4389078-984a-4b94-bf8b-8d599899c03a"
      },
      "execution_count": null,
      "outputs": [
        {
          "output_type": "execute_result",
          "data": {
            "text/plain": [
              "[1, 2, 3, 4, 5]"
            ]
          },
          "metadata": {},
          "execution_count": 83
        }
      ]
    },
    {
      "cell_type": "code",
      "source": [
        "print(my_list * 2)"
      ],
      "metadata": {
        "colab": {
          "base_uri": "https://localhost:8080/"
        },
        "id": "I9XzCo31amel",
        "outputId": "8422e3d3-5088-4ee1-f749-cbbbef4ab748"
      },
      "execution_count": null,
      "outputs": [
        {
          "output_type": "stream",
          "name": "stdout",
          "text": [
            "[1, 2, 3, 1, 2, 3]\n"
          ]
        }
      ]
    },
    {
      "cell_type": "code",
      "source": [
        "#menmabahkan 1 data\n",
        "my_list.append(4)\n",
        "print(my_list)"
      ],
      "metadata": {
        "colab": {
          "base_uri": "https://localhost:8080/"
        },
        "id": "xun8JtAaa6OP",
        "outputId": "9293a8c1-f128-4cab-b5ff-69b101f6a77b"
      },
      "execution_count": null,
      "outputs": [
        {
          "output_type": "stream",
          "name": "stdout",
          "text": [
            "[1, 2, 3, 4]\n"
          ]
        }
      ]
    },
    {
      "cell_type": "code",
      "source": [
        "my_list.append([4,5])\n",
        "print(my_list)"
      ],
      "metadata": {
        "colab": {
          "base_uri": "https://localhost:8080/"
        },
        "id": "Cc8SGbGZdNyY",
        "outputId": "d6cb2f66-ab79-4bf3-c1d0-05e96a29bff3"
      },
      "execution_count": null,
      "outputs": [
        {
          "output_type": "stream",
          "name": "stdout",
          "text": [
            "[1, 2, 3, 4, [4, 5]]\n"
          ]
        }
      ]
    },
    {
      "cell_type": "code",
      "source": [
        "#menambah banyak data\n",
        "mylist = [1 , 2, 3]\n",
        "print(mylist)\n",
        "mylist.extend([4, 5, 6])\n",
        "print(mylist)"
      ],
      "metadata": {
        "colab": {
          "base_uri": "https://localhost:8080/"
        },
        "id": "TegboDEKbsIO",
        "outputId": "55b04435-5b2a-4eea-ba15-553c5a191e00"
      },
      "execution_count": null,
      "outputs": [
        {
          "output_type": "stream",
          "name": "stdout",
          "text": [
            "[1, 2, 3]\n",
            "[1, 2, 3, 4, 5, 6]\n"
          ]
        }
      ]
    },
    {
      "cell_type": "code",
      "source": [
        "#menghapus item\n",
        "mylist.remove(4)\n",
        "print(mylist)"
      ],
      "metadata": {
        "colab": {
          "base_uri": "https://localhost:8080/"
        },
        "id": "qg69zZUmcN0e",
        "outputId": "f1a94730-252e-4281-d823-3c6dd91e7b24"
      },
      "execution_count": null,
      "outputs": [
        {
          "output_type": "stream",
          "name": "stdout",
          "text": [
            "[1, 2, 3, 5, 6]\n"
          ]
        }
      ]
    },
    {
      "cell_type": "code",
      "source": [
        "#menghapus list dala list\n",
        "print(my_list)\n",
        "my_list.remove([4,5])\n",
        "print(my_list)"
      ],
      "metadata": {
        "colab": {
          "base_uri": "https://localhost:8080/"
        },
        "id": "NM2SzRsJcxVZ",
        "outputId": "3cba5711-456a-4028-b558-67b83b87ebd7"
      },
      "execution_count": null,
      "outputs": [
        {
          "output_type": "stream",
          "name": "stdout",
          "text": [
            "[1, 2, 3, 4, [4, 5]]\n",
            "[1, 2, 3, 4]\n"
          ]
        }
      ]
    },
    {
      "cell_type": "markdown",
      "source": [
        "Dictionaries"
      ],
      "metadata": {
        "id": "vvn9LAzdhElE"
      }
    },
    {
      "cell_type": "code",
      "source": [
        "student =dict(name='Billy', age= 38)\n",
        "print(student['name'])"
      ],
      "metadata": {
        "colab": {
          "base_uri": "https://localhost:8080/"
        },
        "outputId": "20c1f45e-2d92-4a34-95e5-38c8c3c7502f",
        "id": "mgbck2DIi-dv"
      },
      "execution_count": null,
      "outputs": [
        {
          "output_type": "stream",
          "name": "stdout",
          "text": [
            "Billy\n"
          ]
        }
      ]
    },
    {
      "cell_type": "code",
      "source": [
        "print(student['age'])"
      ],
      "metadata": {
        "colab": {
          "base_uri": "https://localhost:8080/"
        },
        "outputId": "77b3a17e-cb49-49e3-ee0d-0523c11f5866",
        "id": "F6qB6AZ6jLc2"
      },
      "execution_count": null,
      "outputs": [
        {
          "output_type": "stream",
          "name": "stdout",
          "text": [
            "38\n"
          ]
        }
      ]
    },
    {
      "cell_type": "code",
      "source": [
        "#menghapus data\n",
        "print(student)\n",
        "del student['age']\n",
        "print(student)"
      ],
      "metadata": {
        "colab": {
          "base_uri": "https://localhost:8080/"
        },
        "id": "IgGTOAO_jQXa",
        "outputId": "9147a2fa-a013-4ba2-9dc4-55f8973c798f"
      },
      "execution_count": null,
      "outputs": [
        {
          "output_type": "stream",
          "name": "stdout",
          "text": [
            "{'name': 'Billy', 'age': 38}\n",
            "{'name': 'Billy'}\n"
          ]
        }
      ]
    },
    {
      "cell_type": "code",
      "source": [
        "student ={'name':'Raka', 'age': 17}\n",
        "print(student.keys())"
      ],
      "metadata": {
        "colab": {
          "base_uri": "https://localhost:8080/"
        },
        "id": "9lZNH831kA_3",
        "outputId": "1269be8f-e020-47ae-c950-a68040db3da7"
      },
      "execution_count": null,
      "outputs": [
        {
          "output_type": "stream",
          "name": "stdout",
          "text": [
            "dict_keys(['name', 'age'])\n"
          ]
        }
      ]
    },
    {
      "cell_type": "code",
      "source": [
        "print(student.values())"
      ],
      "metadata": {
        "colab": {
          "base_uri": "https://localhost:8080/"
        },
        "id": "uvm9-axvlkWm",
        "outputId": "0159d2e7-360f-42de-d7a4-5bcfa0be20e7"
      },
      "execution_count": null,
      "outputs": [
        {
          "output_type": "stream",
          "name": "stdout",
          "text": [
            "dict_values(['Raka', 17])\n"
          ]
        }
      ]
    },
    {
      "cell_type": "markdown",
      "source": [
        "Tuple"
      ],
      "metadata": {
        "id": "guBRoQV-U3nD"
      }
    },
    {
      "cell_type": "code",
      "source": [
        "people = ('Raka',('Kode','random'))\n",
        "print(people)"
      ],
      "metadata": {
        "colab": {
          "base_uri": "https://localhost:8080/"
        },
        "id": "6CxQ8TzSU5LZ",
        "outputId": "22a0d9a9-627b-48f9-b868-fb374d2cd870"
      },
      "execution_count": null,
      "outputs": [
        {
          "output_type": "stream",
          "name": "stdout",
          "text": [
            "('Raka', ('Kode', 'random'))\n"
          ]
        }
      ]
    },
    {
      "cell_type": "code",
      "source": [
        "#mengakses informasi\n",
        "print(people[0])\n",
        "print(people[1])\n",
        "print(people[1][0])"
      ],
      "metadata": {
        "colab": {
          "base_uri": "https://localhost:8080/"
        },
        "id": "QE5I2Fu7VU80",
        "outputId": "ef2551c0-0f75-4730-8750-dd2dbaaefe38"
      },
      "execution_count": null,
      "outputs": [
        {
          "output_type": "stream",
          "name": "stdout",
          "text": [
            "Raka\n",
            "('Kode', 'random')\n",
            "Kode\n"
          ]
        }
      ]
    },
    {
      "cell_type": "code",
      "source": [
        "#tuple slicing\n",
        "numbers = (1 , 2 , 3 , 4)\n",
        "new_numbers = numbers[0], numbers[1:3]\n",
        "print(new_numbers)\n",
        "print(numbers)"
      ],
      "metadata": {
        "colab": {
          "base_uri": "https://localhost:8080/"
        },
        "id": "T7obuy7YVnBH",
        "outputId": "d2aed00c-00f3-4439-facb-be814cb07582"
      },
      "execution_count": null,
      "outputs": [
        {
          "output_type": "stream",
          "name": "stdout",
          "text": [
            "(1, (2, 3))\n",
            "(1, 2, 3, 4)\n"
          ]
        }
      ]
    },
    {
      "cell_type": "code",
      "source": [
        "#konversi\n",
        "email_attr = ('to','from','cc','bcc','subject','body')\n",
        "email_attr_list = list(email_attr)\n",
        "email_attr_list.sort()\n",
        "print(email_attr_list)"
      ],
      "metadata": {
        "colab": {
          "base_uri": "https://localhost:8080/",
          "height": 235
        },
        "id": "qYthsl5ocWfx",
        "outputId": "ef0c6858-8973-4c0d-9685-9a17bc8bde1c"
      },
      "execution_count": null,
      "outputs": [
        {
          "output_type": "error",
          "ename": "TypeError",
          "evalue": "ignored",
          "traceback": [
            "\u001b[0;31m---------------------------------------------------------------------------\u001b[0m",
            "\u001b[0;31mTypeError\u001b[0m                                 Traceback (most recent call last)",
            "\u001b[0;32m<ipython-input-154-631971bb653c>\u001b[0m in \u001b[0;36m<module>\u001b[0;34m\u001b[0m\n\u001b[1;32m      1\u001b[0m \u001b[0;31m#konversi\u001b[0m\u001b[0;34m\u001b[0m\u001b[0;34m\u001b[0m\u001b[0m\n\u001b[1;32m      2\u001b[0m \u001b[0memail_attr\u001b[0m \u001b[0;34m=\u001b[0m \u001b[0;34m(\u001b[0m\u001b[0;34m'to'\u001b[0m\u001b[0;34m,\u001b[0m\u001b[0;34m'from'\u001b[0m\u001b[0;34m,\u001b[0m\u001b[0;34m'cc'\u001b[0m\u001b[0;34m,\u001b[0m\u001b[0;34m'bcc'\u001b[0m\u001b[0;34m,\u001b[0m\u001b[0;34m'subject'\u001b[0m\u001b[0;34m,\u001b[0m\u001b[0;34m'body'\u001b[0m\u001b[0;34m)\u001b[0m\u001b[0;34m\u001b[0m\u001b[0;34m\u001b[0m\u001b[0m\n\u001b[0;32m----> 3\u001b[0;31m \u001b[0memail_attr_list\u001b[0m \u001b[0;34m=\u001b[0m \u001b[0mlist\u001b[0m\u001b[0;34m(\u001b[0m\u001b[0memail_attr\u001b[0m\u001b[0;34m)\u001b[0m\u001b[0;34m\u001b[0m\u001b[0;34m\u001b[0m\u001b[0m\n\u001b[0m\u001b[1;32m      4\u001b[0m \u001b[0memail_attr_list\u001b[0m\u001b[0;34m.\u001b[0m\u001b[0msort\u001b[0m\u001b[0;34m(\u001b[0m\u001b[0;34m)\u001b[0m\u001b[0;34m\u001b[0m\u001b[0;34m\u001b[0m\u001b[0m\n\u001b[1;32m      5\u001b[0m \u001b[0mprint\u001b[0m\u001b[0;34m(\u001b[0m\u001b[0memail_attr_list\u001b[0m\u001b[0;34m)\u001b[0m\u001b[0;34m\u001b[0m\u001b[0;34m\u001b[0m\u001b[0m\n",
            "\u001b[0;31mTypeError\u001b[0m: 'list' object is not callable"
          ]
        }
      ]
    },
    {
      "cell_type": "markdown",
      "source": [
        "Files"
      ],
      "metadata": {
        "id": "yOZL8uF0hh8z"
      }
    },
    {
      "cell_type": "code",
      "source": [
        "#membuka file\n",
        "myfile = open('teks.txt', 'w')\n",
        "myfile.write('halo text file!\\n')"
      ],
      "metadata": {
        "colab": {
          "base_uri": "https://localhost:8080/"
        },
        "id": "ImiXnjIuhja5",
        "outputId": "0b834baa-fcd5-4869-b922-b5f784a4aac4"
      },
      "execution_count": null,
      "outputs": [
        {
          "output_type": "execute_result",
          "data": {
            "text/plain": [
              "16"
            ]
          },
          "metadata": {},
          "execution_count": 139
        }
      ]
    },
    {
      "cell_type": "code",
      "source": [
        "myfile.write('selamat tinggal text file!\\n')"
      ],
      "metadata": {
        "colab": {
          "base_uri": "https://localhost:8080/"
        },
        "id": "MkGka7fBjXoY",
        "outputId": "74742564-318c-462f-d5da-99df86588554"
      },
      "execution_count": null,
      "outputs": [
        {
          "output_type": "execute_result",
          "data": {
            "text/plain": [
              "27"
            ]
          },
          "metadata": {},
          "execution_count": 143
        }
      ]
    },
    {
      "cell_type": "code",
      "source": [
        "myfile.close()"
      ],
      "metadata": {
        "id": "dQDcfGNmjboM"
      },
      "execution_count": null,
      "outputs": []
    },
    {
      "cell_type": "code",
      "source": [
        "#membaca file baris perbaris\n",
        "myfile = open('teks.txt')\n",
        "myfile.readline()"
      ],
      "metadata": {
        "colab": {
          "base_uri": "https://localhost:8080/",
          "height": 35
        },
        "id": "glT3DU6hjjFR",
        "outputId": "626ce0a5-1093-4406-ac09-13a533329800"
      },
      "execution_count": null,
      "outputs": [
        {
          "output_type": "execute_result",
          "data": {
            "text/plain": [
              "''"
            ],
            "application/vnd.google.colaboratory.intrinsic+json": {
              "type": "string"
            }
          },
          "metadata": {},
          "execution_count": 152
        }
      ]
    },
    {
      "cell_type": "code",
      "source": [
        "myfile.readline()"
      ],
      "metadata": {
        "colab": {
          "base_uri": "https://localhost:8080/",
          "height": 35
        },
        "id": "ZgfiHGi0j7fV",
        "outputId": "e0a24213-4f37-4041-b136-46625ca97088"
      },
      "execution_count": null,
      "outputs": [
        {
          "output_type": "execute_result",
          "data": {
            "text/plain": [
              "'halo text file!\\n'"
            ],
            "application/vnd.google.colaboratory.intrinsic+json": {
              "type": "string"
            }
          },
          "metadata": {},
          "execution_count": 153
        }
      ]
    },
    {
      "cell_type": "code",
      "source": [
        "open('teks.txt').read()"
      ],
      "metadata": {
        "colab": {
          "base_uri": "https://localhost:8080/",
          "height": 35
        },
        "id": "hulORDTcj-8j",
        "outputId": "dcb53078-a8f5-4578-d01f-8ae1affb188d"
      },
      "execution_count": null,
      "outputs": [
        {
          "output_type": "execute_result",
          "data": {
            "text/plain": [
              "''"
            ],
            "application/vnd.google.colaboratory.intrinsic+json": {
              "type": "string"
            }
          },
          "metadata": {},
          "execution_count": 134
        }
      ]
    },
    {
      "cell_type": "code",
      "source": [
        "print(open('teks.txt').read())"
      ],
      "metadata": {
        "colab": {
          "base_uri": "https://localhost:8080/"
        },
        "id": "hDbIU-o6kiTp",
        "outputId": "11bdb306-593b-4ed8-f51c-25679b84c35c"
      },
      "execution_count": null,
      "outputs": [
        {
          "output_type": "stream",
          "name": "stdout",
          "text": [
            "\n"
          ]
        }
      ]
    },
    {
      "cell_type": "code",
      "source": [
        "x , y , z = 43 , 44 , 45\n",
        "message ='spam'\n",
        "data = {'a': 1 , 'b': 2}\n",
        "list = [1 , 2 , 3 , 4 ]\n",
        "file = open('teks.txt' , 'w')\n",
        "file.write(message + '\\n')\n"
      ],
      "metadata": {
        "colab": {
          "base_uri": "https://localhost:8080/"
        },
        "id": "e93EIaFqlXrI",
        "outputId": "0541ea66-5195-455b-b086-26f3df79503a"
      },
      "execution_count": null,
      "outputs": [
        {
          "output_type": "execute_result",
          "data": {
            "text/plain": [
              "5"
            ]
          },
          "metadata": {},
          "execution_count": 130
        }
      ]
    },
    {
      "cell_type": "code",
      "source": [
        "file.write('%s, %s, %s\\n' % (x, y ,z))"
      ],
      "metadata": {
        "colab": {
          "base_uri": "https://localhost:8080/"
        },
        "id": "Q5xQ6VVFnu05",
        "outputId": "46e99b7a-d322-4eb9-ba8f-ec32875eea20"
      },
      "execution_count": null,
      "outputs": [
        {
          "output_type": "execute_result",
          "data": {
            "text/plain": [
              "11"
            ]
          },
          "metadata": {},
          "execution_count": 131
        }
      ]
    },
    {
      "cell_type": "code",
      "source": [
        "#konversi data\n",
        "file.write(str(list) + '$' + str(data) + '\\n')"
      ],
      "metadata": {
        "colab": {
          "base_uri": "https://localhost:8080/"
        },
        "id": "qH--g0ZLowVR",
        "outputId": "61e56f84-01f7-414c-f7cb-fe3dacd98472"
      },
      "execution_count": null,
      "outputs": [
        {
          "output_type": "execute_result",
          "data": {
            "text/plain": [
              "30"
            ]
          },
          "metadata": {},
          "execution_count": 132
        }
      ]
    },
    {
      "cell_type": "code",
      "source": [
        "file.close()"
      ],
      "metadata": {
        "id": "tRXZdlsLpe5E"
      },
      "execution_count": null,
      "outputs": []
    },
    {
      "cell_type": "markdown",
      "source": [
        "**Loop & Iterators**"
      ],
      "metadata": {
        "id": "9hyY6hIB7djb"
      }
    },
    {
      "cell_type": "markdown",
      "source": [
        "while loop"
      ],
      "metadata": {
        "id": "Wu3nqsZ67g_Z"
      }
    },
    {
      "cell_type": "code",
      "source": [
        "message = \"spam\"\n",
        "while message != '':\n",
        "  print(message, end=' ')\n",
        "  message = message[1:]"
      ],
      "metadata": {
        "colab": {
          "base_uri": "https://localhost:8080/"
        },
        "id": "Xp13w6lS7i8q",
        "outputId": "509acb44-66ca-48dc-efd6-4be6c6bf1d65"
      },
      "execution_count": null,
      "outputs": [
        {
          "output_type": "stream",
          "name": "stdout",
          "text": [
            "spam pam am m "
          ]
        }
      ]
    },
    {
      "cell_type": "code",
      "source": [
        "a = 0\n",
        "b = 13\n",
        "while a < b:\n",
        "  print(a, end=' ')\n",
        "  a = a + 1"
      ],
      "metadata": {
        "colab": {
          "base_uri": "https://localhost:8080/"
        },
        "id": "0SoyLg4s9zEq",
        "outputId": "b5d1f16a-d0a8-44eb-8b50-b6b054720dfb"
      },
      "execution_count": null,
      "outputs": [
        {
          "output_type": "stream",
          "name": "stdout",
          "text": [
            "0 1 2 3 4 5 6 7 8 9 10 11 12 "
          ]
        }
      ]
    },
    {
      "cell_type": "code",
      "source": [
        "while True:\n",
        "  name = input('Enter name:')\n",
        "  if name == 'stop' : break\n",
        "  age = input('Enter age:')\n",
        "  print('Hello', name, '=>', int(age) **2 )\n"
      ],
      "metadata": {
        "id": "K5exDv3u-uZE",
        "colab": {
          "base_uri": "https://localhost:8080/"
        },
        "outputId": "0a000f36-b82c-4410-c5b7-dd3930c599c9"
      },
      "execution_count": null,
      "outputs": [
        {
          "name": "stdout",
          "output_type": "stream",
          "text": [
            "Enter name:raka\n",
            "Enter age:17\n",
            "Hello raka => 289\n",
            "Enter name:stop\n"
          ]
        }
      ]
    },
    {
      "cell_type": "markdown",
      "source": [
        "For Loop"
      ],
      "metadata": {
        "id": "YspCf2FvEgC2"
      }
    },
    {
      "cell_type": "code",
      "source": [
        "for word in ['raka','billy', 'kode']:\n",
        "  print(word , end='\\n')"
      ],
      "metadata": {
        "colab": {
          "base_uri": "https://localhost:8080/"
        },
        "id": "EqswQptYDVuX",
        "outputId": "83e01b6e-aeab-47d6-a7fe-0706c70caacb"
      },
      "execution_count": null,
      "outputs": [
        {
          "output_type": "stream",
          "name": "stdout",
          "text": [
            "raka\n",
            "billy\n",
            "kode\n"
          ]
        }
      ]
    },
    {
      "cell_type": "code",
      "source": [
        "sum = 0\n",
        "for i in [1,2,3,4]:\n",
        "  sum = sum + i"
      ],
      "metadata": {
        "id": "L-kFeSWvE7UL"
      },
      "execution_count": null,
      "outputs": []
    },
    {
      "cell_type": "code",
      "source": [
        "sum"
      ],
      "metadata": {
        "colab": {
          "base_uri": "https://localhost:8080/"
        },
        "id": "UXgEnUjHHP5Z",
        "outputId": "d75ce8f5-2978-4ee2-88de-ce9baee72c6b"
      },
      "execution_count": null,
      "outputs": [
        {
          "output_type": "execute_result",
          "data": {
            "text/plain": [
              "10"
            ]
          },
          "metadata": {},
          "execution_count": 121
        }
      ]
    },
    {
      "cell_type": "code",
      "source": [
        "prod = 1\n",
        "for item in [1,2,3,4]: prod *=item"
      ],
      "metadata": {
        "id": "YUEobW18HYPR"
      },
      "execution_count": null,
      "outputs": []
    },
    {
      "cell_type": "code",
      "source": [
        "prod"
      ],
      "metadata": {
        "colab": {
          "base_uri": "https://localhost:8080/"
        },
        "id": "-BQd4Fa6IDho",
        "outputId": "b76f5323-5aad-426f-d023-639d31bcb38c"
      },
      "execution_count": null,
      "outputs": [
        {
          "output_type": "execute_result",
          "data": {
            "text/plain": [
              "24"
            ]
          },
          "metadata": {},
          "execution_count": 119
        }
      ]
    },
    {
      "cell_type": "code",
      "source": [
        "text = 'foxyfox'\n",
        "words = ('is', 'great', 'animal')\n",
        "for chara in text: print(chara, end=' ')"
      ],
      "metadata": {
        "colab": {
          "base_uri": "https://localhost:8080/"
        },
        "id": "qFqNuBVdIcE4",
        "outputId": "3c5094f5-7e71-4c7b-e0f6-eb00f54991b1"
      },
      "execution_count": null,
      "outputs": [
        {
          "output_type": "stream",
          "name": "stdout",
          "text": [
            "f o x y f o x "
          ]
        }
      ]
    },
    {
      "cell_type": "code",
      "source": [
        "for word in words : print(word , end='...')"
      ],
      "metadata": {
        "colab": {
          "base_uri": "https://localhost:8080/"
        },
        "id": "HoXFKJjRI1Hz",
        "outputId": "275d5eb2-bcc2-4e1e-b1b6-8a7f5b47d519"
      },
      "execution_count": null,
      "outputs": [
        {
          "output_type": "stream",
          "name": "stdout",
          "text": [
            "is...great...animal..."
          ]
        }
      ]
    },
    {
      "cell_type": "code",
      "source": [
        "coor = [(1,2) , (3,4) , (5,6)]\n",
        "for (x,y) in coor: print(x,y)"
      ],
      "metadata": {
        "colab": {
          "base_uri": "https://localhost:8080/"
        },
        "id": "CGcvKKRGJUKw",
        "outputId": "409b2371-9fa5-4cc8-8bf5-06f042be96b7"
      },
      "execution_count": null,
      "outputs": [
        {
          "output_type": "stream",
          "name": "stdout",
          "text": [
            "1 2\n",
            "3 4\n",
            "5 6\n"
          ]
        }
      ]
    },
    {
      "cell_type": "code",
      "source": [
        "x = 0\n",
        "while (x < 100):\n",
        "  x+=2\n",
        "  print(x)"
      ],
      "metadata": {
        "colab": {
          "base_uri": "https://localhost:8080/"
        },
        "id": "jHv6bW4GKmLL",
        "outputId": "1c987a27-e81d-44e9-fff3-6f91d1595a4f"
      },
      "execution_count": null,
      "outputs": [
        {
          "output_type": "stream",
          "name": "stdout",
          "text": [
            "2\n",
            "4\n",
            "6\n",
            "8\n",
            "10\n",
            "12\n",
            "14\n",
            "16\n",
            "18\n",
            "20\n",
            "22\n",
            "24\n",
            "26\n",
            "28\n",
            "30\n",
            "32\n",
            "34\n",
            "36\n",
            "38\n",
            "40\n",
            "42\n",
            "44\n",
            "46\n",
            "48\n",
            "50\n",
            "52\n",
            "54\n",
            "56\n",
            "58\n",
            "60\n",
            "62\n",
            "64\n",
            "66\n",
            "68\n",
            "70\n",
            "72\n",
            "74\n",
            "76\n",
            "78\n",
            "80\n",
            "82\n",
            "84\n",
            "86\n",
            "88\n",
            "90\n",
            "92\n",
            "94\n",
            "96\n",
            "98\n",
            "100\n"
          ]
        }
      ]
    },
    {
      "cell_type": "markdown",
      "source": [
        "**Branching in python**"
      ],
      "metadata": {
        "id": "6k42yEK0MCbv"
      }
    },
    {
      "cell_type": "markdown",
      "source": [
        "if statement"
      ],
      "metadata": {
        "id": "ZIwKk7YgMFon"
      }
    },
    {
      "cell_type": "code",
      "source": [
        "if 1:\n",
        "  print('True')"
      ],
      "metadata": {
        "colab": {
          "base_uri": "https://localhost:8080/"
        },
        "id": "ZciysJgcMIEu",
        "outputId": "09629c74-67ce-44b4-f5f1-ee77321b9e92"
      },
      "execution_count": null,
      "outputs": [
        {
          "output_type": "stream",
          "name": "stdout",
          "text": [
            "True\n"
          ]
        }
      ]
    },
    {
      "cell_type": "code",
      "source": [
        "if not 1:\n",
        "  print('True')\n",
        "else:\n",
        "    print('False')"
      ],
      "metadata": {
        "colab": {
          "base_uri": "https://localhost:8080/"
        },
        "id": "tlrIHIVOMLhU",
        "outputId": "cb7f4184-d0ed-4847-afcf-698464d412a6"
      },
      "execution_count": null,
      "outputs": [
        {
          "output_type": "stream",
          "name": "stdout",
          "text": [
            "False\n"
          ]
        }
      ]
    },
    {
      "cell_type": "code",
      "source": [
        "#percabangan ganda\n",
        "age = input('enter your age: ')\n",
        "if int (age) * 365 > 2000:\n",
        "  print('time to retire!')\n",
        "elif int (age) * 365 > 10000:\n",
        "    print('lots of time left!')\n",
        "else:\n",
        "      print('time to get started!')"
      ],
      "metadata": {
        "colab": {
          "base_uri": "https://localhost:8080/"
        },
        "id": "Q7MqczjcMoZb",
        "outputId": "85148682-abd6-44ca-b28a-38f69f2d97dc"
      },
      "execution_count": null,
      "outputs": [
        {
          "output_type": "stream",
          "name": "stdout",
          "text": [
            "enter your age: 26\n",
            "time to retire!\n"
          ]
        }
      ]
    },
    {
      "cell_type": "code",
      "source": [
        "user_age = input('enter your age : ')\n",
        "age = int(user_age) * 365 \n",
        "if age >= 9490:\n",
        "  print('you are a jedi master now . go learn from master yoda!! ')\n",
        "elif age>= 8395 and age < 9490:\n",
        "    print('becoming jedi knight')\n",
        "else:\n",
        "      print('you are a young padawan')"
      ],
      "metadata": {
        "colab": {
          "base_uri": "https://localhost:8080/"
        },
        "id": "_PeoOjIMO1wu",
        "outputId": "0011b97f-d6a4-4ba6-9a8d-a65abb16baf0"
      },
      "execution_count": null,
      "outputs": [
        {
          "output_type": "stream",
          "name": "stdout",
          "text": [
            "enter your age : 33\n",
            "you are a jedi master now . go learn from master yoda!! \n"
          ]
        }
      ]
    },
    {
      "cell_type": "markdown",
      "source": [
        "**Function & Package**"
      ],
      "metadata": {
        "id": "_b1rCTLoiFbP"
      }
    },
    {
      "cell_type": "markdown",
      "source": [
        "function"
      ],
      "metadata": {
        "id": "yl_49AQxiLqd"
      }
    },
    {
      "cell_type": "code",
      "source": [
        "def add(a , b):\n",
        "  return a + b"
      ],
      "metadata": {
        "id": "p8HBAv6AUJPm"
      },
      "execution_count": null,
      "outputs": []
    },
    {
      "cell_type": "code",
      "source": [
        "add(5,4)"
      ],
      "metadata": {
        "colab": {
          "base_uri": "https://localhost:8080/"
        },
        "id": "JS0I0SuMi3QR",
        "outputId": "20e24fbe-82d3-43aa-b619-0841507dbbdf"
      },
      "execution_count": null,
      "outputs": [
        {
          "output_type": "execute_result",
          "data": {
            "text/plain": [
              "9"
            ]
          },
          "metadata": {},
          "execution_count": 109
        }
      ]
    },
    {
      "cell_type": "code",
      "source": [
        "add_things = add (10,4)\n",
        "print(add_things)"
      ],
      "metadata": {
        "colab": {
          "base_uri": "https://localhost:8080/"
        },
        "id": "duK8BOn2i8h7",
        "outputId": "2961680b-5f36-41b1-ed33-8ee83cd63a02"
      },
      "execution_count": null,
      "outputs": [
        {
          "output_type": "stream",
          "name": "stdout",
          "text": [
            "14\n"
          ]
        }
      ]
    },
    {
      "cell_type": "code",
      "source": [
        "def add_and_print(a , b):\n",
        "  print(a + b)"
      ],
      "metadata": {
        "id": "iOIx1o7tjV6a"
      },
      "execution_count": null,
      "outputs": []
    },
    {
      "cell_type": "code",
      "source": [
        "add_and_print(1,3)"
      ],
      "metadata": {
        "colab": {
          "base_uri": "https://localhost:8080/"
        },
        "id": "N04mkn_bjlfy",
        "outputId": "5c54882a-2004-480c-b65f-976bc3469b99"
      },
      "execution_count": null,
      "outputs": [
        {
          "output_type": "stream",
          "name": "stdout",
          "text": [
            "4\n"
          ]
        }
      ]
    },
    {
      "cell_type": "code",
      "source": [
        "x = add_and_print(5,3)"
      ],
      "metadata": {
        "colab": {
          "base_uri": "https://localhost:8080/"
        },
        "id": "yRnyJRW5juML",
        "outputId": "db106b2e-6d81-4fcd-a2d2-d5ee19bad701"
      },
      "execution_count": null,
      "outputs": [
        {
          "output_type": "stream",
          "name": "stdout",
          "text": [
            "8\n"
          ]
        }
      ]
    },
    {
      "cell_type": "code",
      "source": [
        "print(x)"
      ],
      "metadata": {
        "colab": {
          "base_uri": "https://localhost:8080/"
        },
        "id": "FxESyiq3j1ur",
        "outputId": "3e6f30dd-331e-4f35-92f4-fc0dc16523d4"
      },
      "execution_count": null,
      "outputs": [
        {
          "output_type": "stream",
          "name": "stdout",
          "text": [
            "None\n"
          ]
        }
      ]
    },
    {
      "cell_type": "code",
      "source": [
        "def intersection(first_word , second_word):\n",
        "  result = []\n",
        "  for x in first_word:\n",
        "    if x in second_word:\n",
        "      result.append(x)\n",
        "      return result"
      ],
      "metadata": {
        "id": "SirEEn1cj5s8"
      },
      "execution_count": null,
      "outputs": []
    },
    {
      "cell_type": "code",
      "source": [
        "word1 = 'spam'\n",
        "word2 = 'scam'\n",
        "char_of_intersect = intersection(word1 , word2)\n",
        "print(char_of_intersect)"
      ],
      "metadata": {
        "colab": {
          "base_uri": "https://localhost:8080/"
        },
        "id": "sv68gihWkskI",
        "outputId": "190eed38-0feb-4fcd-e072-d5e3be1b82e1"
      },
      "execution_count": null,
      "outputs": [
        {
          "output_type": "stream",
          "name": "stdout",
          "text": [
            "['s']\n"
          ]
        }
      ]
    },
    {
      "cell_type": "markdown",
      "source": [
        "built in function"
      ],
      "metadata": {
        "id": "75aSLBaol4XZ"
      }
    },
    {
      "cell_type": "code",
      "source": [
        "#menampilkan nilai absolut\n",
        "print(abs(-123))"
      ],
      "metadata": {
        "colab": {
          "base_uri": "https://localhost:8080/"
        },
        "id": "9Y7PyHzKlMcq",
        "outputId": "963b078b-abf4-46b2-c533-86a5289755c1"
      },
      "execution_count": null,
      "outputs": [
        {
          "output_type": "stream",
          "name": "stdout",
          "text": [
            "123\n"
          ]
        }
      ]
    },
    {
      "cell_type": "code",
      "source": [
        "numbers = 222\n",
        "print(isinstance(numbers, int))"
      ],
      "metadata": {
        "colab": {
          "base_uri": "https://localhost:8080/"
        },
        "id": "4mwHQxkZmWvk",
        "outputId": "49eceb83-67f1-474e-d516-59eedb5abd7d"
      },
      "execution_count": null,
      "outputs": [
        {
          "output_type": "stream",
          "name": "stdout",
          "text": [
            "True\n"
          ]
        }
      ]
    },
    {
      "cell_type": "code",
      "source": [
        "numbers = 222\n",
        "print(isinstance(numbers, dict))"
      ],
      "metadata": {
        "colab": {
          "base_uri": "https://localhost:8080/"
        },
        "id": "0jjrbp6ToUn5",
        "outputId": "faae43dc-933e-4e0e-9151-d4bc236397a3"
      },
      "execution_count": null,
      "outputs": [
        {
          "output_type": "stream",
          "name": "stdout",
          "text": [
            "False\n"
          ]
        }
      ]
    },
    {
      "cell_type": "code",
      "source": [
        "numbers = [1,2,3,4,5,6]\n",
        "print(max(numbers))\n",
        "print(min(numbers))"
      ],
      "metadata": {
        "colab": {
          "base_uri": "https://localhost:8080/"
        },
        "id": "wJ6O1Vfyol9S",
        "outputId": "4ee915b6-4a77-401f-c4bf-ccf8fcee9128"
      },
      "execution_count": null,
      "outputs": [
        {
          "output_type": "stream",
          "name": "stdout",
          "text": [
            "6\n",
            "1\n"
          ]
        }
      ]
    },
    {
      "cell_type": "code",
      "source": [
        "alphas = ['a' , 'b' , 'z']\n",
        "print(max(alphas))\n",
        "print(min(alphas))"
      ],
      "metadata": {
        "colab": {
          "base_uri": "https://localhost:8080/"
        },
        "id": "SDu4U86rpJ65",
        "outputId": "866ec642-80cb-4aee-fe62-124b38ff2d0d"
      },
      "execution_count": null,
      "outputs": [
        {
          "output_type": "stream",
          "name": "stdout",
          "text": [
            "z\n",
            "a\n"
          ]
        }
      ]
    },
    {
      "cell_type": "code",
      "source": [
        "languages = ['py','js','go','c']\n",
        "print(languages.index('go'))"
      ],
      "metadata": {
        "id": "Ym7t0RJdpZ-f",
        "colab": {
          "base_uri": "https://localhost:8080/"
        },
        "outputId": "e6e01aee-71a9-494f-baf5-57c2951e5e82"
      },
      "execution_count": null,
      "outputs": [
        {
          "output_type": "stream",
          "name": "stdout",
          "text": [
            "2\n"
          ]
        }
      ]
    },
    {
      "cell_type": "code",
      "source": [
        "languages.sort()\n",
        "print(languages)"
      ],
      "metadata": {
        "colab": {
          "base_uri": "https://localhost:8080/"
        },
        "id": "PmhLl1oiwVVS",
        "outputId": "89efb532-ed5d-4f67-d84a-e58656e5733e"
      },
      "execution_count": null,
      "outputs": [
        {
          "output_type": "stream",
          "name": "stdout",
          "text": [
            "['c', 'go', 'js', 'py']\n"
          ]
        }
      ]
    },
    {
      "cell_type": "code",
      "source": [
        "name ='raka'\n",
        "print(name)\n",
        "name.replace('k','c')\n",
        "name.capitalize()"
      ],
      "metadata": {
        "colab": {
          "base_uri": "https://localhost:8080/",
          "height": 53
        },
        "id": "vCdLtlL_waWP",
        "outputId": "f301f381-d930-4ed6-d31b-455fb325ee7f"
      },
      "execution_count": null,
      "outputs": [
        {
          "output_type": "stream",
          "name": "stdout",
          "text": [
            "raka\n"
          ]
        },
        {
          "output_type": "execute_result",
          "data": {
            "text/plain": [
              "'Raka'"
            ],
            "application/vnd.google.colaboratory.intrinsic+json": {
              "type": "string"
            }
          },
          "metadata": {},
          "execution_count": 4
        }
      ]
    },
    {
      "cell_type": "code",
      "source": [
        "import math\n",
        "print(math.factorial(3))"
      ],
      "metadata": {
        "colab": {
          "base_uri": "https://localhost:8080/"
        },
        "id": "kvft90-Mw00E",
        "outputId": "1bf0f075-37f2-4e56-eb85-966aadc12b8c"
      },
      "execution_count": null,
      "outputs": [
        {
          "output_type": "stream",
          "name": "stdout",
          "text": [
            "6\n"
          ]
        }
      ]
    },
    {
      "cell_type": "code",
      "source": [
        "import requests"
      ],
      "metadata": {
        "id": "fm9zI-F0x7pb"
      },
      "execution_count": null,
      "outputs": []
    },
    {
      "cell_type": "code",
      "source": [
        "r = requests.get('https://api.github.com/event')\n",
        "print(r)"
      ],
      "metadata": {
        "colab": {
          "base_uri": "https://localhost:8080/"
        },
        "id": "u4DbgZPaxtvm",
        "outputId": "1c41cf23-38b6-4fae-f1b0-0c96909d300b"
      },
      "execution_count": null,
      "outputs": [
        {
          "output_type": "stream",
          "name": "stdout",
          "text": [
            "<Response [404]>\n"
          ]
        }
      ]
    },
    {
      "cell_type": "code",
      "source": [
        "def outerfun (a ,b):\n",
        "  def innerFun (c, d):\n",
        "    return c + d\n",
        "  return innerFun(a, b)\n",
        "  res = outer\n",
        "  Fun (5,10) \n",
        "  print(res)"
      ],
      "metadata": {
        "id": "RK3fDpScxFQS"
      },
      "execution_count": null,
      "outputs": []
    },
    {
      "cell_type": "markdown",
      "source": [
        "**Bonus Chapter**"
      ],
      "metadata": {
        "id": "atULP4JoNBi-"
      }
    },
    {
      "cell_type": "markdown",
      "source": [
        "Pengenalan NumPy"
      ],
      "metadata": {
        "id": "bPSK8oKnNEXv"
      }
    },
    {
      "cell_type": "code",
      "source": [
        "import numpy as np"
      ],
      "metadata": {
        "id": "U82sV9LDNGcO"
      },
      "execution_count": null,
      "outputs": []
    },
    {
      "cell_type": "code",
      "source": [
        "height = [1.75,1.68,1.8,1.81,1.69]\n",
        "weight = [66.4,49.22,66.3,88.56,65.4]\n",
        "np_height = np.array(height)\n",
        "np_weight = np.array(weight)\n",
        "bmi = np_weight/np_height ** 2\n",
        "print(bmi)"
      ],
      "metadata": {
        "colab": {
          "base_uri": "https://localhost:8080/"
        },
        "id": "qF4A9HB2NKiU",
        "outputId": "efddb11b-d561-4d70-ebc2-e97ee9cbebba"
      },
      "execution_count": null,
      "outputs": [
        {
          "output_type": "stream",
          "name": "stdout",
          "text": [
            "[21.68163265 17.43905896 20.46296296 27.03214188 22.8983579 ]\n"
          ]
        }
      ]
    },
    {
      "cell_type": "code",
      "source": [
        "mixed_array = np.array([1.0, 'is', True])\n",
        "print(mixed_array)"
      ],
      "metadata": {
        "colab": {
          "base_uri": "https://localhost:8080/"
        },
        "id": "hVD4OuQ9Ola1",
        "outputId": "908c6b80-6411-4454-c8b9-77377bc9c8ae"
      },
      "execution_count": null,
      "outputs": [
        {
          "output_type": "stream",
          "name": "stdout",
          "text": [
            "['1.0' 'is' 'True']\n"
          ]
        }
      ]
    },
    {
      "cell_type": "code",
      "source": [
        "numlist =[1,2,3]\n",
        "nparray = np.array([1,2,3])\n",
        "numlist + numlist"
      ],
      "metadata": {
        "colab": {
          "base_uri": "https://localhost:8080/"
        },
        "id": "_YCQ_VO8PYv0",
        "outputId": "cdfc719f-7019-4954-b5d8-ad3334aa7a5c"
      },
      "execution_count": null,
      "outputs": [
        {
          "output_type": "execute_result",
          "data": {
            "text/plain": [
              "[1, 2, 3, 1, 2, 3]"
            ]
          },
          "metadata": {},
          "execution_count": 38
        }
      ]
    },
    {
      "cell_type": "code",
      "source": [
        "bmi"
      ],
      "metadata": {
        "colab": {
          "base_uri": "https://localhost:8080/"
        },
        "id": "PQ5z4YjlPyWM",
        "outputId": "fe7026c5-eb6c-4c03-846f-f719cac192a2"
      },
      "execution_count": null,
      "outputs": [
        {
          "output_type": "execute_result",
          "data": {
            "text/plain": [
              "array([21.68163265, 17.43905896, 20.46296296, 27.03214188, 22.8983579 ])"
            ]
          },
          "metadata": {},
          "execution_count": 39
        }
      ]
    },
    {
      "cell_type": "code",
      "source": [
        "bmi > 24"
      ],
      "metadata": {
        "colab": {
          "base_uri": "https://localhost:8080/"
        },
        "id": "Mmef8kljP93Y",
        "outputId": "c1df8556-05f2-4c5e-e5e1-37bd3e4ef647"
      },
      "execution_count": null,
      "outputs": [
        {
          "output_type": "execute_result",
          "data": {
            "text/plain": [
              "array([False, False, False,  True, False])"
            ]
          },
          "metadata": {},
          "execution_count": 43
        }
      ]
    },
    {
      "cell_type": "code",
      "source": [],
      "metadata": {
        "id": "hk07TkbQQTNX"
      },
      "execution_count": null,
      "outputs": []
    },
    {
      "cell_type": "code",
      "source": [
        "bmi[bmi > 24]"
      ],
      "metadata": {
        "colab": {
          "base_uri": "https://localhost:8080/"
        },
        "id": "MErdZz5XQQpW",
        "outputId": "5f44d989-2164-446e-cef5-284ac201d76f"
      },
      "execution_count": null,
      "outputs": [
        {
          "output_type": "execute_result",
          "data": {
            "text/plain": [
              "array([27.03214188])"
            ]
          },
          "metadata": {},
          "execution_count": 42
        }
      ]
    },
    {
      "cell_type": "markdown",
      "source": [
        "statistik dasar dengan NumPy"
      ],
      "metadata": {
        "id": "GucTXiSyQY_0"
      }
    },
    {
      "cell_type": "code",
      "source": [
        "height = np.round(np.random.normal(1.75,0.2,5000), 2)\n",
        "height"
      ],
      "metadata": {
        "colab": {
          "base_uri": "https://localhost:8080/"
        },
        "id": "zsdYj9QBQcEN",
        "outputId": "d54d05c3-99e6-4671-a5c1-a78d9f6e8021"
      },
      "execution_count": null,
      "outputs": [
        {
          "output_type": "execute_result",
          "data": {
            "text/plain": [
              "array([1.85, 1.52, 1.57, ..., 1.19, 1.75, 1.95])"
            ]
          },
          "metadata": {},
          "execution_count": 44
        }
      ]
    },
    {
      "cell_type": "code",
      "source": [
        "len(height)\n"
      ],
      "metadata": {
        "colab": {
          "base_uri": "https://localhost:8080/"
        },
        "id": "caR7QaSxSkmJ",
        "outputId": "7c3a0454-bb91-49f6-d2b1-5613d7c2de12"
      },
      "execution_count": null,
      "outputs": [
        {
          "output_type": "execute_result",
          "data": {
            "text/plain": [
              "5000"
            ]
          },
          "metadata": {},
          "execution_count": 45
        }
      ]
    },
    {
      "cell_type": "code",
      "source": [
        "weight = np.round(np.random.normal(60.32,15,5000), 2)\n",
        "weight"
      ],
      "metadata": {
        "colab": {
          "base_uri": "https://localhost:8080/"
        },
        "outputId": "44e29684-29e4-4c60-fc5c-520e61c61ba0",
        "id": "er05pZNIS2yA"
      },
      "execution_count": null,
      "outputs": [
        {
          "output_type": "execute_result",
          "data": {
            "text/plain": [
              "array([93.01, 72.65, 51.89, ..., 55.65, 47.82, 57.99])"
            ]
          },
          "metadata": {},
          "execution_count": 46
        }
      ]
    },
    {
      "cell_type": "code",
      "source": [
        "len(weight)"
      ],
      "metadata": {
        "colab": {
          "base_uri": "https://localhost:8080/"
        },
        "id": "P6UlJI94TCMz",
        "outputId": "ab28ef65-1eae-4065-efaf-534907ff3d5c"
      },
      "execution_count": null,
      "outputs": [
        {
          "output_type": "execute_result",
          "data": {
            "text/plain": [
              "5000"
            ]
          },
          "metadata": {},
          "execution_count": 47
        }
      ]
    },
    {
      "cell_type": "code",
      "source": [
        "np_city = np.column_stack((height, weight))\n",
        "#mencari nilai rata-rata\n",
        "np.mean(np_city[:,0])"
      ],
      "metadata": {
        "colab": {
          "base_uri": "https://localhost:8080/"
        },
        "id": "CdG7urRsTIFu",
        "outputId": "e8896576-7609-4750-97fa-e6f52ab0eb10"
      },
      "execution_count": null,
      "outputs": [
        {
          "output_type": "execute_result",
          "data": {
            "text/plain": [
              "1.745586"
            ]
          },
          "metadata": {},
          "execution_count": 48
        }
      ]
    },
    {
      "cell_type": "code",
      "source": [
        "#mencari nilai tengah\n",
        "np.median(np_city[:,0])"
      ],
      "metadata": {
        "colab": {
          "base_uri": "https://localhost:8080/"
        },
        "id": "BIDc--ALTr4O",
        "outputId": "7ad5d9ad-319b-4022-f148-31e63744230f"
      },
      "execution_count": null,
      "outputs": [
        {
          "output_type": "execute_result",
          "data": {
            "text/plain": [
              "1.75"
            ]
          },
          "metadata": {},
          "execution_count": 49
        }
      ]
    },
    {
      "cell_type": "code",
      "source": [
        "#mencari standar deviasi\n",
        "np.std(np_city[:,0])"
      ],
      "metadata": {
        "colab": {
          "base_uri": "https://localhost:8080/"
        },
        "id": "ghHPU9dKUIEE",
        "outputId": "1fd5bb32-4f18-4185-cfd8-39fc82e00946"
      },
      "execution_count": null,
      "outputs": [
        {
          "output_type": "execute_result",
          "data": {
            "text/plain": [
              "0.20226303815576388"
            ]
          },
          "metadata": {},
          "execution_count": 50
        }
      ]
    },
    {
      "cell_type": "markdown",
      "source": [
        "NumPy Array 2D"
      ],
      "metadata": {
        "id": "GBDuJfK5W5aV"
      }
    },
    {
      "cell_type": "code",
      "source": [
        "height = [1.75,1.68,1.8,1.81,1.69]\n",
        "weight = [66.4,49.22,66.3,88.56,65.4]\n",
        "type(height)"
      ],
      "metadata": {
        "colab": {
          "base_uri": "https://localhost:8080/"
        },
        "outputId": "2ca8fd9b-d101-4f78-c5bd-16a527b36d1e",
        "id": "UopsrpFvXZ7n"
      },
      "execution_count": null,
      "outputs": [
        {
          "output_type": "execute_result",
          "data": {
            "text/plain": [
              "list"
            ]
          },
          "metadata": {},
          "execution_count": 58
        }
      ]
    },
    {
      "cell_type": "code",
      "source": [
        "np_2d = np.array([[1.75,1.68,1.8,1.81,1.69],\n",
        "                  [66.4,49.22,66.3,88.56,65.4]])\n",
        "np_2d"
      ],
      "metadata": {
        "colab": {
          "base_uri": "https://localhost:8080/"
        },
        "id": "rUuplzVLW87m",
        "outputId": "a394c27f-f332-4259-c666-297c28036ac2"
      },
      "execution_count": null,
      "outputs": [
        {
          "output_type": "execute_result",
          "data": {
            "text/plain": [
              "array([[ 1.75,  1.68,  1.8 ,  1.81,  1.69],\n",
              "       [66.4 , 49.22, 66.3 , 88.56, 65.4 ]])"
            ]
          },
          "metadata": {},
          "execution_count": 60
        }
      ]
    },
    {
      "cell_type": "code",
      "source": [
        "np_2d.shape"
      ],
      "metadata": {
        "colab": {
          "base_uri": "https://localhost:8080/"
        },
        "id": "56jm9FqCYcl8",
        "outputId": "f58b17bc-9426-42b7-ad11-f8f4484e08c8"
      },
      "execution_count": null,
      "outputs": [
        {
          "output_type": "execute_result",
          "data": {
            "text/plain": [
              "(2, 5)"
            ]
          },
          "metadata": {},
          "execution_count": 61
        }
      ]
    },
    {
      "cell_type": "code",
      "source": [
        "np_2d[0]"
      ],
      "metadata": {
        "colab": {
          "base_uri": "https://localhost:8080/"
        },
        "id": "dxS3DkI-YjkK",
        "outputId": "e15126bd-663b-42de-b7db-43dc01c3e702"
      },
      "execution_count": null,
      "outputs": [
        {
          "output_type": "execute_result",
          "data": {
            "text/plain": [
              "array([1.75, 1.68, 1.8 , 1.81, 1.69])"
            ]
          },
          "metadata": {},
          "execution_count": 62
        }
      ]
    },
    {
      "cell_type": "code",
      "source": [
        "np_2d[0][2]"
      ],
      "metadata": {
        "colab": {
          "base_uri": "https://localhost:8080/"
        },
        "id": "Pg69PEuNY3f8",
        "outputId": "429fb11f-44d3-49c3-c083-46329b5b6ce4"
      },
      "execution_count": null,
      "outputs": [
        {
          "output_type": "execute_result",
          "data": {
            "text/plain": [
              "1.8"
            ]
          },
          "metadata": {},
          "execution_count": 63
        }
      ]
    },
    {
      "cell_type": "code",
      "source": [
        "np_2d[:,1:3]"
      ],
      "metadata": {
        "colab": {
          "base_uri": "https://localhost:8080/"
        },
        "id": "2s1esnSnY9At",
        "outputId": "d9e6626e-99b6-466b-88c0-e48effc5d083"
      },
      "execution_count": null,
      "outputs": [
        {
          "output_type": "execute_result",
          "data": {
            "text/plain": [
              "array([[ 1.68,  1.8 ],\n",
              "       [49.22, 66.3 ]])"
            ]
          },
          "metadata": {},
          "execution_count": 64
        }
      ]
    },
    {
      "cell_type": "code",
      "source": [
        "np_2d[1,:]"
      ],
      "metadata": {
        "colab": {
          "base_uri": "https://localhost:8080/"
        },
        "id": "tJB5-QKwZZJU",
        "outputId": "b93a3ef0-cb35-49eb-99cd-f624e75ca5e0"
      },
      "execution_count": null,
      "outputs": [
        {
          "output_type": "execute_result",
          "data": {
            "text/plain": [
              "array([66.4 , 49.22, 66.3 , 88.56, 65.4 ])"
            ]
          },
          "metadata": {},
          "execution_count": 65
        }
      ]
    },
    {
      "cell_type": "markdown",
      "source": [
        "quiz"
      ],
      "metadata": {
        "id": "ToHMPKncW22l"
      }
    },
    {
      "cell_type": "code",
      "source": [
        "names = np.array([['idaz', 'anggara'],\n",
        "                  ['dear','kurniawan']])\n",
        "names "
      ],
      "metadata": {
        "colab": {
          "base_uri": "https://localhost:8080/"
        },
        "id": "4pJNYvhCUeQT",
        "outputId": "b7278df0-c12f-4ff4-c815-bb7e52283d97"
      },
      "execution_count": null,
      "outputs": [
        {
          "output_type": "execute_result",
          "data": {
            "text/plain": [
              "array([['idaz', 'anggara'],\n",
              "       ['dear', 'kurniawan']], dtype='<U9')"
            ]
          },
          "metadata": {},
          "execution_count": 54
        }
      ]
    },
    {
      "cell_type": "code",
      "source": [
        "print(names[0])"
      ],
      "metadata": {
        "colab": {
          "base_uri": "https://localhost:8080/"
        },
        "id": "QWc8-fznWMai",
        "outputId": "a1ce0d98-6f02-4e1f-93a7-85cc6ba8d01b"
      },
      "execution_count": null,
      "outputs": [
        {
          "output_type": "stream",
          "name": "stdout",
          "text": [
            "['idaz' 'anggara']\n"
          ]
        }
      ]
    },
    {
      "cell_type": "code",
      "source": [
        "x = sub()"
      ],
      "metadata": {
        "id": "AfaXdTZrZsKP"
      },
      "execution_count": null,
      "outputs": []
    }
  ]
}