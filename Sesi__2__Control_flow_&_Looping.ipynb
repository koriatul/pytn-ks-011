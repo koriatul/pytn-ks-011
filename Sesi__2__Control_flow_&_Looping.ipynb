{
  "nbformat": 4,
  "nbformat_minor": 0,
  "metadata": {
    "colab": {
      "provenance": [],
      "authorship_tag": "ABX9TyMm1e4OAZ0WsSCRKD+dISiG",
      "include_colab_link": true
    },
    "kernelspec": {
      "name": "python3",
      "display_name": "Python 3"
    },
    "language_info": {
      "name": "python"
    }
  },
  "cells": [
    {
      "cell_type": "markdown",
      "metadata": {
        "id": "view-in-github",
        "colab_type": "text"
      },
      "source": [
        "<a href=\"https://colab.research.google.com/github/koriatul/pytn-ks-011/blob/main/Sesi__2__Control_flow_%26_Looping.ipynb\" target=\"_parent\"><img src=\"https://colab.research.google.com/assets/colab-badge.svg\" alt=\"Open In Colab\"/></a>"
      ]
    },
    {
      "cell_type": "markdown",
      "source": [
        "**Conditonal**"
      ],
      "metadata": {
        "id": "2_JYCZ6qRJR2"
      }
    },
    {
      "cell_type": "markdown",
      "source": [
        "If else dan Loop"
      ],
      "metadata": {
        "id": "y_32MhksWj35"
      }
    },
    {
      "cell_type": "code",
      "source": [
        "x = 2\n",
        "y = 3\n",
        "\n",
        "if x<y:\n",
        "    print('ya benar')\n",
        "if x>y:\n",
        "    print('ya benar')\n",
        "if x==y:\n",
        "    print('ya benar')\n",
        "if x<=y:\n",
        "    print('ya benar')\n",
        "if 'we' in ['we','wa','wo']:\n",
        "    print('ya benar')"
      ],
      "metadata": {
        "colab": {
          "base_uri": "https://localhost:8080/"
        },
        "id": "RVMhc0sAXIww",
        "outputId": "a1f51a16-535b-4e6b-97c7-575fd627bfc5"
      },
      "execution_count": null,
      "outputs": [
        {
          "output_type": "stream",
          "name": "stdout",
          "text": [
            "ya benar\n",
            "ya benar\n",
            "ya benar\n"
          ]
        }
      ]
    },
    {
      "cell_type": "code",
      "execution_count": null,
      "metadata": {
        "colab": {
          "base_uri": "https://localhost:8080/"
        },
        "id": "wNfUlVBjRFws",
        "outputId": "8fa08f3b-df4b-41be-c007-fe5e14de6590"
      },
      "outputs": [
        {
          "output_type": "stream",
          "name": "stdout",
          "text": [
            "True\n"
          ]
        }
      ],
      "source": [
        "print('we' in ['wa','we','wo'])"
      ]
    },
    {
      "cell_type": "code",
      "source": [
        "#python perlu indentasi\n",
        "x = 2\n",
        "y = 3\n",
        "if x<y:\n",
        "    if y<x:\n",
        "      pass\n",
        "    print('ya benar')\n"
      ],
      "metadata": {
        "id": "ak-V8jiyY6R_",
        "colab": {
          "base_uri": "https://localhost:8080/"
        },
        "outputId": "2e9bf7dc-94e0-4e0a-9578-1cd02aec8e80"
      },
      "execution_count": null,
      "outputs": [
        {
          "output_type": "stream",
          "name": "stdout",
          "text": [
            "ya benar\n"
          ]
        }
      ]
    },
    {
      "cell_type": "markdown",
      "source": [
        "**IF ELIF AND ELSE**"
      ],
      "metadata": {
        "id": "uaJIp6ubFain"
      }
    },
    {
      "cell_type": "code",
      "source": [
        "harga_jeruk = 50000\n",
        "standar_harga = 30000\n",
        "# apabila jeruk lebih dari standar harga maka jeruk itu mahal dan apabila kurang dari standar harga maka jeruk itu murah, dan apabila hrg jeruk sama dengan standar harga maka jeruk itu biasa\n",
        "if harga_jeruk>standar_harga:\n",
        "  print('mahal')\n",
        "elif harga_jeruk<standar_harga:\n",
        "  print('murah')\n",
        "elif harga_jeruk==standar_harga:\n",
        "  print('biasa')"
      ],
      "metadata": {
        "colab": {
          "base_uri": "https://localhost:8080/"
        },
        "outputId": "80896d5b-62c7-4be3-df66-aa6f26000caa",
        "id": "lwbrp8vaGutc"
      },
      "execution_count": null,
      "outputs": [
        {
          "output_type": "stream",
          "name": "stdout",
          "text": [
            "mahal\n"
          ]
        }
      ]
    },
    {
      "cell_type": "code",
      "source": [
        "harga_jeruk = 30000\n",
        "standar_harga = 30000\n",
        "# apabila jeruk lebih dari standar harga maka jeruk itu mahal dan apabila kurang dari standar harga maka jeruk itu murah, dan apabila hrg jeruk sama dengan standar harga maka jeruk itu biasa\n",
        "if harga_jeruk>standar_harga:\n",
        "  print('mahal')\n",
        "elif harga_jeruk<standar_harga:\n",
        "  print('murah')\n",
        "else:\n",
        "  print('biasa')"
      ],
      "metadata": {
        "colab": {
          "base_uri": "https://localhost:8080/"
        },
        "id": "tGAxvdd7FmDb",
        "outputId": "ceaec26f-e386-4bda-cc2d-4d4faeeff8f8"
      },
      "execution_count": null,
      "outputs": [
        {
          "output_type": "stream",
          "name": "stdout",
          "text": [
            "biasa\n"
          ]
        }
      ]
    },
    {
      "cell_type": "code",
      "source": [
        "# apabila jeruk lebih dari standar harga maka jeruk itu mahal dan apabila kurang dari sama dengan standar harga maka jeruk itu murah\n",
        "harga_jeruk = 70000\n",
        "standar_harga = 50000\n",
        "if harga_jeruk>standar_harga:\n",
        "  print('Mahal')\n",
        "else: \n",
        "  print('Murah')"
      ],
      "metadata": {
        "colab": {
          "base_uri": "https://localhost:8080/"
        },
        "id": "NdfktM_fHM20",
        "outputId": "ebe10bda-b10b-4cab-cdd5-94ee5765a0c0"
      },
      "execution_count": null,
      "outputs": [
        {
          "output_type": "stream",
          "name": "stdout",
          "text": [
            "Mahal\n"
          ]
        }
      ]
    },
    {
      "cell_type": "code",
      "source": [
        "# apabila jeruk lebih dari standar harga maka jeruk itu mahal dan apabila kurang dari sama dengan standar harga maka jeruk itu murah\n",
        "harga_jeruk = int(input('Input harga Jeruk='))\n",
        "standar_harga = 30000\n",
        "if harga_jeruk>standar_harga:\n",
        "  print('Mahal')\n",
        "else: \n",
        "  print('Murah')"
      ],
      "metadata": {
        "colab": {
          "base_uri": "https://localhost:8080/"
        },
        "id": "Cm0Hgx9hHvRG",
        "outputId": "7404ba12-a00f-4a8d-f6f0-5a272fa31302"
      },
      "execution_count": null,
      "outputs": [
        {
          "output_type": "stream",
          "name": "stdout",
          "text": [
            "Input harga Jeruk=25000\n",
            "Murah\n"
          ]
        }
      ]
    },
    {
      "cell_type": "markdown",
      "source": [
        "**QUIZ 1**"
      ],
      "metadata": {
        "id": "SjtYw5Qoj66Y"
      }
    },
    {
      "cell_type": "code",
      "source": [
        "harga_pisang = 3000\n",
        "total_belanja = int(input('masukan total belanja:'))\n",
        "if total_belanja > 100000:\n",
        "    diskon = 0.1\n",
        "elif total_belanja > 50000:\n",
        "    diskon = 0.05\n",
        "else:\n",
        "    diskon = 0\n",
        "    total_harga = harga_pisang * total_belanja * (1 - diskon)\n",
        "    print(\"total harga yang harus dibayar:\", total_harga)"
      ],
      "metadata": {
        "colab": {
          "base_uri": "https://localhost:8080/"
        },
        "id": "CWzWYC3GcjDw",
        "outputId": "b861b667-0ee3-4f48-a38b-f7196105136f"
      },
      "execution_count": null,
      "outputs": [
        {
          "name": "stdout",
          "output_type": "stream",
          "text": [
            "masukan total belanja:68000\n"
          ]
        }
      ]
    },
    {
      "cell_type": "code",
      "source": [
        "harga_jeruk = 50000\n",
        "standar_harga = 30000\n",
        "# apabila jeruk lebih dari standar harga maka jeruk itu mahal dan apabila kurang dari standar harga maka jeruk itu murah, dan apabila hrg jeruk sama dengan standar maka biasa saja\n",
        "if harga_jeruk>standar_harga:\n",
        "    print('Mahal')\n",
        "    print('Banget')\n",
        "    print(1+1)\n",
        "elif harga_jeruk<standar_harga:\n",
        "    print('Murah')\n",
        "elif harga_jeruk==standar_harga:\n",
        "    print('Biasa')"
      ],
      "metadata": {
        "colab": {
          "base_uri": "https://localhost:8080/"
        },
        "id": "GwGlqOLbMkI9",
        "outputId": "e594c2ad-f79f-4f17-fb3a-8bdb84fc5d07"
      },
      "execution_count": null,
      "outputs": [
        {
          "output_type": "stream",
          "name": "stdout",
          "text": [
            "Mahal\n",
            "Banget\n",
            "2\n"
          ]
        }
      ]
    },
    {
      "cell_type": "markdown",
      "source": [
        "**One-Line-If Statement**\n"
      ],
      "metadata": {
        "id": "_cXPnygGkFGJ"
      }
    },
    {
      "cell_type": "code",
      "source": [
        "harga_jeruk = 20000\n",
        "standar_harga = 30000\n",
        "if harga_jeruk>standar_harga: print('Mahal');print('Banget');print(1+1)\n",
        "elif harga_jeruk<standar_harga: print('Murah')\n",
        "else: print('Biasa')"
      ],
      "metadata": {
        "id": "ILbrKDBskDaj",
        "colab": {
          "base_uri": "https://localhost:8080/"
        },
        "outputId": "b28c8c8a-3c1e-4feb-dec3-18d360fe4250"
      },
      "execution_count": null,
      "outputs": [
        {
          "output_type": "stream",
          "name": "stdout",
          "text": [
            "Murah\n"
          ]
        }
      ]
    },
    {
      "cell_type": "code",
      "source": [
        "if harga_jeruk>standar_harga:\n",
        "    print('Mahal')\n",
        "    print('Banget')\n",
        "    print(1+2)"
      ],
      "metadata": {
        "id": "HRpAUsSbM2k3"
      },
      "execution_count": null,
      "outputs": []
    },
    {
      "cell_type": "markdown",
      "source": [
        "**Conditional Expressions**"
      ],
      "metadata": {
        "id": "2pTeNJ5oM8k_"
      }
    },
    {
      "cell_type": "code",
      "source": [
        "umur = 37\n",
        "s ='Tua'if umur >= 35 else 'muda'\n",
        "print(s)"
      ],
      "metadata": {
        "colab": {
          "base_uri": "https://localhost:8080/"
        },
        "id": "UU4bd-G6km0L",
        "outputId": "fa44f30e-1e9b-4f49-f839-c53b7a0f53d3"
      },
      "execution_count": null,
      "outputs": [
        {
          "output_type": "stream",
          "name": "stdout",
          "text": [
            "Tua\n"
          ]
        }
      ]
    },
    {
      "cell_type": "code",
      "source": [
        "nama = 'Fachri'\n",
        "n = 'In Class' if nama in ['Rahmat','Nunu'] else 'Out of Class'\n",
        "print(n)"
      ],
      "metadata": {
        "colab": {
          "base_uri": "https://localhost:8080/"
        },
        "id": "UQmdqqTKNo2R",
        "outputId": "4bd43c2b-0d16-4303-811f-f0b47e4edc2a"
      },
      "execution_count": null,
      "outputs": [
        {
          "output_type": "stream",
          "name": "stdout",
          "text": [
            "Out of Class\n"
          ]
        }
      ]
    },
    {
      "cell_type": "code",
      "source": [
        "harga_jeruk = 20000\n",
        "standar_harga = 30000\n",
        "tanggal_lahir = 1997\n",
        "# apabila jeruk lebih dari standar harga maka jeruk itu mahal dan apabila kurang dari standar harga maka jeruk itu murah, dan apabila hrg jeruk sama dengan standar maka biasa saja\n",
        "if harga_jeruk>standar_harga:\n",
        "    print('Mahal')\n",
        "    print('Banget')\n",
        "    print(1+1)\n",
        "else:\n",
        "    pass"
      ],
      "metadata": {
        "id": "OShkPUGpPF4a"
      },
      "execution_count": null,
      "outputs": []
    },
    {
      "cell_type": "markdown",
      "source": [
        "**QUIZ 2**\n",
        "Anda adalah seorang pemilik perusahaan dan Anda berniat untuk memberi bonus kepada pegawai Anda.\n",
        "Buatlah program if-else yg memiliki kondisi, jika Year of Service seorang pegawai lebih dari 10 tahun, maka gajinya akan diberi bonus sebesar 10%."
      ],
      "metadata": {
        "id": "0uz2v67XoZOW"
      }
    },
    {
      "cell_type": "code",
      "source": [
        "# Input gaji dan tahun pengalaman kerja pegawai\n",
        "gaji = int(input(\"Masukkan gaji pegawai: \"))\n",
        "tahun_pengalaman = int(input(\"Masukkan tahun pengalaman kerja pegawai: \"))\n",
        "\n",
        "# Kondisi untuk memberikan bonus\n",
        "if tahun_pengalaman > 10:\n",
        "    bonus = 0.1 * gaji\n",
        "    gaji_total = gaji + bonus\n",
        "    print(\"Pegawai mendapatkan bonus sebesar 10%.\")\n",
        "    print(\"Gaji total: \", gaji_total)\n",
        "else:\n",
        "    print(\"Pegawai tidak mendapatkan bonus.\")\n",
        "    print(\"Gaji total: \", gaji)"
      ],
      "metadata": {
        "colab": {
          "base_uri": "https://localhost:8080/"
        },
        "id": "uFJC71Bum59d",
        "outputId": "93134580-c346-45eb-f187-84f58c18e719"
      },
      "execution_count": null,
      "outputs": [
        {
          "output_type": "stream",
          "name": "stdout",
          "text": [
            "Masukkan gaji pegawai: 5000000\n",
            "Masukkan tahun pengalaman kerja pegawai: 12\n",
            "Pegawai mendapatkan bonus sebesar 10%.\n",
            "Gaji total:  5500000.0\n"
          ]
        }
      ]
    },
    {
      "cell_type": "markdown",
      "source": [
        "**LOOP**"
      ],
      "metadata": {
        "id": "y16lhrdJprP0"
      }
    },
    {
      "cell_type": "code",
      "source": [
        "for i in['foo','bar','baz','qux','quux','corge']:\n",
        " print(i+'ayam')"
      ],
      "metadata": {
        "colab": {
          "base_uri": "https://localhost:8080/"
        },
        "id": "q1FVKlhpptMm",
        "outputId": "faba1957-e2a4-4ad4-9978-2ae1dd8505ec"
      },
      "execution_count": null,
      "outputs": [
        {
          "output_type": "stream",
          "name": "stdout",
          "text": [
            "fooayam\n",
            "barayam\n",
            "bazayam\n",
            "quxayam\n",
            "quuxayam\n",
            "corgeayam\n"
          ]
        }
      ]
    },
    {
      "cell_type": "code",
      "source": [
        "for i in[1,2,3,4]:\n",
        "  print(i+1)"
      ],
      "metadata": {
        "colab": {
          "base_uri": "https://localhost:8080/"
        },
        "id": "4pLlfRhFPvCb",
        "outputId": "f4a4b34e-43b7-4d4c-f093-e3ee12930218"
      },
      "execution_count": null,
      "outputs": [
        {
          "output_type": "stream",
          "name": "stdout",
          "text": [
            "2\n",
            "3\n",
            "4\n",
            "5\n"
          ]
        }
      ]
    },
    {
      "cell_type": "markdown",
      "source": [
        "objek yang bisa dilakukan looping adalah iterable (string, list, tuple, dictionary, dsb)"
      ],
      "metadata": {
        "id": "tf0Hj5j1P_kD"
      }
    },
    {
      "cell_type": "code",
      "source": [
        "for i in'string':\n",
        "  print(i)"
      ],
      "metadata": {
        "colab": {
          "base_uri": "https://localhost:8080/"
        },
        "id": "W432gKHvQB8t",
        "outputId": "15fae331-ba94-4ee8-bd1f-83701a1484b5"
      },
      "execution_count": null,
      "outputs": [
        {
          "output_type": "stream",
          "name": "stdout",
          "text": [
            "s\n",
            "t\n",
            "r\n",
            "i\n",
            "n\n",
            "g\n"
          ]
        }
      ]
    },
    {
      "cell_type": "markdown",
      "source": [
        "**WHILE LOOP**"
      ],
      "metadata": {
        "id": "JUjI2crCQj45"
      }
    },
    {
      "cell_type": "code",
      "source": [
        "apel = 5\n",
        "while apel>0:\n",
        "  apel-=1\n",
        "  print(apel)"
      ],
      "metadata": {
        "colab": {
          "base_uri": "https://localhost:8080/"
        },
        "id": "tADzCvBkQmsL",
        "outputId": "6d2ac3ff-9313-4255-a8f2-735c8ca12d0a"
      },
      "execution_count": null,
      "outputs": [
        {
          "output_type": "stream",
          "name": "stdout",
          "text": [
            "4\n",
            "3\n",
            "2\n",
            "1\n",
            "0\n"
          ]
        }
      ]
    },
    {
      "cell_type": "code",
      "source": [
        "apel = 5\n",
        "apel -= 1\n",
        "print(apel)"
      ],
      "metadata": {
        "colab": {
          "base_uri": "https://localhost:8080/"
        },
        "id": "bbvCaO5YR_nF",
        "outputId": "723579b4-8c10-4881-bcb6-c9543ec34a4f"
      },
      "execution_count": null,
      "outputs": [
        {
          "output_type": "stream",
          "name": "stdout",
          "text": [
            "4\n"
          ]
        }
      ]
    },
    {
      "cell_type": "code",
      "source": [
        "apel = 5\n",
        "while apel>0:\n",
        "    apel-=1\n",
        "    if apel ==1:\n",
        "        print('woy tinggal 1 nih ati2 ya')\n",
        "    else:\n",
        "        print(apel)"
      ],
      "metadata": {
        "colab": {
          "base_uri": "https://localhost:8080/"
        },
        "id": "mSn3mKgZSQ1K",
        "outputId": "9cc3117e-90d5-4e89-a26c-b16655b68157"
      },
      "execution_count": null,
      "outputs": [
        {
          "output_type": "stream",
          "name": "stdout",
          "text": [
            "4\n",
            "3\n",
            "2\n",
            "woy tinggal 1 nih ati2 ya\n",
            "0\n"
          ]
        }
      ]
    },
    {
      "cell_type": "code",
      "source": [
        "# break digunakan untuk memberhentikan loop\n",
        "apel = 5\n",
        "while apel>0:\n",
        "    apel-=1\n",
        "    if apel ==2:\n",
        "        break\n",
        "    print(apel)\n",
        "print('Loop Ended')"
      ],
      "metadata": {
        "colab": {
          "base_uri": "https://localhost:8080/"
        },
        "id": "LbcHTuxwS4OY",
        "outputId": "3a6df665-922b-4882-c8d5-6e7b493ad456"
      },
      "execution_count": null,
      "outputs": [
        {
          "output_type": "stream",
          "name": "stdout",
          "text": [
            "4\n",
            "3\n",
            "Loop Ended\n"
          ]
        }
      ]
    },
    {
      "cell_type": "code",
      "source": [
        "apel "
      ],
      "metadata": {
        "colab": {
          "base_uri": "https://localhost:8080/"
        },
        "id": "ZQ6NOWL6TFmd",
        "outputId": "4485a291-347c-4ebb-c22e-928f355e3fd2"
      },
      "execution_count": null,
      "outputs": [
        {
          "output_type": "execute_result",
          "data": {
            "text/plain": [
              "2"
            ]
          },
          "metadata": {},
          "execution_count": 54
        }
      ]
    },
    {
      "cell_type": "code",
      "source": [
        "# continue digunakan untuk melanjukan loop berdasarkan kondisi\n",
        "apel = 5\n",
        "while apel>0:\n",
        "    apel-=1\n",
        "    if apel ==2:\n",
        "        continue\n",
        "    print(apel)\n",
        "print('Loop Ended')"
      ],
      "metadata": {
        "colab": {
          "base_uri": "https://localhost:8080/"
        },
        "id": "4guqx0qKTJiz",
        "outputId": "473ce6d5-0294-4315-9603-100a4ade4a9a"
      },
      "execution_count": null,
      "outputs": [
        {
          "output_type": "stream",
          "name": "stdout",
          "text": [
            "4\n",
            "3\n",
            "1\n",
            "0\n",
            "Loop Ended\n"
          ]
        }
      ]
    },
    {
      "cell_type": "code",
      "source": [
        "# else\n",
        "apel = 10\n",
        "while apel>0:\n",
        "    apel-=2\n",
        "    print(apel)\n",
        "else:\n",
        "    print('loop ended')"
      ],
      "metadata": {
        "colab": {
          "base_uri": "https://localhost:8080/"
        },
        "id": "_ooEW1LbTN2B",
        "outputId": "71c0cf03-7a91-4be6-ada9-8a164d5dfda6"
      },
      "execution_count": null,
      "outputs": [
        {
          "output_type": "stream",
          "name": "stdout",
          "text": [
            "8\n",
            "6\n",
            "4\n",
            "2\n",
            "0\n",
            "loop ended\n"
          ]
        }
      ]
    },
    {
      "cell_type": "code",
      "source": [
        "# break digunakan untuk memberhentikan loop\n",
        "apel = 5\n",
        "while apel>0:\n",
        "    apel-=1\n",
        "    print(apel)\n",
        "    if apel==2:\n",
        "        break\n",
        "else:\n",
        "    print('Loop Done')"
      ],
      "metadata": {
        "colab": {
          "base_uri": "https://localhost:8080/"
        },
        "id": "xUn8AP5hTRXm",
        "outputId": "487d74eb-6fba-43fc-d26f-fc1c97dedfa1"
      },
      "execution_count": null,
      "outputs": [
        {
          "output_type": "stream",
          "name": "stdout",
          "text": [
            "4\n",
            "3\n",
            "2\n"
          ]
        }
      ]
    },
    {
      "cell_type": "markdown",
      "source": [
        "**Nested If - Else & Loops**"
      ],
      "metadata": {
        "id": "iTs-deMnTZp6"
      }
    },
    {
      "cell_type": "code",
      "source": [
        "#Nested IF\n",
        "umur = 42\n",
        "gender = 'M'\n",
        "if umur <18:\n",
        "    if gender == 'M':\n",
        "        print('Son')\n",
        "    else:\n",
        "        print('Daughter')\n",
        "if umur >=18 and umur <65:\n",
        "    if gender == 'M':\n",
        "        print('Dad')\n",
        "    else:\n",
        "        print('Mom')"
      ],
      "metadata": {
        "colab": {
          "base_uri": "https://localhost:8080/"
        },
        "id": "w3KMgkOaTeBp",
        "outputId": "a4ed258b-8305-4253-845a-54664e4d4238"
      },
      "execution_count": null,
      "outputs": [
        {
          "output_type": "stream",
          "name": "stdout",
          "text": [
            "Dad\n"
          ]
        }
      ]
    },
    {
      "cell_type": "markdown",
      "source": [
        "One Line While Loop"
      ],
      "metadata": {
        "id": "RN0mOUchUoRr"
      }
    },
    {
      "cell_type": "code",
      "source": [
        "apel = 5\n",
        "while apel>0:apel-=1;print(apel)"
      ],
      "metadata": {
        "colab": {
          "base_uri": "https://localhost:8080/"
        },
        "id": "h0VC7ZZsUkS6",
        "outputId": "30508e1c-2891-41d1-b1ba-1b6d6488527a"
      },
      "execution_count": null,
      "outputs": [
        {
          "output_type": "stream",
          "name": "stdout",
          "text": [
            "4\n",
            "3\n",
            "2\n",
            "1\n",
            "0\n"
          ]
        }
      ]
    },
    {
      "cell_type": "markdown",
      "source": [
        "**For Loop**"
      ],
      "metadata": {
        "id": "Uyx2Eg3xU7NU"
      }
    },
    {
      "cell_type": "code",
      "source": [
        "a = [1,2,3,4,5,6]\n",
        "for i in a:\n",
        "  print(i)"
      ],
      "metadata": {
        "colab": {
          "base_uri": "https://localhost:8080/"
        },
        "id": "W_b4DsTfU_tz",
        "outputId": "541dd55c-98ea-4711-8012-0f30a1f02348"
      },
      "execution_count": null,
      "outputs": [
        {
          "output_type": "stream",
          "name": "stdout",
          "text": [
            "1\n",
            "2\n",
            "3\n",
            "4\n",
            "5\n",
            "6\n"
          ]
        }
      ]
    },
    {
      "cell_type": "code",
      "source": [
        "# For Loop\n",
        "b = ['Budi','Joko','Anwar']\n",
        "for i in b:\n",
        "    print(i)"
      ],
      "metadata": {
        "colab": {
          "base_uri": "https://localhost:8080/"
        },
        "id": "xIIhRqIuVVNo",
        "outputId": "595772f1-ddaa-4483-a35e-808617a90d1f"
      },
      "execution_count": null,
      "outputs": [
        {
          "output_type": "stream",
          "name": "stdout",
          "text": [
            "Budi\n",
            "Joko\n",
            "Anwar\n"
          ]
        }
      ]
    },
    {
      "cell_type": "code",
      "source": [
        "# Nested For Loop\n",
        "b = ['Budi','Joko','Anwar']\n",
        "for i in b:\n",
        "    for j in i :\n",
        "        print(j)"
      ],
      "metadata": {
        "colab": {
          "base_uri": "https://localhost:8080/"
        },
        "id": "kbeaj-kiVYXa",
        "outputId": "d058bf22-3268-435d-e0b8-adba39b9af8c"
      },
      "execution_count": null,
      "outputs": [
        {
          "output_type": "stream",
          "name": "stdout",
          "text": [
            "B\n",
            "u\n",
            "d\n",
            "i\n",
            "J\n",
            "o\n",
            "k\n",
            "o\n",
            "A\n",
            "n\n",
            "w\n",
            "a\n",
            "r\n"
          ]
        }
      ]
    },
    {
      "cell_type": "code",
      "source": [
        "# Nested For Loop\n",
        "b = ['Budi','Joko','Anwar']\n",
        "for i in b:\n",
        "  if i == 'Joko':\n",
        "    break\n",
        "  for j in i:\n",
        "    print(j)"
      ],
      "metadata": {
        "colab": {
          "base_uri": "https://localhost:8080/"
        },
        "id": "4ANKc7cNVem_",
        "outputId": "3bb2e861-77d4-4e07-8f68-8dce50d85492"
      },
      "execution_count": null,
      "outputs": [
        {
          "output_type": "stream",
          "name": "stdout",
          "text": [
            "B\n",
            "u\n",
            "d\n",
            "i\n"
          ]
        }
      ]
    },
    {
      "cell_type": "code",
      "source": [
        "dictionary_a = {'A':'Bekasi','B':'Jakarta','C':'Medan'}\n",
        "for i in dictionary_a:\n",
        "    if dictionary_a[i] == 'Bekasi':\n",
        "        print(dictionary_a[i])"
      ],
      "metadata": {
        "colab": {
          "base_uri": "https://localhost:8080/"
        },
        "id": "BOwdrlOKWp68",
        "outputId": "a6cf36f4-2096-4d4d-fcbc-eb62216cfb27"
      },
      "execution_count": null,
      "outputs": [
        {
          "output_type": "stream",
          "name": "stdout",
          "text": [
            "Bekasi\n"
          ]
        }
      ]
    },
    {
      "cell_type": "code",
      "source": [
        "dictionary_a.keys()"
      ],
      "metadata": {
        "colab": {
          "base_uri": "https://localhost:8080/"
        },
        "id": "BC_YPgW3Wrfb",
        "outputId": "82b6a73f-c863-4a64-d4fd-17c681968289"
      },
      "execution_count": null,
      "outputs": [
        {
          "output_type": "execute_result",
          "data": {
            "text/plain": [
              "dict_keys(['A', 'B', 'C'])"
            ]
          },
          "metadata": {},
          "execution_count": 69
        }
      ]
    },
    {
      "cell_type": "code",
      "source": [
        "dictionary_a.values()"
      ],
      "metadata": {
        "colab": {
          "base_uri": "https://localhost:8080/"
        },
        "id": "51D0mYf_W0PK",
        "outputId": "50a5d586-8e11-47cd-cb8b-b9975de07085"
      },
      "execution_count": null,
      "outputs": [
        {
          "output_type": "execute_result",
          "data": {
            "text/plain": [
              "dict_values(['Bekasi', 'Jakarta', 'Medan'])"
            ]
          },
          "metadata": {},
          "execution_count": 70
        }
      ]
    },
    {
      "cell_type": "code",
      "source": [
        "dictionary_a.items()"
      ],
      "metadata": {
        "colab": {
          "base_uri": "https://localhost:8080/"
        },
        "id": "_mgOK1FsW9FC",
        "outputId": "4c941e8f-9b8e-47f8-e7bd-5f2a285345e4"
      },
      "execution_count": null,
      "outputs": [
        {
          "output_type": "execute_result",
          "data": {
            "text/plain": [
              "dict_items([('A', 'Bekasi'), ('B', 'Jakarta'), ('C', 'Medan')])"
            ]
          },
          "metadata": {},
          "execution_count": 71
        }
      ]
    },
    {
      "cell_type": "code",
      "source": [
        "dictionary_a = {'A':'Bekasi','B':'Jakarta','C':'Medan'}\n",
        "for i in dictionary_a.values():\n",
        "    print(i)"
      ],
      "metadata": {
        "colab": {
          "base_uri": "https://localhost:8080/"
        },
        "id": "w45Qvj4vXCV0",
        "outputId": "b7b49e82-f98d-47f1-f32a-6d0dd874bb1f"
      },
      "execution_count": null,
      "outputs": [
        {
          "output_type": "stream",
          "name": "stdout",
          "text": [
            "Bekasi\n",
            "Jakarta\n",
            "Medan\n"
          ]
        }
      ]
    },
    {
      "cell_type": "code",
      "source": [
        "dictionary_a = {'A':'Bekasi','B':'Jakarta','C':'Medan'}\n",
        "for i in dictionary_a.keys():\n",
        "    print(i)"
      ],
      "metadata": {
        "colab": {
          "base_uri": "https://localhost:8080/"
        },
        "id": "vp1HdCsNXFtL",
        "outputId": "e5467f3b-d9dc-495a-8b47-fe127339a2f1"
      },
      "execution_count": null,
      "outputs": [
        {
          "output_type": "stream",
          "name": "stdout",
          "text": [
            "A\n",
            "B\n",
            "C\n"
          ]
        }
      ]
    },
    {
      "cell_type": "code",
      "source": [
        "dictionary_a = {'A':'Bekasi','B':'Jakarta','C':'Medan'}\n",
        "for i,j in dictionary_a.items():\n",
        "    print(i,j)"
      ],
      "metadata": {
        "colab": {
          "base_uri": "https://localhost:8080/"
        },
        "id": "_HPwchdRXIkT",
        "outputId": "05aea071-4320-41c1-9135-c78977b254d7"
      },
      "execution_count": null,
      "outputs": [
        {
          "output_type": "stream",
          "name": "stdout",
          "text": [
            "A Bekasi\n",
            "B Jakarta\n",
            "C Medan\n"
          ]
        }
      ]
    },
    {
      "cell_type": "code",
      "source": [
        "#Continue\n",
        "for i in ['Aster','Jubah','Nambo','Hachi']:\n",
        "    if 'b' in i:\n",
        "        continue\n",
        "    print(i)"
      ],
      "metadata": {
        "colab": {
          "base_uri": "https://localhost:8080/"
        },
        "id": "AVNyrdeJXMOU",
        "outputId": "e772222d-3705-46c4-f536-d33e4b2cdec6"
      },
      "execution_count": null,
      "outputs": [
        {
          "output_type": "stream",
          "name": "stdout",
          "text": [
            "Aster\n",
            "Hachi\n"
          ]
        }
      ]
    },
    {
      "cell_type": "code",
      "source": [
        "#Pass\n",
        "for i in ['Aster','Jubah','Nambo','Hachi']:\n",
        "    if 'b' in i:\n",
        "        pass\n",
        "    print(i)"
      ],
      "metadata": {
        "colab": {
          "base_uri": "https://localhost:8080/"
        },
        "id": "eJ8yeQ-GXPWE",
        "outputId": "de4a4058-691f-4368-ef5c-c6ec1bdf7914"
      },
      "execution_count": null,
      "outputs": [
        {
          "output_type": "stream",
          "name": "stdout",
          "text": [
            "Aster\n",
            "Jubah\n",
            "Nambo\n",
            "Hachi\n"
          ]
        }
      ]
    },
    {
      "cell_type": "code",
      "source": [
        "#Break\n",
        "for i in ['Aster','Jubah','Nambo','Hachi']:\n",
        "    if 'b' in i:\n",
        "        break\n",
        "    print(i)"
      ],
      "metadata": {
        "colab": {
          "base_uri": "https://localhost:8080/"
        },
        "id": "yLuUA3PuXWUy",
        "outputId": "7a43bba4-620e-428f-fb3c-98aca8711e53"
      },
      "execution_count": null,
      "outputs": [
        {
          "output_type": "stream",
          "name": "stdout",
          "text": [
            "Aster\n"
          ]
        }
      ]
    },
    {
      "cell_type": "markdown",
      "source": [
        "-Loop itu keseluruhan iterasi objek 1 loop diatas 4 iterasi\n",
        "-Iterasi adalah istilah untuk 1 putaran loop\n",
        "-continue akan memberhentikan iterasi dan lanjut ke iterasi berikutnya\n",
        "-break akan memberhentikan looping secara keseluruhan"
      ],
      "metadata": {
        "id": "JkGfP2x7XdOZ"
      }
    },
    {
      "cell_type": "code",
      "source": [
        "for i in ['Aster','Jubah','Nambo','Hachi'] :\n",
        "    print(i)\n",
        "else:\n",
        "    print('Loop Done')"
      ],
      "metadata": {
        "colab": {
          "base_uri": "https://localhost:8080/"
        },
        "id": "NaH1Jo6iXpPT",
        "outputId": "5c46765e-4cbf-4372-dcce-10f0865c0022"
      },
      "execution_count": null,
      "outputs": [
        {
          "output_type": "stream",
          "name": "stdout",
          "text": [
            "Aster\n",
            "Jubah\n",
            "Nambo\n",
            "Hachi\n",
            "Loop Done\n"
          ]
        }
      ]
    },
    {
      "cell_type": "code",
      "source": [
        "#Break \n",
        "for i in ['Aster','Jubah','Nambo','Hachi']:\n",
        "    if 'b' in i:\n",
        "        break\n",
        "    print(i)\n",
        "else:\n",
        "    print('Loop Done')"
      ],
      "metadata": {
        "colab": {
          "base_uri": "https://localhost:8080/"
        },
        "id": "yjvkJ1EWXvrT",
        "outputId": "50fc5c29-6269-4bc2-bacd-e5e802d9a019"
      },
      "execution_count": null,
      "outputs": [
        {
          "output_type": "stream",
          "name": "stdout",
          "text": [
            "Aster\n"
          ]
        }
      ]
    },
    {
      "cell_type": "code",
      "source": [
        "for i in [1,2,3,4,5,6,7,8,9]:\n",
        "  print(i)"
      ],
      "metadata": {
        "colab": {
          "base_uri": "https://localhost:8080/"
        },
        "id": "NzbWGThDXy9J",
        "outputId": "05936c09-e470-4a44-967c-f6b94f4377c8"
      },
      "execution_count": null,
      "outputs": [
        {
          "output_type": "stream",
          "name": "stdout",
          "text": [
            "1\n",
            "2\n",
            "3\n",
            "4\n",
            "5\n",
            "6\n",
            "7\n",
            "8\n",
            "9\n"
          ]
        }
      ]
    },
    {
      "cell_type": "code",
      "source": [
        "a = [1,2,3]\n",
        "b = [4,5,6]\n",
        "c = [7,8,9]\n",
        "for i,j,k in zip(a,b,c):\n",
        "    print(i+j+k)"
      ],
      "metadata": {
        "colab": {
          "base_uri": "https://localhost:8080/"
        },
        "id": "whv8FYE8YFpr",
        "outputId": "fe1bceb2-e0b2-4104-824c-f2c27a6213d2"
      },
      "execution_count": null,
      "outputs": [
        {
          "output_type": "stream",
          "name": "stdout",
          "text": [
            "12\n",
            "15\n",
            "18\n"
          ]
        }
      ]
    },
    {
      "cell_type": "code",
      "source": [
        "print(zip(a,b))"
      ],
      "metadata": {
        "colab": {
          "base_uri": "https://localhost:8080/"
        },
        "id": "zHjTGWWjYI68",
        "outputId": "0c0e6b81-98b6-41c2-f205-ff94896c4317"
      },
      "execution_count": null,
      "outputs": [
        {
          "output_type": "stream",
          "name": "stdout",
          "text": [
            "<zip object at 0x7f84cc14d980>\n"
          ]
        }
      ]
    },
    {
      "cell_type": "markdown",
      "source": [
        "quiz 3"
      ],
      "metadata": {
        "id": "usxofhaM5yWB"
      }
    },
    {
      "cell_type": "code",
      "source": [
        "i = 1\n",
        "while i <= 20:\n",
        "    if i % 2 == 0:\n",
        "        print(\"Genap\")\n",
        "    else:\n",
        "        print(i)\n",
        "    i += 1"
      ],
      "metadata": {
        "colab": {
          "base_uri": "https://localhost:8080/"
        },
        "id": "3hHYdZ9S5t5R",
        "outputId": "31f81871-c102-44c4-cabe-b8909b115c9a"
      },
      "execution_count": null,
      "outputs": [
        {
          "output_type": "stream",
          "name": "stdout",
          "text": [
            "1\n",
            "Genap\n",
            "3\n",
            "Genap\n",
            "5\n",
            "Genap\n",
            "7\n",
            "Genap\n",
            "9\n",
            "Genap\n",
            "11\n",
            "Genap\n",
            "13\n",
            "Genap\n",
            "15\n",
            "Genap\n",
            "17\n",
            "Genap\n",
            "19\n",
            "Genap\n"
          ]
        }
      ]
    },
    {
      "cell_type": "markdown",
      "source": [
        "**TUGAS SESI 2**"
      ],
      "metadata": {
        "id": "BTXWMOhJ9xHZ"
      }
    },
    {
      "cell_type": "markdown",
      "source": [
        "Program ini akan mencetak deret bilangan segitiga dimulai dari angka 1 hingga 10. Berikut adalah penjelasan rinci program ini:\n",
        "\n",
        "Baris pertama dari program ini adalah for i in range(1, 11):. Ini adalah loop for pertama yang akan melakukan iterasi 10 kali, mulai dari angka 1 hingga angka 10.\n",
        "Pada setiap iterasi dari loop for pertama, loop for kedua akan dijalankan. Loop for kedua adalah for j in range(i):. Ini akan membuat loop kedua yang akan berjalan sebanyak i kali di setiap iterasi loop for pertama. Pada iterasi pertama dari loop for pertama, loop for kedua akan dijalankan sekali, pada iterasi kedua dari loop for pertama, loop for kedua akan dijalankan dua kali, dan seterusnya.\n",
        "Pada setiap iterasi dari loop for kedua, program mencetak nilai i dengan format print(i, end=\" \"). Ini akan mencetak nilai i ke dalam satu baris, dipisahkan oleh spasi. end=\" \" mengatur agar hasil cetakan pada setiap iterasi loop for kedua tetap berada di satu baris.\n",
        "Setelah loop for kedua selesai dijalankan, program akan mencetak baris baru menggunakan print(). Ini akan memindahkan hasil cetakan pada iterasi loop for pertama ke baris baru.\n",
        "Program akan melanjutkan ke iterasi berikutnya dari loop for pertama dan melakukan hal yang sama sampai loop for pertama selesai dijalankan.\n",
        "Dalam keseluruhan, program ini mencetak angka dari 1 hingga 10 dalam bentuk deret bilangan segitiga "
      ],
      "metadata": {
        "id": "a8BRN6liY7mt"
      }
    },
    {
      "cell_type": "code",
      "source": [
        "for i in range(1, 11):\n",
        "    for j in range(i):\n",
        "        print(i, end=\" \")\n",
        "    print()"
      ],
      "metadata": {
        "colab": {
          "base_uri": "https://localhost:8080/"
        },
        "id": "I76Ufsh79sWY",
        "outputId": "201b03c8-61b3-4040-9745-7c3127b9c365"
      },
      "execution_count": null,
      "outputs": [
        {
          "output_type": "stream",
          "name": "stdout",
          "text": [
            "1 \n",
            "2 2 \n",
            "3 3 3 \n",
            "4 4 4 4 \n",
            "5 5 5 5 5 \n",
            "6 6 6 6 6 6 \n",
            "7 7 7 7 7 7 7 \n",
            "8 8 8 8 8 8 8 8 \n",
            "9 9 9 9 9 9 9 9 9 \n",
            "10 10 10 10 10 10 10 10 10 10 \n"
          ]
        }
      ]
    }
  ]
}