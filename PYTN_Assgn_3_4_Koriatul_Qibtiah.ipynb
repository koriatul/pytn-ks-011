{
  "cells": [
    {
      "cell_type": "markdown",
      "metadata": {
        "id": "view-in-github",
        "colab_type": "text"
      },
      "source": [
        "<a href=\"https://colab.research.google.com/github/koriatul/pytn-ks-011/blob/main/PYTN_Assgn_3_4_Koriatul_Qibtiah.ipynb\" target=\"_parent\"><img src=\"https://colab.research.google.com/assets/colab-badge.svg\" alt=\"Open In Colab\"/></a>"
      ]
    },
    {
      "cell_type": "markdown",
      "metadata": {
        "id": "hZ_IQlgQ1l3I"
      },
      "source": [
        "<h1> Koriatul Qibtiah <h1>\n",
        "<h2> PYTN-KS-011-015"
      ]
    },
    {
      "cell_type": "markdown",
      "metadata": {
        "id": "omsFGlmuz9fk"
      },
      "source": [
        "<h2> import Library <h2>"
      ]
    },
    {
      "cell_type": "code",
      "execution_count": 1,
      "metadata": {
        "id": "5Eo9af7p1xu-"
      },
      "outputs": [],
      "source": [
        "import pandas as pd\n",
        "import numpy as np"
      ]
    },
    {
      "cell_type": "code",
      "execution_count": 2,
      "metadata": {
        "colab": {
          "base_uri": "https://localhost:8080/",
          "height": 424
        },
        "id": "j3Rpnh6d3jtA",
        "outputId": "139e2f35-1f8a-429a-8911-9c2fd9b426a5"
      },
      "outputs": [
        {
          "output_type": "execute_result",
          "data": {
            "text/plain": [
              "     age;\"job\";\"marital\";\"education\";\"default\";\"balance\";\"housing\";\"loan\";\"contact\";\"day\";\"month\";\"duration\";\"campaign\";\"pdays\";\"previous\";\"poutcome\";\"y\"\n",
              "0     30;\"unemployed\";\"married\";\"primary\";\"no\";1787;...                                                                                                  \n",
              "1     33;\"services\";\"married\";\"secondary\";\"no\";4789;...                                                                                                  \n",
              "2     35;\"management\";\"single\";\"tertiary\";\"no\";1350;...                                                                                                  \n",
              "3     30;\"management\";\"married\";\"tertiary\";\"no\";1476...                                                                                                  \n",
              "4     59;\"blue-collar\";\"married\";\"secondary\";\"no\";0;...                                                                                                  \n",
              "...                                                 ...                                                                                                  \n",
              "4516  33;\"services\";\"married\";\"secondary\";\"no\";-333;...                                                                                                  \n",
              "4517  57;\"self-employed\";\"married\";\"tertiary\";\"yes\";...                                                                                                  \n",
              "4518  57;\"technician\";\"married\";\"secondary\";\"no\";295...                                                                                                  \n",
              "4519  28;\"blue-collar\";\"married\";\"secondary\";\"no\";11...                                                                                                  \n",
              "4520  44;\"entrepreneur\";\"single\";\"tertiary\";\"no\";113...                                                                                                  \n",
              "\n",
              "[4521 rows x 1 columns]"
            ],
            "text/html": [
              "\n",
              "  <div id=\"df-c6c841c2-a130-4552-bcb9-7d45239bb612\">\n",
              "    <div class=\"colab-df-container\">\n",
              "      <div>\n",
              "<style scoped>\n",
              "    .dataframe tbody tr th:only-of-type {\n",
              "        vertical-align: middle;\n",
              "    }\n",
              "\n",
              "    .dataframe tbody tr th {\n",
              "        vertical-align: top;\n",
              "    }\n",
              "\n",
              "    .dataframe thead th {\n",
              "        text-align: right;\n",
              "    }\n",
              "</style>\n",
              "<table border=\"1\" class=\"dataframe\">\n",
              "  <thead>\n",
              "    <tr style=\"text-align: right;\">\n",
              "      <th></th>\n",
              "      <th>age;\"job\";\"marital\";\"education\";\"default\";\"balance\";\"housing\";\"loan\";\"contact\";\"day\";\"month\";\"duration\";\"campaign\";\"pdays\";\"previous\";\"poutcome\";\"y\"</th>\n",
              "    </tr>\n",
              "  </thead>\n",
              "  <tbody>\n",
              "    <tr>\n",
              "      <th>0</th>\n",
              "      <td>30;\"unemployed\";\"married\";\"primary\";\"no\";1787;...</td>\n",
              "    </tr>\n",
              "    <tr>\n",
              "      <th>1</th>\n",
              "      <td>33;\"services\";\"married\";\"secondary\";\"no\";4789;...</td>\n",
              "    </tr>\n",
              "    <tr>\n",
              "      <th>2</th>\n",
              "      <td>35;\"management\";\"single\";\"tertiary\";\"no\";1350;...</td>\n",
              "    </tr>\n",
              "    <tr>\n",
              "      <th>3</th>\n",
              "      <td>30;\"management\";\"married\";\"tertiary\";\"no\";1476...</td>\n",
              "    </tr>\n",
              "    <tr>\n",
              "      <th>4</th>\n",
              "      <td>59;\"blue-collar\";\"married\";\"secondary\";\"no\";0;...</td>\n",
              "    </tr>\n",
              "    <tr>\n",
              "      <th>...</th>\n",
              "      <td>...</td>\n",
              "    </tr>\n",
              "    <tr>\n",
              "      <th>4516</th>\n",
              "      <td>33;\"services\";\"married\";\"secondary\";\"no\";-333;...</td>\n",
              "    </tr>\n",
              "    <tr>\n",
              "      <th>4517</th>\n",
              "      <td>57;\"self-employed\";\"married\";\"tertiary\";\"yes\";...</td>\n",
              "    </tr>\n",
              "    <tr>\n",
              "      <th>4518</th>\n",
              "      <td>57;\"technician\";\"married\";\"secondary\";\"no\";295...</td>\n",
              "    </tr>\n",
              "    <tr>\n",
              "      <th>4519</th>\n",
              "      <td>28;\"blue-collar\";\"married\";\"secondary\";\"no\";11...</td>\n",
              "    </tr>\n",
              "    <tr>\n",
              "      <th>4520</th>\n",
              "      <td>44;\"entrepreneur\";\"single\";\"tertiary\";\"no\";113...</td>\n",
              "    </tr>\n",
              "  </tbody>\n",
              "</table>\n",
              "<p>4521 rows × 1 columns</p>\n",
              "</div>\n",
              "      <button class=\"colab-df-convert\" onclick=\"convertToInteractive('df-c6c841c2-a130-4552-bcb9-7d45239bb612')\"\n",
              "              title=\"Convert this dataframe to an interactive table.\"\n",
              "              style=\"display:none;\">\n",
              "        \n",
              "  <svg xmlns=\"http://www.w3.org/2000/svg\" height=\"24px\"viewBox=\"0 0 24 24\"\n",
              "       width=\"24px\">\n",
              "    <path d=\"M0 0h24v24H0V0z\" fill=\"none\"/>\n",
              "    <path d=\"M18.56 5.44l.94 2.06.94-2.06 2.06-.94-2.06-.94-.94-2.06-.94 2.06-2.06.94zm-11 1L8.5 8.5l.94-2.06 2.06-.94-2.06-.94L8.5 2.5l-.94 2.06-2.06.94zm10 10l.94 2.06.94-2.06 2.06-.94-2.06-.94-.94-2.06-.94 2.06-2.06.94z\"/><path d=\"M17.41 7.96l-1.37-1.37c-.4-.4-.92-.59-1.43-.59-.52 0-1.04.2-1.43.59L10.3 9.45l-7.72 7.72c-.78.78-.78 2.05 0 2.83L4 21.41c.39.39.9.59 1.41.59.51 0 1.02-.2 1.41-.59l7.78-7.78 2.81-2.81c.8-.78.8-2.07 0-2.86zM5.41 20L4 18.59l7.72-7.72 1.47 1.35L5.41 20z\"/>\n",
              "  </svg>\n",
              "      </button>\n",
              "      \n",
              "  <style>\n",
              "    .colab-df-container {\n",
              "      display:flex;\n",
              "      flex-wrap:wrap;\n",
              "      gap: 12px;\n",
              "    }\n",
              "\n",
              "    .colab-df-convert {\n",
              "      background-color: #E8F0FE;\n",
              "      border: none;\n",
              "      border-radius: 50%;\n",
              "      cursor: pointer;\n",
              "      display: none;\n",
              "      fill: #1967D2;\n",
              "      height: 32px;\n",
              "      padding: 0 0 0 0;\n",
              "      width: 32px;\n",
              "    }\n",
              "\n",
              "    .colab-df-convert:hover {\n",
              "      background-color: #E2EBFA;\n",
              "      box-shadow: 0px 1px 2px rgba(60, 64, 67, 0.3), 0px 1px 3px 1px rgba(60, 64, 67, 0.15);\n",
              "      fill: #174EA6;\n",
              "    }\n",
              "\n",
              "    [theme=dark] .colab-df-convert {\n",
              "      background-color: #3B4455;\n",
              "      fill: #D2E3FC;\n",
              "    }\n",
              "\n",
              "    [theme=dark] .colab-df-convert:hover {\n",
              "      background-color: #434B5C;\n",
              "      box-shadow: 0px 1px 3px 1px rgba(0, 0, 0, 0.15);\n",
              "      filter: drop-shadow(0px 1px 2px rgba(0, 0, 0, 0.3));\n",
              "      fill: #FFFFFF;\n",
              "    }\n",
              "  </style>\n",
              "\n",
              "      <script>\n",
              "        const buttonEl =\n",
              "          document.querySelector('#df-c6c841c2-a130-4552-bcb9-7d45239bb612 button.colab-df-convert');\n",
              "        buttonEl.style.display =\n",
              "          google.colab.kernel.accessAllowed ? 'block' : 'none';\n",
              "\n",
              "        async function convertToInteractive(key) {\n",
              "          const element = document.querySelector('#df-c6c841c2-a130-4552-bcb9-7d45239bb612');\n",
              "          const dataTable =\n",
              "            await google.colab.kernel.invokeFunction('convertToInteractive',\n",
              "                                                     [key], {});\n",
              "          if (!dataTable) return;\n",
              "\n",
              "          const docLinkHtml = 'Like what you see? Visit the ' +\n",
              "            '<a target=\"_blank\" href=https://colab.research.google.com/notebooks/data_table.ipynb>data table notebook</a>'\n",
              "            + ' to learn more about interactive tables.';\n",
              "          element.innerHTML = '';\n",
              "          dataTable['output_type'] = 'display_data';\n",
              "          await google.colab.output.renderOutput(dataTable, element);\n",
              "          const docLink = document.createElement('div');\n",
              "          docLink.innerHTML = docLinkHtml;\n",
              "          element.appendChild(docLink);\n",
              "        }\n",
              "      </script>\n",
              "    </div>\n",
              "  </div>\n",
              "  "
            ]
          },
          "metadata": {},
          "execution_count": 2
        }
      ],
      "source": [
        "#membaca data bank_csv\n",
        "df = pd.read_csv('/content/drive/MyDrive/Colab Notebooks/sesi 13_classification ii/bank.csv')\n",
        "df"
      ]
    },
    {
      "cell_type": "code",
      "source": [
        "#menampilkan 5 data teratas \n",
        "df.head()"
      ],
      "metadata": {
        "colab": {
          "base_uri": "https://localhost:8080/",
          "height": 206
        },
        "id": "6L0ZGcBhXwCB",
        "outputId": "8f2e2539-c70e-4f92-8610-2f3b74b13f8f"
      },
      "execution_count": 3,
      "outputs": [
        {
          "output_type": "execute_result",
          "data": {
            "text/plain": [
              "  age;\"job\";\"marital\";\"education\";\"default\";\"balance\";\"housing\";\"loan\";\"contact\";\"day\";\"month\";\"duration\";\"campaign\";\"pdays\";\"previous\";\"poutcome\";\"y\"\n",
              "0  30;\"unemployed\";\"married\";\"primary\";\"no\";1787;...                                                                                                  \n",
              "1  33;\"services\";\"married\";\"secondary\";\"no\";4789;...                                                                                                  \n",
              "2  35;\"management\";\"single\";\"tertiary\";\"no\";1350;...                                                                                                  \n",
              "3  30;\"management\";\"married\";\"tertiary\";\"no\";1476...                                                                                                  \n",
              "4  59;\"blue-collar\";\"married\";\"secondary\";\"no\";0;...                                                                                                  "
            ],
            "text/html": [
              "\n",
              "  <div id=\"df-caf96da3-6fd0-41be-b42a-190251d7a2c7\">\n",
              "    <div class=\"colab-df-container\">\n",
              "      <div>\n",
              "<style scoped>\n",
              "    .dataframe tbody tr th:only-of-type {\n",
              "        vertical-align: middle;\n",
              "    }\n",
              "\n",
              "    .dataframe tbody tr th {\n",
              "        vertical-align: top;\n",
              "    }\n",
              "\n",
              "    .dataframe thead th {\n",
              "        text-align: right;\n",
              "    }\n",
              "</style>\n",
              "<table border=\"1\" class=\"dataframe\">\n",
              "  <thead>\n",
              "    <tr style=\"text-align: right;\">\n",
              "      <th></th>\n",
              "      <th>age;\"job\";\"marital\";\"education\";\"default\";\"balance\";\"housing\";\"loan\";\"contact\";\"day\";\"month\";\"duration\";\"campaign\";\"pdays\";\"previous\";\"poutcome\";\"y\"</th>\n",
              "    </tr>\n",
              "  </thead>\n",
              "  <tbody>\n",
              "    <tr>\n",
              "      <th>0</th>\n",
              "      <td>30;\"unemployed\";\"married\";\"primary\";\"no\";1787;...</td>\n",
              "    </tr>\n",
              "    <tr>\n",
              "      <th>1</th>\n",
              "      <td>33;\"services\";\"married\";\"secondary\";\"no\";4789;...</td>\n",
              "    </tr>\n",
              "    <tr>\n",
              "      <th>2</th>\n",
              "      <td>35;\"management\";\"single\";\"tertiary\";\"no\";1350;...</td>\n",
              "    </tr>\n",
              "    <tr>\n",
              "      <th>3</th>\n",
              "      <td>30;\"management\";\"married\";\"tertiary\";\"no\";1476...</td>\n",
              "    </tr>\n",
              "    <tr>\n",
              "      <th>4</th>\n",
              "      <td>59;\"blue-collar\";\"married\";\"secondary\";\"no\";0;...</td>\n",
              "    </tr>\n",
              "  </tbody>\n",
              "</table>\n",
              "</div>\n",
              "      <button class=\"colab-df-convert\" onclick=\"convertToInteractive('df-caf96da3-6fd0-41be-b42a-190251d7a2c7')\"\n",
              "              title=\"Convert this dataframe to an interactive table.\"\n",
              "              style=\"display:none;\">\n",
              "        \n",
              "  <svg xmlns=\"http://www.w3.org/2000/svg\" height=\"24px\"viewBox=\"0 0 24 24\"\n",
              "       width=\"24px\">\n",
              "    <path d=\"M0 0h24v24H0V0z\" fill=\"none\"/>\n",
              "    <path d=\"M18.56 5.44l.94 2.06.94-2.06 2.06-.94-2.06-.94-.94-2.06-.94 2.06-2.06.94zm-11 1L8.5 8.5l.94-2.06 2.06-.94-2.06-.94L8.5 2.5l-.94 2.06-2.06.94zm10 10l.94 2.06.94-2.06 2.06-.94-2.06-.94-.94-2.06-.94 2.06-2.06.94z\"/><path d=\"M17.41 7.96l-1.37-1.37c-.4-.4-.92-.59-1.43-.59-.52 0-1.04.2-1.43.59L10.3 9.45l-7.72 7.72c-.78.78-.78 2.05 0 2.83L4 21.41c.39.39.9.59 1.41.59.51 0 1.02-.2 1.41-.59l7.78-7.78 2.81-2.81c.8-.78.8-2.07 0-2.86zM5.41 20L4 18.59l7.72-7.72 1.47 1.35L5.41 20z\"/>\n",
              "  </svg>\n",
              "      </button>\n",
              "      \n",
              "  <style>\n",
              "    .colab-df-container {\n",
              "      display:flex;\n",
              "      flex-wrap:wrap;\n",
              "      gap: 12px;\n",
              "    }\n",
              "\n",
              "    .colab-df-convert {\n",
              "      background-color: #E8F0FE;\n",
              "      border: none;\n",
              "      border-radius: 50%;\n",
              "      cursor: pointer;\n",
              "      display: none;\n",
              "      fill: #1967D2;\n",
              "      height: 32px;\n",
              "      padding: 0 0 0 0;\n",
              "      width: 32px;\n",
              "    }\n",
              "\n",
              "    .colab-df-convert:hover {\n",
              "      background-color: #E2EBFA;\n",
              "      box-shadow: 0px 1px 2px rgba(60, 64, 67, 0.3), 0px 1px 3px 1px rgba(60, 64, 67, 0.15);\n",
              "      fill: #174EA6;\n",
              "    }\n",
              "\n",
              "    [theme=dark] .colab-df-convert {\n",
              "      background-color: #3B4455;\n",
              "      fill: #D2E3FC;\n",
              "    }\n",
              "\n",
              "    [theme=dark] .colab-df-convert:hover {\n",
              "      background-color: #434B5C;\n",
              "      box-shadow: 0px 1px 3px 1px rgba(0, 0, 0, 0.15);\n",
              "      filter: drop-shadow(0px 1px 2px rgba(0, 0, 0, 0.3));\n",
              "      fill: #FFFFFF;\n",
              "    }\n",
              "  </style>\n",
              "\n",
              "      <script>\n",
              "        const buttonEl =\n",
              "          document.querySelector('#df-caf96da3-6fd0-41be-b42a-190251d7a2c7 button.colab-df-convert');\n",
              "        buttonEl.style.display =\n",
              "          google.colab.kernel.accessAllowed ? 'block' : 'none';\n",
              "\n",
              "        async function convertToInteractive(key) {\n",
              "          const element = document.querySelector('#df-caf96da3-6fd0-41be-b42a-190251d7a2c7');\n",
              "          const dataTable =\n",
              "            await google.colab.kernel.invokeFunction('convertToInteractive',\n",
              "                                                     [key], {});\n",
              "          if (!dataTable) return;\n",
              "\n",
              "          const docLinkHtml = 'Like what you see? Visit the ' +\n",
              "            '<a target=\"_blank\" href=https://colab.research.google.com/notebooks/data_table.ipynb>data table notebook</a>'\n",
              "            + ' to learn more about interactive tables.';\n",
              "          element.innerHTML = '';\n",
              "          dataTable['output_type'] = 'display_data';\n",
              "          await google.colab.output.renderOutput(dataTable, element);\n",
              "          const docLink = document.createElement('div');\n",
              "          docLink.innerHTML = docLinkHtml;\n",
              "          element.appendChild(docLink);\n",
              "        }\n",
              "      </script>\n",
              "    </div>\n",
              "  </div>\n",
              "  "
            ]
          },
          "metadata": {},
          "execution_count": 3
        }
      ]
    },
    {
      "cell_type": "code",
      "source": [
        "#menampilkan 5 data terbawah\n",
        "df.tail()"
      ],
      "metadata": {
        "colab": {
          "base_uri": "https://localhost:8080/",
          "height": 206
        },
        "id": "smL4MfgXXxw9",
        "outputId": "3d2da2c2-d22b-4d04-9ad3-c48a60f50ccc"
      },
      "execution_count": 4,
      "outputs": [
        {
          "output_type": "execute_result",
          "data": {
            "text/plain": [
              "     age;\"job\";\"marital\";\"education\";\"default\";\"balance\";\"housing\";\"loan\";\"contact\";\"day\";\"month\";\"duration\";\"campaign\";\"pdays\";\"previous\";\"poutcome\";\"y\"\n",
              "4516  33;\"services\";\"married\";\"secondary\";\"no\";-333;...                                                                                                  \n",
              "4517  57;\"self-employed\";\"married\";\"tertiary\";\"yes\";...                                                                                                  \n",
              "4518  57;\"technician\";\"married\";\"secondary\";\"no\";295...                                                                                                  \n",
              "4519  28;\"blue-collar\";\"married\";\"secondary\";\"no\";11...                                                                                                  \n",
              "4520  44;\"entrepreneur\";\"single\";\"tertiary\";\"no\";113...                                                                                                  "
            ],
            "text/html": [
              "\n",
              "  <div id=\"df-a6c76697-ea69-4519-9606-e9ef9ea47ab2\">\n",
              "    <div class=\"colab-df-container\">\n",
              "      <div>\n",
              "<style scoped>\n",
              "    .dataframe tbody tr th:only-of-type {\n",
              "        vertical-align: middle;\n",
              "    }\n",
              "\n",
              "    .dataframe tbody tr th {\n",
              "        vertical-align: top;\n",
              "    }\n",
              "\n",
              "    .dataframe thead th {\n",
              "        text-align: right;\n",
              "    }\n",
              "</style>\n",
              "<table border=\"1\" class=\"dataframe\">\n",
              "  <thead>\n",
              "    <tr style=\"text-align: right;\">\n",
              "      <th></th>\n",
              "      <th>age;\"job\";\"marital\";\"education\";\"default\";\"balance\";\"housing\";\"loan\";\"contact\";\"day\";\"month\";\"duration\";\"campaign\";\"pdays\";\"previous\";\"poutcome\";\"y\"</th>\n",
              "    </tr>\n",
              "  </thead>\n",
              "  <tbody>\n",
              "    <tr>\n",
              "      <th>4516</th>\n",
              "      <td>33;\"services\";\"married\";\"secondary\";\"no\";-333;...</td>\n",
              "    </tr>\n",
              "    <tr>\n",
              "      <th>4517</th>\n",
              "      <td>57;\"self-employed\";\"married\";\"tertiary\";\"yes\";...</td>\n",
              "    </tr>\n",
              "    <tr>\n",
              "      <th>4518</th>\n",
              "      <td>57;\"technician\";\"married\";\"secondary\";\"no\";295...</td>\n",
              "    </tr>\n",
              "    <tr>\n",
              "      <th>4519</th>\n",
              "      <td>28;\"blue-collar\";\"married\";\"secondary\";\"no\";11...</td>\n",
              "    </tr>\n",
              "    <tr>\n",
              "      <th>4520</th>\n",
              "      <td>44;\"entrepreneur\";\"single\";\"tertiary\";\"no\";113...</td>\n",
              "    </tr>\n",
              "  </tbody>\n",
              "</table>\n",
              "</div>\n",
              "      <button class=\"colab-df-convert\" onclick=\"convertToInteractive('df-a6c76697-ea69-4519-9606-e9ef9ea47ab2')\"\n",
              "              title=\"Convert this dataframe to an interactive table.\"\n",
              "              style=\"display:none;\">\n",
              "        \n",
              "  <svg xmlns=\"http://www.w3.org/2000/svg\" height=\"24px\"viewBox=\"0 0 24 24\"\n",
              "       width=\"24px\">\n",
              "    <path d=\"M0 0h24v24H0V0z\" fill=\"none\"/>\n",
              "    <path d=\"M18.56 5.44l.94 2.06.94-2.06 2.06-.94-2.06-.94-.94-2.06-.94 2.06-2.06.94zm-11 1L8.5 8.5l.94-2.06 2.06-.94-2.06-.94L8.5 2.5l-.94 2.06-2.06.94zm10 10l.94 2.06.94-2.06 2.06-.94-2.06-.94-.94-2.06-.94 2.06-2.06.94z\"/><path d=\"M17.41 7.96l-1.37-1.37c-.4-.4-.92-.59-1.43-.59-.52 0-1.04.2-1.43.59L10.3 9.45l-7.72 7.72c-.78.78-.78 2.05 0 2.83L4 21.41c.39.39.9.59 1.41.59.51 0 1.02-.2 1.41-.59l7.78-7.78 2.81-2.81c.8-.78.8-2.07 0-2.86zM5.41 20L4 18.59l7.72-7.72 1.47 1.35L5.41 20z\"/>\n",
              "  </svg>\n",
              "      </button>\n",
              "      \n",
              "  <style>\n",
              "    .colab-df-container {\n",
              "      display:flex;\n",
              "      flex-wrap:wrap;\n",
              "      gap: 12px;\n",
              "    }\n",
              "\n",
              "    .colab-df-convert {\n",
              "      background-color: #E8F0FE;\n",
              "      border: none;\n",
              "      border-radius: 50%;\n",
              "      cursor: pointer;\n",
              "      display: none;\n",
              "      fill: #1967D2;\n",
              "      height: 32px;\n",
              "      padding: 0 0 0 0;\n",
              "      width: 32px;\n",
              "    }\n",
              "\n",
              "    .colab-df-convert:hover {\n",
              "      background-color: #E2EBFA;\n",
              "      box-shadow: 0px 1px 2px rgba(60, 64, 67, 0.3), 0px 1px 3px 1px rgba(60, 64, 67, 0.15);\n",
              "      fill: #174EA6;\n",
              "    }\n",
              "\n",
              "    [theme=dark] .colab-df-convert {\n",
              "      background-color: #3B4455;\n",
              "      fill: #D2E3FC;\n",
              "    }\n",
              "\n",
              "    [theme=dark] .colab-df-convert:hover {\n",
              "      background-color: #434B5C;\n",
              "      box-shadow: 0px 1px 3px 1px rgba(0, 0, 0, 0.15);\n",
              "      filter: drop-shadow(0px 1px 2px rgba(0, 0, 0, 0.3));\n",
              "      fill: #FFFFFF;\n",
              "    }\n",
              "  </style>\n",
              "\n",
              "      <script>\n",
              "        const buttonEl =\n",
              "          document.querySelector('#df-a6c76697-ea69-4519-9606-e9ef9ea47ab2 button.colab-df-convert');\n",
              "        buttonEl.style.display =\n",
              "          google.colab.kernel.accessAllowed ? 'block' : 'none';\n",
              "\n",
              "        async function convertToInteractive(key) {\n",
              "          const element = document.querySelector('#df-a6c76697-ea69-4519-9606-e9ef9ea47ab2');\n",
              "          const dataTable =\n",
              "            await google.colab.kernel.invokeFunction('convertToInteractive',\n",
              "                                                     [key], {});\n",
              "          if (!dataTable) return;\n",
              "\n",
              "          const docLinkHtml = 'Like what you see? Visit the ' +\n",
              "            '<a target=\"_blank\" href=https://colab.research.google.com/notebooks/data_table.ipynb>data table notebook</a>'\n",
              "            + ' to learn more about interactive tables.';\n",
              "          element.innerHTML = '';\n",
              "          dataTable['output_type'] = 'display_data';\n",
              "          await google.colab.output.renderOutput(dataTable, element);\n",
              "          const docLink = document.createElement('div');\n",
              "          docLink.innerHTML = docLinkHtml;\n",
              "          element.appendChild(docLink);\n",
              "        }\n",
              "      </script>\n",
              "    </div>\n",
              "  </div>\n",
              "  "
            ]
          },
          "metadata": {},
          "execution_count": 4
        }
      ]
    },
    {
      "cell_type": "code",
      "execution_count": 5,
      "metadata": {
        "colab": {
          "base_uri": "https://localhost:8080/",
          "height": 424
        },
        "id": "0yXwu9jI5Ow4",
        "outputId": "eb79a1e4-9b79-42d5-c66b-f52e67474929"
      },
      "outputs": [
        {
          "output_type": "execute_result",
          "data": {
            "text/plain": [
              "                                                Biodata\n",
              "0     30;\"unemployed\";\"married\";\"primary\";\"no\";1787;...\n",
              "1     33;\"services\";\"married\";\"secondary\";\"no\";4789;...\n",
              "2     35;\"management\";\"single\";\"tertiary\";\"no\";1350;...\n",
              "3     30;\"management\";\"married\";\"tertiary\";\"no\";1476...\n",
              "4     59;\"blue-collar\";\"married\";\"secondary\";\"no\";0;...\n",
              "...                                                 ...\n",
              "4516  33;\"services\";\"married\";\"secondary\";\"no\";-333;...\n",
              "4517  57;\"self-employed\";\"married\";\"tertiary\";\"yes\";...\n",
              "4518  57;\"technician\";\"married\";\"secondary\";\"no\";295...\n",
              "4519  28;\"blue-collar\";\"married\";\"secondary\";\"no\";11...\n",
              "4520  44;\"entrepreneur\";\"single\";\"tertiary\";\"no\";113...\n",
              "\n",
              "[4521 rows x 1 columns]"
            ],
            "text/html": [
              "\n",
              "  <div id=\"df-860c82e0-6a78-4cc7-baff-c40e72354856\">\n",
              "    <div class=\"colab-df-container\">\n",
              "      <div>\n",
              "<style scoped>\n",
              "    .dataframe tbody tr th:only-of-type {\n",
              "        vertical-align: middle;\n",
              "    }\n",
              "\n",
              "    .dataframe tbody tr th {\n",
              "        vertical-align: top;\n",
              "    }\n",
              "\n",
              "    .dataframe thead th {\n",
              "        text-align: right;\n",
              "    }\n",
              "</style>\n",
              "<table border=\"1\" class=\"dataframe\">\n",
              "  <thead>\n",
              "    <tr style=\"text-align: right;\">\n",
              "      <th></th>\n",
              "      <th>Biodata</th>\n",
              "    </tr>\n",
              "  </thead>\n",
              "  <tbody>\n",
              "    <tr>\n",
              "      <th>0</th>\n",
              "      <td>30;\"unemployed\";\"married\";\"primary\";\"no\";1787;...</td>\n",
              "    </tr>\n",
              "    <tr>\n",
              "      <th>1</th>\n",
              "      <td>33;\"services\";\"married\";\"secondary\";\"no\";4789;...</td>\n",
              "    </tr>\n",
              "    <tr>\n",
              "      <th>2</th>\n",
              "      <td>35;\"management\";\"single\";\"tertiary\";\"no\";1350;...</td>\n",
              "    </tr>\n",
              "    <tr>\n",
              "      <th>3</th>\n",
              "      <td>30;\"management\";\"married\";\"tertiary\";\"no\";1476...</td>\n",
              "    </tr>\n",
              "    <tr>\n",
              "      <th>4</th>\n",
              "      <td>59;\"blue-collar\";\"married\";\"secondary\";\"no\";0;...</td>\n",
              "    </tr>\n",
              "    <tr>\n",
              "      <th>...</th>\n",
              "      <td>...</td>\n",
              "    </tr>\n",
              "    <tr>\n",
              "      <th>4516</th>\n",
              "      <td>33;\"services\";\"married\";\"secondary\";\"no\";-333;...</td>\n",
              "    </tr>\n",
              "    <tr>\n",
              "      <th>4517</th>\n",
              "      <td>57;\"self-employed\";\"married\";\"tertiary\";\"yes\";...</td>\n",
              "    </tr>\n",
              "    <tr>\n",
              "      <th>4518</th>\n",
              "      <td>57;\"technician\";\"married\";\"secondary\";\"no\";295...</td>\n",
              "    </tr>\n",
              "    <tr>\n",
              "      <th>4519</th>\n",
              "      <td>28;\"blue-collar\";\"married\";\"secondary\";\"no\";11...</td>\n",
              "    </tr>\n",
              "    <tr>\n",
              "      <th>4520</th>\n",
              "      <td>44;\"entrepreneur\";\"single\";\"tertiary\";\"no\";113...</td>\n",
              "    </tr>\n",
              "  </tbody>\n",
              "</table>\n",
              "<p>4521 rows × 1 columns</p>\n",
              "</div>\n",
              "      <button class=\"colab-df-convert\" onclick=\"convertToInteractive('df-860c82e0-6a78-4cc7-baff-c40e72354856')\"\n",
              "              title=\"Convert this dataframe to an interactive table.\"\n",
              "              style=\"display:none;\">\n",
              "        \n",
              "  <svg xmlns=\"http://www.w3.org/2000/svg\" height=\"24px\"viewBox=\"0 0 24 24\"\n",
              "       width=\"24px\">\n",
              "    <path d=\"M0 0h24v24H0V0z\" fill=\"none\"/>\n",
              "    <path d=\"M18.56 5.44l.94 2.06.94-2.06 2.06-.94-2.06-.94-.94-2.06-.94 2.06-2.06.94zm-11 1L8.5 8.5l.94-2.06 2.06-.94-2.06-.94L8.5 2.5l-.94 2.06-2.06.94zm10 10l.94 2.06.94-2.06 2.06-.94-2.06-.94-.94-2.06-.94 2.06-2.06.94z\"/><path d=\"M17.41 7.96l-1.37-1.37c-.4-.4-.92-.59-1.43-.59-.52 0-1.04.2-1.43.59L10.3 9.45l-7.72 7.72c-.78.78-.78 2.05 0 2.83L4 21.41c.39.39.9.59 1.41.59.51 0 1.02-.2 1.41-.59l7.78-7.78 2.81-2.81c.8-.78.8-2.07 0-2.86zM5.41 20L4 18.59l7.72-7.72 1.47 1.35L5.41 20z\"/>\n",
              "  </svg>\n",
              "      </button>\n",
              "      \n",
              "  <style>\n",
              "    .colab-df-container {\n",
              "      display:flex;\n",
              "      flex-wrap:wrap;\n",
              "      gap: 12px;\n",
              "    }\n",
              "\n",
              "    .colab-df-convert {\n",
              "      background-color: #E8F0FE;\n",
              "      border: none;\n",
              "      border-radius: 50%;\n",
              "      cursor: pointer;\n",
              "      display: none;\n",
              "      fill: #1967D2;\n",
              "      height: 32px;\n",
              "      padding: 0 0 0 0;\n",
              "      width: 32px;\n",
              "    }\n",
              "\n",
              "    .colab-df-convert:hover {\n",
              "      background-color: #E2EBFA;\n",
              "      box-shadow: 0px 1px 2px rgba(60, 64, 67, 0.3), 0px 1px 3px 1px rgba(60, 64, 67, 0.15);\n",
              "      fill: #174EA6;\n",
              "    }\n",
              "\n",
              "    [theme=dark] .colab-df-convert {\n",
              "      background-color: #3B4455;\n",
              "      fill: #D2E3FC;\n",
              "    }\n",
              "\n",
              "    [theme=dark] .colab-df-convert:hover {\n",
              "      background-color: #434B5C;\n",
              "      box-shadow: 0px 1px 3px 1px rgba(0, 0, 0, 0.15);\n",
              "      filter: drop-shadow(0px 1px 2px rgba(0, 0, 0, 0.3));\n",
              "      fill: #FFFFFF;\n",
              "    }\n",
              "  </style>\n",
              "\n",
              "      <script>\n",
              "        const buttonEl =\n",
              "          document.querySelector('#df-860c82e0-6a78-4cc7-baff-c40e72354856 button.colab-df-convert');\n",
              "        buttonEl.style.display =\n",
              "          google.colab.kernel.accessAllowed ? 'block' : 'none';\n",
              "\n",
              "        async function convertToInteractive(key) {\n",
              "          const element = document.querySelector('#df-860c82e0-6a78-4cc7-baff-c40e72354856');\n",
              "          const dataTable =\n",
              "            await google.colab.kernel.invokeFunction('convertToInteractive',\n",
              "                                                     [key], {});\n",
              "          if (!dataTable) return;\n",
              "\n",
              "          const docLinkHtml = 'Like what you see? Visit the ' +\n",
              "            '<a target=\"_blank\" href=https://colab.research.google.com/notebooks/data_table.ipynb>data table notebook</a>'\n",
              "            + ' to learn more about interactive tables.';\n",
              "          element.innerHTML = '';\n",
              "          dataTable['output_type'] = 'display_data';\n",
              "          await google.colab.output.renderOutput(dataTable, element);\n",
              "          const docLink = document.createElement('div');\n",
              "          docLink.innerHTML = docLinkHtml;\n",
              "          element.appendChild(docLink);\n",
              "        }\n",
              "      </script>\n",
              "    </div>\n",
              "  </div>\n",
              "  "
            ]
          },
          "metadata": {},
          "execution_count": 5
        }
      ],
      "source": [
        "#mengubah nama kolo menjadi 'Biodata'\n",
        "df = df.rename(columns={'age;\"job\";\"marital\";\"education\";\"default\";\"balance\";\"housing\";\"loan\";\"contact\";\"day\";\"month\";\"duration\";\"campaign\";\"pdays\";\"previous\";\"poutcome\";\"y\"' : 'Biodata'})\n",
        "df"
      ]
    },
    {
      "cell_type": "code",
      "execution_count": 6,
      "metadata": {
        "colab": {
          "base_uri": "https://localhost:8080/",
          "height": 505
        },
        "id": "GNMV_DFI8qPh",
        "outputId": "2e5d8f70-3235-4f49-e4ea-ae117d845dfe"
      },
      "outputs": [
        {
          "output_type": "execute_result",
          "data": {
            "text/plain": [
              "                                                Biodata age              job  \\\n",
              "0     30;\"unemployed\";\"married\";\"primary\";\"no\";1787;...  30     \"unemployed\"   \n",
              "1     33;\"services\";\"married\";\"secondary\";\"no\";4789;...  33       \"services\"   \n",
              "2     35;\"management\";\"single\";\"tertiary\";\"no\";1350;...  35     \"management\"   \n",
              "3     30;\"management\";\"married\";\"tertiary\";\"no\";1476...  30     \"management\"   \n",
              "4     59;\"blue-collar\";\"married\";\"secondary\";\"no\";0;...  59    \"blue-collar\"   \n",
              "...                                                 ...  ..              ...   \n",
              "4516  33;\"services\";\"married\";\"secondary\";\"no\";-333;...  33       \"services\"   \n",
              "4517  57;\"self-employed\";\"married\";\"tertiary\";\"yes\";...  57  \"self-employed\"   \n",
              "4518  57;\"technician\";\"married\";\"secondary\";\"no\";295...  57     \"technician\"   \n",
              "4519  28;\"blue-collar\";\"married\";\"secondary\";\"no\";11...  28    \"blue-collar\"   \n",
              "4520  44;\"entrepreneur\";\"single\";\"tertiary\";\"no\";113...  44   \"entrepreneur\"   \n",
              "\n",
              "        marital    education default balance housing   loan     contact day  \\\n",
              "0     \"married\"    \"primary\"    \"no\"    1787    \"no\"   \"no\"  \"cellular\"  19   \n",
              "1     \"married\"  \"secondary\"    \"no\"    4789   \"yes\"  \"yes\"  \"cellular\"  11   \n",
              "2      \"single\"   \"tertiary\"    \"no\"    1350   \"yes\"   \"no\"  \"cellular\"  16   \n",
              "3     \"married\"   \"tertiary\"    \"no\"    1476   \"yes\"  \"yes\"   \"unknown\"   3   \n",
              "4     \"married\"  \"secondary\"    \"no\"       0   \"yes\"   \"no\"   \"unknown\"   5   \n",
              "...         ...          ...     ...     ...     ...    ...         ...  ..   \n",
              "4516  \"married\"  \"secondary\"    \"no\"    -333   \"yes\"   \"no\"  \"cellular\"  30   \n",
              "4517  \"married\"   \"tertiary\"   \"yes\"   -3313   \"yes\"  \"yes\"   \"unknown\"   9   \n",
              "4518  \"married\"  \"secondary\"    \"no\"     295    \"no\"   \"no\"  \"cellular\"  19   \n",
              "4519  \"married\"  \"secondary\"    \"no\"    1137    \"no\"   \"no\"  \"cellular\"   6   \n",
              "4520   \"single\"   \"tertiary\"    \"no\"    1136   \"yes\"  \"yes\"  \"cellular\"   3   \n",
              "\n",
              "      month duration campaign pdays previous   poutcome     y  \n",
              "0     \"oct\"       79        1    -1        0  \"unknown\"  \"no\"  \n",
              "1     \"may\"      220        1   339        4  \"failure\"  \"no\"  \n",
              "2     \"apr\"      185        1   330        1  \"failure\"  \"no\"  \n",
              "3     \"jun\"      199        4    -1        0  \"unknown\"  \"no\"  \n",
              "4     \"may\"      226        1    -1        0  \"unknown\"  \"no\"  \n",
              "...     ...      ...      ...   ...      ...        ...   ...  \n",
              "4516  \"jul\"      329        5    -1        0  \"unknown\"  \"no\"  \n",
              "4517  \"may\"      153        1    -1        0  \"unknown\"  \"no\"  \n",
              "4518  \"aug\"      151       11    -1        0  \"unknown\"  \"no\"  \n",
              "4519  \"feb\"      129        4   211        3    \"other\"  \"no\"  \n",
              "4520  \"apr\"      345        2   249        7    \"other\"  \"no\"  \n",
              "\n",
              "[4521 rows x 18 columns]"
            ],
            "text/html": [
              "\n",
              "  <div id=\"df-b5b2f703-1055-45b1-afec-48dea87aa4e3\">\n",
              "    <div class=\"colab-df-container\">\n",
              "      <div>\n",
              "<style scoped>\n",
              "    .dataframe tbody tr th:only-of-type {\n",
              "        vertical-align: middle;\n",
              "    }\n",
              "\n",
              "    .dataframe tbody tr th {\n",
              "        vertical-align: top;\n",
              "    }\n",
              "\n",
              "    .dataframe thead th {\n",
              "        text-align: right;\n",
              "    }\n",
              "</style>\n",
              "<table border=\"1\" class=\"dataframe\">\n",
              "  <thead>\n",
              "    <tr style=\"text-align: right;\">\n",
              "      <th></th>\n",
              "      <th>Biodata</th>\n",
              "      <th>age</th>\n",
              "      <th>job</th>\n",
              "      <th>marital</th>\n",
              "      <th>education</th>\n",
              "      <th>default</th>\n",
              "      <th>balance</th>\n",
              "      <th>housing</th>\n",
              "      <th>loan</th>\n",
              "      <th>contact</th>\n",
              "      <th>day</th>\n",
              "      <th>month</th>\n",
              "      <th>duration</th>\n",
              "      <th>campaign</th>\n",
              "      <th>pdays</th>\n",
              "      <th>previous</th>\n",
              "      <th>poutcome</th>\n",
              "      <th>y</th>\n",
              "    </tr>\n",
              "  </thead>\n",
              "  <tbody>\n",
              "    <tr>\n",
              "      <th>0</th>\n",
              "      <td>30;\"unemployed\";\"married\";\"primary\";\"no\";1787;...</td>\n",
              "      <td>30</td>\n",
              "      <td>\"unemployed\"</td>\n",
              "      <td>\"married\"</td>\n",
              "      <td>\"primary\"</td>\n",
              "      <td>\"no\"</td>\n",
              "      <td>1787</td>\n",
              "      <td>\"no\"</td>\n",
              "      <td>\"no\"</td>\n",
              "      <td>\"cellular\"</td>\n",
              "      <td>19</td>\n",
              "      <td>\"oct\"</td>\n",
              "      <td>79</td>\n",
              "      <td>1</td>\n",
              "      <td>-1</td>\n",
              "      <td>0</td>\n",
              "      <td>\"unknown\"</td>\n",
              "      <td>\"no\"</td>\n",
              "    </tr>\n",
              "    <tr>\n",
              "      <th>1</th>\n",
              "      <td>33;\"services\";\"married\";\"secondary\";\"no\";4789;...</td>\n",
              "      <td>33</td>\n",
              "      <td>\"services\"</td>\n",
              "      <td>\"married\"</td>\n",
              "      <td>\"secondary\"</td>\n",
              "      <td>\"no\"</td>\n",
              "      <td>4789</td>\n",
              "      <td>\"yes\"</td>\n",
              "      <td>\"yes\"</td>\n",
              "      <td>\"cellular\"</td>\n",
              "      <td>11</td>\n",
              "      <td>\"may\"</td>\n",
              "      <td>220</td>\n",
              "      <td>1</td>\n",
              "      <td>339</td>\n",
              "      <td>4</td>\n",
              "      <td>\"failure\"</td>\n",
              "      <td>\"no\"</td>\n",
              "    </tr>\n",
              "    <tr>\n",
              "      <th>2</th>\n",
              "      <td>35;\"management\";\"single\";\"tertiary\";\"no\";1350;...</td>\n",
              "      <td>35</td>\n",
              "      <td>\"management\"</td>\n",
              "      <td>\"single\"</td>\n",
              "      <td>\"tertiary\"</td>\n",
              "      <td>\"no\"</td>\n",
              "      <td>1350</td>\n",
              "      <td>\"yes\"</td>\n",
              "      <td>\"no\"</td>\n",
              "      <td>\"cellular\"</td>\n",
              "      <td>16</td>\n",
              "      <td>\"apr\"</td>\n",
              "      <td>185</td>\n",
              "      <td>1</td>\n",
              "      <td>330</td>\n",
              "      <td>1</td>\n",
              "      <td>\"failure\"</td>\n",
              "      <td>\"no\"</td>\n",
              "    </tr>\n",
              "    <tr>\n",
              "      <th>3</th>\n",
              "      <td>30;\"management\";\"married\";\"tertiary\";\"no\";1476...</td>\n",
              "      <td>30</td>\n",
              "      <td>\"management\"</td>\n",
              "      <td>\"married\"</td>\n",
              "      <td>\"tertiary\"</td>\n",
              "      <td>\"no\"</td>\n",
              "      <td>1476</td>\n",
              "      <td>\"yes\"</td>\n",
              "      <td>\"yes\"</td>\n",
              "      <td>\"unknown\"</td>\n",
              "      <td>3</td>\n",
              "      <td>\"jun\"</td>\n",
              "      <td>199</td>\n",
              "      <td>4</td>\n",
              "      <td>-1</td>\n",
              "      <td>0</td>\n",
              "      <td>\"unknown\"</td>\n",
              "      <td>\"no\"</td>\n",
              "    </tr>\n",
              "    <tr>\n",
              "      <th>4</th>\n",
              "      <td>59;\"blue-collar\";\"married\";\"secondary\";\"no\";0;...</td>\n",
              "      <td>59</td>\n",
              "      <td>\"blue-collar\"</td>\n",
              "      <td>\"married\"</td>\n",
              "      <td>\"secondary\"</td>\n",
              "      <td>\"no\"</td>\n",
              "      <td>0</td>\n",
              "      <td>\"yes\"</td>\n",
              "      <td>\"no\"</td>\n",
              "      <td>\"unknown\"</td>\n",
              "      <td>5</td>\n",
              "      <td>\"may\"</td>\n",
              "      <td>226</td>\n",
              "      <td>1</td>\n",
              "      <td>-1</td>\n",
              "      <td>0</td>\n",
              "      <td>\"unknown\"</td>\n",
              "      <td>\"no\"</td>\n",
              "    </tr>\n",
              "    <tr>\n",
              "      <th>...</th>\n",
              "      <td>...</td>\n",
              "      <td>...</td>\n",
              "      <td>...</td>\n",
              "      <td>...</td>\n",
              "      <td>...</td>\n",
              "      <td>...</td>\n",
              "      <td>...</td>\n",
              "      <td>...</td>\n",
              "      <td>...</td>\n",
              "      <td>...</td>\n",
              "      <td>...</td>\n",
              "      <td>...</td>\n",
              "      <td>...</td>\n",
              "      <td>...</td>\n",
              "      <td>...</td>\n",
              "      <td>...</td>\n",
              "      <td>...</td>\n",
              "      <td>...</td>\n",
              "    </tr>\n",
              "    <tr>\n",
              "      <th>4516</th>\n",
              "      <td>33;\"services\";\"married\";\"secondary\";\"no\";-333;...</td>\n",
              "      <td>33</td>\n",
              "      <td>\"services\"</td>\n",
              "      <td>\"married\"</td>\n",
              "      <td>\"secondary\"</td>\n",
              "      <td>\"no\"</td>\n",
              "      <td>-333</td>\n",
              "      <td>\"yes\"</td>\n",
              "      <td>\"no\"</td>\n",
              "      <td>\"cellular\"</td>\n",
              "      <td>30</td>\n",
              "      <td>\"jul\"</td>\n",
              "      <td>329</td>\n",
              "      <td>5</td>\n",
              "      <td>-1</td>\n",
              "      <td>0</td>\n",
              "      <td>\"unknown\"</td>\n",
              "      <td>\"no\"</td>\n",
              "    </tr>\n",
              "    <tr>\n",
              "      <th>4517</th>\n",
              "      <td>57;\"self-employed\";\"married\";\"tertiary\";\"yes\";...</td>\n",
              "      <td>57</td>\n",
              "      <td>\"self-employed\"</td>\n",
              "      <td>\"married\"</td>\n",
              "      <td>\"tertiary\"</td>\n",
              "      <td>\"yes\"</td>\n",
              "      <td>-3313</td>\n",
              "      <td>\"yes\"</td>\n",
              "      <td>\"yes\"</td>\n",
              "      <td>\"unknown\"</td>\n",
              "      <td>9</td>\n",
              "      <td>\"may\"</td>\n",
              "      <td>153</td>\n",
              "      <td>1</td>\n",
              "      <td>-1</td>\n",
              "      <td>0</td>\n",
              "      <td>\"unknown\"</td>\n",
              "      <td>\"no\"</td>\n",
              "    </tr>\n",
              "    <tr>\n",
              "      <th>4518</th>\n",
              "      <td>57;\"technician\";\"married\";\"secondary\";\"no\";295...</td>\n",
              "      <td>57</td>\n",
              "      <td>\"technician\"</td>\n",
              "      <td>\"married\"</td>\n",
              "      <td>\"secondary\"</td>\n",
              "      <td>\"no\"</td>\n",
              "      <td>295</td>\n",
              "      <td>\"no\"</td>\n",
              "      <td>\"no\"</td>\n",
              "      <td>\"cellular\"</td>\n",
              "      <td>19</td>\n",
              "      <td>\"aug\"</td>\n",
              "      <td>151</td>\n",
              "      <td>11</td>\n",
              "      <td>-1</td>\n",
              "      <td>0</td>\n",
              "      <td>\"unknown\"</td>\n",
              "      <td>\"no\"</td>\n",
              "    </tr>\n",
              "    <tr>\n",
              "      <th>4519</th>\n",
              "      <td>28;\"blue-collar\";\"married\";\"secondary\";\"no\";11...</td>\n",
              "      <td>28</td>\n",
              "      <td>\"blue-collar\"</td>\n",
              "      <td>\"married\"</td>\n",
              "      <td>\"secondary\"</td>\n",
              "      <td>\"no\"</td>\n",
              "      <td>1137</td>\n",
              "      <td>\"no\"</td>\n",
              "      <td>\"no\"</td>\n",
              "      <td>\"cellular\"</td>\n",
              "      <td>6</td>\n",
              "      <td>\"feb\"</td>\n",
              "      <td>129</td>\n",
              "      <td>4</td>\n",
              "      <td>211</td>\n",
              "      <td>3</td>\n",
              "      <td>\"other\"</td>\n",
              "      <td>\"no\"</td>\n",
              "    </tr>\n",
              "    <tr>\n",
              "      <th>4520</th>\n",
              "      <td>44;\"entrepreneur\";\"single\";\"tertiary\";\"no\";113...</td>\n",
              "      <td>44</td>\n",
              "      <td>\"entrepreneur\"</td>\n",
              "      <td>\"single\"</td>\n",
              "      <td>\"tertiary\"</td>\n",
              "      <td>\"no\"</td>\n",
              "      <td>1136</td>\n",
              "      <td>\"yes\"</td>\n",
              "      <td>\"yes\"</td>\n",
              "      <td>\"cellular\"</td>\n",
              "      <td>3</td>\n",
              "      <td>\"apr\"</td>\n",
              "      <td>345</td>\n",
              "      <td>2</td>\n",
              "      <td>249</td>\n",
              "      <td>7</td>\n",
              "      <td>\"other\"</td>\n",
              "      <td>\"no\"</td>\n",
              "    </tr>\n",
              "  </tbody>\n",
              "</table>\n",
              "<p>4521 rows × 18 columns</p>\n",
              "</div>\n",
              "      <button class=\"colab-df-convert\" onclick=\"convertToInteractive('df-b5b2f703-1055-45b1-afec-48dea87aa4e3')\"\n",
              "              title=\"Convert this dataframe to an interactive table.\"\n",
              "              style=\"display:none;\">\n",
              "        \n",
              "  <svg xmlns=\"http://www.w3.org/2000/svg\" height=\"24px\"viewBox=\"0 0 24 24\"\n",
              "       width=\"24px\">\n",
              "    <path d=\"M0 0h24v24H0V0z\" fill=\"none\"/>\n",
              "    <path d=\"M18.56 5.44l.94 2.06.94-2.06 2.06-.94-2.06-.94-.94-2.06-.94 2.06-2.06.94zm-11 1L8.5 8.5l.94-2.06 2.06-.94-2.06-.94L8.5 2.5l-.94 2.06-2.06.94zm10 10l.94 2.06.94-2.06 2.06-.94-2.06-.94-.94-2.06-.94 2.06-2.06.94z\"/><path d=\"M17.41 7.96l-1.37-1.37c-.4-.4-.92-.59-1.43-.59-.52 0-1.04.2-1.43.59L10.3 9.45l-7.72 7.72c-.78.78-.78 2.05 0 2.83L4 21.41c.39.39.9.59 1.41.59.51 0 1.02-.2 1.41-.59l7.78-7.78 2.81-2.81c.8-.78.8-2.07 0-2.86zM5.41 20L4 18.59l7.72-7.72 1.47 1.35L5.41 20z\"/>\n",
              "  </svg>\n",
              "      </button>\n",
              "      \n",
              "  <style>\n",
              "    .colab-df-container {\n",
              "      display:flex;\n",
              "      flex-wrap:wrap;\n",
              "      gap: 12px;\n",
              "    }\n",
              "\n",
              "    .colab-df-convert {\n",
              "      background-color: #E8F0FE;\n",
              "      border: none;\n",
              "      border-radius: 50%;\n",
              "      cursor: pointer;\n",
              "      display: none;\n",
              "      fill: #1967D2;\n",
              "      height: 32px;\n",
              "      padding: 0 0 0 0;\n",
              "      width: 32px;\n",
              "    }\n",
              "\n",
              "    .colab-df-convert:hover {\n",
              "      background-color: #E2EBFA;\n",
              "      box-shadow: 0px 1px 2px rgba(60, 64, 67, 0.3), 0px 1px 3px 1px rgba(60, 64, 67, 0.15);\n",
              "      fill: #174EA6;\n",
              "    }\n",
              "\n",
              "    [theme=dark] .colab-df-convert {\n",
              "      background-color: #3B4455;\n",
              "      fill: #D2E3FC;\n",
              "    }\n",
              "\n",
              "    [theme=dark] .colab-df-convert:hover {\n",
              "      background-color: #434B5C;\n",
              "      box-shadow: 0px 1px 3px 1px rgba(0, 0, 0, 0.15);\n",
              "      filter: drop-shadow(0px 1px 2px rgba(0, 0, 0, 0.3));\n",
              "      fill: #FFFFFF;\n",
              "    }\n",
              "  </style>\n",
              "\n",
              "      <script>\n",
              "        const buttonEl =\n",
              "          document.querySelector('#df-b5b2f703-1055-45b1-afec-48dea87aa4e3 button.colab-df-convert');\n",
              "        buttonEl.style.display =\n",
              "          google.colab.kernel.accessAllowed ? 'block' : 'none';\n",
              "\n",
              "        async function convertToInteractive(key) {\n",
              "          const element = document.querySelector('#df-b5b2f703-1055-45b1-afec-48dea87aa4e3');\n",
              "          const dataTable =\n",
              "            await google.colab.kernel.invokeFunction('convertToInteractive',\n",
              "                                                     [key], {});\n",
              "          if (!dataTable) return;\n",
              "\n",
              "          const docLinkHtml = 'Like what you see? Visit the ' +\n",
              "            '<a target=\"_blank\" href=https://colab.research.google.com/notebooks/data_table.ipynb>data table notebook</a>'\n",
              "            + ' to learn more about interactive tables.';\n",
              "          element.innerHTML = '';\n",
              "          dataTable['output_type'] = 'display_data';\n",
              "          await google.colab.output.renderOutput(dataTable, element);\n",
              "          const docLink = document.createElement('div');\n",
              "          docLink.innerHTML = docLinkHtml;\n",
              "          element.appendChild(docLink);\n",
              "        }\n",
              "      </script>\n",
              "    </div>\n",
              "  </div>\n",
              "  "
            ]
          },
          "metadata": {},
          "execution_count": 6
        }
      ],
      "source": [
        "# Memisahkan setiap kolom\n",
        "df[[\"age\",\"job\",\"marital\",\"education\",\"default\",\"balance\",\"housing\",\"loan\",\"contact\",\"day\",\"month\",\"duration\",\"campaign\",\"pdays\",\"previous\",\"poutcome\",\"y\"]] = df['Biodata'].str.split(';', expand =True)\n",
        "df"
      ]
    },
    {
      "cell_type": "code",
      "execution_count": 7,
      "metadata": {
        "colab": {
          "base_uri": "https://localhost:8080/",
          "height": 424
        },
        "id": "Zag62Q1ME0iH",
        "outputId": "f116b949-c15f-4096-ddbc-dc4ec6f22399"
      },
      "outputs": [
        {
          "output_type": "execute_result",
          "data": {
            "text/plain": [
              "     age              job    marital    education default balance housing  \\\n",
              "0     30     \"unemployed\"  \"married\"    \"primary\"    \"no\"    1787    \"no\"   \n",
              "1     33       \"services\"  \"married\"  \"secondary\"    \"no\"    4789   \"yes\"   \n",
              "2     35     \"management\"   \"single\"   \"tertiary\"    \"no\"    1350   \"yes\"   \n",
              "3     30     \"management\"  \"married\"   \"tertiary\"    \"no\"    1476   \"yes\"   \n",
              "4     59    \"blue-collar\"  \"married\"  \"secondary\"    \"no\"       0   \"yes\"   \n",
              "...   ..              ...        ...          ...     ...     ...     ...   \n",
              "4516  33       \"services\"  \"married\"  \"secondary\"    \"no\"    -333   \"yes\"   \n",
              "4517  57  \"self-employed\"  \"married\"   \"tertiary\"   \"yes\"   -3313   \"yes\"   \n",
              "4518  57     \"technician\"  \"married\"  \"secondary\"    \"no\"     295    \"no\"   \n",
              "4519  28    \"blue-collar\"  \"married\"  \"secondary\"    \"no\"    1137    \"no\"   \n",
              "4520  44   \"entrepreneur\"   \"single\"   \"tertiary\"    \"no\"    1136   \"yes\"   \n",
              "\n",
              "       loan     contact day  month duration campaign pdays previous  \\\n",
              "0      \"no\"  \"cellular\"  19  \"oct\"       79        1    -1        0   \n",
              "1     \"yes\"  \"cellular\"  11  \"may\"      220        1   339        4   \n",
              "2      \"no\"  \"cellular\"  16  \"apr\"      185        1   330        1   \n",
              "3     \"yes\"   \"unknown\"   3  \"jun\"      199        4    -1        0   \n",
              "4      \"no\"   \"unknown\"   5  \"may\"      226        1    -1        0   \n",
              "...     ...         ...  ..    ...      ...      ...   ...      ...   \n",
              "4516   \"no\"  \"cellular\"  30  \"jul\"      329        5    -1        0   \n",
              "4517  \"yes\"   \"unknown\"   9  \"may\"      153        1    -1        0   \n",
              "4518   \"no\"  \"cellular\"  19  \"aug\"      151       11    -1        0   \n",
              "4519   \"no\"  \"cellular\"   6  \"feb\"      129        4   211        3   \n",
              "4520  \"yes\"  \"cellular\"   3  \"apr\"      345        2   249        7   \n",
              "\n",
              "       poutcome     y  \n",
              "0     \"unknown\"  \"no\"  \n",
              "1     \"failure\"  \"no\"  \n",
              "2     \"failure\"  \"no\"  \n",
              "3     \"unknown\"  \"no\"  \n",
              "4     \"unknown\"  \"no\"  \n",
              "...         ...   ...  \n",
              "4516  \"unknown\"  \"no\"  \n",
              "4517  \"unknown\"  \"no\"  \n",
              "4518  \"unknown\"  \"no\"  \n",
              "4519    \"other\"  \"no\"  \n",
              "4520    \"other\"  \"no\"  \n",
              "\n",
              "[4521 rows x 17 columns]"
            ],
            "text/html": [
              "\n",
              "  <div id=\"df-8f114b83-6bbd-402c-886a-ff2a9a5a0062\">\n",
              "    <div class=\"colab-df-container\">\n",
              "      <div>\n",
              "<style scoped>\n",
              "    .dataframe tbody tr th:only-of-type {\n",
              "        vertical-align: middle;\n",
              "    }\n",
              "\n",
              "    .dataframe tbody tr th {\n",
              "        vertical-align: top;\n",
              "    }\n",
              "\n",
              "    .dataframe thead th {\n",
              "        text-align: right;\n",
              "    }\n",
              "</style>\n",
              "<table border=\"1\" class=\"dataframe\">\n",
              "  <thead>\n",
              "    <tr style=\"text-align: right;\">\n",
              "      <th></th>\n",
              "      <th>age</th>\n",
              "      <th>job</th>\n",
              "      <th>marital</th>\n",
              "      <th>education</th>\n",
              "      <th>default</th>\n",
              "      <th>balance</th>\n",
              "      <th>housing</th>\n",
              "      <th>loan</th>\n",
              "      <th>contact</th>\n",
              "      <th>day</th>\n",
              "      <th>month</th>\n",
              "      <th>duration</th>\n",
              "      <th>campaign</th>\n",
              "      <th>pdays</th>\n",
              "      <th>previous</th>\n",
              "      <th>poutcome</th>\n",
              "      <th>y</th>\n",
              "    </tr>\n",
              "  </thead>\n",
              "  <tbody>\n",
              "    <tr>\n",
              "      <th>0</th>\n",
              "      <td>30</td>\n",
              "      <td>\"unemployed\"</td>\n",
              "      <td>\"married\"</td>\n",
              "      <td>\"primary\"</td>\n",
              "      <td>\"no\"</td>\n",
              "      <td>1787</td>\n",
              "      <td>\"no\"</td>\n",
              "      <td>\"no\"</td>\n",
              "      <td>\"cellular\"</td>\n",
              "      <td>19</td>\n",
              "      <td>\"oct\"</td>\n",
              "      <td>79</td>\n",
              "      <td>1</td>\n",
              "      <td>-1</td>\n",
              "      <td>0</td>\n",
              "      <td>\"unknown\"</td>\n",
              "      <td>\"no\"</td>\n",
              "    </tr>\n",
              "    <tr>\n",
              "      <th>1</th>\n",
              "      <td>33</td>\n",
              "      <td>\"services\"</td>\n",
              "      <td>\"married\"</td>\n",
              "      <td>\"secondary\"</td>\n",
              "      <td>\"no\"</td>\n",
              "      <td>4789</td>\n",
              "      <td>\"yes\"</td>\n",
              "      <td>\"yes\"</td>\n",
              "      <td>\"cellular\"</td>\n",
              "      <td>11</td>\n",
              "      <td>\"may\"</td>\n",
              "      <td>220</td>\n",
              "      <td>1</td>\n",
              "      <td>339</td>\n",
              "      <td>4</td>\n",
              "      <td>\"failure\"</td>\n",
              "      <td>\"no\"</td>\n",
              "    </tr>\n",
              "    <tr>\n",
              "      <th>2</th>\n",
              "      <td>35</td>\n",
              "      <td>\"management\"</td>\n",
              "      <td>\"single\"</td>\n",
              "      <td>\"tertiary\"</td>\n",
              "      <td>\"no\"</td>\n",
              "      <td>1350</td>\n",
              "      <td>\"yes\"</td>\n",
              "      <td>\"no\"</td>\n",
              "      <td>\"cellular\"</td>\n",
              "      <td>16</td>\n",
              "      <td>\"apr\"</td>\n",
              "      <td>185</td>\n",
              "      <td>1</td>\n",
              "      <td>330</td>\n",
              "      <td>1</td>\n",
              "      <td>\"failure\"</td>\n",
              "      <td>\"no\"</td>\n",
              "    </tr>\n",
              "    <tr>\n",
              "      <th>3</th>\n",
              "      <td>30</td>\n",
              "      <td>\"management\"</td>\n",
              "      <td>\"married\"</td>\n",
              "      <td>\"tertiary\"</td>\n",
              "      <td>\"no\"</td>\n",
              "      <td>1476</td>\n",
              "      <td>\"yes\"</td>\n",
              "      <td>\"yes\"</td>\n",
              "      <td>\"unknown\"</td>\n",
              "      <td>3</td>\n",
              "      <td>\"jun\"</td>\n",
              "      <td>199</td>\n",
              "      <td>4</td>\n",
              "      <td>-1</td>\n",
              "      <td>0</td>\n",
              "      <td>\"unknown\"</td>\n",
              "      <td>\"no\"</td>\n",
              "    </tr>\n",
              "    <tr>\n",
              "      <th>4</th>\n",
              "      <td>59</td>\n",
              "      <td>\"blue-collar\"</td>\n",
              "      <td>\"married\"</td>\n",
              "      <td>\"secondary\"</td>\n",
              "      <td>\"no\"</td>\n",
              "      <td>0</td>\n",
              "      <td>\"yes\"</td>\n",
              "      <td>\"no\"</td>\n",
              "      <td>\"unknown\"</td>\n",
              "      <td>5</td>\n",
              "      <td>\"may\"</td>\n",
              "      <td>226</td>\n",
              "      <td>1</td>\n",
              "      <td>-1</td>\n",
              "      <td>0</td>\n",
              "      <td>\"unknown\"</td>\n",
              "      <td>\"no\"</td>\n",
              "    </tr>\n",
              "    <tr>\n",
              "      <th>...</th>\n",
              "      <td>...</td>\n",
              "      <td>...</td>\n",
              "      <td>...</td>\n",
              "      <td>...</td>\n",
              "      <td>...</td>\n",
              "      <td>...</td>\n",
              "      <td>...</td>\n",
              "      <td>...</td>\n",
              "      <td>...</td>\n",
              "      <td>...</td>\n",
              "      <td>...</td>\n",
              "      <td>...</td>\n",
              "      <td>...</td>\n",
              "      <td>...</td>\n",
              "      <td>...</td>\n",
              "      <td>...</td>\n",
              "      <td>...</td>\n",
              "    </tr>\n",
              "    <tr>\n",
              "      <th>4516</th>\n",
              "      <td>33</td>\n",
              "      <td>\"services\"</td>\n",
              "      <td>\"married\"</td>\n",
              "      <td>\"secondary\"</td>\n",
              "      <td>\"no\"</td>\n",
              "      <td>-333</td>\n",
              "      <td>\"yes\"</td>\n",
              "      <td>\"no\"</td>\n",
              "      <td>\"cellular\"</td>\n",
              "      <td>30</td>\n",
              "      <td>\"jul\"</td>\n",
              "      <td>329</td>\n",
              "      <td>5</td>\n",
              "      <td>-1</td>\n",
              "      <td>0</td>\n",
              "      <td>\"unknown\"</td>\n",
              "      <td>\"no\"</td>\n",
              "    </tr>\n",
              "    <tr>\n",
              "      <th>4517</th>\n",
              "      <td>57</td>\n",
              "      <td>\"self-employed\"</td>\n",
              "      <td>\"married\"</td>\n",
              "      <td>\"tertiary\"</td>\n",
              "      <td>\"yes\"</td>\n",
              "      <td>-3313</td>\n",
              "      <td>\"yes\"</td>\n",
              "      <td>\"yes\"</td>\n",
              "      <td>\"unknown\"</td>\n",
              "      <td>9</td>\n",
              "      <td>\"may\"</td>\n",
              "      <td>153</td>\n",
              "      <td>1</td>\n",
              "      <td>-1</td>\n",
              "      <td>0</td>\n",
              "      <td>\"unknown\"</td>\n",
              "      <td>\"no\"</td>\n",
              "    </tr>\n",
              "    <tr>\n",
              "      <th>4518</th>\n",
              "      <td>57</td>\n",
              "      <td>\"technician\"</td>\n",
              "      <td>\"married\"</td>\n",
              "      <td>\"secondary\"</td>\n",
              "      <td>\"no\"</td>\n",
              "      <td>295</td>\n",
              "      <td>\"no\"</td>\n",
              "      <td>\"no\"</td>\n",
              "      <td>\"cellular\"</td>\n",
              "      <td>19</td>\n",
              "      <td>\"aug\"</td>\n",
              "      <td>151</td>\n",
              "      <td>11</td>\n",
              "      <td>-1</td>\n",
              "      <td>0</td>\n",
              "      <td>\"unknown\"</td>\n",
              "      <td>\"no\"</td>\n",
              "    </tr>\n",
              "    <tr>\n",
              "      <th>4519</th>\n",
              "      <td>28</td>\n",
              "      <td>\"blue-collar\"</td>\n",
              "      <td>\"married\"</td>\n",
              "      <td>\"secondary\"</td>\n",
              "      <td>\"no\"</td>\n",
              "      <td>1137</td>\n",
              "      <td>\"no\"</td>\n",
              "      <td>\"no\"</td>\n",
              "      <td>\"cellular\"</td>\n",
              "      <td>6</td>\n",
              "      <td>\"feb\"</td>\n",
              "      <td>129</td>\n",
              "      <td>4</td>\n",
              "      <td>211</td>\n",
              "      <td>3</td>\n",
              "      <td>\"other\"</td>\n",
              "      <td>\"no\"</td>\n",
              "    </tr>\n",
              "    <tr>\n",
              "      <th>4520</th>\n",
              "      <td>44</td>\n",
              "      <td>\"entrepreneur\"</td>\n",
              "      <td>\"single\"</td>\n",
              "      <td>\"tertiary\"</td>\n",
              "      <td>\"no\"</td>\n",
              "      <td>1136</td>\n",
              "      <td>\"yes\"</td>\n",
              "      <td>\"yes\"</td>\n",
              "      <td>\"cellular\"</td>\n",
              "      <td>3</td>\n",
              "      <td>\"apr\"</td>\n",
              "      <td>345</td>\n",
              "      <td>2</td>\n",
              "      <td>249</td>\n",
              "      <td>7</td>\n",
              "      <td>\"other\"</td>\n",
              "      <td>\"no\"</td>\n",
              "    </tr>\n",
              "  </tbody>\n",
              "</table>\n",
              "<p>4521 rows × 17 columns</p>\n",
              "</div>\n",
              "      <button class=\"colab-df-convert\" onclick=\"convertToInteractive('df-8f114b83-6bbd-402c-886a-ff2a9a5a0062')\"\n",
              "              title=\"Convert this dataframe to an interactive table.\"\n",
              "              style=\"display:none;\">\n",
              "        \n",
              "  <svg xmlns=\"http://www.w3.org/2000/svg\" height=\"24px\"viewBox=\"0 0 24 24\"\n",
              "       width=\"24px\">\n",
              "    <path d=\"M0 0h24v24H0V0z\" fill=\"none\"/>\n",
              "    <path d=\"M18.56 5.44l.94 2.06.94-2.06 2.06-.94-2.06-.94-.94-2.06-.94 2.06-2.06.94zm-11 1L8.5 8.5l.94-2.06 2.06-.94-2.06-.94L8.5 2.5l-.94 2.06-2.06.94zm10 10l.94 2.06.94-2.06 2.06-.94-2.06-.94-.94-2.06-.94 2.06-2.06.94z\"/><path d=\"M17.41 7.96l-1.37-1.37c-.4-.4-.92-.59-1.43-.59-.52 0-1.04.2-1.43.59L10.3 9.45l-7.72 7.72c-.78.78-.78 2.05 0 2.83L4 21.41c.39.39.9.59 1.41.59.51 0 1.02-.2 1.41-.59l7.78-7.78 2.81-2.81c.8-.78.8-2.07 0-2.86zM5.41 20L4 18.59l7.72-7.72 1.47 1.35L5.41 20z\"/>\n",
              "  </svg>\n",
              "      </button>\n",
              "      \n",
              "  <style>\n",
              "    .colab-df-container {\n",
              "      display:flex;\n",
              "      flex-wrap:wrap;\n",
              "      gap: 12px;\n",
              "    }\n",
              "\n",
              "    .colab-df-convert {\n",
              "      background-color: #E8F0FE;\n",
              "      border: none;\n",
              "      border-radius: 50%;\n",
              "      cursor: pointer;\n",
              "      display: none;\n",
              "      fill: #1967D2;\n",
              "      height: 32px;\n",
              "      padding: 0 0 0 0;\n",
              "      width: 32px;\n",
              "    }\n",
              "\n",
              "    .colab-df-convert:hover {\n",
              "      background-color: #E2EBFA;\n",
              "      box-shadow: 0px 1px 2px rgba(60, 64, 67, 0.3), 0px 1px 3px 1px rgba(60, 64, 67, 0.15);\n",
              "      fill: #174EA6;\n",
              "    }\n",
              "\n",
              "    [theme=dark] .colab-df-convert {\n",
              "      background-color: #3B4455;\n",
              "      fill: #D2E3FC;\n",
              "    }\n",
              "\n",
              "    [theme=dark] .colab-df-convert:hover {\n",
              "      background-color: #434B5C;\n",
              "      box-shadow: 0px 1px 3px 1px rgba(0, 0, 0, 0.15);\n",
              "      filter: drop-shadow(0px 1px 2px rgba(0, 0, 0, 0.3));\n",
              "      fill: #FFFFFF;\n",
              "    }\n",
              "  </style>\n",
              "\n",
              "      <script>\n",
              "        const buttonEl =\n",
              "          document.querySelector('#df-8f114b83-6bbd-402c-886a-ff2a9a5a0062 button.colab-df-convert');\n",
              "        buttonEl.style.display =\n",
              "          google.colab.kernel.accessAllowed ? 'block' : 'none';\n",
              "\n",
              "        async function convertToInteractive(key) {\n",
              "          const element = document.querySelector('#df-8f114b83-6bbd-402c-886a-ff2a9a5a0062');\n",
              "          const dataTable =\n",
              "            await google.colab.kernel.invokeFunction('convertToInteractive',\n",
              "                                                     [key], {});\n",
              "          if (!dataTable) return;\n",
              "\n",
              "          const docLinkHtml = 'Like what you see? Visit the ' +\n",
              "            '<a target=\"_blank\" href=https://colab.research.google.com/notebooks/data_table.ipynb>data table notebook</a>'\n",
              "            + ' to learn more about interactive tables.';\n",
              "          element.innerHTML = '';\n",
              "          dataTable['output_type'] = 'display_data';\n",
              "          await google.colab.output.renderOutput(dataTable, element);\n",
              "          const docLink = document.createElement('div');\n",
              "          docLink.innerHTML = docLinkHtml;\n",
              "          element.appendChild(docLink);\n",
              "        }\n",
              "      </script>\n",
              "    </div>\n",
              "  </div>\n",
              "  "
            ]
          },
          "metadata": {},
          "execution_count": 7
        }
      ],
      "source": [
        "# Menghapus kolom biodata\n",
        "df = df.drop(columns=['Biodata'])\n",
        "df"
      ]
    },
    {
      "cell_type": "code",
      "execution_count": 8,
      "metadata": {
        "colab": {
          "base_uri": "https://localhost:8080/"
        },
        "id": "c1wvLsqAF1nn",
        "outputId": "19e00af4-3e36-48c9-f7b8-a8299f5f253f"
      },
      "outputs": [
        {
          "output_type": "execute_result",
          "data": {
            "text/plain": [
              "\"management\"       969\n",
              "\"blue-collar\"      946\n",
              "\"technician\"       768\n",
              "\"admin.\"           478\n",
              "\"services\"         417\n",
              "\"retired\"          230\n",
              "\"self-employed\"    183\n",
              "\"entrepreneur\"     168\n",
              "\"unemployed\"       128\n",
              "\"housemaid\"        112\n",
              "\"student\"           84\n",
              "\"unknown\"           38\n",
              "Name: job, dtype: int64"
            ]
          },
          "metadata": {},
          "execution_count": 8
        }
      ],
      "source": [
        "df['job'].value_counts()"
      ]
    },
    {
      "cell_type": "code",
      "execution_count": 9,
      "metadata": {
        "id": "Qhrsx8FcF8PM"
      },
      "outputs": [],
      "source": [
        "## Mengubah data string menjadi angka\n",
        "from sklearn.preprocessing import LabelEncoder\n",
        "le = LabelEncoder()\n",
        "df['job'] = le.fit_transform(df['job'])\n",
        "df['marital'] = le.fit_transform(df['marital'])\n",
        "df['education'] = le.fit_transform(df['education'])\n",
        "df['default'] = le.fit_transform(df['default'])\n",
        "df['balance'] = le.fit_transform(df['balance'])\n",
        "df['housing'] = le.fit_transform(df['housing'])\n",
        "df['loan'] = le.fit_transform(df['loan'])\n",
        "df['contact'] = le.fit_transform(df['contact'])\n",
        "df['month'] = le.fit_transform(df['month'])\n",
        "df['poutcome'] = le.fit_transform(df['poutcome'])"
      ]
    },
    {
      "cell_type": "code",
      "execution_count": 10,
      "metadata": {
        "colab": {
          "base_uri": "https://localhost:8080/",
          "height": 424
        },
        "id": "seMTJ04qGEwH",
        "outputId": "73975759-8538-4ab7-a667-79149f885306"
      },
      "outputs": [
        {
          "output_type": "execute_result",
          "data": {
            "text/plain": [
              "     age  job  marital  education  default  balance  housing  loan  contact  \\\n",
              "0     30   10        1          0        0      794        0     0        0   \n",
              "1     33    7        1          1        0     1684        1     1        0   \n",
              "2     35    4        2          2        0      548        1     0        0   \n",
              "3     30    4        1          2        0      623        1     1        2   \n",
              "4     59    1        1          1        0      274        1     0        2   \n",
              "...   ..  ...      ...        ...      ...      ...      ...   ...      ...   \n",
              "4516  33    7        1          1        0      127        1     0        0   \n",
              "4517  57    6        1          2        1      126        1     1        2   \n",
              "4518  57    9        1          1        0     1230        0     0        0   \n",
              "4519  28    1        1          1        0      388        0     0        0   \n",
              "4520  44    2        2          2        0      387        1     1        0   \n",
              "\n",
              "     day  month duration campaign pdays previous  poutcome     y  \n",
              "0     19     10       79        1    -1        0         3  \"no\"  \n",
              "1     11      8      220        1   339        4         0  \"no\"  \n",
              "2     16      0      185        1   330        1         0  \"no\"  \n",
              "3      3      6      199        4    -1        0         3  \"no\"  \n",
              "4      5      8      226        1    -1        0         3  \"no\"  \n",
              "...   ..    ...      ...      ...   ...      ...       ...   ...  \n",
              "4516  30      5      329        5    -1        0         3  \"no\"  \n",
              "4517   9      8      153        1    -1        0         3  \"no\"  \n",
              "4518  19      1      151       11    -1        0         3  \"no\"  \n",
              "4519   6      3      129        4   211        3         1  \"no\"  \n",
              "4520   3      0      345        2   249        7         1  \"no\"  \n",
              "\n",
              "[4521 rows x 17 columns]"
            ],
            "text/html": [
              "\n",
              "  <div id=\"df-91456ea7-90ca-4be5-9032-3e1f1a128968\">\n",
              "    <div class=\"colab-df-container\">\n",
              "      <div>\n",
              "<style scoped>\n",
              "    .dataframe tbody tr th:only-of-type {\n",
              "        vertical-align: middle;\n",
              "    }\n",
              "\n",
              "    .dataframe tbody tr th {\n",
              "        vertical-align: top;\n",
              "    }\n",
              "\n",
              "    .dataframe thead th {\n",
              "        text-align: right;\n",
              "    }\n",
              "</style>\n",
              "<table border=\"1\" class=\"dataframe\">\n",
              "  <thead>\n",
              "    <tr style=\"text-align: right;\">\n",
              "      <th></th>\n",
              "      <th>age</th>\n",
              "      <th>job</th>\n",
              "      <th>marital</th>\n",
              "      <th>education</th>\n",
              "      <th>default</th>\n",
              "      <th>balance</th>\n",
              "      <th>housing</th>\n",
              "      <th>loan</th>\n",
              "      <th>contact</th>\n",
              "      <th>day</th>\n",
              "      <th>month</th>\n",
              "      <th>duration</th>\n",
              "      <th>campaign</th>\n",
              "      <th>pdays</th>\n",
              "      <th>previous</th>\n",
              "      <th>poutcome</th>\n",
              "      <th>y</th>\n",
              "    </tr>\n",
              "  </thead>\n",
              "  <tbody>\n",
              "    <tr>\n",
              "      <th>0</th>\n",
              "      <td>30</td>\n",
              "      <td>10</td>\n",
              "      <td>1</td>\n",
              "      <td>0</td>\n",
              "      <td>0</td>\n",
              "      <td>794</td>\n",
              "      <td>0</td>\n",
              "      <td>0</td>\n",
              "      <td>0</td>\n",
              "      <td>19</td>\n",
              "      <td>10</td>\n",
              "      <td>79</td>\n",
              "      <td>1</td>\n",
              "      <td>-1</td>\n",
              "      <td>0</td>\n",
              "      <td>3</td>\n",
              "      <td>\"no\"</td>\n",
              "    </tr>\n",
              "    <tr>\n",
              "      <th>1</th>\n",
              "      <td>33</td>\n",
              "      <td>7</td>\n",
              "      <td>1</td>\n",
              "      <td>1</td>\n",
              "      <td>0</td>\n",
              "      <td>1684</td>\n",
              "      <td>1</td>\n",
              "      <td>1</td>\n",
              "      <td>0</td>\n",
              "      <td>11</td>\n",
              "      <td>8</td>\n",
              "      <td>220</td>\n",
              "      <td>1</td>\n",
              "      <td>339</td>\n",
              "      <td>4</td>\n",
              "      <td>0</td>\n",
              "      <td>\"no\"</td>\n",
              "    </tr>\n",
              "    <tr>\n",
              "      <th>2</th>\n",
              "      <td>35</td>\n",
              "      <td>4</td>\n",
              "      <td>2</td>\n",
              "      <td>2</td>\n",
              "      <td>0</td>\n",
              "      <td>548</td>\n",
              "      <td>1</td>\n",
              "      <td>0</td>\n",
              "      <td>0</td>\n",
              "      <td>16</td>\n",
              "      <td>0</td>\n",
              "      <td>185</td>\n",
              "      <td>1</td>\n",
              "      <td>330</td>\n",
              "      <td>1</td>\n",
              "      <td>0</td>\n",
              "      <td>\"no\"</td>\n",
              "    </tr>\n",
              "    <tr>\n",
              "      <th>3</th>\n",
              "      <td>30</td>\n",
              "      <td>4</td>\n",
              "      <td>1</td>\n",
              "      <td>2</td>\n",
              "      <td>0</td>\n",
              "      <td>623</td>\n",
              "      <td>1</td>\n",
              "      <td>1</td>\n",
              "      <td>2</td>\n",
              "      <td>3</td>\n",
              "      <td>6</td>\n",
              "      <td>199</td>\n",
              "      <td>4</td>\n",
              "      <td>-1</td>\n",
              "      <td>0</td>\n",
              "      <td>3</td>\n",
              "      <td>\"no\"</td>\n",
              "    </tr>\n",
              "    <tr>\n",
              "      <th>4</th>\n",
              "      <td>59</td>\n",
              "      <td>1</td>\n",
              "      <td>1</td>\n",
              "      <td>1</td>\n",
              "      <td>0</td>\n",
              "      <td>274</td>\n",
              "      <td>1</td>\n",
              "      <td>0</td>\n",
              "      <td>2</td>\n",
              "      <td>5</td>\n",
              "      <td>8</td>\n",
              "      <td>226</td>\n",
              "      <td>1</td>\n",
              "      <td>-1</td>\n",
              "      <td>0</td>\n",
              "      <td>3</td>\n",
              "      <td>\"no\"</td>\n",
              "    </tr>\n",
              "    <tr>\n",
              "      <th>...</th>\n",
              "      <td>...</td>\n",
              "      <td>...</td>\n",
              "      <td>...</td>\n",
              "      <td>...</td>\n",
              "      <td>...</td>\n",
              "      <td>...</td>\n",
              "      <td>...</td>\n",
              "      <td>...</td>\n",
              "      <td>...</td>\n",
              "      <td>...</td>\n",
              "      <td>...</td>\n",
              "      <td>...</td>\n",
              "      <td>...</td>\n",
              "      <td>...</td>\n",
              "      <td>...</td>\n",
              "      <td>...</td>\n",
              "      <td>...</td>\n",
              "    </tr>\n",
              "    <tr>\n",
              "      <th>4516</th>\n",
              "      <td>33</td>\n",
              "      <td>7</td>\n",
              "      <td>1</td>\n",
              "      <td>1</td>\n",
              "      <td>0</td>\n",
              "      <td>127</td>\n",
              "      <td>1</td>\n",
              "      <td>0</td>\n",
              "      <td>0</td>\n",
              "      <td>30</td>\n",
              "      <td>5</td>\n",
              "      <td>329</td>\n",
              "      <td>5</td>\n",
              "      <td>-1</td>\n",
              "      <td>0</td>\n",
              "      <td>3</td>\n",
              "      <td>\"no\"</td>\n",
              "    </tr>\n",
              "    <tr>\n",
              "      <th>4517</th>\n",
              "      <td>57</td>\n",
              "      <td>6</td>\n",
              "      <td>1</td>\n",
              "      <td>2</td>\n",
              "      <td>1</td>\n",
              "      <td>126</td>\n",
              "      <td>1</td>\n",
              "      <td>1</td>\n",
              "      <td>2</td>\n",
              "      <td>9</td>\n",
              "      <td>8</td>\n",
              "      <td>153</td>\n",
              "      <td>1</td>\n",
              "      <td>-1</td>\n",
              "      <td>0</td>\n",
              "      <td>3</td>\n",
              "      <td>\"no\"</td>\n",
              "    </tr>\n",
              "    <tr>\n",
              "      <th>4518</th>\n",
              "      <td>57</td>\n",
              "      <td>9</td>\n",
              "      <td>1</td>\n",
              "      <td>1</td>\n",
              "      <td>0</td>\n",
              "      <td>1230</td>\n",
              "      <td>0</td>\n",
              "      <td>0</td>\n",
              "      <td>0</td>\n",
              "      <td>19</td>\n",
              "      <td>1</td>\n",
              "      <td>151</td>\n",
              "      <td>11</td>\n",
              "      <td>-1</td>\n",
              "      <td>0</td>\n",
              "      <td>3</td>\n",
              "      <td>\"no\"</td>\n",
              "    </tr>\n",
              "    <tr>\n",
              "      <th>4519</th>\n",
              "      <td>28</td>\n",
              "      <td>1</td>\n",
              "      <td>1</td>\n",
              "      <td>1</td>\n",
              "      <td>0</td>\n",
              "      <td>388</td>\n",
              "      <td>0</td>\n",
              "      <td>0</td>\n",
              "      <td>0</td>\n",
              "      <td>6</td>\n",
              "      <td>3</td>\n",
              "      <td>129</td>\n",
              "      <td>4</td>\n",
              "      <td>211</td>\n",
              "      <td>3</td>\n",
              "      <td>1</td>\n",
              "      <td>\"no\"</td>\n",
              "    </tr>\n",
              "    <tr>\n",
              "      <th>4520</th>\n",
              "      <td>44</td>\n",
              "      <td>2</td>\n",
              "      <td>2</td>\n",
              "      <td>2</td>\n",
              "      <td>0</td>\n",
              "      <td>387</td>\n",
              "      <td>1</td>\n",
              "      <td>1</td>\n",
              "      <td>0</td>\n",
              "      <td>3</td>\n",
              "      <td>0</td>\n",
              "      <td>345</td>\n",
              "      <td>2</td>\n",
              "      <td>249</td>\n",
              "      <td>7</td>\n",
              "      <td>1</td>\n",
              "      <td>\"no\"</td>\n",
              "    </tr>\n",
              "  </tbody>\n",
              "</table>\n",
              "<p>4521 rows × 17 columns</p>\n",
              "</div>\n",
              "      <button class=\"colab-df-convert\" onclick=\"convertToInteractive('df-91456ea7-90ca-4be5-9032-3e1f1a128968')\"\n",
              "              title=\"Convert this dataframe to an interactive table.\"\n",
              "              style=\"display:none;\">\n",
              "        \n",
              "  <svg xmlns=\"http://www.w3.org/2000/svg\" height=\"24px\"viewBox=\"0 0 24 24\"\n",
              "       width=\"24px\">\n",
              "    <path d=\"M0 0h24v24H0V0z\" fill=\"none\"/>\n",
              "    <path d=\"M18.56 5.44l.94 2.06.94-2.06 2.06-.94-2.06-.94-.94-2.06-.94 2.06-2.06.94zm-11 1L8.5 8.5l.94-2.06 2.06-.94-2.06-.94L8.5 2.5l-.94 2.06-2.06.94zm10 10l.94 2.06.94-2.06 2.06-.94-2.06-.94-.94-2.06-.94 2.06-2.06.94z\"/><path d=\"M17.41 7.96l-1.37-1.37c-.4-.4-.92-.59-1.43-.59-.52 0-1.04.2-1.43.59L10.3 9.45l-7.72 7.72c-.78.78-.78 2.05 0 2.83L4 21.41c.39.39.9.59 1.41.59.51 0 1.02-.2 1.41-.59l7.78-7.78 2.81-2.81c.8-.78.8-2.07 0-2.86zM5.41 20L4 18.59l7.72-7.72 1.47 1.35L5.41 20z\"/>\n",
              "  </svg>\n",
              "      </button>\n",
              "      \n",
              "  <style>\n",
              "    .colab-df-container {\n",
              "      display:flex;\n",
              "      flex-wrap:wrap;\n",
              "      gap: 12px;\n",
              "    }\n",
              "\n",
              "    .colab-df-convert {\n",
              "      background-color: #E8F0FE;\n",
              "      border: none;\n",
              "      border-radius: 50%;\n",
              "      cursor: pointer;\n",
              "      display: none;\n",
              "      fill: #1967D2;\n",
              "      height: 32px;\n",
              "      padding: 0 0 0 0;\n",
              "      width: 32px;\n",
              "    }\n",
              "\n",
              "    .colab-df-convert:hover {\n",
              "      background-color: #E2EBFA;\n",
              "      box-shadow: 0px 1px 2px rgba(60, 64, 67, 0.3), 0px 1px 3px 1px rgba(60, 64, 67, 0.15);\n",
              "      fill: #174EA6;\n",
              "    }\n",
              "\n",
              "    [theme=dark] .colab-df-convert {\n",
              "      background-color: #3B4455;\n",
              "      fill: #D2E3FC;\n",
              "    }\n",
              "\n",
              "    [theme=dark] .colab-df-convert:hover {\n",
              "      background-color: #434B5C;\n",
              "      box-shadow: 0px 1px 3px 1px rgba(0, 0, 0, 0.15);\n",
              "      filter: drop-shadow(0px 1px 2px rgba(0, 0, 0, 0.3));\n",
              "      fill: #FFFFFF;\n",
              "    }\n",
              "  </style>\n",
              "\n",
              "      <script>\n",
              "        const buttonEl =\n",
              "          document.querySelector('#df-91456ea7-90ca-4be5-9032-3e1f1a128968 button.colab-df-convert');\n",
              "        buttonEl.style.display =\n",
              "          google.colab.kernel.accessAllowed ? 'block' : 'none';\n",
              "\n",
              "        async function convertToInteractive(key) {\n",
              "          const element = document.querySelector('#df-91456ea7-90ca-4be5-9032-3e1f1a128968');\n",
              "          const dataTable =\n",
              "            await google.colab.kernel.invokeFunction('convertToInteractive',\n",
              "                                                     [key], {});\n",
              "          if (!dataTable) return;\n",
              "\n",
              "          const docLinkHtml = 'Like what you see? Visit the ' +\n",
              "            '<a target=\"_blank\" href=https://colab.research.google.com/notebooks/data_table.ipynb>data table notebook</a>'\n",
              "            + ' to learn more about interactive tables.';\n",
              "          element.innerHTML = '';\n",
              "          dataTable['output_type'] = 'display_data';\n",
              "          await google.colab.output.renderOutput(dataTable, element);\n",
              "          const docLink = document.createElement('div');\n",
              "          docLink.innerHTML = docLinkHtml;\n",
              "          element.appendChild(docLink);\n",
              "        }\n",
              "      </script>\n",
              "    </div>\n",
              "  </div>\n",
              "  "
            ]
          },
          "metadata": {},
          "execution_count": 10
        }
      ],
      "source": [
        "df"
      ]
    },
    {
      "cell_type": "code",
      "execution_count": 11,
      "metadata": {
        "colab": {
          "base_uri": "https://localhost:8080/"
        },
        "id": "DoOAtTAhGKsW",
        "outputId": "2fe754dd-904e-4ebe-915e-a9859771b22f"
      },
      "outputs": [
        {
          "output_type": "stream",
          "name": "stdout",
          "text": [
            "<class 'pandas.core.frame.DataFrame'>\n",
            "RangeIndex: 4521 entries, 0 to 4520\n",
            "Data columns (total 17 columns):\n",
            " #   Column     Non-Null Count  Dtype \n",
            "---  ------     --------------  ----- \n",
            " 0   age        4521 non-null   object\n",
            " 1   job        4521 non-null   int64 \n",
            " 2   marital    4521 non-null   int64 \n",
            " 3   education  4521 non-null   int64 \n",
            " 4   default    4521 non-null   int64 \n",
            " 5   balance    4521 non-null   int64 \n",
            " 6   housing    4521 non-null   int64 \n",
            " 7   loan       4521 non-null   int64 \n",
            " 8   contact    4521 non-null   int64 \n",
            " 9   day        4521 non-null   object\n",
            " 10  month      4521 non-null   int64 \n",
            " 11  duration   4521 non-null   object\n",
            " 12  campaign   4521 non-null   object\n",
            " 13  pdays      4521 non-null   object\n",
            " 14  previous   4521 non-null   object\n",
            " 15  poutcome   4521 non-null   int64 \n",
            " 16  y          4521 non-null   object\n",
            "dtypes: int64(10), object(7)\n",
            "memory usage: 600.6+ KB\n"
          ]
        }
      ],
      "source": [
        "# Memberikan informasi tentang dataframe \n",
        "df.info()"
      ]
    },
    {
      "cell_type": "code",
      "execution_count": 12,
      "metadata": {
        "colab": {
          "base_uri": "https://localhost:8080/",
          "height": 300
        },
        "id": "jh6RRriOGPpe",
        "outputId": "018b7d2e-2896-4c76-d0f5-b5c7a0672880"
      },
      "outputs": [
        {
          "output_type": "execute_result",
          "data": {
            "text/plain": [
              "               job      marital    education      default     balance  \\\n",
              "count  4521.000000  4521.000000  4521.000000  4521.000000  4521.00000   \n",
              "mean      4.411192     1.147755     1.231365     0.016810  1136.96837   \n",
              "std       3.255716     0.599650     0.748744     0.128575   683.19307   \n",
              "min       0.000000     0.000000     0.000000     0.000000     0.00000   \n",
              "25%       1.000000     1.000000     1.000000     0.000000   505.00000   \n",
              "50%       4.000000     1.000000     1.000000     0.000000  1118.00000   \n",
              "75%       7.000000     2.000000     2.000000     0.000000  1729.00000   \n",
              "max      11.000000     2.000000     3.000000     1.000000  2352.00000   \n",
              "\n",
              "           housing         loan      contact        month     poutcome  \n",
              "count  4521.000000  4521.000000  4521.000000  4521.000000  4521.000000  \n",
              "mean      0.566025     0.152842     0.652289     5.540146     2.559168  \n",
              "std       0.495676     0.359875     0.901498     3.002763     0.992051  \n",
              "min       0.000000     0.000000     0.000000     0.000000     0.000000  \n",
              "25%       0.000000     0.000000     0.000000     3.000000     3.000000  \n",
              "50%       1.000000     0.000000     0.000000     6.000000     3.000000  \n",
              "75%       1.000000     0.000000     2.000000     8.000000     3.000000  \n",
              "max       1.000000     1.000000     2.000000    11.000000     3.000000  "
            ],
            "text/html": [
              "\n",
              "  <div id=\"df-00cbe257-5056-4f0f-b0be-d363a767f2c5\">\n",
              "    <div class=\"colab-df-container\">\n",
              "      <div>\n",
              "<style scoped>\n",
              "    .dataframe tbody tr th:only-of-type {\n",
              "        vertical-align: middle;\n",
              "    }\n",
              "\n",
              "    .dataframe tbody tr th {\n",
              "        vertical-align: top;\n",
              "    }\n",
              "\n",
              "    .dataframe thead th {\n",
              "        text-align: right;\n",
              "    }\n",
              "</style>\n",
              "<table border=\"1\" class=\"dataframe\">\n",
              "  <thead>\n",
              "    <tr style=\"text-align: right;\">\n",
              "      <th></th>\n",
              "      <th>job</th>\n",
              "      <th>marital</th>\n",
              "      <th>education</th>\n",
              "      <th>default</th>\n",
              "      <th>balance</th>\n",
              "      <th>housing</th>\n",
              "      <th>loan</th>\n",
              "      <th>contact</th>\n",
              "      <th>month</th>\n",
              "      <th>poutcome</th>\n",
              "    </tr>\n",
              "  </thead>\n",
              "  <tbody>\n",
              "    <tr>\n",
              "      <th>count</th>\n",
              "      <td>4521.000000</td>\n",
              "      <td>4521.000000</td>\n",
              "      <td>4521.000000</td>\n",
              "      <td>4521.000000</td>\n",
              "      <td>4521.00000</td>\n",
              "      <td>4521.000000</td>\n",
              "      <td>4521.000000</td>\n",
              "      <td>4521.000000</td>\n",
              "      <td>4521.000000</td>\n",
              "      <td>4521.000000</td>\n",
              "    </tr>\n",
              "    <tr>\n",
              "      <th>mean</th>\n",
              "      <td>4.411192</td>\n",
              "      <td>1.147755</td>\n",
              "      <td>1.231365</td>\n",
              "      <td>0.016810</td>\n",
              "      <td>1136.96837</td>\n",
              "      <td>0.566025</td>\n",
              "      <td>0.152842</td>\n",
              "      <td>0.652289</td>\n",
              "      <td>5.540146</td>\n",
              "      <td>2.559168</td>\n",
              "    </tr>\n",
              "    <tr>\n",
              "      <th>std</th>\n",
              "      <td>3.255716</td>\n",
              "      <td>0.599650</td>\n",
              "      <td>0.748744</td>\n",
              "      <td>0.128575</td>\n",
              "      <td>683.19307</td>\n",
              "      <td>0.495676</td>\n",
              "      <td>0.359875</td>\n",
              "      <td>0.901498</td>\n",
              "      <td>3.002763</td>\n",
              "      <td>0.992051</td>\n",
              "    </tr>\n",
              "    <tr>\n",
              "      <th>min</th>\n",
              "      <td>0.000000</td>\n",
              "      <td>0.000000</td>\n",
              "      <td>0.000000</td>\n",
              "      <td>0.000000</td>\n",
              "      <td>0.00000</td>\n",
              "      <td>0.000000</td>\n",
              "      <td>0.000000</td>\n",
              "      <td>0.000000</td>\n",
              "      <td>0.000000</td>\n",
              "      <td>0.000000</td>\n",
              "    </tr>\n",
              "    <tr>\n",
              "      <th>25%</th>\n",
              "      <td>1.000000</td>\n",
              "      <td>1.000000</td>\n",
              "      <td>1.000000</td>\n",
              "      <td>0.000000</td>\n",
              "      <td>505.00000</td>\n",
              "      <td>0.000000</td>\n",
              "      <td>0.000000</td>\n",
              "      <td>0.000000</td>\n",
              "      <td>3.000000</td>\n",
              "      <td>3.000000</td>\n",
              "    </tr>\n",
              "    <tr>\n",
              "      <th>50%</th>\n",
              "      <td>4.000000</td>\n",
              "      <td>1.000000</td>\n",
              "      <td>1.000000</td>\n",
              "      <td>0.000000</td>\n",
              "      <td>1118.00000</td>\n",
              "      <td>1.000000</td>\n",
              "      <td>0.000000</td>\n",
              "      <td>0.000000</td>\n",
              "      <td>6.000000</td>\n",
              "      <td>3.000000</td>\n",
              "    </tr>\n",
              "    <tr>\n",
              "      <th>75%</th>\n",
              "      <td>7.000000</td>\n",
              "      <td>2.000000</td>\n",
              "      <td>2.000000</td>\n",
              "      <td>0.000000</td>\n",
              "      <td>1729.00000</td>\n",
              "      <td>1.000000</td>\n",
              "      <td>0.000000</td>\n",
              "      <td>2.000000</td>\n",
              "      <td>8.000000</td>\n",
              "      <td>3.000000</td>\n",
              "    </tr>\n",
              "    <tr>\n",
              "      <th>max</th>\n",
              "      <td>11.000000</td>\n",
              "      <td>2.000000</td>\n",
              "      <td>3.000000</td>\n",
              "      <td>1.000000</td>\n",
              "      <td>2352.00000</td>\n",
              "      <td>1.000000</td>\n",
              "      <td>1.000000</td>\n",
              "      <td>2.000000</td>\n",
              "      <td>11.000000</td>\n",
              "      <td>3.000000</td>\n",
              "    </tr>\n",
              "  </tbody>\n",
              "</table>\n",
              "</div>\n",
              "      <button class=\"colab-df-convert\" onclick=\"convertToInteractive('df-00cbe257-5056-4f0f-b0be-d363a767f2c5')\"\n",
              "              title=\"Convert this dataframe to an interactive table.\"\n",
              "              style=\"display:none;\">\n",
              "        \n",
              "  <svg xmlns=\"http://www.w3.org/2000/svg\" height=\"24px\"viewBox=\"0 0 24 24\"\n",
              "       width=\"24px\">\n",
              "    <path d=\"M0 0h24v24H0V0z\" fill=\"none\"/>\n",
              "    <path d=\"M18.56 5.44l.94 2.06.94-2.06 2.06-.94-2.06-.94-.94-2.06-.94 2.06-2.06.94zm-11 1L8.5 8.5l.94-2.06 2.06-.94-2.06-.94L8.5 2.5l-.94 2.06-2.06.94zm10 10l.94 2.06.94-2.06 2.06-.94-2.06-.94-.94-2.06-.94 2.06-2.06.94z\"/><path d=\"M17.41 7.96l-1.37-1.37c-.4-.4-.92-.59-1.43-.59-.52 0-1.04.2-1.43.59L10.3 9.45l-7.72 7.72c-.78.78-.78 2.05 0 2.83L4 21.41c.39.39.9.59 1.41.59.51 0 1.02-.2 1.41-.59l7.78-7.78 2.81-2.81c.8-.78.8-2.07 0-2.86zM5.41 20L4 18.59l7.72-7.72 1.47 1.35L5.41 20z\"/>\n",
              "  </svg>\n",
              "      </button>\n",
              "      \n",
              "  <style>\n",
              "    .colab-df-container {\n",
              "      display:flex;\n",
              "      flex-wrap:wrap;\n",
              "      gap: 12px;\n",
              "    }\n",
              "\n",
              "    .colab-df-convert {\n",
              "      background-color: #E8F0FE;\n",
              "      border: none;\n",
              "      border-radius: 50%;\n",
              "      cursor: pointer;\n",
              "      display: none;\n",
              "      fill: #1967D2;\n",
              "      height: 32px;\n",
              "      padding: 0 0 0 0;\n",
              "      width: 32px;\n",
              "    }\n",
              "\n",
              "    .colab-df-convert:hover {\n",
              "      background-color: #E2EBFA;\n",
              "      box-shadow: 0px 1px 2px rgba(60, 64, 67, 0.3), 0px 1px 3px 1px rgba(60, 64, 67, 0.15);\n",
              "      fill: #174EA6;\n",
              "    }\n",
              "\n",
              "    [theme=dark] .colab-df-convert {\n",
              "      background-color: #3B4455;\n",
              "      fill: #D2E3FC;\n",
              "    }\n",
              "\n",
              "    [theme=dark] .colab-df-convert:hover {\n",
              "      background-color: #434B5C;\n",
              "      box-shadow: 0px 1px 3px 1px rgba(0, 0, 0, 0.15);\n",
              "      filter: drop-shadow(0px 1px 2px rgba(0, 0, 0, 0.3));\n",
              "      fill: #FFFFFF;\n",
              "    }\n",
              "  </style>\n",
              "\n",
              "      <script>\n",
              "        const buttonEl =\n",
              "          document.querySelector('#df-00cbe257-5056-4f0f-b0be-d363a767f2c5 button.colab-df-convert');\n",
              "        buttonEl.style.display =\n",
              "          google.colab.kernel.accessAllowed ? 'block' : 'none';\n",
              "\n",
              "        async function convertToInteractive(key) {\n",
              "          const element = document.querySelector('#df-00cbe257-5056-4f0f-b0be-d363a767f2c5');\n",
              "          const dataTable =\n",
              "            await google.colab.kernel.invokeFunction('convertToInteractive',\n",
              "                                                     [key], {});\n",
              "          if (!dataTable) return;\n",
              "\n",
              "          const docLinkHtml = 'Like what you see? Visit the ' +\n",
              "            '<a target=\"_blank\" href=https://colab.research.google.com/notebooks/data_table.ipynb>data table notebook</a>'\n",
              "            + ' to learn more about interactive tables.';\n",
              "          element.innerHTML = '';\n",
              "          dataTable['output_type'] = 'display_data';\n",
              "          await google.colab.output.renderOutput(dataTable, element);\n",
              "          const docLink = document.createElement('div');\n",
              "          docLink.innerHTML = docLinkHtml;\n",
              "          element.appendChild(docLink);\n",
              "        }\n",
              "      </script>\n",
              "    </div>\n",
              "  </div>\n",
              "  "
            ]
          },
          "metadata": {},
          "execution_count": 12
        }
      ],
      "source": [
        "df.describe()"
      ]
    },
    {
      "cell_type": "code",
      "execution_count": 13,
      "metadata": {
        "colab": {
          "base_uri": "https://localhost:8080/"
        },
        "id": "MRTvNO8oKxzt",
        "outputId": "f4783847-9162-474c-ceb1-4ea95d645d30"
      },
      "outputs": [
        {
          "output_type": "execute_result",
          "data": {
            "text/plain": [
              "(4521, 17)"
            ]
          },
          "metadata": {},
          "execution_count": 13
        }
      ],
      "source": [
        "# Mengetahui dimensi dataframe (baris, kolom)\n",
        "df.shape"
      ]
    },
    {
      "cell_type": "code",
      "source": [
        "# Mengetahui jumlah data yang duplikat \n",
        "df.duplicated().sum()"
      ],
      "metadata": {
        "colab": {
          "base_uri": "https://localhost:8080/"
        },
        "id": "0EMGyreLXXFr",
        "outputId": "46c9df4a-cb31-4f95-af6d-7a6756e86935"
      },
      "execution_count": 14,
      "outputs": [
        {
          "output_type": "execute_result",
          "data": {
            "text/plain": [
              "0"
            ]
          },
          "metadata": {},
          "execution_count": 14
        }
      ]
    },
    {
      "cell_type": "code",
      "source": [
        "# Mengetahui jumlah nilai yang hilang (null atau NaN) pada setiap kolom\n",
        "df.isnull().sum()"
      ],
      "metadata": {
        "colab": {
          "base_uri": "https://localhost:8080/"
        },
        "id": "7pXV7pYOYVeK",
        "outputId": "4ef5988f-76b2-41e4-dd56-4ff87b03813c"
      },
      "execution_count": 15,
      "outputs": [
        {
          "output_type": "execute_result",
          "data": {
            "text/plain": [
              "age          0\n",
              "job          0\n",
              "marital      0\n",
              "education    0\n",
              "default      0\n",
              "balance      0\n",
              "housing      0\n",
              "loan         0\n",
              "contact      0\n",
              "day          0\n",
              "month        0\n",
              "duration     0\n",
              "campaign     0\n",
              "pdays        0\n",
              "previous     0\n",
              "poutcome     0\n",
              "y            0\n",
              "dtype: int64"
            ]
          },
          "metadata": {},
          "execution_count": 15
        }
      ]
    },
    {
      "cell_type": "code",
      "execution_count": 16,
      "metadata": {
        "colab": {
          "base_uri": "https://localhost:8080/"
        },
        "id": "NL2QZLVvGTf9",
        "outputId": "7e35c5f6-4a51-43d0-c2e1-29fe0a38f1a9"
      },
      "outputs": [
        {
          "output_type": "execute_result",
          "data": {
            "text/plain": [
              "4     969\n",
              "1     946\n",
              "9     768\n",
              "0     478\n",
              "7     417\n",
              "5     230\n",
              "6     183\n",
              "2     168\n",
              "10    128\n",
              "3     112\n",
              "8      84\n",
              "11     38\n",
              "Name: job, dtype: int64"
            ]
          },
          "metadata": {},
          "execution_count": 16
        }
      ],
      "source": [
        "df['job'].value_counts()"
      ]
    },
    {
      "cell_type": "code",
      "execution_count": 17,
      "metadata": {
        "colab": {
          "base_uri": "https://localhost:8080/"
        },
        "id": "CBW_kI9ZGcT8",
        "outputId": "644ec781-4d95-46f7-8ea4-8dee44e225a1"
      },
      "outputs": [
        {
          "output_type": "execute_result",
          "data": {
            "text/plain": [
              "0    2896\n",
              "2    1324\n",
              "1     301\n",
              "Name: contact, dtype: int64"
            ]
          },
          "metadata": {},
          "execution_count": 17
        }
      ],
      "source": [
        "df['contact'].value_counts()"
      ]
    },
    {
      "cell_type": "code",
      "execution_count": 18,
      "metadata": {
        "colab": {
          "base_uri": "https://localhost:8080/"
        },
        "id": "eVpTO8XsGsLt",
        "outputId": "9c011b46-f432-40c3-a788-9f673feb7f4c"
      },
      "outputs": [
        {
          "output_type": "execute_result",
          "data": {
            "text/plain": [
              "1    2306\n",
              "2    1350\n",
              "0     678\n",
              "3     187\n",
              "Name: education, dtype: int64"
            ]
          },
          "metadata": {},
          "execution_count": 18
        }
      ],
      "source": [
        "df['education'].value_counts()"
      ]
    },
    {
      "cell_type": "markdown",
      "metadata": {
        "id": "A2McAJJHHHWl"
      },
      "source": [
        "<h1> Logistic Regression <h1>"
      ]
    },
    {
      "cell_type": "code",
      "execution_count": 19,
      "metadata": {
        "id": "mWqXO8KsHEq9"
      },
      "outputs": [],
      "source": [
        "import matplotlib.pyplot as plt\n",
        "from sklearn.linear_model import LogisticRegression\n",
        "from sklearn.metrics import classification_report, confusion_matrix"
      ]
    },
    {
      "cell_type": "code",
      "execution_count": 20,
      "metadata": {
        "id": "Ma6wRaSzHPJd"
      },
      "outputs": [],
      "source": [
        "model = LogisticRegression(solver='liblinear',random_state =0)"
      ]
    },
    {
      "cell_type": "code",
      "execution_count": 21,
      "metadata": {
        "id": "kpcxUlLaHSJw"
      },
      "outputs": [],
      "source": [
        "X = df[['age', 'job', 'marital', 'education', 'default', 'balance', 'housing', 'loan', 'contact', 'day', 'month', 'duration', 'campaign', 'pdays', 'previous', 'poutcome']]\n",
        "y = df['y']"
      ]
    },
    {
      "cell_type": "code",
      "execution_count": 22,
      "metadata": {
        "colab": {
          "base_uri": "https://localhost:8080/",
          "height": 75
        },
        "id": "qTEEHBNoHVym",
        "outputId": "f2520ec3-8d3b-45bd-d862-5b0ac5c8786f"
      },
      "outputs": [
        {
          "output_type": "execute_result",
          "data": {
            "text/plain": [
              "LogisticRegression(random_state=0, solver='liblinear')"
            ],
            "text/html": [
              "<style>#sk-container-id-1 {color: black;background-color: white;}#sk-container-id-1 pre{padding: 0;}#sk-container-id-1 div.sk-toggleable {background-color: white;}#sk-container-id-1 label.sk-toggleable__label {cursor: pointer;display: block;width: 100%;margin-bottom: 0;padding: 0.3em;box-sizing: border-box;text-align: center;}#sk-container-id-1 label.sk-toggleable__label-arrow:before {content: \"▸\";float: left;margin-right: 0.25em;color: #696969;}#sk-container-id-1 label.sk-toggleable__label-arrow:hover:before {color: black;}#sk-container-id-1 div.sk-estimator:hover label.sk-toggleable__label-arrow:before {color: black;}#sk-container-id-1 div.sk-toggleable__content {max-height: 0;max-width: 0;overflow: hidden;text-align: left;background-color: #f0f8ff;}#sk-container-id-1 div.sk-toggleable__content pre {margin: 0.2em;color: black;border-radius: 0.25em;background-color: #f0f8ff;}#sk-container-id-1 input.sk-toggleable__control:checked~div.sk-toggleable__content {max-height: 200px;max-width: 100%;overflow: auto;}#sk-container-id-1 input.sk-toggleable__control:checked~label.sk-toggleable__label-arrow:before {content: \"▾\";}#sk-container-id-1 div.sk-estimator input.sk-toggleable__control:checked~label.sk-toggleable__label {background-color: #d4ebff;}#sk-container-id-1 div.sk-label input.sk-toggleable__control:checked~label.sk-toggleable__label {background-color: #d4ebff;}#sk-container-id-1 input.sk-hidden--visually {border: 0;clip: rect(1px 1px 1px 1px);clip: rect(1px, 1px, 1px, 1px);height: 1px;margin: -1px;overflow: hidden;padding: 0;position: absolute;width: 1px;}#sk-container-id-1 div.sk-estimator {font-family: monospace;background-color: #f0f8ff;border: 1px dotted black;border-radius: 0.25em;box-sizing: border-box;margin-bottom: 0.5em;}#sk-container-id-1 div.sk-estimator:hover {background-color: #d4ebff;}#sk-container-id-1 div.sk-parallel-item::after {content: \"\";width: 100%;border-bottom: 1px solid gray;flex-grow: 1;}#sk-container-id-1 div.sk-label:hover label.sk-toggleable__label {background-color: #d4ebff;}#sk-container-id-1 div.sk-serial::before {content: \"\";position: absolute;border-left: 1px solid gray;box-sizing: border-box;top: 0;bottom: 0;left: 50%;z-index: 0;}#sk-container-id-1 div.sk-serial {display: flex;flex-direction: column;align-items: center;background-color: white;padding-right: 0.2em;padding-left: 0.2em;position: relative;}#sk-container-id-1 div.sk-item {position: relative;z-index: 1;}#sk-container-id-1 div.sk-parallel {display: flex;align-items: stretch;justify-content: center;background-color: white;position: relative;}#sk-container-id-1 div.sk-item::before, #sk-container-id-1 div.sk-parallel-item::before {content: \"\";position: absolute;border-left: 1px solid gray;box-sizing: border-box;top: 0;bottom: 0;left: 50%;z-index: -1;}#sk-container-id-1 div.sk-parallel-item {display: flex;flex-direction: column;z-index: 1;position: relative;background-color: white;}#sk-container-id-1 div.sk-parallel-item:first-child::after {align-self: flex-end;width: 50%;}#sk-container-id-1 div.sk-parallel-item:last-child::after {align-self: flex-start;width: 50%;}#sk-container-id-1 div.sk-parallel-item:only-child::after {width: 0;}#sk-container-id-1 div.sk-dashed-wrapped {border: 1px dashed gray;margin: 0 0.4em 0.5em 0.4em;box-sizing: border-box;padding-bottom: 0.4em;background-color: white;}#sk-container-id-1 div.sk-label label {font-family: monospace;font-weight: bold;display: inline-block;line-height: 1.2em;}#sk-container-id-1 div.sk-label-container {text-align: center;}#sk-container-id-1 div.sk-container {/* jupyter's `normalize.less` sets `[hidden] { display: none; }` but bootstrap.min.css set `[hidden] { display: none !important; }` so we also need the `!important` here to be able to override the default hidden behavior on the sphinx rendered scikit-learn.org. See: https://github.com/scikit-learn/scikit-learn/issues/21755 */display: inline-block !important;position: relative;}#sk-container-id-1 div.sk-text-repr-fallback {display: none;}</style><div id=\"sk-container-id-1\" class=\"sk-top-container\"><div class=\"sk-text-repr-fallback\"><pre>LogisticRegression(random_state=0, solver=&#x27;liblinear&#x27;)</pre><b>In a Jupyter environment, please rerun this cell to show the HTML representation or trust the notebook. <br />On GitHub, the HTML representation is unable to render, please try loading this page with nbviewer.org.</b></div><div class=\"sk-container\" hidden><div class=\"sk-item\"><div class=\"sk-estimator sk-toggleable\"><input class=\"sk-toggleable__control sk-hidden--visually\" id=\"sk-estimator-id-1\" type=\"checkbox\" checked><label for=\"sk-estimator-id-1\" class=\"sk-toggleable__label sk-toggleable__label-arrow\">LogisticRegression</label><div class=\"sk-toggleable__content\"><pre>LogisticRegression(random_state=0, solver=&#x27;liblinear&#x27;)</pre></div></div></div></div></div>"
            ]
          },
          "metadata": {},
          "execution_count": 22
        }
      ],
      "source": [
        "model.fit(X,y)"
      ]
    },
    {
      "cell_type": "code",
      "execution_count": 23,
      "metadata": {
        "colab": {
          "base_uri": "https://localhost:8080/"
        },
        "id": "SC3rh4eNHaDx",
        "outputId": "30a1daf0-b0d1-4135-b4c4-2b7ac5c47d01"
      },
      "outputs": [
        {
          "output_type": "stream",
          "name": "stdout",
          "text": [
            "[-3.229775] [[ 5.31100926e-03  6.04424706e-03 -4.77701369e-04  1.17890124e-01\n",
            "   2.01889844e-01 -2.25413364e-05 -7.93269917e-01 -8.70099173e-01\n",
            "  -5.81153626e-01 -5.17385840e-04  9.55324026e-03  3.89992796e-03\n",
            "  -9.85620669e-02  2.28448094e-03  9.58033040e-02  1.00884305e-01]]\n"
          ]
        }
      ],
      "source": [
        "print(model.intercept_, model.coef_)"
      ]
    },
    {
      "cell_type": "code",
      "execution_count": 24,
      "metadata": {
        "colab": {
          "base_uri": "https://localhost:8080/"
        },
        "id": "CL8tYAMDJnV1",
        "outputId": "af475bb7-9917-4ef4-939b-ed6ade51377a"
      },
      "outputs": [
        {
          "output_type": "execute_result",
          "data": {
            "text/plain": [
              "array([[0.91929266, 0.08070734],\n",
              "       [0.93139444, 0.06860556],\n",
              "       [0.893422  , 0.106578  ],\n",
              "       ...,\n",
              "       [0.95157789, 0.04842211],\n",
              "       [0.87671017, 0.12328983],\n",
              "       [0.8737056 , 0.1262944 ]])"
            ]
          },
          "metadata": {},
          "execution_count": 24
        }
      ],
      "source": [
        "model.predict_proba(X)"
      ]
    },
    {
      "cell_type": "code",
      "execution_count": 25,
      "metadata": {
        "id": "kIJRLixQJqFm"
      },
      "outputs": [],
      "source": [
        "y_pred = model.predict(X)"
      ]
    },
    {
      "cell_type": "code",
      "execution_count": 26,
      "metadata": {
        "colab": {
          "base_uri": "https://localhost:8080/"
        },
        "id": "uV7LIrB9Jue9",
        "outputId": "3a282d57-272d-4057-e308-608f5f36c7b3"
      },
      "outputs": [
        {
          "output_type": "execute_result",
          "data": {
            "text/plain": [
              "0.88940499889405"
            ]
          },
          "metadata": {},
          "execution_count": 26
        }
      ],
      "source": [
        "model.score(X,y)"
      ]
    },
    {
      "cell_type": "code",
      "execution_count": 27,
      "metadata": {
        "colab": {
          "base_uri": "https://localhost:8080/"
        },
        "id": "cWn-KilVJvYw",
        "outputId": "e79b9c9d-2992-4bcc-e836-7e12ee6de662"
      },
      "outputs": [
        {
          "output_type": "execute_result",
          "data": {
            "text/plain": [
              "array([[3924,   76],\n",
              "       [ 424,   97]])"
            ]
          },
          "metadata": {},
          "execution_count": 27
        }
      ],
      "source": [
        "confusion_matrix(y, y_pred)"
      ]
    },
    {
      "cell_type": "code",
      "execution_count": 28,
      "metadata": {
        "colab": {
          "base_uri": "https://localhost:8080/",
          "height": 676
        },
        "id": "afbQeDq0Jy73",
        "outputId": "0a104727-0f13-4e9e-edde-f56b965109de"
      },
      "outputs": [
        {
          "output_type": "display_data",
          "data": {
            "text/plain": [
              "<Figure size 800x800 with 1 Axes>"
            ],
            "image/png": "[encoded data removed]"
          },
          "metadata": {}
        }
      ],
      "source": [
        "cm = confusion_matrix(y,y_pred)\n",
        "fig, ax = plt.subplots(figsize=(8,8))\n",
        "ax.imshow(cm)\n",
        "ax.grid(False)\n",
        "ax.xaxis.set(ticks=(0,1),ticklabels = ('Predicted No','Predicted Yes'))\n",
        "ax.yaxis.set(ticks=(0,1),ticklabels = ('Actual No','Actual Yes'))\n",
        "ax.set_ylim(1.5,-0.5)\n",
        "for i in range(2):\n",
        "    for j in range(2):\n",
        "        ax.text(j,i,cm[i,j],ha='center',va='center',color='red')\n",
        "plt.show()"
      ]
    },
    {
      "cell_type": "markdown",
      "metadata": {
        "id": "oNUU14ZnKdnV"
      },
      "source": [
        "Dapat disimpulkan bahwa dari 4521 data dari customer Bank , ada 3924 nasabah yang benar-benar tidak membeli produk bank (True Negative), 422 nasabah yang salah diprediksi tidak membeli produk bank, padahal sebenarnya mereka membeli (False Negative),75 nasabah yang salah diprediksi membeli produk bank, padahal sebenarnya mereka tidak membeli (False Positive) Dan 99 nasabah yang benar-benar membeli produk bank (True Positive)"
      ]
    },
    {
      "cell_type": "code",
      "execution_count": 29,
      "metadata": {
        "colab": {
          "base_uri": "https://localhost:8080/"
        },
        "id": "wZY4kSNWNfpn",
        "outputId": "61d8a4cf-ced3-4b27-92c3-87a567905ad1"
      },
      "outputs": [
        {
          "output_type": "stream",
          "name": "stdout",
          "text": [
            "Akurasi :  0.8900685689006856\n",
            "Presisi :  0.19001919385796545\n",
            "Recall :  0.5689655172413793\n",
            "F1 :  0.28489208633093527\n"
          ]
        }
      ],
      "source": [
        "TN = 3925\n",
        "FN = 75\n",
        "FP = 422 \n",
        "TP = 99\n",
        "\n",
        "acc = (TP+TN)/(TP+FP+TN+FN)\n",
        "pre = (TP) / (TP+FP)\n",
        "re = (TP) /(TP+FN)\n",
        "f1 = (TP+TP) / (TP+TP+FP+FN)\n",
        "print('Akurasi : ',acc)\n",
        "print('Presisi : ',pre)\n",
        "print('Recall : ',re)\n",
        "print('F1 : ',f1)"
      ]
    },
    {
      "cell_type": "markdown",
      "metadata": {
        "id": "37EMsvbHRSy8"
      },
      "source": [
        "<h1> K-Nearest Neighbor (KNN) <h1>"
      ]
    },
    {
      "cell_type": "code",
      "execution_count": 30,
      "metadata": {
        "id": "2NPo84mXQXP_"
      },
      "outputs": [],
      "source": [
        "# Import library\n",
        "import pandas as pd\n",
        "from sklearn.neighbors import KNeighborsClassifier\n",
        "from sklearn.model_selection import train_test_split\n",
        "from sklearn.preprocessing import LabelEncoder\n",
        "from sklearn.metrics import accuracy_score, confusion_matrix"
      ]
    },
    {
      "cell_type": "code",
      "execution_count": 31,
      "metadata": {
        "colab": {
          "base_uri": "https://localhost:8080/",
          "height": 424
        },
        "id": "MP1a-juoRY12",
        "outputId": "3b790e00-af43-4f45-a3a4-045f1cca6de3"
      },
      "outputs": [
        {
          "output_type": "execute_result",
          "data": {
            "text/plain": [
              "     age  job  marital  education  default  balance  housing  loan  contact  \\\n",
              "0     30   10        1          0        0      794        0     0        0   \n",
              "1     33    7        1          1        0     1684        1     1        0   \n",
              "2     35    4        2          2        0      548        1     0        0   \n",
              "3     30    4        1          2        0      623        1     1        2   \n",
              "4     59    1        1          1        0      274        1     0        2   \n",
              "...   ..  ...      ...        ...      ...      ...      ...   ...      ...   \n",
              "4516  33    7        1          1        0      127        1     0        0   \n",
              "4517  57    6        1          2        1      126        1     1        2   \n",
              "4518  57    9        1          1        0     1230        0     0        0   \n",
              "4519  28    1        1          1        0      388        0     0        0   \n",
              "4520  44    2        2          2        0      387        1     1        0   \n",
              "\n",
              "     day  month duration campaign pdays previous  poutcome  \n",
              "0     19     10       79        1    -1        0         3  \n",
              "1     11      8      220        1   339        4         0  \n",
              "2     16      0      185        1   330        1         0  \n",
              "3      3      6      199        4    -1        0         3  \n",
              "4      5      8      226        1    -1        0         3  \n",
              "...   ..    ...      ...      ...   ...      ...       ...  \n",
              "4516  30      5      329        5    -1        0         3  \n",
              "4517   9      8      153        1    -1        0         3  \n",
              "4518  19      1      151       11    -1        0         3  \n",
              "4519   6      3      129        4   211        3         1  \n",
              "4520   3      0      345        2   249        7         1  \n",
              "\n",
              "[4521 rows x 16 columns]"
            ],
            "text/html": [
              "\n",
              "  <div id=\"df-93013e4e-1d4e-44c5-a2cf-2f57d022af5d\">\n",
              "    <div class=\"colab-df-container\">\n",
              "      <div>\n",
              "<style scoped>\n",
              "    .dataframe tbody tr th:only-of-type {\n",
              "        vertical-align: middle;\n",
              "    }\n",
              "\n",
              "    .dataframe tbody tr th {\n",
              "        vertical-align: top;\n",
              "    }\n",
              "\n",
              "    .dataframe thead th {\n",
              "        text-align: right;\n",
              "    }\n",
              "</style>\n",
              "<table border=\"1\" class=\"dataframe\">\n",
              "  <thead>\n",
              "    <tr style=\"text-align: right;\">\n",
              "      <th></th>\n",
              "      <th>age</th>\n",
              "      <th>job</th>\n",
              "      <th>marital</th>\n",
              "      <th>education</th>\n",
              "      <th>default</th>\n",
              "      <th>balance</th>\n",
              "      <th>housing</th>\n",
              "      <th>loan</th>\n",
              "      <th>contact</th>\n",
              "      <th>day</th>\n",
              "      <th>month</th>\n",
              "      <th>duration</th>\n",
              "      <th>campaign</th>\n",
              "      <th>pdays</th>\n",
              "      <th>previous</th>\n",
              "      <th>poutcome</th>\n",
              "    </tr>\n",
              "  </thead>\n",
              "  <tbody>\n",
              "    <tr>\n",
              "      <th>0</th>\n",
              "      <td>30</td>\n",
              "      <td>10</td>\n",
              "      <td>1</td>\n",
              "      <td>0</td>\n",
              "      <td>0</td>\n",
              "      <td>794</td>\n",
              "      <td>0</td>\n",
              "      <td>0</td>\n",
              "      <td>0</td>\n",
              "      <td>19</td>\n",
              "      <td>10</td>\n",
              "      <td>79</td>\n",
              "      <td>1</td>\n",
              "      <td>-1</td>\n",
              "      <td>0</td>\n",
              "      <td>3</td>\n",
              "    </tr>\n",
              "    <tr>\n",
              "      <th>1</th>\n",
              "      <td>33</td>\n",
              "      <td>7</td>\n",
              "      <td>1</td>\n",
              "      <td>1</td>\n",
              "      <td>0</td>\n",
              "      <td>1684</td>\n",
              "      <td>1</td>\n",
              "      <td>1</td>\n",
              "      <td>0</td>\n",
              "      <td>11</td>\n",
              "      <td>8</td>\n",
              "      <td>220</td>\n",
              "      <td>1</td>\n",
              "      <td>339</td>\n",
              "      <td>4</td>\n",
              "      <td>0</td>\n",
              "    </tr>\n",
              "    <tr>\n",
              "      <th>2</th>\n",
              "      <td>35</td>\n",
              "      <td>4</td>\n",
              "      <td>2</td>\n",
              "      <td>2</td>\n",
              "      <td>0</td>\n",
              "      <td>548</td>\n",
              "      <td>1</td>\n",
              "      <td>0</td>\n",
              "      <td>0</td>\n",
              "      <td>16</td>\n",
              "      <td>0</td>\n",
              "      <td>185</td>\n",
              "      <td>1</td>\n",
              "      <td>330</td>\n",
              "      <td>1</td>\n",
              "      <td>0</td>\n",
              "    </tr>\n",
              "    <tr>\n",
              "      <th>3</th>\n",
              "      <td>30</td>\n",
              "      <td>4</td>\n",
              "      <td>1</td>\n",
              "      <td>2</td>\n",
              "      <td>0</td>\n",
              "      <td>623</td>\n",
              "      <td>1</td>\n",
              "      <td>1</td>\n",
              "      <td>2</td>\n",
              "      <td>3</td>\n",
              "      <td>6</td>\n",
              "      <td>199</td>\n",
              "      <td>4</td>\n",
              "      <td>-1</td>\n",
              "      <td>0</td>\n",
              "      <td>3</td>\n",
              "    </tr>\n",
              "    <tr>\n",
              "      <th>4</th>\n",
              "      <td>59</td>\n",
              "      <td>1</td>\n",
              "      <td>1</td>\n",
              "      <td>1</td>\n",
              "      <td>0</td>\n",
              "      <td>274</td>\n",
              "      <td>1</td>\n",
              "      <td>0</td>\n",
              "      <td>2</td>\n",
              "      <td>5</td>\n",
              "      <td>8</td>\n",
              "      <td>226</td>\n",
              "      <td>1</td>\n",
              "      <td>-1</td>\n",
              "      <td>0</td>\n",
              "      <td>3</td>\n",
              "    </tr>\n",
              "    <tr>\n",
              "      <th>...</th>\n",
              "      <td>...</td>\n",
              "      <td>...</td>\n",
              "      <td>...</td>\n",
              "      <td>...</td>\n",
              "      <td>...</td>\n",
              "      <td>...</td>\n",
              "      <td>...</td>\n",
              "      <td>...</td>\n",
              "      <td>...</td>\n",
              "      <td>...</td>\n",
              "      <td>...</td>\n",
              "      <td>...</td>\n",
              "      <td>...</td>\n",
              "      <td>...</td>\n",
              "      <td>...</td>\n",
              "      <td>...</td>\n",
              "    </tr>\n",
              "    <tr>\n",
              "      <th>4516</th>\n",
              "      <td>33</td>\n",
              "      <td>7</td>\n",
              "      <td>1</td>\n",
              "      <td>1</td>\n",
              "      <td>0</td>\n",
              "      <td>127</td>\n",
              "      <td>1</td>\n",
              "      <td>0</td>\n",
              "      <td>0</td>\n",
              "      <td>30</td>\n",
              "      <td>5</td>\n",
              "      <td>329</td>\n",
              "      <td>5</td>\n",
              "      <td>-1</td>\n",
              "      <td>0</td>\n",
              "      <td>3</td>\n",
              "    </tr>\n",
              "    <tr>\n",
              "      <th>4517</th>\n",
              "      <td>57</td>\n",
              "      <td>6</td>\n",
              "      <td>1</td>\n",
              "      <td>2</td>\n",
              "      <td>1</td>\n",
              "      <td>126</td>\n",
              "      <td>1</td>\n",
              "      <td>1</td>\n",
              "      <td>2</td>\n",
              "      <td>9</td>\n",
              "      <td>8</td>\n",
              "      <td>153</td>\n",
              "      <td>1</td>\n",
              "      <td>-1</td>\n",
              "      <td>0</td>\n",
              "      <td>3</td>\n",
              "    </tr>\n",
              "    <tr>\n",
              "      <th>4518</th>\n",
              "      <td>57</td>\n",
              "      <td>9</td>\n",
              "      <td>1</td>\n",
              "      <td>1</td>\n",
              "      <td>0</td>\n",
              "      <td>1230</td>\n",
              "      <td>0</td>\n",
              "      <td>0</td>\n",
              "      <td>0</td>\n",
              "      <td>19</td>\n",
              "      <td>1</td>\n",
              "      <td>151</td>\n",
              "      <td>11</td>\n",
              "      <td>-1</td>\n",
              "      <td>0</td>\n",
              "      <td>3</td>\n",
              "    </tr>\n",
              "    <tr>\n",
              "      <th>4519</th>\n",
              "      <td>28</td>\n",
              "      <td>1</td>\n",
              "      <td>1</td>\n",
              "      <td>1</td>\n",
              "      <td>0</td>\n",
              "      <td>388</td>\n",
              "      <td>0</td>\n",
              "      <td>0</td>\n",
              "      <td>0</td>\n",
              "      <td>6</td>\n",
              "      <td>3</td>\n",
              "      <td>129</td>\n",
              "      <td>4</td>\n",
              "      <td>211</td>\n",
              "      <td>3</td>\n",
              "      <td>1</td>\n",
              "    </tr>\n",
              "    <tr>\n",
              "      <th>4520</th>\n",
              "      <td>44</td>\n",
              "      <td>2</td>\n",
              "      <td>2</td>\n",
              "      <td>2</td>\n",
              "      <td>0</td>\n",
              "      <td>387</td>\n",
              "      <td>1</td>\n",
              "      <td>1</td>\n",
              "      <td>0</td>\n",
              "      <td>3</td>\n",
              "      <td>0</td>\n",
              "      <td>345</td>\n",
              "      <td>2</td>\n",
              "      <td>249</td>\n",
              "      <td>7</td>\n",
              "      <td>1</td>\n",
              "    </tr>\n",
              "  </tbody>\n",
              "</table>\n",
              "<p>4521 rows × 16 columns</p>\n",
              "</div>\n",
              "      <button class=\"colab-df-convert\" onclick=\"convertToInteractive('df-93013e4e-1d4e-44c5-a2cf-2f57d022af5d')\"\n",
              "              title=\"Convert this dataframe to an interactive table.\"\n",
              "              style=\"display:none;\">\n",
              "        \n",
              "  <svg xmlns=\"http://www.w3.org/2000/svg\" height=\"24px\"viewBox=\"0 0 24 24\"\n",
              "       width=\"24px\">\n",
              "    <path d=\"M0 0h24v24H0V0z\" fill=\"none\"/>\n",
              "    <path d=\"M18.56 5.44l.94 2.06.94-2.06 2.06-.94-2.06-.94-.94-2.06-.94 2.06-2.06.94zm-11 1L8.5 8.5l.94-2.06 2.06-.94-2.06-.94L8.5 2.5l-.94 2.06-2.06.94zm10 10l.94 2.06.94-2.06 2.06-.94-2.06-.94-.94-2.06-.94 2.06-2.06.94z\"/><path d=\"M17.41 7.96l-1.37-1.37c-.4-.4-.92-.59-1.43-.59-.52 0-1.04.2-1.43.59L10.3 9.45l-7.72 7.72c-.78.78-.78 2.05 0 2.83L4 21.41c.39.39.9.59 1.41.59.51 0 1.02-.2 1.41-.59l7.78-7.78 2.81-2.81c.8-.78.8-2.07 0-2.86zM5.41 20L4 18.59l7.72-7.72 1.47 1.35L5.41 20z\"/>\n",
              "  </svg>\n",
              "      </button>\n",
              "      \n",
              "  <style>\n",
              "    .colab-df-container {\n",
              "      display:flex;\n",
              "      flex-wrap:wrap;\n",
              "      gap: 12px;\n",
              "    }\n",
              "\n",
              "    .colab-df-convert {\n",
              "      background-color: #E8F0FE;\n",
              "      border: none;\n",
              "      border-radius: 50%;\n",
              "      cursor: pointer;\n",
              "      display: none;\n",
              "      fill: #1967D2;\n",
              "      height: 32px;\n",
              "      padding: 0 0 0 0;\n",
              "      width: 32px;\n",
              "    }\n",
              "\n",
              "    .colab-df-convert:hover {\n",
              "      background-color: #E2EBFA;\n",
              "      box-shadow: 0px 1px 2px rgba(60, 64, 67, 0.3), 0px 1px 3px 1px rgba(60, 64, 67, 0.15);\n",
              "      fill: #174EA6;\n",
              "    }\n",
              "\n",
              "    [theme=dark] .colab-df-convert {\n",
              "      background-color: #3B4455;\n",
              "      fill: #D2E3FC;\n",
              "    }\n",
              "\n",
              "    [theme=dark] .colab-df-convert:hover {\n",
              "      background-color: #434B5C;\n",
              "      box-shadow: 0px 1px 3px 1px rgba(0, 0, 0, 0.15);\n",
              "      filter: drop-shadow(0px 1px 2px rgba(0, 0, 0, 0.3));\n",
              "      fill: #FFFFFF;\n",
              "    }\n",
              "  </style>\n",
              "\n",
              "      <script>\n",
              "        const buttonEl =\n",
              "          document.querySelector('#df-93013e4e-1d4e-44c5-a2cf-2f57d022af5d button.colab-df-convert');\n",
              "        buttonEl.style.display =\n",
              "          google.colab.kernel.accessAllowed ? 'block' : 'none';\n",
              "\n",
              "        async function convertToInteractive(key) {\n",
              "          const element = document.querySelector('#df-93013e4e-1d4e-44c5-a2cf-2f57d022af5d');\n",
              "          const dataTable =\n",
              "            await google.colab.kernel.invokeFunction('convertToInteractive',\n",
              "                                                     [key], {});\n",
              "          if (!dataTable) return;\n",
              "\n",
              "          const docLinkHtml = 'Like what you see? Visit the ' +\n",
              "            '<a target=\"_blank\" href=https://colab.research.google.com/notebooks/data_table.ipynb>data table notebook</a>'\n",
              "            + ' to learn more about interactive tables.';\n",
              "          element.innerHTML = '';\n",
              "          dataTable['output_type'] = 'display_data';\n",
              "          await google.colab.output.renderOutput(dataTable, element);\n",
              "          const docLink = document.createElement('div');\n",
              "          docLink.innerHTML = docLinkHtml;\n",
              "          element.appendChild(docLink);\n",
              "        }\n",
              "      </script>\n",
              "    </div>\n",
              "  </div>\n",
              "  "
            ]
          },
          "metadata": {},
          "execution_count": 31
        }
      ],
      "source": [
        "X"
      ]
    },
    {
      "cell_type": "code",
      "execution_count": 32,
      "metadata": {
        "colab": {
          "base_uri": "https://localhost:8080/"
        },
        "id": "kfmFrzgIRkeR",
        "outputId": "b4eb4e11-ecfd-4580-c7cc-7f61bed56d96"
      },
      "outputs": [
        {
          "output_type": "execute_result",
          "data": {
            "text/plain": [
              "0       \"no\"\n",
              "1       \"no\"\n",
              "2       \"no\"\n",
              "3       \"no\"\n",
              "4       \"no\"\n",
              "        ... \n",
              "4516    \"no\"\n",
              "4517    \"no\"\n",
              "4518    \"no\"\n",
              "4519    \"no\"\n",
              "4520    \"no\"\n",
              "Name: y, Length: 4521, dtype: object"
            ]
          },
          "metadata": {},
          "execution_count": 32
        }
      ],
      "source": [
        "y"
      ]
    },
    {
      "cell_type": "code",
      "execution_count": 33,
      "metadata": {
        "id": "_nMNFyjlR75u"
      },
      "outputs": [],
      "source": [
        "# mengubah label kedalam kolom numerik\n",
        "df['y'] = le.fit_transform(df['y'])"
      ]
    },
    {
      "cell_type": "code",
      "execution_count": 34,
      "metadata": {
        "colab": {
          "base_uri": "https://localhost:8080/"
        },
        "id": "gBukLOBtSVxU",
        "outputId": "8e7e6456-62fe-4fe9-c916-7150d7bd74e6"
      },
      "outputs": [
        {
          "output_type": "execute_result",
          "data": {
            "text/plain": [
              "0       0\n",
              "1       0\n",
              "2       0\n",
              "3       0\n",
              "4       0\n",
              "       ..\n",
              "4516    0\n",
              "4517    0\n",
              "4518    0\n",
              "4519    0\n",
              "4520    0\n",
              "Name: y, Length: 4521, dtype: int64"
            ]
          },
          "metadata": {},
          "execution_count": 34
        }
      ],
      "source": [
        "df['y']"
      ]
    },
    {
      "cell_type": "code",
      "execution_count": 35,
      "metadata": {
        "id": "yUpALQqESYmj"
      },
      "outputs": [],
      "source": [
        "# Splitting Data\n",
        "X_train , X_test , y_train, y_test = train_test_split(X,y,test_size=0.3,random_state=2024) #testsize 0.3 berarti 70% training, 30% test"
      ]
    },
    {
      "cell_type": "code",
      "execution_count": 36,
      "metadata": {
        "colab": {
          "base_uri": "https://localhost:8080/",
          "height": 75
        },
        "id": "7BcPlWDMSto8",
        "outputId": "8ee46bbf-1cf0-4257-fd83-1b6867009716"
      },
      "outputs": [
        {
          "output_type": "execute_result",
          "data": {
            "text/plain": [
              "KNeighborsClassifier()"
            ],
            "text/html": [
              "<style>#sk-container-id-2 {color: black;background-color: white;}#sk-container-id-2 pre{padding: 0;}#sk-container-id-2 div.sk-toggleable {background-color: white;}#sk-container-id-2 label.sk-toggleable__label {cursor: pointer;display: block;width: 100%;margin-bottom: 0;padding: 0.3em;box-sizing: border-box;text-align: center;}#sk-container-id-2 label.sk-toggleable__label-arrow:before {content: \"▸\";float: left;margin-right: 0.25em;color: #696969;}#sk-container-id-2 label.sk-toggleable__label-arrow:hover:before {color: black;}#sk-container-id-2 div.sk-estimator:hover label.sk-toggleable__label-arrow:before {color: black;}#sk-container-id-2 div.sk-toggleable__content {max-height: 0;max-width: 0;overflow: hidden;text-align: left;background-color: #f0f8ff;}#sk-container-id-2 div.sk-toggleable__content pre {margin: 0.2em;color: black;border-radius: 0.25em;background-color: #f0f8ff;}#sk-container-id-2 input.sk-toggleable__control:checked~div.sk-toggleable__content {max-height: 200px;max-width: 100%;overflow: auto;}#sk-container-id-2 input.sk-toggleable__control:checked~label.sk-toggleable__label-arrow:before {content: \"▾\";}#sk-container-id-2 div.sk-estimator input.sk-toggleable__control:checked~label.sk-toggleable__label {background-color: #d4ebff;}#sk-container-id-2 div.sk-label input.sk-toggleable__control:checked~label.sk-toggleable__label {background-color: #d4ebff;}#sk-container-id-2 input.sk-hidden--visually {border: 0;clip: rect(1px 1px 1px 1px);clip: rect(1px, 1px, 1px, 1px);height: 1px;margin: -1px;overflow: hidden;padding: 0;position: absolute;width: 1px;}#sk-container-id-2 div.sk-estimator {font-family: monospace;background-color: #f0f8ff;border: 1px dotted black;border-radius: 0.25em;box-sizing: border-box;margin-bottom: 0.5em;}#sk-container-id-2 div.sk-estimator:hover {background-color: #d4ebff;}#sk-container-id-2 div.sk-parallel-item::after {content: \"\";width: 100%;border-bottom: 1px solid gray;flex-grow: 1;}#sk-container-id-2 div.sk-label:hover label.sk-toggleable__label {background-color: #d4ebff;}#sk-container-id-2 div.sk-serial::before {content: \"\";position: absolute;border-left: 1px solid gray;box-sizing: border-box;top: 0;bottom: 0;left: 50%;z-index: 0;}#sk-container-id-2 div.sk-serial {display: flex;flex-direction: column;align-items: center;background-color: white;padding-right: 0.2em;padding-left: 0.2em;position: relative;}#sk-container-id-2 div.sk-item {position: relative;z-index: 1;}#sk-container-id-2 div.sk-parallel {display: flex;align-items: stretch;justify-content: center;background-color: white;position: relative;}#sk-container-id-2 div.sk-item::before, #sk-container-id-2 div.sk-parallel-item::before {content: \"\";position: absolute;border-left: 1px solid gray;box-sizing: border-box;top: 0;bottom: 0;left: 50%;z-index: -1;}#sk-container-id-2 div.sk-parallel-item {display: flex;flex-direction: column;z-index: 1;position: relative;background-color: white;}#sk-container-id-2 div.sk-parallel-item:first-child::after {align-self: flex-end;width: 50%;}#sk-container-id-2 div.sk-parallel-item:last-child::after {align-self: flex-start;width: 50%;}#sk-container-id-2 div.sk-parallel-item:only-child::after {width: 0;}#sk-container-id-2 div.sk-dashed-wrapped {border: 1px dashed gray;margin: 0 0.4em 0.5em 0.4em;box-sizing: border-box;padding-bottom: 0.4em;background-color: white;}#sk-container-id-2 div.sk-label label {font-family: monospace;font-weight: bold;display: inline-block;line-height: 1.2em;}#sk-container-id-2 div.sk-label-container {text-align: center;}#sk-container-id-2 div.sk-container {/* jupyter's `normalize.less` sets `[hidden] { display: none; }` but bootstrap.min.css set `[hidden] { display: none !important; }` so we also need the `!important` here to be able to override the default hidden behavior on the sphinx rendered scikit-learn.org. See: https://github.com/scikit-learn/scikit-learn/issues/21755 */display: inline-block !important;position: relative;}#sk-container-id-2 div.sk-text-repr-fallback {display: none;}</style><div id=\"sk-container-id-2\" class=\"sk-top-container\"><div class=\"sk-text-repr-fallback\"><pre>KNeighborsClassifier()</pre><b>In a Jupyter environment, please rerun this cell to show the HTML representation or trust the notebook. <br />On GitHub, the HTML representation is unable to render, please try loading this page with nbviewer.org.</b></div><div class=\"sk-container\" hidden><div class=\"sk-item\"><div class=\"sk-estimator sk-toggleable\"><input class=\"sk-toggleable__control sk-hidden--visually\" id=\"sk-estimator-id-2\" type=\"checkbox\" checked><label for=\"sk-estimator-id-2\" class=\"sk-toggleable__label sk-toggleable__label-arrow\">KNeighborsClassifier</label><div class=\"sk-toggleable__content\"><pre>KNeighborsClassifier()</pre></div></div></div></div></div>"
            ]
          },
          "metadata": {},
          "execution_count": 36
        }
      ],
      "source": [
        "# Buat model untuk k=5 \n",
        "knn = KNeighborsClassifier(n_neighbors=5)\n",
        "knn.fit(X_train, y_train) ## Train model menggunakan training sets"
      ]
    },
    {
      "cell_type": "code",
      "execution_count": 37,
      "metadata": {
        "id": "n3B4FdQoTbPN"
      },
      "outputs": [],
      "source": [
        "y_pred = knn.predict(X_test) ## Prediksi respon untuk test dataset"
      ]
    },
    {
      "cell_type": "code",
      "execution_count": 38,
      "metadata": {
        "colab": {
          "base_uri": "https://localhost:8080/"
        },
        "id": "PQUjAqenThdv",
        "outputId": "630dc748-ba69-464a-e254-21c2e567791c"
      },
      "outputs": [
        {
          "output_type": "stream",
          "name": "stdout",
          "text": [
            "Accuracy : 0.8850405305821666\n"
          ]
        }
      ],
      "source": [
        "# Menghitung akurasi dengan membandingkan actual test dan predicted values\n",
        "print('Accuracy :', accuracy_score(y_test,y_pred))"
      ]
    },
    {
      "cell_type": "markdown",
      "metadata": {
        "id": "2q26cLVZTztj"
      },
      "source": [
        "Mendapat tingkat klasifikasi 88.50%"
      ]
    },
    {
      "cell_type": "code",
      "execution_count": 39,
      "metadata": {
        "id": "wP_E0HgTUtZH"
      },
      "outputs": [],
      "source": [
        "# Membuat model dengan jumlah nilai K yang berbeda\n",
        "# Buat model untuk k=7\n",
        "knn_7 = KNeighborsClassifier(n_neighbors=7)\n",
        "knn_7.fit(X_train,y_train)\n",
        "\n",
        "y_pred_7 = knn.predict(X_test)"
      ]
    },
    {
      "cell_type": "code",
      "execution_count": 40,
      "metadata": {
        "colab": {
          "base_uri": "https://localhost:8080/"
        },
        "id": "hun1PiLDVq1Y",
        "outputId": "eea74f4d-3369-47a5-fc4f-5a5de25e4a36"
      },
      "outputs": [
        {
          "output_type": "stream",
          "name": "stdout",
          "text": [
            "Accuracy : 0.8850405305821666\n"
          ]
        }
      ],
      "source": [
        "from sklearn.metrics import accuracy_score\n",
        "\n",
        "print('Accuracy :', accuracy_score(y_test,y_pred_7))"
      ]
    },
    {
      "cell_type": "markdown",
      "metadata": {
        "id": "1trYCRHtV0Z1"
      },
      "source": [
        "Mendapat tingkat klarifikasi yang sama seperti pada model K=5"
      ]
    },
    {
      "cell_type": "code",
      "execution_count": 41,
      "metadata": {
        "colab": {
          "base_uri": "https://localhost:8080/"
        },
        "id": "HW9NQ61GVumc",
        "outputId": "c3550aef-5fee-4187-bfb9-badf92753bd3"
      },
      "outputs": [
        {
          "output_type": "execute_result",
          "data": {
            "text/plain": [
              "array(['\"no\"', '\"no\"', '\"no\"', ..., '\"no\"', '\"no\"', '\"yes\"'], dtype=object)"
            ]
          },
          "metadata": {},
          "execution_count": 41
        }
      ],
      "source": [
        "y_pred"
      ]
    },
    {
      "cell_type": "code",
      "execution_count": 42,
      "metadata": {
        "id": "CHmz4Bm7YD8m"
      },
      "outputs": [],
      "source": [
        "# Improve model mencari nilai K yang optimal\n",
        "\n",
        "error= []\n",
        "# Menghitung error untuk k antara 1 sampai 40\n",
        "for i in range(1,40):\n",
        "    knn = KNeighborsClassifier(n_neighbors=i)\n",
        "    knn.fit(X_train,y_train)\n",
        "    pred_i=knn.predict(X_test)\n",
        "    error.append(np.mean(pred_i != y_test))"
      ]
    },
    {
      "cell_type": "code",
      "execution_count": 43,
      "metadata": {
        "colab": {
          "base_uri": "https://localhost:8080/",
          "height": 581
        },
        "id": "J5ATKG89Y_u8",
        "outputId": "6f3f8688-a914-4873-c8ca-1304cb518125"
      },
      "outputs": [
        {
          "output_type": "execute_result",
          "data": {
            "text/plain": [
              "Text(0, 0.5, 'Error Rate')"
            ]
          },
          "metadata": {},
          "execution_count": 43
        },
        {
          "output_type": "display_data",
          "data": {
            "text/plain": [
              "<Figure size 1200x600 with 1 Axes>"
            ],
            "image/png": "[encoded data removed]"
          },
          "metadata": {}
        }
      ],
      "source": [
        "plt.figure(figsize=(12,6))\n",
        "plt.plot(range(1,40),error, color='red',linestyle='dashed',marker='o', markerfacecolor='blue',markersize=12)\n",
        "plt.title('Error rate K')\n",
        "plt.xlabel('K')\n",
        "plt.ylabel('Error Rate')"
      ]
    },
    {
      "cell_type": "markdown",
      "metadata": {
        "id": "WLA42DXvZiMt"
      },
      "source": [
        "Dari plot dapat dilihat bahwa error terkecil yang didapat yaitu 0.1 pada K = 8"
      ]
    },
    {
      "cell_type": "code",
      "execution_count": 44,
      "metadata": {
        "colab": {
          "base_uri": "https://localhost:8080/"
        },
        "id": "seLaauZva_iH",
        "outputId": "6f5b9383-9fa4-446d-b443-ecf9d35f16c9"
      },
      "outputs": [
        {
          "output_type": "stream",
          "name": "stdout",
          "text": [
            "Accuracy: 0.887988209285188\n"
          ]
        }
      ],
      "source": [
        "knn_8 = KNeighborsClassifier(n_neighbors=8)\n",
        "knn_8.fit(X_train,y_train)\n",
        "\n",
        "y_pred_8 = knn_8.predict(X_test)\n",
        "\n",
        "print('Accuracy:', accuracy_score(y_test,y_pred_8) )"
      ]
    },
    {
      "cell_type": "code",
      "execution_count": 45,
      "metadata": {
        "id": "r0_IEDn-cL1r"
      },
      "outputs": [],
      "source": [
        "from sklearn.preprocessing import StandardScaler\n",
        "scaler = StandardScaler()"
      ]
    },
    {
      "cell_type": "code",
      "execution_count": 46,
      "metadata": {
        "id": "gxfHrI03cMpf"
      },
      "outputs": [],
      "source": [
        "X_train_scaled = scaler.fit_transform(X_train)\n",
        "X_test_scaled = scaler.transform(X_test)"
      ]
    },
    {
      "cell_type": "code",
      "execution_count": 47,
      "metadata": {
        "colab": {
          "base_uri": "https://localhost:8080/"
        },
        "id": "wq8o4E87dQ28",
        "outputId": "42ac06ab-d967-42ba-d471-ea3eda7b9f17"
      },
      "outputs": [
        {
          "output_type": "stream",
          "name": "stdout",
          "text": [
            "Accuracy: 0.8872512896094326\n"
          ]
        }
      ],
      "source": [
        "knn_8 = KNeighborsClassifier(n_neighbors=8)\n",
        "knn_8.fit(X_train_scaled,y_train)\n",
        "y_pred_8_scaled = knn_8.predict(X_test_scaled)\n",
        "print('Accuracy:', accuracy_score(y_test,y_pred_8_scaled) )"
      ]
    },
    {
      "cell_type": "code",
      "execution_count": 48,
      "metadata": {
        "id": "xUOjkst3dS-J"
      },
      "outputs": [],
      "source": [
        "y_pred_train = knn_8.predict(X_train_scaled)\n",
        "y_pred_test = knn_8.predict(X_test_scaled)"
      ]
    },
    {
      "cell_type": "code",
      "execution_count": 49,
      "metadata": {
        "colab": {
          "base_uri": "https://localhost:8080/"
        },
        "id": "6UhI55WtdXQC",
        "outputId": "849c58b8-0947-42d2-feab-3d74347e5c3e"
      },
      "outputs": [
        {
          "output_type": "stream",
          "name": "stdout",
          "text": [
            "Train Set\n",
            "              precision    recall  f1-score   support\n",
            "\n",
            "        \"no\"       0.90      1.00      0.95      2804\n",
            "       \"yes\"       0.82      0.16      0.27       360\n",
            "\n",
            "    accuracy                           0.90      3164\n",
            "   macro avg       0.86      0.58      0.61      3164\n",
            "weighted avg       0.89      0.90      0.87      3164\n",
            "\n",
            "Test Set\n",
            "              precision    recall  f1-score   support\n",
            "\n",
            "        \"no\"       0.89      0.99      0.94      1196\n",
            "       \"yes\"       0.64      0.11      0.19       161\n",
            "\n",
            "    accuracy                           0.89      1357\n",
            "   macro avg       0.77      0.55      0.56      1357\n",
            "weighted avg       0.86      0.89      0.85      1357\n",
            "\n"
          ]
        }
      ],
      "source": [
        "print('Train Set')\n",
        "print(classification_report(y_train,y_pred_train))\n",
        "print('Test Set')\n",
        "print(classification_report(y_test,y_pred_test))"
      ]
    },
    {
      "cell_type": "markdown",
      "metadata": {
        "id": "co_UmoGJdaV8"
      },
      "source": [
        "<h1> Naive Bayes <h1>"
      ]
    },
    {
      "cell_type": "code",
      "execution_count": 50,
      "metadata": {
        "id": "LbQfBwcKdfkz"
      },
      "outputs": [],
      "source": [
        "from sklearn.naive_bayes import GaussianNB\n",
        "X_train, X_test, y_train, y_test = train_test_split(X,y, test_size=0.3 , random_state=2024)"
      ]
    },
    {
      "cell_type": "code",
      "execution_count": 51,
      "metadata": {
        "id": "zx7tscs6enTZ"
      },
      "outputs": [],
      "source": [
        "gnb = GaussianNB()\n",
        "gnb.fit(X_train,y_train)\n",
        "y_pred_test = gnb.predict(X_test)"
      ]
    },
    {
      "cell_type": "code",
      "execution_count": 52,
      "metadata": {
        "colab": {
          "base_uri": "https://localhost:8080/"
        },
        "id": "RqTqOtoben3g",
        "outputId": "d6adccb6-d586-44ea-b9eb-7b56616fedfd"
      },
      "outputs": [
        {
          "output_type": "execute_result",
          "data": {
            "text/plain": [
              "array(['\"no\"', '\"no\"', '\"no\"', ..., '\"no\"', '\"no\"', '\"no\"'], dtype='<U5')"
            ]
          },
          "metadata": {},
          "execution_count": 52
        }
      ],
      "source": [
        "y_pred_test"
      ]
    },
    {
      "cell_type": "code",
      "execution_count": 53,
      "metadata": {
        "colab": {
          "base_uri": "https://localhost:8080/"
        },
        "id": "Sa3Jx0Fveqw0",
        "outputId": "e9f62f18-c154-4d89-992a-c8cf296546f9"
      },
      "outputs": [
        {
          "output_type": "execute_result",
          "data": {
            "text/plain": [
              "3994     \"no\"\n",
              "4320     \"no\"\n",
              "1125     \"no\"\n",
              "4429     \"no\"\n",
              "3036    \"yes\"\n",
              "        ...  \n",
              "158      \"no\"\n",
              "844      \"no\"\n",
              "2385     \"no\"\n",
              "597      \"no\"\n",
              "984     \"yes\"\n",
              "Name: y, Length: 1357, dtype: object"
            ]
          },
          "metadata": {},
          "execution_count": 53
        }
      ],
      "source": [
        "y_test"
      ]
    },
    {
      "cell_type": "code",
      "execution_count": 54,
      "metadata": {
        "id": "60zr3GqIes3S"
      },
      "outputs": [],
      "source": [
        "y_pred_train = gnb.predict(X_train)\n",
        "y_pred_test = gnb.predict(X_test)"
      ]
    },
    {
      "cell_type": "code",
      "execution_count": 55,
      "metadata": {
        "id": "tAaDv_FsewEC"
      },
      "outputs": [],
      "source": [
        "from sklearn.metrics import accuracy_score, precision_score, recall_score"
      ]
    },
    {
      "cell_type": "code",
      "execution_count": 56,
      "metadata": {
        "colab": {
          "base_uri": "https://localhost:8080/"
        },
        "id": "D1ccLYijg9tm",
        "outputId": "c6276581-3000-4d57-ce66-a11ef047abca"
      },
      "outputs": [
        {
          "output_type": "stream",
          "name": "stdout",
          "text": [
            "Train Set Accuracy :  0.8400758533501896\n",
            "Test Set Accuracy :  0.8378776713338246\n"
          ]
        }
      ],
      "source": [
        "print('Train Set Accuracy : ', accuracy_score(y_train,y_pred_train))\n",
        "print('Test Set Accuracy : ', accuracy_score(y_test,y_pred_test))"
      ]
    },
    {
      "cell_type": "code",
      "execution_count": 57,
      "metadata": {
        "colab": {
          "base_uri": "https://localhost:8080/"
        },
        "id": "aeMRNzIeg_l3",
        "outputId": "ef7fa489-29fa-4a38-f7d2-460f2c58b844"
      },
      "outputs": [
        {
          "output_type": "stream",
          "name": "stdout",
          "text": [
            "Train Set \n",
            " Classification Report               precision    recall  f1-score   support\n",
            "\n",
            "        \"no\"       0.92      0.90      0.91      2804\n",
            "       \"yes\"       0.33      0.41      0.37       360\n",
            "\n",
            "    accuracy                           0.84      3164\n",
            "   macro avg       0.63      0.65      0.64      3164\n",
            "weighted avg       0.85      0.84      0.85      3164\n",
            "\n",
            "Test Set \n",
            " Classification Report               precision    recall  f1-score   support\n",
            "\n",
            "        \"no\"       0.92      0.89      0.91      1196\n",
            "       \"yes\"       0.35      0.42      0.38       161\n",
            "\n",
            "    accuracy                           0.84      1357\n",
            "   macro avg       0.63      0.66      0.64      1357\n",
            "weighted avg       0.85      0.84      0.84      1357\n",
            "\n"
          ]
        }
      ],
      "source": [
        "print('Train Set \\n Classification Report',classification_report(y_train,y_pred_train))\n",
        "print('Test Set \\n Classification Report', classification_report(y_test,y_pred_test))"
      ]
    },
    {
      "cell_type": "markdown",
      "metadata": {
        "id": "SV5r4dJuhHYd"
      },
      "source": [
        "<h1> Decision Tree <h1>"
      ]
    },
    {
      "cell_type": "code",
      "execution_count": 58,
      "metadata": {
        "id": "JZEQzISshMMe"
      },
      "outputs": [],
      "source": [
        "from sklearn.tree import DecisionTreeClassifier\n",
        "\n",
        "from sklearn.model_selection import train_test_split"
      ]
    },
    {
      "cell_type": "code",
      "execution_count": 59,
      "metadata": {
        "id": "BpFNYeHZq-AQ"
      },
      "outputs": [],
      "source": [
        "X_train, X_test, y_train, y_test = train_test_split(X,y,test_size=0.3,random_state=2024)"
      ]
    },
    {
      "cell_type": "code",
      "execution_count": 60,
      "metadata": {
        "id": "7--_hwWdq-jW"
      },
      "outputs": [],
      "source": [
        "# Build model\n",
        "\n",
        "dtc = DecisionTreeClassifier(max_depth=3)\n",
        "\n",
        "dtc.fit(X_train,y_train)\n",
        "\n",
        "y_pred_train = dtc.predict(X_train)\n",
        "y_pred_test = dtc.predict(X_test)"
      ]
    },
    {
      "cell_type": "code",
      "execution_count": 61,
      "metadata": {
        "colab": {
          "base_uri": "https://localhost:8080/"
        },
        "id": "PfrtsH8yrJkI",
        "outputId": "3911da40-98bd-442b-fedb-a2e0cb277b34"
      },
      "outputs": [
        {
          "output_type": "stream",
          "name": "stdout",
          "text": [
            "Train set \n",
            "               precision    recall  f1-score   support\n",
            "\n",
            "        \"no\"       0.92      0.97      0.94      2804\n",
            "       \"yes\"       0.58      0.30      0.40       360\n",
            "\n",
            "    accuracy                           0.90      3164\n",
            "   macro avg       0.75      0.64      0.67      3164\n",
            "weighted avg       0.88      0.90      0.88      3164\n",
            "\n",
            "Test set \n",
            "               precision    recall  f1-score   support\n",
            "\n",
            "        \"no\"       0.91      0.96      0.94      1196\n",
            "       \"yes\"       0.55      0.32      0.41       161\n",
            "\n",
            "    accuracy                           0.89      1357\n",
            "   macro avg       0.73      0.64      0.67      1357\n",
            "weighted avg       0.87      0.89      0.88      1357\n",
            "\n"
          ]
        }
      ],
      "source": [
        "print('Train set \\n', classification_report(y_train,y_pred_train))\n",
        "print('Test set \\n', classification_report(y_test,y_pred_test))"
      ]
    },
    {
      "cell_type": "markdown",
      "metadata": {
        "id": "GT0o6kE8rvtY"
      },
      "source": [
        "<h2> Visualisasi Decision Tree <h2>"
      ]
    },
    {
      "cell_type": "code",
      "execution_count": 62,
      "metadata": {
        "id": "FpMdOQjrrtY2"
      },
      "outputs": [],
      "source": [
        "import sklearn.tree as tree\n",
        "import pydotplus\n",
        "from six import StringIO\n",
        "from IPython.display import Image"
      ]
    },
    {
      "cell_type": "code",
      "execution_count": 63,
      "metadata": {
        "id": "VQdgZ9-asDVO"
      },
      "outputs": [],
      "source": [
        "feature_names = list(X.columns)"
      ]
    },
    {
      "cell_type": "code",
      "execution_count": 64,
      "metadata": {
        "colab": {
          "base_uri": "https://localhost:8080/",
          "height": 572
        },
        "id": "4iaC_kXysEsI",
        "outputId": "c212ca0a-8257-4fa6-a64f-ed3b0371adfb"
      },
      "outputs": [
        {
          "output_type": "execute_result",
          "data": {
            "image/png": "[encoded data removed]",
            "text/plain": [
              "<IPython.core.display.Image object>"
            ]
          },
          "metadata": {},
          "execution_count": 64
        }
      ],
      "source": [
        "dot_data = StringIO()\n",
        "\n",
        "tree.export_graphviz(dtc, out_file=dot_data,\n",
        "                     class_names=['0','1'], # nama target\n",
        "                     feature_names = feature_names,\n",
        "                     filled=True,\n",
        "                     rounded=True,\n",
        "                     special_characters=True)\n",
        "graph  = pydotplus.graph_from_dot_data(dot_data.getvalue())\n",
        "\n",
        "Image(graph.create_png())"
      ]
    },
    {
      "cell_type": "markdown",
      "metadata": {
        "id": "6rkqcmDLsdQY"
      },
      "source": [
        "<h1> Random Forest <h1>"
      ]
    },
    {
      "cell_type": "code",
      "execution_count": 65,
      "metadata": {
        "id": "TZuWphrjsZhJ"
      },
      "outputs": [],
      "source": [
        "# Splitting Data\n",
        "X_train,X_test,y_train,y_test = train_test_split(X,y,test_size=0.3,random_state=2024)"
      ]
    },
    {
      "cell_type": "code",
      "execution_count": 66,
      "metadata": {
        "id": "YpVzlLwTszSl"
      },
      "outputs": [],
      "source": [
        "from sklearn.ensemble import RandomForestClassifier\n",
        "\n",
        "rfc  = RandomForestClassifier(n_estimators=100)\n",
        "\n",
        "rfc.fit(X_train,y_train)\n",
        "\n",
        "y_pred_train = rfc.predict(X_train)\n",
        "y_pred_test  = rfc.predict(X_test)"
      ]
    },
    {
      "cell_type": "code",
      "execution_count": 67,
      "metadata": {
        "colab": {
          "base_uri": "https://localhost:8080/"
        },
        "id": "zBmYjSgbs9PQ",
        "outputId": "1840482b-cb15-4300-e6e5-f7bcd25b6ee7"
      },
      "outputs": [
        {
          "output_type": "stream",
          "name": "stdout",
          "text": [
            "Accuracy :  0.8983050847457628\n"
          ]
        }
      ],
      "source": [
        "#Periksa akurasi dengan menggunakan nilai actual dan predicted\n",
        "from sklearn import metrics\n",
        "print('Accuracy : ', metrics.accuracy_score(y_test,y_pred_test))"
      ]
    },
    {
      "cell_type": "code",
      "execution_count": 68,
      "metadata": {
        "colab": {
          "base_uri": "https://localhost:8080/"
        },
        "id": "Ubsc_jiQtATk",
        "outputId": "8a1aca10-27d7-4474-a056-29f0ecbf24b1"
      },
      "outputs": [
        {
          "output_type": "stream",
          "name": "stdout",
          "text": [
            "Train set \n",
            "               precision    recall  f1-score   support\n",
            "\n",
            "        \"no\"       1.00      1.00      1.00      2804\n",
            "       \"yes\"       1.00      1.00      1.00       360\n",
            "\n",
            "    accuracy                           1.00      3164\n",
            "   macro avg       1.00      1.00      1.00      3164\n",
            "weighted avg       1.00      1.00      1.00      3164\n",
            "\n",
            "Test set \n",
            "               precision    recall  f1-score   support\n",
            "\n",
            "        \"no\"       0.92      0.97      0.94      1196\n",
            "       \"yes\"       0.63      0.34      0.44       161\n",
            "\n",
            "    accuracy                           0.90      1357\n",
            "   macro avg       0.77      0.66      0.69      1357\n",
            "weighted avg       0.88      0.90      0.88      1357\n",
            "\n"
          ]
        }
      ],
      "source": [
        "print('Train set \\n',classification_report(y_train,y_pred_train))\n",
        "print('Test set \\n', classification_report(y_test,y_pred_test))"
      ]
    },
    {
      "cell_type": "markdown",
      "metadata": {
        "id": "DoZjz5kcuM5C"
      },
      "source": [
        "<h2> Feature Importance <h2>"
      ]
    },
    {
      "cell_type": "code",
      "execution_count": 69,
      "metadata": {
        "colab": {
          "base_uri": "https://localhost:8080/"
        },
        "id": "KEuKg0CxuPjz",
        "outputId": "75aa9bf9-faf7-45c4-c23c-8e326100a33b"
      },
      "outputs": [
        {
          "output_type": "execute_result",
          "data": {
            "text/plain": [
              "['age',\n",
              " 'job',\n",
              " 'marital',\n",
              " 'education',\n",
              " 'default',\n",
              " 'balance',\n",
              " 'housing',\n",
              " 'loan',\n",
              " 'contact',\n",
              " 'day',\n",
              " 'month',\n",
              " 'duration',\n",
              " 'campaign',\n",
              " 'pdays',\n",
              " 'previous',\n",
              " 'poutcome']"
            ]
          },
          "metadata": {},
          "execution_count": 69
        }
      ],
      "source": [
        "feature_names"
      ]
    },
    {
      "cell_type": "code",
      "execution_count": 70,
      "metadata": {
        "id": "5xbiQq25uWIL"
      },
      "outputs": [],
      "source": [
        "f_i = rfc.feature_importances_"
      ]
    },
    {
      "cell_type": "code",
      "execution_count": 71,
      "metadata": {
        "id": "q6stX_BQuZE8"
      },
      "outputs": [],
      "source": [
        "feature_imp = pd.Series(f_i,index=feature_names)"
      ]
    },
    {
      "cell_type": "code",
      "execution_count": 72,
      "metadata": {
        "colab": {
          "base_uri": "https://localhost:8080/"
        },
        "id": "l06e9YeAubZy",
        "outputId": "27bef6dc-25da-46ab-9586-755b1145de24"
      },
      "outputs": [
        {
          "output_type": "execute_result",
          "data": {
            "text/plain": [
              "duration     0.284647\n",
              "age          0.109859\n",
              "balance      0.102725\n",
              "day          0.092652\n",
              "month        0.088878\n",
              "job          0.051954\n",
              "pdays        0.044241\n",
              "poutcome     0.041442\n",
              "campaign     0.041203\n",
              "education    0.031154\n",
              "marital      0.025774\n",
              "previous     0.024867\n",
              "contact      0.024149\n",
              "housing      0.023637\n",
              "loan         0.008533\n",
              "default      0.004285\n",
              "dtype: float64"
            ]
          },
          "metadata": {},
          "execution_count": 72
        }
      ],
      "source": [
        "feature_imp = feature_imp.sort_values(ascending=False)\n",
        "feature_imp"
      ]
    },
    {
      "cell_type": "code",
      "execution_count": 73,
      "metadata": {
        "colab": {
          "base_uri": "https://localhost:8080/",
          "height": 509
        },
        "id": "8nSwh_pYuoId",
        "outputId": "e8bef12c-2f9a-4888-9dc1-f5aa57e2af50"
      },
      "outputs": [
        {
          "output_type": "stream",
          "name": "stderr",
          "text": [
            "WARNING:matplotlib.legend:No artists with labels found to put in legend.  Note that artists whose label start with an underscore are ignored when legend() is called with no argument.\n"
          ]
        },
        {
          "output_type": "display_data",
          "data": {
            "text/plain": [
              "<Figure size 640x480 with 1 Axes>"
            ],
            "image/png": "[encoded data removed]"
          },
          "metadata": {}
        }
      ],
      "source": [
        "# Visualisasi\n",
        "import matplotlib.pyplot as plt\n",
        "import seaborn as sns\n",
        "\n",
        "sns.barplot(x = feature_imp, y=feature_imp.index)\n",
        "\n",
        "plt.title('Feature Importances of Random Forest')\n",
        "plt.ylabel('Features')\n",
        "plt.xlabel('Feature Importance Score')\n",
        "plt.legend()\n",
        "plt.show()"
      ]
    },
    {
      "cell_type": "code",
      "execution_count": 74,
      "metadata": {
        "id": "q7tNhrYSH5S-"
      },
      "outputs": [],
      "source": [
        "#Menghapus 'default' untuk melihat perubahan akurasi\n",
        "X = df.drop(['default','y'],axis=1)\n",
        "y = df['y']\n",
        "\n",
        "X_train,X_test,y_train,y_test =   train_test_split(X,y,test_size=0.3,random_state=2024)"
      ]
    },
    {
      "cell_type": "code",
      "execution_count": 75,
      "metadata": {
        "id": "zqViR7lfIxq3"
      },
      "outputs": [],
      "source": [
        "rfc2 = RandomForestClassifier(n_estimators=2)\n",
        "rfc2.fit(X_train,y_train)\n",
        "\n",
        "y_pred_train_2 = rfc2.predict(X_train)\n",
        "y_pred_test_2 = rfc2.predict(X_test)"
      ]
    },
    {
      "cell_type": "code",
      "execution_count": 76,
      "metadata": {
        "colab": {
          "base_uri": "https://localhost:8080/"
        },
        "id": "v5D-92huMhKV",
        "outputId": "226066af-3402-47cd-a3d5-71451b722c26"
      },
      "outputs": [
        {
          "output_type": "stream",
          "name": "stdout",
          "text": [
            "Train 2 \n",
            "               precision    recall  f1-score   support\n",
            "\n",
            "           0       0.95      1.00      0.97      2804\n",
            "           1       0.97      0.56      0.71       360\n",
            "\n",
            "    accuracy                           0.95      3164\n",
            "   macro avg       0.96      0.78      0.84      3164\n",
            "weighted avg       0.95      0.95      0.94      3164\n",
            "\n",
            "Test 2 \n",
            "               precision    recall  f1-score   support\n",
            "\n",
            "           0       0.90      0.98      0.94      1196\n",
            "           1       0.55      0.17      0.26       161\n",
            "\n",
            "    accuracy                           0.89      1357\n",
            "   macro avg       0.72      0.58      0.60      1357\n",
            "weighted avg       0.86      0.89      0.86      1357\n",
            "\n"
          ]
        }
      ],
      "source": [
        "print('Train 2 \\n',classification_report(y_train,y_pred_train_2))\n",
        "print('Test 2 \\n', classification_report(y_test,y_pred_test_2))"
      ]
    },
    {
      "cell_type": "code",
      "execution_count": 77,
      "metadata": {
        "colab": {
          "base_uri": "https://localhost:8080/"
        },
        "id": "tcLbY7n1Mk6W",
        "outputId": "743575ff-75eb-492c-dd44-4200d8927063"
      },
      "outputs": [
        {
          "output_type": "stream",
          "name": "stdout",
          "text": [
            "Accuracy :  0.8850405305821666\n"
          ]
        }
      ],
      "source": [
        "print('Accuracy : ', metrics.accuracy_score(y_test,y_pred_test_2))"
      ]
    },
    {
      "cell_type": "markdown",
      "metadata": {
        "id": "pK0L-iWJNwmB"
      },
      "source": [
        "pada saat 'default' dihilangkan ,akurasi menjadi menurun."
      ]
    },
    {
      "cell_type": "markdown",
      "metadata": {
        "id": "t2DsOQwUNiQ8"
      },
      "source": [
        "<h1> Support vector Machine (SVM) <h1>"
      ]
    },
    {
      "cell_type": "code",
      "execution_count": 78,
      "metadata": {
        "id": "kEHvuQC-Nmon"
      },
      "outputs": [],
      "source": [
        "from sklearn.model_selection import train_test_split\n",
        "X_train,X_test,y_train,y_test = train_test_split(X,y,test_size=0.3,random_state=2024)"
      ]
    },
    {
      "cell_type": "code",
      "execution_count": 79,
      "metadata": {
        "id": "PmMJSp6dOmWn"
      },
      "outputs": [],
      "source": [
        "from sklearn.svm import SVC"
      ]
    },
    {
      "cell_type": "code",
      "execution_count": 80,
      "metadata": {
        "id": "DJJNBUvDgIoA"
      },
      "outputs": [],
      "source": [
        "svc_model = SVC(kernel='linear')\n",
        "\n",
        "svc_model.fit(X_train,y_train)\n",
        "\n",
        "y_pred_train  = svc_model.predict(X_train)\n",
        "y_pred_test= svc_model.predict(X_test)"
      ]
    },
    {
      "cell_type": "code",
      "execution_count": 81,
      "metadata": {
        "id": "CIIMgEgUgn1Y",
        "colab": {
          "base_uri": "https://localhost:8080/"
        },
        "outputId": "646dc2fc-cea8-4c5f-cecb-4b1c213b8f43"
      },
      "outputs": [
        {
          "output_type": "stream",
          "name": "stdout",
          "text": [
            "train \n",
            "               precision    recall  f1-score   support\n",
            "\n",
            "           0       0.89      1.00      0.94      2804\n",
            "           1       0.00      0.00      0.00       360\n",
            "\n",
            "    accuracy                           0.89      3164\n",
            "   macro avg       0.44      0.50      0.47      3164\n",
            "weighted avg       0.79      0.89      0.83      3164\n",
            "\n",
            "test \n",
            "               precision    recall  f1-score   support\n",
            "\n",
            "           0       0.88      1.00      0.94      1196\n",
            "           1       0.00      0.00      0.00       161\n",
            "\n",
            "    accuracy                           0.88      1357\n",
            "   macro avg       0.44      0.50      0.47      1357\n",
            "weighted avg       0.78      0.88      0.83      1357\n",
            "\n"
          ]
        },
        {
          "output_type": "stream",
          "name": "stderr",
          "text": [
            "/usr/local/lib/python3.9/dist-packages/sklearn/metrics/_classification.py:1344: UndefinedMetricWarning: Precision and F-score are ill-defined and being set to 0.0 in labels with no predicted samples. Use `zero_division` parameter to control this behavior.\n",
            "  _warn_prf(average, modifier, msg_start, len(result))\n",
            "/usr/local/lib/python3.9/dist-packages/sklearn/metrics/_classification.py:1344: UndefinedMetricWarning: Precision and F-score are ill-defined and being set to 0.0 in labels with no predicted samples. Use `zero_division` parameter to control this behavior.\n",
            "  _warn_prf(average, modifier, msg_start, len(result))\n",
            "/usr/local/lib/python3.9/dist-packages/sklearn/metrics/_classification.py:1344: UndefinedMetricWarning: Precision and F-score are ill-defined and being set to 0.0 in labels with no predicted samples. Use `zero_division` parameter to control this behavior.\n",
            "  _warn_prf(average, modifier, msg_start, len(result))\n",
            "/usr/local/lib/python3.9/dist-packages/sklearn/metrics/_classification.py:1344: UndefinedMetricWarning: Precision and F-score are ill-defined and being set to 0.0 in labels with no predicted samples. Use `zero_division` parameter to control this behavior.\n",
            "  _warn_prf(average, modifier, msg_start, len(result))\n",
            "/usr/local/lib/python3.9/dist-packages/sklearn/metrics/_classification.py:1344: UndefinedMetricWarning: Precision and F-score are ill-defined and being set to 0.0 in labels with no predicted samples. Use `zero_division` parameter to control this behavior.\n",
            "  _warn_prf(average, modifier, msg_start, len(result))\n",
            "/usr/local/lib/python3.9/dist-packages/sklearn/metrics/_classification.py:1344: UndefinedMetricWarning: Precision and F-score are ill-defined and being set to 0.0 in labels with no predicted samples. Use `zero_division` parameter to control this behavior.\n",
            "  _warn_prf(average, modifier, msg_start, len(result))\n"
          ]
        }
      ],
      "source": [
        "print('train \\n',classification_report(y_train,y_pred_train))\n",
        "print('test \\n',classification_report(y_test,y_pred_test))"
      ]
    },
    {
      "cell_type": "markdown",
      "source": [
        "<h2> Kesimpulan <h2>\n",
        "<h3> Logistic Regression <h3>\n",
        "\n",
        "- Prediksi probabilitas: Logistic regression dapat digunakan untuk memprediksi probabilitas kejadian suatu peristiwa berdasarkan faktor-faktor yang relevan.\n",
        "- Interpretabilitas: Logistic regression menghasilkan hasil yang mudah diinterpretasikan dan dapat dijelaskan.\n",
        "- Penggunaan variabel kategorikal: Logistic regression dapat digunakan untuk menganalisis hubungan antara variabel independen kategorikal dan variabel dependen. \n",
        "- Efisiensi: Logistic regression memerlukan waktu yang relatif singkat untuk menghasilkan prediksi dan model yang akurat.\n"
      ],
      "metadata": {
        "id": "o8SIUiYBDAPU"
      }
    }
  ],
  "metadata": {
    "colab": {
      "provenance": [],
      "mount_file_id": "1d84D8Rl59ndqAuRi7oqaI_bYuc5DVJon",
      "authorship_tag": "ABX9TyM8SujyHJhI6AZzypCpr41a",
      "include_colab_link": true
    },
    "gpuClass": "standard",
    "kernelspec": {
      "display_name": "Python 3",
      "name": "python3"
    },
    "language_info": {
      "name": "python"
    }
  },
  "nbformat": 4,
  "nbformat_minor": 0
}