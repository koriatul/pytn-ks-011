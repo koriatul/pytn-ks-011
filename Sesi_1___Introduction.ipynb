{
  "nbformat": 4,
  "nbformat_minor": 0,
  "metadata": {
    "colab": {
      "provenance": [],
      "authorship_tag": "ABX9TyPzBG6jDqnP2HaqJZq0u6AR",
      "include_colab_link": true
    },
    "kernelspec": {
      "name": "python3",
      "display_name": "Python 3"
    },
    "language_info": {
      "name": "python"
    }
  },
  "cells": [
    {
      "cell_type": "markdown",
      "metadata": {
        "id": "view-in-github",
        "colab_type": "text"
      },
      "source": [
        "<a href=\"https://colab.research.google.com/github/koriatul/pytn-ks-011/blob/main/Sesi_1___Introduction.ipynb\" target=\"_parent\"><img src=\"https://colab.research.google.com/assets/colab-badge.svg\" alt=\"Open In Colab\"/></a>"
      ]
    },
    {
      "cell_type": "markdown",
      "source": [
        "<h2> Integer </h2>"
      ],
      "metadata": {
        "id": "rnbpcjUs3v-q"
      }
    },
    {
      "cell_type": "markdown",
      "source": [
        "TIPE DATA YANG SERING DIGUNAKAN:\n",
        "\n",
        "- INTEGER\n",
        "- FLOAT\n",
        "- STRING\n",
        "- BOOLEAN"
      ],
      "metadata": {
        "id": "JJj0hBvMtLxM"
      }
    },
    {
      "cell_type": "markdown",
      "source": [
        "Integer = Bilangan Bulat"
      ],
      "metadata": {
        "id": "8m8WmcAPtSA8"
      }
    },
    {
      "cell_type": "code",
      "source": [
        "print(1000000000000)"
      ],
      "metadata": {
        "colab": {
          "base_uri": "https://localhost:8080/"
        },
        "id": "6eZ5XtRstGTN",
        "outputId": "6bc2f50b-995a-4a0a-a2f5-9fb48b344ee0"
      },
      "execution_count": 2,
      "outputs": [
        {
          "output_type": "stream",
          "name": "stdout",
          "text": [
            "1000000000000\n"
          ]
        }
      ]
    },
    {
      "cell_type": "code",
      "source": [
        "print(type(3))"
      ],
      "metadata": {
        "colab": {
          "base_uri": "https://localhost:8080/"
        },
        "id": "SX4OkrdHtYpj",
        "outputId": "01eee01d-dbc4-43bd-86db-da0595fc46ca"
      },
      "execution_count": 3,
      "outputs": [
        {
          "output_type": "stream",
          "name": "stdout",
          "text": [
            "<class 'int'>\n"
          ]
        }
      ]
    },
    {
      "cell_type": "code",
      "execution_count": 4,
      "metadata": {
        "colab": {
          "base_uri": "https://localhost:8080/"
        },
        "id": "xYhWvpgR3pnY",
        "outputId": "76475d5b-b4b0-4bbc-8e39-a965d802364f"
      },
      "outputs": [
        {
          "output_type": "stream",
          "name": "stdout",
          "text": [
            "123123123123123123123123123123123124\n",
            "<class 'int'>\n"
          ]
        }
      ],
      "source": [
        "print(123123123123123123123123123123123123 + 1)\n",
        "\n",
        "print(type(3))"
      ]
    },
    {
      "cell_type": "markdown",
      "source": [
        "decimal number"
      ],
      "metadata": {
        "id": "AMggxDT343Em"
      }
    },
    {
      "cell_type": "code",
      "source": [
        "print(10)\n",
        "\n",
        "print(type (10))"
      ],
      "metadata": {
        "colab": {
          "base_uri": "https://localhost:8080/"
        },
        "id": "1h7oRX274mwb",
        "outputId": "45e795ab-2bb1-464a-ed24-9ded8a7eb7f4"
      },
      "execution_count": 5,
      "outputs": [
        {
          "output_type": "stream",
          "name": "stdout",
          "text": [
            "10\n",
            "<class 'int'>\n"
          ]
        }
      ]
    },
    {
      "cell_type": "markdown",
      "source": [
        "<h2> Floating -Point number </h2>\n"
      ],
      "metadata": {
        "id": "h4GCTBRb5hvK"
      }
    },
    {
      "cell_type": "code",
      "source": [
        "print(4.2)\n",
        "print(type(4.2))\n",
        "print(4.)\n",
        "print(.2)\n",
        "print(.4e7)\n",
        "print(4.2e-4)"
      ],
      "metadata": {
        "colab": {
          "base_uri": "https://localhost:8080/"
        },
        "id": "4DvRk-vW47eX",
        "outputId": "12117a8e-ed1e-4b64-ba4b-c0975d0f9d41"
      },
      "execution_count": 6,
      "outputs": [
        {
          "output_type": "stream",
          "name": "stdout",
          "text": [
            "4.2\n",
            "<class 'float'>\n",
            "4.0\n",
            "0.2\n",
            "4000000.0\n",
            "0.00042\n"
          ]
        }
      ]
    },
    {
      "cell_type": "markdown",
      "source": [
        "<h2> String </h2> \n"
      ],
      "metadata": {
        "id": "6bdYj6mD5oGz"
      }
    },
    {
      "cell_type": "code",
      "source": [
        "print(\"Hacktiv8\")\n",
        "print(type(\"Hacktiv8\"))"
      ],
      "metadata": {
        "colab": {
          "base_uri": "https://localhost:8080/"
        },
        "id": "jzw0CwAD6Lxr",
        "outputId": "2e284cae-abe1-4865-8ca7-745f7e8cbcee"
      },
      "execution_count": 7,
      "outputs": [
        {
          "output_type": "stream",
          "name": "stdout",
          "text": [
            "Hacktiv8\n",
            "<class 'str'>\n"
          ]
        }
      ]
    },
    {
      "cell_type": "code",
      "source": [
        "print( \" saya adalah kori \") \n",
        "print(type(\"saya adalah kori\"))"
      ],
      "metadata": {
        "colab": {
          "base_uri": "https://localhost:8080/"
        },
        "id": "zTdVNR5v6qDR",
        "outputId": "8b7e129f-2dd9-48e0-fc9e-ec4eb5d48138"
      },
      "execution_count": 8,
      "outputs": [
        {
          "output_type": "stream",
          "name": "stdout",
          "text": [
            " saya adalah kori \n",
            "<class 'str'>\n"
          ]
        }
      ]
    },
    {
      "cell_type": "markdown",
      "source": [
        "<h2> Boolen type , Boolen context , and Thrutiness </h2>"
      ],
      "metadata": {
        "id": "bRd4Qr_MOXej"
      }
    },
    {
      "cell_type": "code",
      "source": [
        "True\n",
        "False"
      ],
      "metadata": {
        "colab": {
          "base_uri": "https://localhost:8080/"
        },
        "id": "XUB7lBfXu6E_",
        "outputId": "d4fcf543-2b51-404d-a208-833b5bab6bc5"
      },
      "execution_count": 9,
      "outputs": [
        {
          "output_type": "execute_result",
          "data": {
            "text/plain": [
              "False"
            ]
          },
          "metadata": {},
          "execution_count": 9
        }
      ]
    },
    {
      "cell_type": "code",
      "source": [
        "print(type(True))\n",
        "print(type(False))"
      ],
      "metadata": {
        "colab": {
          "base_uri": "https://localhost:8080/"
        },
        "id": "dhs0_334Ojl8",
        "outputId": "4b6c30ad-6784-47ae-fb88-5ad05a21c4de"
      },
      "execution_count": 10,
      "outputs": [
        {
          "output_type": "stream",
          "name": "stdout",
          "text": [
            "<class 'bool'>\n",
            "<class 'bool'>\n"
          ]
        }
      ]
    },
    {
      "cell_type": "markdown",
      "source": [
        "<h2> Variabel Assigment </h2>"
      ],
      "metadata": {
        "id": "4Au2t_zsPLnA"
      }
    },
    {
      "cell_type": "code",
      "source": [
        "angka = 300\n",
        "print(angka)\n",
        "\n",
        "a = b = c = d = 300\n",
        "print(a,b,c,d)\n",
        "\n",
        "print(type(angka))"
      ],
      "metadata": {
        "colab": {
          "base_uri": "https://localhost:8080/"
        },
        "id": "p4mlNl-YPpD5",
        "outputId": "90572444-327e-4550-bd85-be73ab7e3a86"
      },
      "execution_count": 11,
      "outputs": [
        {
          "output_type": "stream",
          "name": "stdout",
          "text": [
            "300\n",
            "300 300 300 300\n",
            "<class 'int'>\n"
          ]
        }
      ]
    },
    {
      "cell_type": "code",
      "source": [
        "teks = 'wkwkwkwkw'\n",
        "print(teks)\n",
        "print(type(teks))"
      ],
      "metadata": {
        "colab": {
          "base_uri": "https://localhost:8080/"
        },
        "id": "3A2KnW9WvZfl",
        "outputId": "85ca4cfd-298d-47b5-d3e0-5c3636d46beb"
      },
      "execution_count": 12,
      "outputs": [
        {
          "output_type": "stream",
          "name": "stdout",
          "text": [
            "wkwkwkwkw\n",
            "<class 'str'>\n"
          ]
        }
      ]
    },
    {
      "cell_type": "code",
      "source": [
        "a = b = c = 300\n",
        "print(a,b,c)"
      ],
      "metadata": {
        "colab": {
          "base_uri": "https://localhost:8080/"
        },
        "id": "aQY-tu-tvfQ3",
        "outputId": "bb5534dd-bc3c-4c85-8e1a-cbcf3c29ab88"
      },
      "execution_count": 13,
      "outputs": [
        {
          "output_type": "stream",
          "name": "stdout",
          "text": [
            "300 300 300\n"
          ]
        }
      ]
    },
    {
      "cell_type": "code",
      "source": [
        "print(type(b))"
      ],
      "metadata": {
        "colab": {
          "base_uri": "https://localhost:8080/"
        },
        "id": "sqxvW5ilvh1P",
        "outputId": "d9318dd6-2907-43da-bf72-38a62f9319f5"
      },
      "execution_count": 14,
      "outputs": [
        {
          "output_type": "stream",
          "name": "stdout",
          "text": [
            "<class 'int'>\n"
          ]
        }
      ]
    },
    {
      "cell_type": "code",
      "source": [
        "rumah = 'Bekasi'\n",
        "Rumah = 'Jakarta'"
      ],
      "metadata": {
        "id": "CXZZK6cdv6Al"
      },
      "execution_count": 15,
      "outputs": []
    },
    {
      "cell_type": "code",
      "source": [
        "print(rumah, Rumah)"
      ],
      "metadata": {
        "colab": {
          "base_uri": "https://localhost:8080/"
        },
        "id": "5S6QGDwkvkaH",
        "outputId": "6b031976-69b6-4c7a-b750-93f00300629e"
      },
      "execution_count": 16,
      "outputs": [
        {
          "output_type": "stream",
          "name": "stdout",
          "text": [
            "Bekasi Jakarta\n"
          ]
        }
      ]
    },
    {
      "cell_type": "markdown",
      "source": [
        "ctrl + / untuk comment"
      ],
      "metadata": {
        "id": "R924Mrvxv_Gg"
      }
    },
    {
      "cell_type": "code",
      "source": [
        "# Nama variabel tidak diperbolehkan dimulai dengan angka\n",
        "# 0_Rumah='a'"
      ],
      "metadata": {
        "id": "g_DejJkOv_4x"
      },
      "execution_count": 17,
      "outputs": []
    },
    {
      "cell_type": "code",
      "source": [
        "# rumah = 'budi'"
      ],
      "metadata": {
        "id": "K116PgwVwEN1"
      },
      "execution_count": 18,
      "outputs": []
    },
    {
      "cell_type": "code",
      "source": [
        "print(rumah)"
      ],
      "metadata": {
        "colab": {
          "base_uri": "https://localhost:8080/"
        },
        "id": "YnmHmAJGwGkg",
        "outputId": "95b00121-50ab-45e4-cacd-07f32b2ad319"
      },
      "execution_count": 19,
      "outputs": [
        {
          "output_type": "stream",
          "name": "stdout",
          "text": [
            "Bekasi\n"
          ]
        }
      ]
    },
    {
      "cell_type": "markdown",
      "source": [
        "<h2> Variabel Type in Python </h2>"
      ],
      "metadata": {
        "id": "QT-HimTkRRSE"
      }
    },
    {
      "cell_type": "code",
      "source": [
        "var = 23.5\n",
        "print(var)\n",
        "\n",
        "var = \"Now i'm string\"\n",
        "print(var)"
      ],
      "metadata": {
        "id": "cvKfMaa9RVuZ",
        "colab": {
          "base_uri": "https://localhost:8080/"
        },
        "outputId": "e0bbe6b8-9cde-4390-acbc-eb67ac5f4317"
      },
      "execution_count": 20,
      "outputs": [
        {
          "output_type": "stream",
          "name": "stdout",
          "text": [
            "23.5\n",
            "Now i'm string\n"
          ]
        }
      ]
    },
    {
      "cell_type": "markdown",
      "source": [
        "Variabel Name"
      ],
      "metadata": {
        "id": "xlJOm8l2SYBQ"
      }
    },
    {
      "cell_type": "code",
      "source": [
        "name = \"Hacktiv8\"\n",
        "age = 54\n",
        "has_laptops = True\n",
        "print(name, age, has_laptops)\n",
        "\n",
        "rumah = 'bogor'\n",
        "print(rumah)\n"
      ],
      "metadata": {
        "colab": {
          "base_uri": "https://localhost:8080/"
        },
        "id": "vK8yw1c1Sa8F",
        "outputId": "60bff8ec-10a7-496d-8185-7f8c81065fd3"
      },
      "execution_count": 21,
      "outputs": [
        {
          "output_type": "stream",
          "name": "stdout",
          "text": [
            "Hacktiv8 54 True\n",
            "bogor\n"
          ]
        }
      ]
    },
    {
      "cell_type": "markdown",
      "source": [
        "**OPERATORS**"
      ],
      "metadata": {
        "id": "CrVuue4pLErS"
      }
    },
    {
      "cell_type": "markdown",
      "source": [
        "OPERATORS(OPERASI ARITMATIKA\n",
        "\n",
        "(+) penjumlahan\n",
        "(/) pembagian\n",
        "(-) pengurangan\n",
        "(*) perkalian\n",
        "(//) pembulatan kebawah\n",
        "(%) modulo\n",
        "(**) perpangkatan"
      ],
      "metadata": {
        "id": "H8_l4auDwkSt"
      }
    },
    {
      "cell_type": "code",
      "source": [
        "a = 10 \n",
        "b = 20\n",
        "\n",
        "print( a+b )\n",
        "print(a-b)\n",
        "print(a*b)\n",
        "print (a/b)\n",
        "print(a//b)\n",
        "print(a%b)\n",
        "\n",
        "#pangkat\n",
        "print(a**b)"
      ],
      "metadata": {
        "colab": {
          "base_uri": "https://localhost:8080/"
        },
        "id": "4cW1rM8yLH5a",
        "outputId": "6974b6e5-743f-491d-dd9b-b0159a89a299"
      },
      "execution_count": 22,
      "outputs": [
        {
          "output_type": "stream",
          "name": "stdout",
          "text": [
            "30\n",
            "-10\n",
            "200\n",
            "0.5\n",
            "0\n",
            "10\n",
            "100000000000000000000\n"
          ]
        }
      ]
    },
    {
      "cell_type": "markdown",
      "source": [
        "<h3> Quiz 1 30 derajat celsius ke fahrenheit </h3> "
      ],
      "metadata": {
        "id": "JIHSW_hiw_pU"
      }
    },
    {
      "cell_type": "markdown",
      "source": [
        "Konversi Celcius ke Fahrenhit\n"
      ],
      "metadata": {
        "id": "kwiB2pudNDtz"
      }
    },
    {
      "cell_type": "code",
      "source": [
        "celcius = 30\n",
        "fahrenhit = (9/5) * celcius + 32\n",
        "print(fahrenhit)"
      ],
      "metadata": {
        "id": "Ds8A-JeININ6",
        "colab": {
          "base_uri": "https://localhost:8080/"
        },
        "outputId": "f29cba84-0cd8-4f4a-e729-a8289dcbdd33"
      },
      "execution_count": 23,
      "outputs": [
        {
          "output_type": "stream",
          "name": "stdout",
          "text": [
            "86.0\n"
          ]
        }
      ]
    },
    {
      "cell_type": "markdown",
      "source": [
        "<h2> Comparison Operator </h2>"
      ],
      "metadata": {
        "id": "7DPqYtruOp4H"
      }
    },
    {
      "cell_type": "markdown",
      "source": [
        "persamaan (==) <br> \n",
        "lebih dari (>) <br>\n",
        "lebih dari sama dengan (>=) <br> \n",
        "kurang dari (<) <br>\n",
        "kurang dari sama dengan (<=) <br> \n",
        "tidak sama dengan/not equal (!=) "
      ],
      "metadata": {
        "id": "6YbFQF-zxJXI"
      }
    },
    {
      "cell_type": "code",
      "source": [
        "c = 10\n",
        "d = 30\n",
        "e = 10\n",
        "f = 20\n",
        "# persamaan \n",
        "print (c==b) \n",
        "\n",
        "# lebih dari kurang dari\n",
        "print(c>d)\n",
        "print(c>=d)\n",
        "print(c<=d)\n",
        "print(c==e)"
      ],
      "metadata": {
        "colab": {
          "base_uri": "https://localhost:8080/"
        },
        "id": "llIpZFikOzpy",
        "outputId": "cf5b2222-c460-4171-8fc3-f3b99eb09c5b"
      },
      "execution_count": 24,
      "outputs": [
        {
          "output_type": "stream",
          "name": "stdout",
          "text": [
            "False\n",
            "False\n",
            "False\n",
            "True\n",
            "True\n"
          ]
        }
      ]
    },
    {
      "cell_type": "code",
      "source": [
        "rumah1= 'bekasi'\n",
        "rumah2 = 'jakarta'\n",
        "rumah3='jakarta'"
      ],
      "metadata": {
        "id": "RQ5VcQpmxrl2"
      },
      "execution_count": 25,
      "outputs": []
    },
    {
      "cell_type": "code",
      "source": [
        "# Persamaan (==)\n",
        "print(rumah2==rumah3)"
      ],
      "metadata": {
        "colab": {
          "base_uri": "https://localhost:8080/"
        },
        "id": "55Pcbzr_yB6t",
        "outputId": "3c0d6e78-5ebc-44d3-f6ab-4c3a5bc18b97"
      },
      "execution_count": 26,
      "outputs": [
        {
          "output_type": "stream",
          "name": "stdout",
          "text": [
            "True\n"
          ]
        }
      ]
    },
    {
      "cell_type": "code",
      "source": [
        "# TIdak sama dengan / Not Equal (!=)\n",
        "print(c!=d)\n",
        "print(c!=e)\n",
        "print(rumah1!=rumah2)"
      ],
      "metadata": {
        "colab": {
          "base_uri": "https://localhost:8080/"
        },
        "id": "8GMT1InDyF8u",
        "outputId": "b732c817-725d-407a-dd87-d50d61fa11f7"
      },
      "execution_count": 27,
      "outputs": [
        {
          "output_type": "stream",
          "name": "stdout",
          "text": [
            "True\n",
            "False\n",
            "True\n"
          ]
        }
      ]
    },
    {
      "cell_type": "markdown",
      "source": [
        "<h2> String Manipulation </h2> "
      ],
      "metadata": {
        "id": "fYDgffxRRcVv"
      }
    },
    {
      "cell_type": "code",
      "source": [
        "#operator +\n",
        "s = 'foo'\n",
        "t = 'bar'\n",
        "u = 'baz'\n",
        "print( t+s)\n",
        "print( s+t+u )\n",
        "\n",
        "#operator *\n",
        "print(s*10)\n",
        "\n",
        "#operator in \n",
        "a ='buah'\n",
        "print(a in 'saya mau beli buah')\n",
        "\n",
        "#upper lower\n",
        "print(a.upper())\n",
        "print(a.lower())\n",
        "\n",
        "print(a.capitalize())\n",
        "print(a.title())\n",
        "print(a.swapcase())"
      ],
      "metadata": {
        "colab": {
          "base_uri": "https://localhost:8080/"
        },
        "id": "FHJ6rY50Rfz5",
        "outputId": "61c1b012-d021-4420-a488-283d3be32b37"
      },
      "execution_count": 28,
      "outputs": [
        {
          "output_type": "stream",
          "name": "stdout",
          "text": [
            "barfoo\n",
            "foobarbaz\n",
            "foofoofoofoofoofoofoofoofoofoo\n",
            "True\n",
            "BUAH\n",
            "buah\n",
            "Buah\n",
            "Buah\n",
            "BUAH\n"
          ]
        }
      ]
    },
    {
      "cell_type": "code",
      "source": [
        "d = 'SAya mAu Makan'\n",
        "print(d.capitalize())\n",
        "print(d.title())\n",
        "print(d.swapcase())"
      ],
      "metadata": {
        "colab": {
          "base_uri": "https://localhost:8080/"
        },
        "id": "dTJKx4A5y4kV",
        "outputId": "57677f96-9813-421e-899c-af9ca2ca5556"
      },
      "execution_count": 29,
      "outputs": [
        {
          "output_type": "stream",
          "name": "stdout",
          "text": [
            "Saya mau makan\n",
            "Saya Mau Makan\n",
            "saYA MaU mAKAN\n"
          ]
        }
      ]
    },
    {
      "cell_type": "markdown",
      "source": [
        "<h2> Python List </h2>\n"
      ],
      "metadata": {
        "id": "Nnb7sgx1TNK2"
      }
    },
    {
      "cell_type": "code",
      "source": [
        "a = ['saya', 'mau' , 'makan']\n",
        "print (a)\n",
        "\n",
        "b = ['saya,',1,True,4.7]\n",
        "print(b)\n",
        "print(type(b))"
      ],
      "metadata": {
        "colab": {
          "base_uri": "https://localhost:8080/"
        },
        "id": "LKd5vdkDTQ7a",
        "outputId": "1f9d8e76-b0c6-4c60-b443-d911197ef7e3"
      },
      "execution_count": 30,
      "outputs": [
        {
          "output_type": "stream",
          "name": "stdout",
          "text": [
            "['saya', 'mau', 'makan']\n",
            "['saya,', 1, True, 4.7]\n",
            "<class 'list'>\n"
          ]
        }
      ]
    },
    {
      "cell_type": "code",
      "source": [
        "print(a==c)"
      ],
      "metadata": {
        "colab": {
          "base_uri": "https://localhost:8080/"
        },
        "id": "YfXm-nUwzSzu",
        "outputId": "6698b73d-f386-414f-dc6d-8160f1e60109"
      },
      "execution_count": 31,
      "outputs": [
        {
          "output_type": "stream",
          "name": "stdout",
          "text": [
            "False\n"
          ]
        }
      ]
    },
    {
      "cell_type": "code",
      "source": [
        "#list can be accesed by index\n",
        "a = ['foo','bar','qux','quux','corge']\n",
        "print(a)\n",
        "\n",
        "#indexing\n",
        "print(a[0])\n",
        "print(a[3])"
      ],
      "metadata": {
        "colab": {
          "base_uri": "https://localhost:8080/"
        },
        "id": "Cv9Re3MsUVDO",
        "outputId": "ea9bff93-bc35-43eb-c108-135971991454"
      },
      "execution_count": 32,
      "outputs": [
        {
          "output_type": "stream",
          "name": "stdout",
          "text": [
            "['foo', 'bar', 'qux', 'quux', 'corge']\n",
            "foo\n",
            "quux\n"
          ]
        }
      ]
    },
    {
      "cell_type": "markdown",
      "source": [
        "<h2> Indexing and Slicing </h2>"
      ],
      "metadata": {
        "id": "8lbIyXRCVsy1"
      }
    },
    {
      "cell_type": "code",
      "source": [
        "# List can be accessed by Index\n",
        "a = ['foo','bar','baz','qux','quux','corge']\n",
        "print(a)"
      ],
      "metadata": {
        "colab": {
          "base_uri": "https://localhost:8080/"
        },
        "id": "35M2xwEBVutz",
        "outputId": "4cc800ab-b7d6-48e5-c0d8-9c51a72706a4"
      },
      "execution_count": 33,
      "outputs": [
        {
          "output_type": "stream",
          "name": "stdout",
          "text": [
            "['foo', 'bar', 'baz', 'qux', 'quux', 'corge']\n"
          ]
        }
      ]
    },
    {
      "cell_type": "code",
      "source": [
        "# Indexing\n",
        "print(a[0])\n",
        "print(a[3])"
      ],
      "metadata": {
        "colab": {
          "base_uri": "https://localhost:8080/"
        },
        "id": "cL2fHleB0BIR",
        "outputId": "4542ffc9-f13f-4d92-9bff-89794653d66e"
      },
      "execution_count": 34,
      "outputs": [
        {
          "output_type": "stream",
          "name": "stdout",
          "text": [
            "foo\n",
            "qux\n"
          ]
        }
      ]
    },
    {
      "cell_type": "code",
      "source": [
        "print(a[-6])"
      ],
      "metadata": {
        "colab": {
          "base_uri": "https://localhost:8080/"
        },
        "id": "ICYtVTba0D0U",
        "outputId": "68686f9b-8062-49f0-d89e-aa489d01e362"
      },
      "execution_count": 35,
      "outputs": [
        {
          "output_type": "stream",
          "name": "stdout",
          "text": [
            "foo\n"
          ]
        }
      ]
    },
    {
      "cell_type": "code",
      "source": [
        "print(a[-6]==a[0])"
      ],
      "metadata": {
        "colab": {
          "base_uri": "https://localhost:8080/"
        },
        "id": "ezWUizhu0GAl",
        "outputId": "2830117a-41af-4fe5-b9ae-4182121f59bb"
      },
      "execution_count": 36,
      "outputs": [
        {
          "output_type": "stream",
          "name": "stdout",
          "text": [
            "True\n"
          ]
        }
      ]
    },
    {
      "cell_type": "code",
      "source": [
        "x = 'budi'\n",
        "print(x[-1])"
      ],
      "metadata": {
        "colab": {
          "base_uri": "https://localhost:8080/"
        },
        "id": "qynU5rN20JuF",
        "outputId": "0476afc7-e91e-426a-f435-99ea2c8112c8"
      },
      "execution_count": 37,
      "outputs": [
        {
          "output_type": "stream",
          "name": "stdout",
          "text": [
            "i\n"
          ]
        }
      ]
    },
    {
      "cell_type": "markdown",
      "source": [
        "<h2> Prinsip Slicing = [start:stop:step] </h2>"
      ],
      "metadata": {
        "id": "vOY6Q5IB0kMb"
      }
    },
    {
      "cell_type": "code",
      "source": [
        "# Slicing\n",
        "a = ['foo','bar','baz','qux','quux','corge']\n",
        "print(a[0:6])\n",
        "print(a[1:])"
      ],
      "metadata": {
        "colab": {
          "base_uri": "https://localhost:8080/"
        },
        "id": "I4tHSMHe1gVU",
        "outputId": "ab51a3db-51b3-4faf-838a-e20a3a60e109"
      },
      "execution_count": 38,
      "outputs": [
        {
          "output_type": "stream",
          "name": "stdout",
          "text": [
            "['foo', 'bar', 'baz', 'qux', 'quux', 'corge']\n",
            "['bar', 'baz', 'qux', 'quux', 'corge']\n"
          ]
        }
      ]
    },
    {
      "cell_type": "code",
      "source": [
        "x = 'budi'\n",
        "print(x[1:3])\n",
        "print(x[1:])"
      ],
      "metadata": {
        "colab": {
          "base_uri": "https://localhost:8080/"
        },
        "id": "yD0TtnMO1iA_",
        "outputId": "e8c6232a-7c53-4cad-cf18-b46e0450853d"
      },
      "execution_count": 39,
      "outputs": [
        {
          "output_type": "stream",
          "name": "stdout",
          "text": [
            "ud\n",
            "udi\n"
          ]
        }
      ]
    },
    {
      "cell_type": "code",
      "source": [
        "y = 'Jaka Tingkir Suryanegara'\n",
        "print(y[::-1])"
      ],
      "metadata": {
        "colab": {
          "base_uri": "https://localhost:8080/"
        },
        "id": "TyUDjXyl1mey",
        "outputId": "2360f3ec-f424-4f79-e358-c409894c3790"
      },
      "execution_count": 40,
      "outputs": [
        {
          "output_type": "stream",
          "name": "stdout",
          "text": [
            "aragenayruS rikgniT akaJ\n"
          ]
        }
      ]
    },
    {
      "cell_type": "code",
      "source": [
        "a = 'komitmen'\n",
        "print(a[1:4])\n",
        "print(a[3:4])\n",
        "print(a[4:])\n",
        "print(a[2:])\n",
        "print(a[0:5:2]+a[a.index('n')])"
      ],
      "metadata": {
        "colab": {
          "base_uri": "https://localhost:8080/"
        },
        "id": "cWUueLVFXrh0",
        "outputId": "8bbff468-2e31-47e4-b61c-f05c4d14a5c2"
      },
      "execution_count": 41,
      "outputs": [
        {
          "output_type": "stream",
          "name": "stdout",
          "text": [
            "omi\n",
            "i\n",
            "tmen\n",
            "mitmen\n",
            "kmtn\n"
          ]
        }
      ]
    },
    {
      "cell_type": "markdown",
      "source": [
        "<h2> Modify List values based on its index </h2>"
      ],
      "metadata": {
        "id": "uaMj7QV4bwiI"
      }
    },
    {
      "cell_type": "code",
      "source": [
        "a = ['foo','bar','baz','qux','quux','corge','quux']\n",
        "a[a.index('qux')] = 20"
      ],
      "metadata": {
        "id": "vOF6Zxfa2Fpq"
      },
      "execution_count": 42,
      "outputs": []
    },
    {
      "cell_type": "code",
      "source": [
        "# del command\n",
        "del a[a.index('quux')]\n",
        "print(a)"
      ],
      "metadata": {
        "colab": {
          "base_uri": "https://localhost:8080/"
        },
        "id": "lYNS_LHa2G3l",
        "outputId": "fd0863db-e377-442b-d34d-dbad2b38b094"
      },
      "execution_count": 43,
      "outputs": [
        {
          "output_type": "stream",
          "name": "stdout",
          "text": [
            "['foo', 'bar', 'baz', 20, 'corge', 'quux']\n"
          ]
        }
      ]
    },
    {
      "cell_type": "code",
      "source": [
        "print(a)"
      ],
      "metadata": {
        "colab": {
          "base_uri": "https://localhost:8080/"
        },
        "id": "Wxz2moZ62MmJ",
        "outputId": "4c19ade8-1fd4-41f5-8ef5-8061e8513190"
      },
      "execution_count": 44,
      "outputs": [
        {
          "output_type": "stream",
          "name": "stdout",
          "text": [
            "['foo', 'bar', 'baz', 20, 'corge', 'quux']\n"
          ]
        }
      ]
    },
    {
      "cell_type": "code",
      "source": [
        "a = ['foo','bar','baz','qux','quux','corge','quux']\n",
        "a[0:3] = [1,2,3]\n",
        "print(a)"
      ],
      "metadata": {
        "colab": {
          "base_uri": "https://localhost:8080/"
        },
        "id": "DhZBnVOu2Pvk",
        "outputId": "276deb7e-53e8-49ac-d856-070c60ab6a45"
      },
      "execution_count": 45,
      "outputs": [
        {
          "output_type": "stream",
          "name": "stdout",
          "text": [
            "[1, 2, 3, 'qux', 'quux', 'corge', 'quux']\n"
          ]
        }
      ]
    },
    {
      "cell_type": "markdown",
      "source": [
        "<h2> Tuple </h2>"
      ],
      "metadata": {
        "id": "IYvjSc0F2TRE"
      }
    },
    {
      "cell_type": "code",
      "source": [
        "t = ('foo','bar','baz','qux','quux','corge','quux')\n",
        "print(type(t))"
      ],
      "metadata": {
        "colab": {
          "base_uri": "https://localhost:8080/"
        },
        "id": "2SJmpdYs2RLt",
        "outputId": "2a0f58c9-b5ef-42d9-dcc9-e5335d7fa17a"
      },
      "execution_count": 46,
      "outputs": [
        {
          "output_type": "stream",
          "name": "stdout",
          "text": [
            "<class 'tuple'>\n"
          ]
        }
      ]
    },
    {
      "cell_type": "markdown",
      "source": [
        "<h2> Dictionary </h2>"
      ],
      "metadata": {
        "id": "1fhYD1rw2vUT"
      }
    },
    {
      "cell_type": "code",
      "source": [
        "MLB_team = {\n",
        "    'Colorado':'Rockies',\n",
        "    'Boston':'Red Sox',\n",
        "    'Minnesota':'Twins',\n",
        "    'Milwaukee':'Brewers',\n",
        "    'Seattle':'Mariners'\n",
        "}"
      ],
      "metadata": {
        "id": "tl25aD8m21qp"
      },
      "execution_count": 47,
      "outputs": []
    },
    {
      "cell_type": "code",
      "source": [
        "print(MLB_team['Colorado'])\n",
        "print(MLB_team['Boston'])"
      ],
      "metadata": {
        "colab": {
          "base_uri": "https://localhost:8080/"
        },
        "id": "vPYTjUGP2280",
        "outputId": "9994b75f-706e-4a18-a389-8e17655a619e"
      },
      "execution_count": 48,
      "outputs": [
        {
          "output_type": "stream",
          "name": "stdout",
          "text": [
            "Rockies\n",
            "Red Sox\n"
          ]
        }
      ]
    },
    {
      "cell_type": "code",
      "source": [
        "# Assign Kota Baru\n",
        "MLB_team['Kansas City'] = 'Royals'\n",
        "print(MLB_team)"
      ],
      "metadata": {
        "colab": {
          "base_uri": "https://localhost:8080/"
        },
        "id": "4UOErfec28Qu",
        "outputId": "7bd9661d-45ae-430a-8638-fcb39606bb41"
      },
      "execution_count": 49,
      "outputs": [
        {
          "output_type": "stream",
          "name": "stdout",
          "text": [
            "{'Colorado': 'Rockies', 'Boston': 'Red Sox', 'Minnesota': 'Twins', 'Milwaukee': 'Brewers', 'Seattle': 'Mariners', 'Kansas City': 'Royals'}\n"
          ]
        }
      ]
    },
    {
      "cell_type": "code",
      "source": [
        "# Assign Kota Baru\n",
        "MLB_team['Kansas City'] = 'Royals'\n",
        "print(MLB_team)"
      ],
      "metadata": {
        "colab": {
          "base_uri": "https://localhost:8080/"
        },
        "id": "NosYATTU2_fV",
        "outputId": "5096b11f-fc31-4024-f85c-c99a0750a63f"
      },
      "execution_count": 50,
      "outputs": [
        {
          "output_type": "stream",
          "name": "stdout",
          "text": [
            "{'Colorado': 'Rockies', 'Boston': 'Red Sox', 'Minnesota': 'Twins', 'Milwaukee': 'Brewers', 'Seattle': 'Mariners', 'Kansas City': 'Royals'}\n"
          ]
        }
      ]
    },
    {
      "cell_type": "code",
      "source": [
        "#Update Tim Kota\n",
        "MLB_team['Seattle'] = 'Seahawks'\n",
        "print(MLB_team)"
      ],
      "metadata": {
        "colab": {
          "base_uri": "https://localhost:8080/"
        },
        "id": "Sz0cvKpm4a0f",
        "outputId": "00c6308a-175d-4965-8f3e-1c722bada106"
      },
      "execution_count": 51,
      "outputs": [
        {
          "output_type": "stream",
          "name": "stdout",
          "text": [
            "{'Colorado': 'Rockies', 'Boston': 'Red Sox', 'Minnesota': 'Twins', 'Milwaukee': 'Brewers', 'Seattle': 'Seahawks', 'Kansas City': 'Royals'}\n"
          ]
        }
      ]
    },
    {
      "cell_type": "code",
      "source": [
        "# del command\n",
        "del MLB_team['Colorado']\n",
        "print(MLB_team)"
      ],
      "metadata": {
        "colab": {
          "base_uri": "https://localhost:8080/"
        },
        "id": "DFveJa-t4j_d",
        "outputId": "b9d3b651-478d-4ef1-d020-991b3cbb02fc"
      },
      "execution_count": 52,
      "outputs": [
        {
          "output_type": "stream",
          "name": "stdout",
          "text": [
            "{'Boston': 'Red Sox', 'Minnesota': 'Twins', 'Milwaukee': 'Brewers', 'Seattle': 'Seahawks', 'Kansas City': 'Royals'}\n"
          ]
        }
      ]
    },
    {
      "cell_type": "code",
      "source": [
        "orang = {}\n",
        "print(type(orang))"
      ],
      "metadata": {
        "colab": {
          "base_uri": "https://localhost:8080/"
        },
        "id": "yLMBYeMf4nJe",
        "outputId": "6a63353a-ed8c-4367-b18c-b09a84380d7d"
      },
      "execution_count": 53,
      "outputs": [
        {
          "output_type": "stream",
          "name": "stdout",
          "text": [
            "<class 'dict'>\n"
          ]
        }
      ]
    },
    {
      "cell_type": "code",
      "source": [
        "orang['Nama'] = 'Budi'\n",
        "orang['Kota'] = 'Solo'\n",
        "orang['Umur'] = 32\n",
        "orang['Anak'] = ['Budi','Sarah','Syifa']\n",
        "orang['Kendaraan'] ={'mobil':'Innova','motor':'mio'}\n",
        "orang"
      ],
      "metadata": {
        "colab": {
          "base_uri": "https://localhost:8080/"
        },
        "id": "fUTQXhB_4vEp",
        "outputId": "6e5e45a8-200d-4b0b-bcf1-8c91e1ed8d3a"
      },
      "execution_count": 54,
      "outputs": [
        {
          "output_type": "execute_result",
          "data": {
            "text/plain": [
              "{'Nama': 'Budi',\n",
              " 'Kota': 'Solo',\n",
              " 'Umur': 32,\n",
              " 'Anak': ['Budi', 'Sarah', 'Syifa'],\n",
              " 'Kendaraan': {'mobil': 'Innova', 'motor': 'mio'}}"
            ]
          },
          "metadata": {},
          "execution_count": 54
        }
      ]
    },
    {
      "cell_type": "code",
      "source": [
        "print(orang['Kendaraan']['motor'])"
      ],
      "metadata": {
        "colab": {
          "base_uri": "https://localhost:8080/"
        },
        "id": "rkWpfKyw4yzX",
        "outputId": "3e20b397-f662-4bf5-c47f-2e9f5a39f1c4"
      },
      "execution_count": 55,
      "outputs": [
        {
          "output_type": "stream",
          "name": "stdout",
          "text": [
            "mio\n"
          ]
        }
      ]
    },
    {
      "cell_type": "code",
      "source": [
        "print(orang['Anak'][0:2])"
      ],
      "metadata": {
        "colab": {
          "base_uri": "https://localhost:8080/"
        },
        "id": "zP2Nn8Ln45Yz",
        "outputId": "b4cad478-3e7f-4a07-cb51-2d77b7fe7a64"
      },
      "execution_count": 56,
      "outputs": [
        {
          "output_type": "stream",
          "name": "stdout",
          "text": [
            "['Budi', 'Sarah']\n"
          ]
        }
      ]
    },
    {
      "cell_type": "markdown",
      "source": [
        "<h2> Line Continuation </h2>"
      ],
      "metadata": {
        "id": "4kKxhehj_uWx"
      }
    },
    {
      "cell_type": "code",
      "source": [
        "print(True and True)\n",
        "print(True and False)\n",
        "print(True or True)\n",
        "print(True or False)\n",
        "print(False and False)\n",
        "print(False or False)"
      ],
      "metadata": {
        "colab": {
          "base_uri": "https://localhost:8080/"
        },
        "id": "3P5xwgBI_yZK",
        "outputId": "86749f93-6b7e-45dd-f150-18727ca0fc31"
      },
      "execution_count": 57,
      "outputs": [
        {
          "output_type": "stream",
          "name": "stdout",
          "text": [
            "True\n",
            "False\n",
            "True\n",
            "True\n",
            "False\n",
            "False\n"
          ]
        }
      ]
    },
    {
      "cell_type": "markdown",
      "source": [
        "working age is 16-65"
      ],
      "metadata": {
        "id": "jfPkUD2q_98-"
      }
    },
    {
      "cell_type": "code",
      "source": [
        "umur1 = 42\n",
        "umur2 = 16\n",
        "umur3=71\n",
        "\n",
        "print(umur1>=18 and umur1<=65)\n",
        "print(umur2>=18 and umur2<=65)\n",
        "print(umur3>=18 and umur3<=65)"
      ],
      "metadata": {
        "colab": {
          "base_uri": "https://localhost:8080/"
        },
        "id": "75TLL6AI_7cW",
        "outputId": "2a61a99f-67a4-45d0-e91a-6b3b435bd386"
      },
      "execution_count": 58,
      "outputs": [
        {
          "output_type": "stream",
          "name": "stdout",
          "text": [
            "True\n",
            "False\n",
            "False\n"
          ]
        }
      ]
    },
    {
      "cell_type": "markdown",
      "source": [
        "\n",
        "how to check if one of them is of working age"
      ],
      "metadata": {
        "id": "7bib6Fj4AG42"
      }
    },
    {
      "cell_type": "code",
      "source": [
        "print((umur1>=18 and umur1<=65) or (umur2>=18 and umur2<=65) or (umur3>=18 and umur3<=65))"
      ],
      "metadata": {
        "colab": {
          "base_uri": "https://localhost:8080/"
        },
        "id": "XSUnwv3tAJRO",
        "outputId": "82daa740-976b-4584-d850-2c0f14ab5cf0"
      },
      "execution_count": 59,
      "outputs": [
        {
          "output_type": "stream",
          "name": "stdout",
          "text": [
            "True\n"
          ]
        }
      ]
    },
    {
      "cell_type": "markdown",
      "source": [
        "<h2> Materi Tambahan </h2>"
      ],
      "metadata": {
        "id": "Xv9Z_gwzALap"
      }
    },
    {
      "cell_type": "code",
      "source": [
        "mobil = ['Toyota','Kijang']\n",
        "mobil = mobil + ['Isuzu']\n",
        "print(mobil)"
      ],
      "metadata": {
        "colab": {
          "base_uri": "https://localhost:8080/"
        },
        "id": "uOm20RXLAOeg",
        "outputId": "b10eee84-0bf1-49fb-c8e2-e54d0c3aaa41"
      },
      "execution_count": 60,
      "outputs": [
        {
          "output_type": "stream",
          "name": "stdout",
          "text": [
            "['Toyota', 'Kijang', 'Isuzu']\n"
          ]
        }
      ]
    },
    {
      "cell_type": "code",
      "source": [
        "mobil = ['Toyota','Kijang']\n",
        "mobil.append('Isuzu')\n",
        "print(mobil)"
      ],
      "metadata": {
        "colab": {
          "base_uri": "https://localhost:8080/"
        },
        "id": "XrI8jIt1AS_f",
        "outputId": "883855c6-8f17-4fe5-c27c-b8acb6b8a223"
      },
      "execution_count": 61,
      "outputs": [
        {
          "output_type": "stream",
          "name": "stdout",
          "text": [
            "['Toyota', 'Kijang', 'Isuzu']\n"
          ]
        }
      ]
    },
    {
      "cell_type": "code",
      "source": [
        "kendaraan = mobil.copy()\n",
        "print(kendaraan)"
      ],
      "metadata": {
        "colab": {
          "base_uri": "https://localhost:8080/"
        },
        "id": "8zrmDNWgAVXx",
        "outputId": "a52a381b-a040-4677-8732-a8fd527fe2a4"
      },
      "execution_count": 62,
      "outputs": [
        {
          "output_type": "stream",
          "name": "stdout",
          "text": [
            "['Toyota', 'Kijang', 'Isuzu']\n"
          ]
        }
      ]
    },
    {
      "cell_type": "code",
      "source": [
        "kendaraan.append('Innova')\n",
        "kendaraan.append('Innova')\n",
        "\n",
        "print(kendaraan)\n",
        "print(mobil)"
      ],
      "metadata": {
        "colab": {
          "base_uri": "https://localhost:8080/"
        },
        "id": "0cPvOOwlAbHY",
        "outputId": "f0fa354e-332f-4ef5-eae8-24630806ccf3"
      },
      "execution_count": 63,
      "outputs": [
        {
          "output_type": "stream",
          "name": "stdout",
          "text": [
            "['Toyota', 'Kijang', 'Isuzu', 'Innova', 'Innova']\n",
            "['Toyota', 'Kijang', 'Isuzu']\n"
          ]
        }
      ]
    },
    {
      "cell_type": "code",
      "source": [
        "print(kendaraan)"
      ],
      "metadata": {
        "colab": {
          "base_uri": "https://localhost:8080/"
        },
        "id": "CbRisKxAAdXk",
        "outputId": "6e6ad62b-432b-4869-dc74-864e915e92b9"
      },
      "execution_count": 64,
      "outputs": [
        {
          "output_type": "stream",
          "name": "stdout",
          "text": [
            "['Toyota', 'Kijang', 'Isuzu', 'Innova', 'Innova']\n"
          ]
        }
      ]
    },
    {
      "cell_type": "code",
      "source": [
        "kendaraan.remove('Innova')"
      ],
      "metadata": {
        "id": "RllTPd0eAgjv"
      },
      "execution_count": 70,
      "outputs": []
    },
    {
      "cell_type": "code",
      "source": [
        "buah = ['Pisang','Jeruk','Apel']\n",
        "buah.pop(1)\n",
        "print(buah)"
      ],
      "metadata": {
        "colab": {
          "base_uri": "https://localhost:8080/"
        },
        "id": "xIJlYhMDAoIA",
        "outputId": "c41c4e83-5618-4740-f1bb-d93815aecf6b"
      },
      "execution_count": 69,
      "outputs": [
        {
          "output_type": "stream",
          "name": "stdout",
          "text": [
            "['Pisang', 'Apel']\n"
          ]
        }
      ]
    }
  ]
}